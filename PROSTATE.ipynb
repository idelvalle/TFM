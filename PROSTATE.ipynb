{
 "cells": [
  {
   "cell_type": "code",
   "execution_count": 1,
   "metadata": {},
   "outputs": [],
   "source": [
    "import numpy as np\n",
    "import pandas as pd\n",
    "import matplotlib.pyplot as plt\n",
    "import seaborn as sns\n",
    "import dill\n",
    "import warnings\n",
    "\n",
    "from sklearn.svm import LinearSVC, SVC\n",
    "from sklearn import preprocessing\n",
    "from sklearn.model_selection import train_test_split\n",
    "from sklearn import metrics\n",
    "from sklearn.naive_bayes import GaussianNB\n",
    "from sklearn.ensemble import RandomForestClassifier\n",
    "from skfeature.function.similarity_based import fisher_score, reliefF\n",
    "from skfeature.function.statistical_based import chi_square, f_score\n",
    "from boruta import BorutaPy\n",
    "from sklearn.feature_selection import RFE, SelectFromModel\n",
    "from mlxtend.feature_selection import SequentialFeatureSelector as sfs\n",
    "from sklearn.linear_model import LogisticRegression\n",
    "\n",
    "warnings.filterwarnings('ignore')\n",
    "%matplotlib inline\n",
    "SEED=50"
   ]
  },
  {
   "cell_type": "code",
   "execution_count": 2,
   "metadata": {},
   "outputs": [
    {
     "data": {
      "text/html": [
       "<div>\n",
       "<style scoped>\n",
       "    .dataframe tbody tr th:only-of-type {\n",
       "        vertical-align: middle;\n",
       "    }\n",
       "\n",
       "    .dataframe tbody tr th {\n",
       "        vertical-align: top;\n",
       "    }\n",
       "\n",
       "    .dataframe thead th {\n",
       "        text-align: right;\n",
       "    }\n",
       "</style>\n",
       "<table border=\"1\" class=\"dataframe\">\n",
       "  <thead>\n",
       "    <tr style=\"text-align: right;\">\n",
       "      <th></th>\n",
       "      <th>x.V1</th>\n",
       "      <th>x.V2</th>\n",
       "      <th>x.V3</th>\n",
       "      <th>x.V4</th>\n",
       "      <th>x.V5</th>\n",
       "      <th>x.V6</th>\n",
       "      <th>x.V7</th>\n",
       "      <th>x.V8</th>\n",
       "      <th>x.V9</th>\n",
       "      <th>x.V10</th>\n",
       "      <th>...</th>\n",
       "      <th>x.V12592</th>\n",
       "      <th>x.V12593</th>\n",
       "      <th>x.V12594</th>\n",
       "      <th>x.V12595</th>\n",
       "      <th>x.V12596</th>\n",
       "      <th>x.V12597</th>\n",
       "      <th>x.V12598</th>\n",
       "      <th>x.V12599</th>\n",
       "      <th>x.V12600</th>\n",
       "      <th>y</th>\n",
       "    </tr>\n",
       "  </thead>\n",
       "  <tbody>\n",
       "    <tr>\n",
       "      <th>1</th>\n",
       "      <td>-9.0</td>\n",
       "      <td>1.0</td>\n",
       "      <td>1.0</td>\n",
       "      <td>15.0</td>\n",
       "      <td>-2.0</td>\n",
       "      <td>-3.0</td>\n",
       "      <td>4.0</td>\n",
       "      <td>8.0</td>\n",
       "      <td>-12.0</td>\n",
       "      <td>-12.0</td>\n",
       "      <td>...</td>\n",
       "      <td>5.0</td>\n",
       "      <td>3.0</td>\n",
       "      <td>21</td>\n",
       "      <td>15.0</td>\n",
       "      <td>1.0</td>\n",
       "      <td>0</td>\n",
       "      <td>14.0</td>\n",
       "      <td>-23.0</td>\n",
       "      <td>14.0</td>\n",
       "      <td>2</td>\n",
       "    </tr>\n",
       "    <tr>\n",
       "      <th>2</th>\n",
       "      <td>-2.0</td>\n",
       "      <td>1.0</td>\n",
       "      <td>1.0</td>\n",
       "      <td>4.0</td>\n",
       "      <td>-2.0</td>\n",
       "      <td>-5.0</td>\n",
       "      <td>0.0</td>\n",
       "      <td>8.0</td>\n",
       "      <td>-5.0</td>\n",
       "      <td>-9.0</td>\n",
       "      <td>...</td>\n",
       "      <td>3.0</td>\n",
       "      <td>2.0</td>\n",
       "      <td>12</td>\n",
       "      <td>7.0</td>\n",
       "      <td>4.0</td>\n",
       "      <td>5</td>\n",
       "      <td>4.0</td>\n",
       "      <td>-10.0</td>\n",
       "      <td>25.0</td>\n",
       "      <td>2</td>\n",
       "    </tr>\n",
       "    <tr>\n",
       "      <th>3</th>\n",
       "      <td>-6.0</td>\n",
       "      <td>17.0</td>\n",
       "      <td>6.0</td>\n",
       "      <td>29.0</td>\n",
       "      <td>4.0</td>\n",
       "      <td>-11.0</td>\n",
       "      <td>-8.0</td>\n",
       "      <td>10.0</td>\n",
       "      <td>-24.0</td>\n",
       "      <td>-32.0</td>\n",
       "      <td>...</td>\n",
       "      <td>-5.0</td>\n",
       "      <td>11.0</td>\n",
       "      <td>11</td>\n",
       "      <td>36.0</td>\n",
       "      <td>8.0</td>\n",
       "      <td>7</td>\n",
       "      <td>21.0</td>\n",
       "      <td>-82.0</td>\n",
       "      <td>10.0</td>\n",
       "      <td>2</td>\n",
       "    </tr>\n",
       "    <tr>\n",
       "      <th>4</th>\n",
       "      <td>0.0</td>\n",
       "      <td>9.0</td>\n",
       "      <td>4.0</td>\n",
       "      <td>19.0</td>\n",
       "      <td>-10.0</td>\n",
       "      <td>-18.0</td>\n",
       "      <td>-18.0</td>\n",
       "      <td>5.0</td>\n",
       "      <td>-33.0</td>\n",
       "      <td>-31.0</td>\n",
       "      <td>...</td>\n",
       "      <td>-7.0</td>\n",
       "      <td>6.0</td>\n",
       "      <td>9</td>\n",
       "      <td>22.0</td>\n",
       "      <td>3.0</td>\n",
       "      <td>20</td>\n",
       "      <td>-7.0</td>\n",
       "      <td>-62.0</td>\n",
       "      <td>24.0</td>\n",
       "      <td>2</td>\n",
       "    </tr>\n",
       "    <tr>\n",
       "      <th>5</th>\n",
       "      <td>-1.0</td>\n",
       "      <td>0.0</td>\n",
       "      <td>1.0</td>\n",
       "      <td>5.0</td>\n",
       "      <td>0.0</td>\n",
       "      <td>-4.0</td>\n",
       "      <td>1.0</td>\n",
       "      <td>6.0</td>\n",
       "      <td>-4.0</td>\n",
       "      <td>-9.0</td>\n",
       "      <td>...</td>\n",
       "      <td>6.0</td>\n",
       "      <td>1.0</td>\n",
       "      <td>140</td>\n",
       "      <td>10.0</td>\n",
       "      <td>3.0</td>\n",
       "      <td>8</td>\n",
       "      <td>8.0</td>\n",
       "      <td>-27.0</td>\n",
       "      <td>20.0</td>\n",
       "      <td>2</td>\n",
       "    </tr>\n",
       "  </tbody>\n",
       "</table>\n",
       "<p>5 rows × 12601 columns</p>\n",
       "</div>"
      ],
      "text/plain": [
       "   x.V1  x.V2  x.V3  x.V4  x.V5  x.V6  x.V7  x.V8  x.V9  x.V10  ...  x.V12592  \\\n",
       "1  -9.0   1.0   1.0  15.0  -2.0  -3.0   4.0   8.0 -12.0  -12.0  ...       5.0   \n",
       "2  -2.0   1.0   1.0   4.0  -2.0  -5.0   0.0   8.0  -5.0   -9.0  ...       3.0   \n",
       "3  -6.0  17.0   6.0  29.0   4.0 -11.0  -8.0  10.0 -24.0  -32.0  ...      -5.0   \n",
       "4   0.0   9.0   4.0  19.0 -10.0 -18.0 -18.0   5.0 -33.0  -31.0  ...      -7.0   \n",
       "5  -1.0   0.0   1.0   5.0   0.0  -4.0   1.0   6.0  -4.0   -9.0  ...       6.0   \n",
       "\n",
       "   x.V12593  x.V12594  x.V12595  x.V12596  x.V12597  x.V12598  x.V12599  \\\n",
       "1       3.0        21      15.0       1.0         0      14.0     -23.0   \n",
       "2       2.0        12       7.0       4.0         5       4.0     -10.0   \n",
       "3      11.0        11      36.0       8.0         7      21.0     -82.0   \n",
       "4       6.0         9      22.0       3.0        20      -7.0     -62.0   \n",
       "5       1.0       140      10.0       3.0         8       8.0     -27.0   \n",
       "\n",
       "   x.V12600  y  \n",
       "1      14.0  2  \n",
       "2      25.0  2  \n",
       "3      10.0  2  \n",
       "4      24.0  2  \n",
       "5      20.0  2  \n",
       "\n",
       "[5 rows x 12601 columns]"
      ]
     },
     "execution_count": 2,
     "metadata": {},
     "output_type": "execute_result"
    }
   ],
   "source": [
    "prostate = pd.read_csv('prostate.csv')\n",
    "prostate.head()"
   ]
  },
  {
   "cell_type": "code",
   "execution_count": 3,
   "metadata": {},
   "outputs": [
    {
     "name": "stdout",
     "output_type": "stream",
     "text": [
      "False\n"
     ]
    }
   ],
   "source": [
    "print(prostate.isnull().values.any())\n"
   ]
  },
  {
   "cell_type": "code",
   "execution_count": 4,
   "metadata": {},
   "outputs": [],
   "source": [
    "features=prostate.iloc[:,0:-1]\n",
    "labels=prostate.iloc[:,-1]"
   ]
  },
  {
   "cell_type": "code",
   "execution_count": 5,
   "metadata": {},
   "outputs": [
    {
     "data": {
      "text/plain": [
       "Index(['x.V1', 'x.V2', 'x.V3', 'x.V4', 'x.V5', 'x.V6', 'x.V7', 'x.V8', 'x.V9',\n",
       "       'x.V10',\n",
       "       ...\n",
       "       'x.V12591', 'x.V12592', 'x.V12593', 'x.V12594', 'x.V12595', 'x.V12596',\n",
       "       'x.V12597', 'x.V12598', 'x.V12599', 'x.V12600'],\n",
       "      dtype='object', length=12600)"
      ]
     },
     "execution_count": 5,
     "metadata": {},
     "output_type": "execute_result"
    }
   ],
   "source": [
    "features.columns"
   ]
  },
  {
   "cell_type": "code",
   "execution_count": 6,
   "metadata": {},
   "outputs": [],
   "source": [
    "# Crear lista con nombres variables\n",
    "feature_labels = list(features.columns)"
   ]
  },
  {
   "cell_type": "code",
   "execution_count": 7,
   "metadata": {},
   "outputs": [
    {
     "data": {
      "text/plain": [
       "pandas.core.frame.DataFrame"
      ]
     },
     "execution_count": 7,
     "metadata": {},
     "output_type": "execute_result"
    }
   ],
   "source": [
    "type(features)"
   ]
  },
  {
   "cell_type": "code",
   "execution_count": 8,
   "metadata": {},
   "outputs": [
    {
     "data": {
      "text/plain": [
       "['x.V1',\n",
       " 'x.V2',\n",
       " 'x.V3',\n",
       " 'x.V4',\n",
       " 'x.V5',\n",
       " 'x.V6',\n",
       " 'x.V7',\n",
       " 'x.V8',\n",
       " 'x.V9',\n",
       " 'x.V10']"
      ]
     },
     "execution_count": 8,
     "metadata": {},
     "output_type": "execute_result"
    }
   ],
   "source": [
    "feature_labels[0:10]"
   ]
  },
  {
   "cell_type": "code",
   "execution_count": 9,
   "metadata": {},
   "outputs": [],
   "source": [
    "# Estandarizar\n",
    "\n",
    "min_max_scaler = preprocessing.MinMaxScaler()\n",
    "X = min_max_scaler.fit_transform(features)"
   ]
  },
  {
   "cell_type": "code",
   "execution_count": 10,
   "metadata": {},
   "outputs": [
    {
     "data": {
      "text/plain": [
       "array([[0.75949367, 0.29577465, 0.43333333, ..., 0.34836066, 0.87700535,\n",
       "        0.62698413],\n",
       "       [0.84810127, 0.29577465, 0.43333333, ..., 0.30737705, 0.94652406,\n",
       "        0.71428571],\n",
       "       [0.79746835, 0.52112676, 0.6       , ..., 0.37704918, 0.56149733,\n",
       "        0.5952381 ],\n",
       "       ...,\n",
       "       [0.82278481, 0.28169014, 0.4       , ..., 0.30327869, 0.96256684,\n",
       "        0.70634921],\n",
       "       [0.87341772, 0.30985915, 0.46666667, ..., 0.29918033, 1.        ,\n",
       "        0.6984127 ],\n",
       "       [0.84810127, 0.28169014, 0.4       , ..., 0.28278689, 0.95721925,\n",
       "        0.66666667]])"
      ]
     },
     "execution_count": 10,
     "metadata": {},
     "output_type": "execute_result"
    }
   ],
   "source": [
    "X"
   ]
  },
  {
   "cell_type": "code",
   "execution_count": 11,
   "metadata": {},
   "outputs": [],
   "source": [
    "Y = np.transpose(np.asarray(labels.values - 1, dtype=int))\n"
   ]
  },
  {
   "cell_type": "code",
   "execution_count": 12,
   "metadata": {},
   "outputs": [
    {
     "data": {
      "text/plain": [
       "array([1, 1, 1, 1, 1, 1, 1, 1, 1, 1, 1, 1, 1, 1, 1, 1, 1, 1, 1, 1, 1, 1,\n",
       "       1, 1, 1, 1, 1, 1, 1, 1, 1, 1, 1, 1, 1, 1, 1, 1, 1, 1, 1, 1, 1, 1,\n",
       "       1, 1, 1, 1, 1, 1, 1, 1, 0, 0, 0, 0, 0, 0, 0, 0, 0, 0, 0, 0, 0, 0,\n",
       "       0, 0, 0, 0, 0, 0, 0, 0, 0, 0, 0, 0, 0, 0, 0, 0, 0, 0, 0, 0, 0, 0,\n",
       "       0, 0, 0, 0, 0, 0, 0, 0, 0, 0, 0, 0, 0, 0])"
      ]
     },
     "execution_count": 12,
     "metadata": {},
     "output_type": "execute_result"
    }
   ],
   "source": [
    "Y"
   ]
  },
  {
   "cell_type": "code",
   "execution_count": 13,
   "metadata": {},
   "outputs": [],
   "source": [
    "X_train, X_test, y_train, y_test = train_test_split(X,Y,stratify=labels,test_size=0.33, random_state=SEED)\n"
   ]
  },
  {
   "cell_type": "code",
   "execution_count": 14,
   "metadata": {},
   "outputs": [
    {
     "data": {
      "text/plain": [
       "((68, 12600), (34, 12600), (68,), (34,))"
      ]
     },
     "execution_count": 14,
     "metadata": {},
     "output_type": "execute_result"
    }
   ],
   "source": [
    "X_train.shape, X_test.shape, y_train.shape, y_test.shape"
   ]
  },
  {
   "cell_type": "markdown",
   "metadata": {},
   "source": [
    "# 1. SVC"
   ]
  },
  {
   "cell_type": "code",
   "execution_count": 15,
   "metadata": {},
   "outputs": [],
   "source": [
    "# Elegir SVC Lineal\n",
    "\n",
    "clf_svc = SVC(kernel='linear', C=1, probability=True, random_state=SEED) "
   ]
  },
  {
   "cell_type": "code",
   "execution_count": 16,
   "metadata": {
    "scrolled": true
   },
   "outputs": [
    {
     "name": "stdout",
     "output_type": "stream",
     "text": [
      "CPU times: user 964 ms, sys: 20.4 ms, total: 985 ms\n",
      "Wall time: 398 ms\n"
     ]
    },
    {
     "data": {
      "text/plain": [
       "SVC(C=1, cache_size=200, class_weight=None, coef0=0.0,\n",
       "    decision_function_shape='ovr', degree=3, gamma='auto_deprecated',\n",
       "    kernel='linear', max_iter=-1, probability=True, random_state=50,\n",
       "    shrinking=True, tol=0.001, verbose=False)"
      ]
     },
     "execution_count": 16,
     "metadata": {},
     "output_type": "execute_result"
    }
   ],
   "source": [
    "%%time\n",
    "clf_svc.fit(X_train, y_train)"
   ]
  },
  {
   "cell_type": "code",
   "execution_count": 17,
   "metadata": {},
   "outputs": [
    {
     "name": "stdout",
     "output_type": "stream",
     "text": [
      "Predicted Value: [0 1 1 0 1 0 1 1 0 0 0 0 1 0 0 0 1 1 1 1 0 1 1 1 1 0 1 1 0 0 1 1 0 1]\n"
     ]
    }
   ],
   "source": [
    "y_predict_svc = clf_svc.predict(X_test)\n",
    "print (\"Predicted Value:\", y_predict_svc)"
   ]
  },
  {
   "cell_type": "code",
   "execution_count": 18,
   "metadata": {},
   "outputs": [
    {
     "name": "stdout",
     "output_type": "stream",
     "text": [
      "Accuracy: 0.8823529411764706\n"
     ]
    }
   ],
   "source": [
    "# Exactitud del modelo\n",
    "print(\"Accuracy:\",metrics.accuracy_score(y_test, y_predict_svc))"
   ]
  },
  {
   "cell_type": "code",
   "execution_count": 19,
   "metadata": {},
   "outputs": [
    {
     "name": "stdout",
     "output_type": "stream",
     "text": [
      "              precision    recall  f1-score   support\n",
      "\n",
      "           0       0.93      0.82      0.87        17\n",
      "           1       0.84      0.94      0.89        17\n",
      "\n",
      "    accuracy                           0.88        34\n",
      "   macro avg       0.89      0.88      0.88        34\n",
      "weighted avg       0.89      0.88      0.88        34\n",
      "\n"
     ]
    }
   ],
   "source": [
    "print(metrics.classification_report(y_test,y_predict_svc))"
   ]
  },
  {
   "cell_type": "code",
   "execution_count": 20,
   "metadata": {},
   "outputs": [
    {
     "name": "stdout",
     "output_type": "stream",
     "text": [
      "ROC-AUC: 0.958477508650519\n"
     ]
    }
   ],
   "source": [
    "# Puntuacion ROC-AUC \n",
    "print(\"ROC-AUC:\",metrics.roc_auc_score(y_test,clf_svc.predict_proba(X_test)[:,1]))"
   ]
  },
  {
   "cell_type": "markdown",
   "metadata": {},
   "source": [
    "# 2. NAIVE BAYES"
   ]
  },
  {
   "cell_type": "code",
   "execution_count": 21,
   "metadata": {},
   "outputs": [],
   "source": [
    "# Crear clasificador Gaussiano\n",
    "\n",
    "clf_nb = GaussianNB()"
   ]
  },
  {
   "cell_type": "code",
   "execution_count": 22,
   "metadata": {},
   "outputs": [
    {
     "name": "stdout",
     "output_type": "stream",
     "text": [
      "CPU times: user 34.1 ms, sys: 0 ns, total: 34.1 ms\n",
      "Wall time: 11.8 ms\n"
     ]
    },
    {
     "data": {
      "text/plain": [
       "GaussianNB(priors=None, var_smoothing=1e-09)"
      ]
     },
     "execution_count": 22,
     "metadata": {},
     "output_type": "execute_result"
    }
   ],
   "source": [
    "%%time\n",
    "clf_nb.fit(X_train, y_train)"
   ]
  },
  {
   "cell_type": "code",
   "execution_count": 23,
   "metadata": {},
   "outputs": [
    {
     "name": "stdout",
     "output_type": "stream",
     "text": [
      "Predicted Value: [0 1 1 1 1 1 1 0 0 1 1 1 1 1 1 0 1 0 0 1 1 1 1 0 1 1 1 1 1 1 1 1 0 1]\n"
     ]
    }
   ],
   "source": [
    "#Predicciones\n",
    "\n",
    "y_predict_nb = clf_nb.predict(X_test)\n",
    "print (\"Predicted Value:\", y_predict_nb)"
   ]
  },
  {
   "cell_type": "code",
   "execution_count": 24,
   "metadata": {},
   "outputs": [
    {
     "name": "stdout",
     "output_type": "stream",
     "text": [
      "Accuracy: 0.5588235294117647\n"
     ]
    }
   ],
   "source": [
    "# Exactitud\n",
    "\n",
    "print(\"Accuracy:\",metrics.accuracy_score(y_test, y_predict_nb))"
   ]
  },
  {
   "cell_type": "code",
   "execution_count": 25,
   "metadata": {},
   "outputs": [
    {
     "name": "stdout",
     "output_type": "stream",
     "text": [
      "              precision    recall  f1-score   support\n",
      "\n",
      "           0       0.62      0.29      0.40        17\n",
      "           1       0.54      0.82      0.65        17\n",
      "\n",
      "    accuracy                           0.56        34\n",
      "   macro avg       0.58      0.56      0.53        34\n",
      "weighted avg       0.58      0.56      0.53        34\n",
      "\n"
     ]
    }
   ],
   "source": [
    "print(metrics.classification_report(y_test,y_predict_nb))\n",
    "\n"
   ]
  },
  {
   "cell_type": "code",
   "execution_count": 26,
   "metadata": {},
   "outputs": [
    {
     "name": "stdout",
     "output_type": "stream",
     "text": [
      "ROC-AUC: 0.5588235294117647\n"
     ]
    }
   ],
   "source": [
    "# Puntuacion ROC-AUC \n",
    "print(\"ROC-AUC:\",metrics.roc_auc_score(y_test,clf_nb.predict_proba(X_test)[:,1]))"
   ]
  },
  {
   "cell_type": "markdown",
   "metadata": {},
   "source": [
    "# 3. RANDOM FORESTS"
   ]
  },
  {
   "cell_type": "code",
   "execution_count": 27,
   "metadata": {},
   "outputs": [],
   "source": [
    "# Crear clasificador\n",
    "\n",
    "clf_rf = RandomForestClassifier(n_estimators=100, n_jobs=-1, class_weight='balanced', max_depth=5, random_state=SEED)\n",
    "\n"
   ]
  },
  {
   "cell_type": "code",
   "execution_count": 28,
   "metadata": {},
   "outputs": [
    {
     "name": "stdout",
     "output_type": "stream",
     "text": [
      "CPU times: user 634 ms, sys: 13.3 ms, total: 647 ms\n",
      "Wall time: 143 ms\n"
     ]
    },
    {
     "data": {
      "text/plain": [
       "RandomForestClassifier(bootstrap=True, class_weight='balanced',\n",
       "                       criterion='gini', max_depth=5, max_features='auto',\n",
       "                       max_leaf_nodes=None, min_impurity_decrease=0.0,\n",
       "                       min_impurity_split=None, min_samples_leaf=1,\n",
       "                       min_samples_split=2, min_weight_fraction_leaf=0.0,\n",
       "                       n_estimators=100, n_jobs=-1, oob_score=False,\n",
       "                       random_state=50, verbose=0, warm_start=False)"
      ]
     },
     "execution_count": 28,
     "metadata": {},
     "output_type": "execute_result"
    }
   ],
   "source": [
    "%%time\n",
    "clf_rf.fit(X_train,y_train)\n",
    "\n"
   ]
  },
  {
   "cell_type": "code",
   "execution_count": 29,
   "metadata": {},
   "outputs": [
    {
     "name": "stdout",
     "output_type": "stream",
     "text": [
      "Predicted Value: [0 1 1 0 1 0 1 0 0 0 0 0 1 0 0 0 1 0 0 1 0 1 1 0 1 0 1 1 0 0 1 1 0 1]\n"
     ]
    }
   ],
   "source": [
    "#Predicciones\n",
    "\n",
    "y_predict_rf = clf_rf.predict(X_test)\n",
    "print (\"Predicted Value:\", y_predict_rf)"
   ]
  },
  {
   "cell_type": "code",
   "execution_count": 30,
   "metadata": {},
   "outputs": [
    {
     "name": "stdout",
     "output_type": "stream",
     "text": [
      "Accuracy: 0.8823529411764706\n"
     ]
    }
   ],
   "source": [
    "# Exactitud\n",
    "\n",
    "print(\"Accuracy:\",metrics.accuracy_score(y_test, y_predict_rf))"
   ]
  },
  {
   "cell_type": "code",
   "execution_count": 31,
   "metadata": {},
   "outputs": [
    {
     "name": "stdout",
     "output_type": "stream",
     "text": [
      "              precision    recall  f1-score   support\n",
      "\n",
      "           0       0.84      0.94      0.89        17\n",
      "           1       0.93      0.82      0.87        17\n",
      "\n",
      "    accuracy                           0.88        34\n",
      "   macro avg       0.89      0.88      0.88        34\n",
      "weighted avg       0.89      0.88      0.88        34\n",
      "\n"
     ]
    }
   ],
   "source": [
    "print(metrics.classification_report(y_test,y_predict_rf))\n"
   ]
  },
  {
   "cell_type": "code",
   "execution_count": 32,
   "metadata": {},
   "outputs": [
    {
     "name": "stdout",
     "output_type": "stream",
     "text": [
      "ROC-AUC: 0.9256055363321799\n"
     ]
    }
   ],
   "source": [
    "# Puntuacion ROC-AUC \n",
    "print(\"ROC-AUC:\",metrics.roc_auc_score(y_test,clf_rf.predict_proba(X_test)[:,1]))"
   ]
  },
  {
   "cell_type": "markdown",
   "metadata": {},
   "source": [
    "## SELECCIONAR VARIABLES USANDO PUNTUACION F"
   ]
  },
  {
   "cell_type": "code",
   "execution_count": 33,
   "metadata": {},
   "outputs": [
    {
     "name": "stdout",
     "output_type": "stream",
     "text": [
      "CPU times: user 177 ms, sys: 506 µs, total: 178 ms\n",
      "Wall time: 46 ms\n"
     ]
    }
   ],
   "source": [
    "%%time\n",
    "score_f = f_score.f_score(X_train, y_train)\n"
   ]
  },
  {
   "cell_type": "code",
   "execution_count": 34,
   "metadata": {},
   "outputs": [],
   "source": [
    "score_f_df = pd.Series(score_f,index=features.columns.values).sort_values(ascending=False)\n"
   ]
  },
  {
   "cell_type": "code",
   "execution_count": 35,
   "metadata": {},
   "outputs": [
    {
     "data": {
      "text/plain": [
       "x.V6185     58.725493\n",
       "x.V8965     53.145762\n",
       "x.V4365     48.352542\n",
       "x.V5890     47.133673\n",
       "x.V6866     45.704724\n",
       "x.V10553    43.959030\n",
       "x.V8850     41.763095\n",
       "x.V12148    41.562857\n",
       "x.V10494    38.848188\n",
       "x.V10138    38.019471\n",
       "dtype: float64"
      ]
     },
     "execution_count": 35,
     "metadata": {},
     "output_type": "execute_result"
    }
   ],
   "source": [
    "score_f_df.head(10)"
   ]
  },
  {
   "cell_type": "code",
   "execution_count": 36,
   "metadata": {},
   "outputs": [
    {
     "data": {
      "image/png": "[encoded data removed]",
      "text/plain": [
       "<Figure size 432x288 with 1 Axes>"
      ]
     },
     "metadata": {
      "needs_background": "light"
     },
     "output_type": "display_data"
    }
   ],
   "source": [
    "# Representacion grafica\n",
    "\n",
    "sns.barplot(x=score_f_df[0:10,], y=score_f_df.index[0:10,])\n",
    "\n",
    "plt.xlabel('Importancia Variables')\n",
    "plt.ylabel('Variables')\n",
    "plt.title(\"Variables importantes Puntuacion F Prostata\")\n",
    "plt.savefig(\"Variables Puntuacion F Prostata.pdf\", dpi=300)\n",
    "plt.show()"
   ]
  },
  {
   "cell_type": "code",
   "execution_count": 37,
   "metadata": {},
   "outputs": [
    {
     "data": {
      "text/plain": [
       "array([ 6184,  8964,  4364,  5889,  6865, 10552,  8849, 12147, 10493,\n",
       "       10137])"
      ]
     },
     "execution_count": 37,
     "metadata": {},
     "output_type": "execute_result"
    }
   ],
   "source": [
    "# Ordenar variables\n",
    "\n",
    "idx_f = f_score.feature_ranking(score_f)\n",
    "idx_f[0:10]"
   ]
  },
  {
   "cell_type": "code",
   "execution_count": 38,
   "metadata": {},
   "outputs": [],
   "source": [
    "# Especificar 10 variables\n",
    "\n",
    "num_fea = 10\n",
    "    \n",
    "sel_f_train = X_train[:, idx_f[0:num_fea]]\n",
    "\n",
    "sel_f_test = X_test[:, idx_f[0:num_fea]]"
   ]
  },
  {
   "cell_type": "markdown",
   "metadata": {},
   "source": [
    "### Entrenar modelo con variables seleccionadas en conjunto de entrenamiento"
   ]
  },
  {
   "cell_type": "code",
   "execution_count": 39,
   "metadata": {},
   "outputs": [
    {
     "name": "stdout",
     "output_type": "stream",
     "text": [
      "CPU times: user 1.19 ms, sys: 69 µs, total: 1.26 ms\n",
      "Wall time: 1.02 ms\n"
     ]
    }
   ],
   "source": [
    "%%time\n",
    "clf_svc_fsc = clf_svc.fit(sel_f_train, y_train)"
   ]
  },
  {
   "cell_type": "code",
   "execution_count": 40,
   "metadata": {},
   "outputs": [
    {
     "name": "stdout",
     "output_type": "stream",
     "text": [
      "CPU times: user 950 µs, sys: 55 µs, total: 1.01 ms\n",
      "Wall time: 782 µs\n"
     ]
    }
   ],
   "source": [
    "%%time\n",
    "clf_nb_fsc = clf_nb.fit(sel_f_train, y_train)"
   ]
  },
  {
   "cell_type": "code",
   "execution_count": 41,
   "metadata": {},
   "outputs": [
    {
     "name": "stdout",
     "output_type": "stream",
     "text": [
      "CPU times: user 71.8 ms, sys: 35.6 ms, total: 107 ms\n",
      "Wall time: 131 ms\n"
     ]
    }
   ],
   "source": [
    "%%time\n",
    "clf_rf_fsc = clf_rf.fit(sel_f_train, y_train)"
   ]
  },
  {
   "cell_type": "code",
   "execution_count": 42,
   "metadata": {},
   "outputs": [
    {
     "data": {
      "text/plain": [
       "array([[8.82190369e-01, 1.17809631e-01],\n",
       "       [9.45680630e-03, 9.90543194e-01],\n",
       "       [7.77581647e-03, 9.92224184e-01],\n",
       "       [7.72402018e-01, 2.27597982e-01],\n",
       "       [4.15757967e-02, 9.58424203e-01],\n",
       "       [7.86777206e-01, 2.13222794e-01],\n",
       "       [2.70727533e-03, 9.97292725e-01],\n",
       "       [7.15726809e-01, 2.84273191e-01],\n",
       "       [7.98449426e-01, 2.01550574e-01],\n",
       "       [7.77758677e-01, 2.22241323e-01],\n",
       "       [9.81710320e-01, 1.82896804e-02],\n",
       "       [8.81037856e-01, 1.18962144e-01],\n",
       "       [6.01689917e-02, 9.39831008e-01],\n",
       "       [9.16256728e-01, 8.37432717e-02],\n",
       "       [8.68331875e-01, 1.31668125e-01],\n",
       "       [9.62364406e-01, 3.76355939e-02],\n",
       "       [4.36431298e-02, 9.56356870e-01],\n",
       "       [6.65080938e-01, 3.34919062e-01],\n",
       "       [8.03910262e-01, 1.96089738e-01],\n",
       "       [2.15855232e-02, 9.78414477e-01],\n",
       "       [6.48774154e-01, 3.51225846e-01],\n",
       "       [2.03338963e-02, 9.79666104e-01],\n",
       "       [2.74078236e-01, 7.25921764e-01],\n",
       "       [5.72114066e-01, 4.27885934e-01],\n",
       "       [2.66219000e-01, 7.33781000e-01],\n",
       "       [8.01010639e-01, 1.98989361e-01],\n",
       "       [1.62519292e-05, 9.99983748e-01],\n",
       "       [2.89594279e-06, 9.99997104e-01],\n",
       "       [8.64999434e-01, 1.35000566e-01],\n",
       "       [9.52558730e-01, 4.74412698e-02],\n",
       "       [1.09198470e-02, 9.89080153e-01],\n",
       "       [3.03115033e-06, 9.99996969e-01],\n",
       "       [9.02788270e-01, 9.72117304e-02],\n",
       "       [1.09886817e-02, 9.89011318e-01]])"
      ]
     },
     "execution_count": 42,
     "metadata": {},
     "output_type": "execute_result"
    }
   ],
   "source": [
    "clf_svc_fsc.predict_proba(sel_f_test)"
   ]
  },
  {
   "cell_type": "code",
   "execution_count": 43,
   "metadata": {},
   "outputs": [],
   "source": [
    "y_fsc_predict_rf = clf_rf_fsc.predict(sel_f_test)\n",
    "y_fsc_predict_nb = clf_nb_fsc.predict(sel_f_test)\n",
    "y_fsc_predict_svc = clf_svc_fsc.predict(sel_f_test)"
   ]
  },
  {
   "cell_type": "code",
   "execution_count": 44,
   "metadata": {},
   "outputs": [
    {
     "name": "stdout",
     "output_type": "stream",
     "text": [
      "Accuracy F1 Score SVC: 0.8823529411764706\n",
      "Accuracy F1 Score NB: 0.8823529411764706\n",
      "Accuracy F1 Score RF: 0.8823529411764706\n"
     ]
    }
   ],
   "source": [
    "# Exactitud\n",
    "\n",
    "print(\"Accuracy F1 Score SVC:\",metrics.accuracy_score(y_test, y_fsc_predict_svc))\n",
    "print(\"Accuracy F1 Score NB:\",metrics.accuracy_score(y_test, y_fsc_predict_nb))\n",
    "print(\"Accuracy F1 Score RF:\",metrics.accuracy_score(y_test, y_fsc_predict_rf))"
   ]
  },
  {
   "cell_type": "code",
   "execution_count": 45,
   "metadata": {},
   "outputs": [
    {
     "name": "stdout",
     "output_type": "stream",
     "text": [
      "ROC-AUC SVC: 0.9273356401384083\n",
      "ROC-AUC NB: 0.9498269896193772\n",
      "ROC-AUC RF: 0.9463667820069204\n"
     ]
    }
   ],
   "source": [
    "# Puntuacion ROC-AUC \n",
    "print(\"ROC-AUC SVC:\",metrics.roc_auc_score(y_test,clf_svc_fsc.predict_proba(sel_f_test)[:,1]))\n",
    "print(\"ROC-AUC NB:\",metrics.roc_auc_score(y_test,clf_nb_fsc.predict_proba(sel_f_test)[:,1]))\n",
    "print(\"ROC-AUC RF:\",metrics.roc_auc_score(y_test,clf_rf_fsc.predict_proba(sel_f_test)[:,1]))"
   ]
  },
  {
   "cell_type": "code",
   "execution_count": 46,
   "metadata": {},
   "outputs": [
    {
     "name": "stdout",
     "output_type": "stream",
     "text": [
      "              precision    recall  f1-score   support\n",
      "\n",
      "           0       0.84      0.94      0.89        17\n",
      "           1       0.93      0.82      0.87        17\n",
      "\n",
      "    accuracy                           0.88        34\n",
      "   macro avg       0.89      0.88      0.88        34\n",
      "weighted avg       0.89      0.88      0.88        34\n",
      "\n",
      "              precision    recall  f1-score   support\n",
      "\n",
      "           0       0.84      0.94      0.89        17\n",
      "           1       0.93      0.82      0.87        17\n",
      "\n",
      "    accuracy                           0.88        34\n",
      "   macro avg       0.89      0.88      0.88        34\n",
      "weighted avg       0.89      0.88      0.88        34\n",
      "\n",
      "              precision    recall  f1-score   support\n",
      "\n",
      "           0       0.84      0.94      0.89        17\n",
      "           1       0.93      0.82      0.87        17\n",
      "\n",
      "    accuracy                           0.88        34\n",
      "   macro avg       0.89      0.88      0.88        34\n",
      "weighted avg       0.89      0.88      0.88        34\n",
      "\n"
     ]
    }
   ],
   "source": [
    "print(metrics.classification_report(y_test,y_fsc_predict_svc))\n",
    "print(metrics.classification_report(y_test,y_fsc_predict_nb))\n",
    "print(metrics.classification_report(y_test,y_fsc_predict_rf))"
   ]
  },
  {
   "cell_type": "markdown",
   "metadata": {},
   "source": [
    "## SELECCIONAR VARIABLES USANDO CHI-CUADRADO"
   ]
  },
  {
   "cell_type": "code",
   "execution_count": 47,
   "metadata": {},
   "outputs": [
    {
     "name": "stdout",
     "output_type": "stream",
     "text": [
      "CPU times: user 134 ms, sys: 359 µs, total: 134 ms\n",
      "Wall time: 34.8 ms\n"
     ]
    }
   ],
   "source": [
    "%%time\n",
    "score_chi = chi_square.chi_square(X_train, y_train)"
   ]
  },
  {
   "cell_type": "code",
   "execution_count": 48,
   "metadata": {},
   "outputs": [],
   "source": [
    "score_chi_df = pd.Series(score_chi,index=features.columns.values).sort_values(ascending=False)\n"
   ]
  },
  {
   "cell_type": "code",
   "execution_count": 49,
   "metadata": {},
   "outputs": [
    {
     "data": {
      "text/plain": [
       "x.V6185     6.465524\n",
       "x.V10553    4.455327\n",
       "x.V9850     4.392826\n",
       "x.V288      4.327923\n",
       "x.V6866     4.067919\n",
       "x.V9172     3.974155\n",
       "x.V5890     3.863846\n",
       "x.V8850     3.819393\n",
       "x.V10550    3.799247\n",
       "x.V11052    3.616877\n",
       "dtype: float64"
      ]
     },
     "execution_count": 49,
     "metadata": {},
     "output_type": "execute_result"
    }
   ],
   "source": [
    "score_chi_df.head(10)"
   ]
  },
  {
   "cell_type": "code",
   "execution_count": 50,
   "metadata": {},
   "outputs": [
    {
     "data": {
      "image/png": "[encoded data removed]",
      "text/plain": [
       "<Figure size 432x288 with 1 Axes>"
      ]
     },
     "metadata": {
      "needs_background": "light"
     },
     "output_type": "display_data"
    }
   ],
   "source": [
    "# Representacion grafica\n",
    "\n",
    "sns.barplot(x=score_chi_df[0:10,], y=score_chi_df.index[0:10,])\n",
    "\n",
    "plt.xlabel('Importancia Variables')\n",
    "plt.ylabel('Variables')\n",
    "plt.title(\"Variables importantes Chi-cuadrado Prostata\")\n",
    "plt.savefig(\"Variables importantes Chi-cuadrado Prostata.pdf\", dpi=300)\n",
    "plt.show()"
   ]
  },
  {
   "cell_type": "code",
   "execution_count": 51,
   "metadata": {},
   "outputs": [
    {
     "data": {
      "text/plain": [
       "array([ 6184, 10552,  9849,   287,  6865,  9171,  5889,  8849, 10549,\n",
       "       11051])"
      ]
     },
     "execution_count": 51,
     "metadata": {},
     "output_type": "execute_result"
    }
   ],
   "source": [
    "# Ordenar variables\n",
    "\n",
    "idx_chi = chi_square.feature_ranking(score_chi)\n",
    "idx_chi[0:10]"
   ]
  },
  {
   "cell_type": "code",
   "execution_count": 52,
   "metadata": {},
   "outputs": [],
   "source": [
    "# Especificar 10 variables\n",
    "\n",
    "num_fea = 10\n",
    "    \n",
    "sel_chi_train = X_train[:, idx_chi[0:num_fea]]\n",
    "\n",
    "sel_chi_test = X_test[:, idx_chi[0:num_fea]]\n"
   ]
  },
  {
   "cell_type": "markdown",
   "metadata": {},
   "source": [
    "### Entrenar modelo con variables seleccionadas en conjunto de entrenamiento"
   ]
  },
  {
   "cell_type": "code",
   "execution_count": 53,
   "metadata": {},
   "outputs": [
    {
     "name": "stdout",
     "output_type": "stream",
     "text": [
      "CPU times: user 1.22 ms, sys: 76 µs, total: 1.3 ms\n",
      "Wall time: 884 µs\n"
     ]
    }
   ],
   "source": [
    "%%time\n",
    "clf_svc_chi = clf_svc.fit(sel_chi_train, y_train)"
   ]
  },
  {
   "cell_type": "code",
   "execution_count": 54,
   "metadata": {},
   "outputs": [
    {
     "name": "stdout",
     "output_type": "stream",
     "text": [
      "CPU times: user 1.25 ms, sys: 0 ns, total: 1.25 ms\n",
      "Wall time: 998 µs\n"
     ]
    }
   ],
   "source": [
    "%%time\n",
    "clf_nb_chi = clf_nb.fit(sel_chi_train, y_train)"
   ]
  },
  {
   "cell_type": "code",
   "execution_count": 55,
   "metadata": {},
   "outputs": [
    {
     "name": "stdout",
     "output_type": "stream",
     "text": [
      "CPU times: user 69.8 ms, sys: 31.9 ms, total: 102 ms\n",
      "Wall time: 133 ms\n"
     ]
    }
   ],
   "source": [
    "%%time\n",
    "clf_rf_chi = clf_rf.fit(sel_chi_train, y_train)"
   ]
  },
  {
   "cell_type": "code",
   "execution_count": 56,
   "metadata": {},
   "outputs": [],
   "source": [
    "y_chi_predict_rf = clf_rf_chi.predict(sel_chi_test)\n",
    "y_chi_predict_nb = clf_nb_chi.predict(sel_chi_test)\n",
    "y_chi_predict_svc = clf_svc_chi.predict(sel_chi_test)"
   ]
  },
  {
   "cell_type": "code",
   "execution_count": 57,
   "metadata": {},
   "outputs": [
    {
     "name": "stdout",
     "output_type": "stream",
     "text": [
      "Accuracy Chi-cuadrado SVC: 0.8823529411764706\n",
      "Accuracy Chi-cuadrado NB: 0.8823529411764706\n",
      "Accuracy Chi-cuadrado RF: 0.9411764705882353\n"
     ]
    }
   ],
   "source": [
    "# Exactitud\n",
    "\n",
    "\n",
    "print(\"Accuracy Chi-cuadrado SVC:\",metrics.accuracy_score(y_test, y_chi_predict_svc))\n",
    "print(\"Accuracy Chi-cuadrado NB:\",metrics.accuracy_score(y_test, y_chi_predict_nb))\n",
    "print(\"Accuracy Chi-cuadrado RF:\",metrics.accuracy_score(y_test, y_chi_predict_rf))\n"
   ]
  },
  {
   "cell_type": "code",
   "execution_count": 58,
   "metadata": {},
   "outputs": [
    {
     "name": "stdout",
     "output_type": "stream",
     "text": [
      "ROC-AUC Chi-cuadrado SVC: 0.8996539792387543\n",
      "ROC-AUC Chi-cuadrado NB: 0.9238754325259515\n",
      "ROC-AUC Chi-cuadrado RF: 0.944636678200692\n"
     ]
    }
   ],
   "source": [
    "# Puntuacion ROC-AUC \n",
    "print(\"ROC-AUC Chi-cuadrado SVC:\",metrics.roc_auc_score(y_test,clf_svc_chi.predict_proba(sel_chi_test)[:,1]))\n",
    "print(\"ROC-AUC Chi-cuadrado NB:\",metrics.roc_auc_score(y_test,clf_nb_chi.predict_proba(sel_chi_test)[:,1]))\n",
    "print(\"ROC-AUC Chi-cuadrado RF:\",metrics.roc_auc_score(y_test,clf_rf_chi.predict_proba(sel_chi_test)[:,1]))"
   ]
  },
  {
   "cell_type": "code",
   "execution_count": 59,
   "metadata": {},
   "outputs": [
    {
     "name": "stdout",
     "output_type": "stream",
     "text": [
      "              precision    recall  f1-score   support\n",
      "\n",
      "           0       0.84      0.94      0.89        17\n",
      "           1       0.93      0.82      0.87        17\n",
      "\n",
      "    accuracy                           0.88        34\n",
      "   macro avg       0.89      0.88      0.88        34\n",
      "weighted avg       0.89      0.88      0.88        34\n",
      "\n",
      "              precision    recall  f1-score   support\n",
      "\n",
      "           0       0.84      0.94      0.89        17\n",
      "           1       0.93      0.82      0.87        17\n",
      "\n",
      "    accuracy                           0.88        34\n",
      "   macro avg       0.89      0.88      0.88        34\n",
      "weighted avg       0.89      0.88      0.88        34\n",
      "\n",
      "              precision    recall  f1-score   support\n",
      "\n",
      "           0       0.94      0.94      0.94        17\n",
      "           1       0.94      0.94      0.94        17\n",
      "\n",
      "    accuracy                           0.94        34\n",
      "   macro avg       0.94      0.94      0.94        34\n",
      "weighted avg       0.94      0.94      0.94        34\n",
      "\n"
     ]
    }
   ],
   "source": [
    "print(metrics.classification_report(y_test,y_chi_predict_svc))\n",
    "print(metrics.classification_report(y_test,y_chi_predict_nb))\n",
    "print(metrics.classification_report(y_test,y_chi_predict_rf))"
   ]
  },
  {
   "cell_type": "markdown",
   "metadata": {},
   "source": [
    "## SELECCIONAR VARIABLES USANDO Fisher "
   ]
  },
  {
   "cell_type": "code",
   "execution_count": 60,
   "metadata": {},
   "outputs": [
    {
     "name": "stdout",
     "output_type": "stream",
     "text": [
      "CPU times: user 78.1 ms, sys: 11.4 ms, total: 89.4 ms\n",
      "Wall time: 25 ms\n"
     ]
    }
   ],
   "source": [
    "%%time\n",
    "score_fisher = fisher_score.fisher_score(X_train, y_train)"
   ]
  },
  {
   "cell_type": "code",
   "execution_count": 61,
   "metadata": {},
   "outputs": [],
   "source": [
    "score_fisher_df = pd.Series(score_fisher,index=features.columns.values).sort_values(ascending=False)\n"
   ]
  },
  {
   "cell_type": "code",
   "execution_count": 62,
   "metadata": {},
   "outputs": [
    {
     "data": {
      "text/plain": [
       "x.V6185     0.889780\n",
       "x.V8965     0.805239\n",
       "x.V4365     0.732614\n",
       "x.V5890     0.714147\n",
       "x.V6866     0.692496\n",
       "x.V10553    0.666046\n",
       "x.V8850     0.632774\n",
       "x.V12148    0.629740\n",
       "x.V10494    0.588609\n",
       "x.V10138    0.576053\n",
       "dtype: float64"
      ]
     },
     "execution_count": 62,
     "metadata": {},
     "output_type": "execute_result"
    }
   ],
   "source": [
    "score_fisher_df.head(10)"
   ]
  },
  {
   "cell_type": "code",
   "execution_count": 63,
   "metadata": {
    "scrolled": true
   },
   "outputs": [
    {
     "data": {
      "image/png": "[encoded data removed]",
      "text/plain": [
       "<Figure size 432x288 with 1 Axes>"
      ]
     },
     "metadata": {
      "needs_background": "light"
     },
     "output_type": "display_data"
    }
   ],
   "source": [
    "# Representacion grafica\n",
    "\n",
    "sns.barplot(x=score_fisher_df[0:10,], y=score_fisher_df.index[0:10,])\n",
    "\n",
    "plt.xlabel('Importancia Variables')\n",
    "plt.ylabel('Variables')\n",
    "plt.title(\"Variables importantes Fisher Prostata\")\n",
    "plt.savefig(\"Variables importantes Fisher Prostata.pdf\", dpi=300)\n",
    "plt.show()"
   ]
  },
  {
   "cell_type": "code",
   "execution_count": 64,
   "metadata": {},
   "outputs": [
    {
     "data": {
      "text/plain": [
       "array([ 6184,  8964,  4364,  5889,  6865, 10552,  8849, 12147, 10493,\n",
       "       10137])"
      ]
     },
     "execution_count": 64,
     "metadata": {},
     "output_type": "execute_result"
    }
   ],
   "source": [
    "# Ordenar variables\n",
    "\n",
    "idx_fisher = fisher_score.feature_ranking(score_fisher)\n",
    "idx_fisher[0:10]"
   ]
  },
  {
   "cell_type": "code",
   "execution_count": 65,
   "metadata": {},
   "outputs": [],
   "source": [
    "# Especificar 10 variables\n",
    "\n",
    "num_fea = 10\n",
    "    \n",
    "sel_fisher_train = X_train[:, idx_fisher[0:num_fea]]\n",
    "\n",
    "sel_fisher_test = X_test[:, idx_fisher[0:num_fea]]\n"
   ]
  },
  {
   "cell_type": "markdown",
   "metadata": {},
   "source": [
    "### Entrenar modelo con variables seleccionadas en conjunto de entrenamiento"
   ]
  },
  {
   "cell_type": "code",
   "execution_count": 66,
   "metadata": {},
   "outputs": [
    {
     "name": "stdout",
     "output_type": "stream",
     "text": [
      "CPU times: user 1.27 ms, sys: 81 µs, total: 1.35 ms\n",
      "Wall time: 992 µs\n"
     ]
    }
   ],
   "source": [
    "%%time\n",
    "clf_svc_f = clf_svc.fit(sel_fisher_train, y_train)"
   ]
  },
  {
   "cell_type": "code",
   "execution_count": 67,
   "metadata": {},
   "outputs": [
    {
     "name": "stdout",
     "output_type": "stream",
     "text": [
      "CPU times: user 1.44 ms, sys: 92 µs, total: 1.53 ms\n",
      "Wall time: 1.28 ms\n"
     ]
    }
   ],
   "source": [
    "%%time\n",
    "clf_nb_f = clf_nb.fit(sel_fisher_train, y_train)"
   ]
  },
  {
   "cell_type": "code",
   "execution_count": 68,
   "metadata": {},
   "outputs": [
    {
     "name": "stdout",
     "output_type": "stream",
     "text": [
      "CPU times: user 97.8 ms, sys: 8.38 ms, total: 106 ms\n",
      "Wall time: 135 ms\n"
     ]
    }
   ],
   "source": [
    "%%time\n",
    "clf_rf_f = clf_rf.fit(sel_fisher_train, y_train)"
   ]
  },
  {
   "cell_type": "code",
   "execution_count": 69,
   "metadata": {},
   "outputs": [],
   "source": [
    "y_fisher_predict_rf = clf_rf_f.predict(sel_fisher_test)\n",
    "y_fisher_predict_nb = clf_nb_f.predict(sel_fisher_test)\n",
    "y_fisher_predict_svc = clf_svc_f.predict(sel_fisher_test)"
   ]
  },
  {
   "cell_type": "code",
   "execution_count": 70,
   "metadata": {},
   "outputs": [
    {
     "name": "stdout",
     "output_type": "stream",
     "text": [
      "Accuracy Fisher SVC: 0.8823529411764706\n",
      "Accuracy Fisher NB: 0.8823529411764706\n",
      "Accuracy Fisher RF: 0.8823529411764706\n"
     ]
    }
   ],
   "source": [
    "# Exactitud\n",
    "\n",
    "\n",
    "print(\"Accuracy Fisher SVC:\",metrics.accuracy_score(y_test, y_fisher_predict_svc))\n",
    "print(\"Accuracy Fisher NB:\",metrics.accuracy_score(y_test, y_fisher_predict_nb))\n",
    "print(\"Accuracy Fisher RF:\",metrics.accuracy_score(y_test, y_fisher_predict_rf))\n"
   ]
  },
  {
   "cell_type": "code",
   "execution_count": 71,
   "metadata": {},
   "outputs": [
    {
     "name": "stdout",
     "output_type": "stream",
     "text": [
      "ROC-AUC Fisher SVC: 0.9273356401384083\n",
      "ROC-AUC Fisher NB: 0.9498269896193772\n",
      "ROC-AUC Fisher RF: 0.9463667820069204\n"
     ]
    }
   ],
   "source": [
    "# Puntuacion ROC-AUC \n",
    "print(\"ROC-AUC Fisher SVC:\",metrics.roc_auc_score(y_test,clf_svc_f.predict_proba(sel_fisher_test)[:,1]))\n",
    "print(\"ROC-AUC Fisher NB:\",metrics.roc_auc_score(y_test,clf_nb_f.predict_proba(sel_fisher_test)[:,1]))\n",
    "print(\"ROC-AUC Fisher RF:\",metrics.roc_auc_score(y_test,clf_rf_f.predict_proba(sel_fisher_test)[:,1]))"
   ]
  },
  {
   "cell_type": "code",
   "execution_count": 72,
   "metadata": {},
   "outputs": [
    {
     "name": "stdout",
     "output_type": "stream",
     "text": [
      "              precision    recall  f1-score   support\n",
      "\n",
      "           0       0.84      0.94      0.89        17\n",
      "           1       0.93      0.82      0.87        17\n",
      "\n",
      "    accuracy                           0.88        34\n",
      "   macro avg       0.89      0.88      0.88        34\n",
      "weighted avg       0.89      0.88      0.88        34\n",
      "\n",
      "              precision    recall  f1-score   support\n",
      "\n",
      "           0       0.84      0.94      0.89        17\n",
      "           1       0.93      0.82      0.87        17\n",
      "\n",
      "    accuracy                           0.88        34\n",
      "   macro avg       0.89      0.88      0.88        34\n",
      "weighted avg       0.89      0.88      0.88        34\n",
      "\n",
      "              precision    recall  f1-score   support\n",
      "\n",
      "           0       0.84      0.94      0.89        17\n",
      "           1       0.93      0.82      0.87        17\n",
      "\n",
      "    accuracy                           0.88        34\n",
      "   macro avg       0.89      0.88      0.88        34\n",
      "weighted avg       0.89      0.88      0.88        34\n",
      "\n"
     ]
    }
   ],
   "source": [
    "print(metrics.classification_report(y_test,y_fisher_predict_svc))\n",
    "print(metrics.classification_report(y_test,y_fisher_predict_nb))\n",
    "print(metrics.classification_report(y_test,y_fisher_predict_rf))"
   ]
  },
  {
   "cell_type": "markdown",
   "metadata": {},
   "source": [
    "## SELECCIONAR VARIABLES USANDO reliefF"
   ]
  },
  {
   "cell_type": "code",
   "execution_count": 73,
   "metadata": {},
   "outputs": [
    {
     "name": "stdout",
     "output_type": "stream",
     "text": [
      "CPU times: user 87.1 ms, sys: 0 ns, total: 87.1 ms\n",
      "Wall time: 85.9 ms\n"
     ]
    }
   ],
   "source": [
    "%%time\n",
    "\n",
    "score_relief = reliefF.reliefF(X_train, y_train, k=5)\n"
   ]
  },
  {
   "cell_type": "code",
   "execution_count": 74,
   "metadata": {},
   "outputs": [
    {
     "data": {
      "text/plain": [
       "array([-0.87291139,  0.01577465, -0.25866667, ..., -0.66032787,\n",
       "        1.2855615 , -0.03365079])"
      ]
     },
     "execution_count": 74,
     "metadata": {},
     "output_type": "execute_result"
    }
   ],
   "source": [
    "score_relief"
   ]
  },
  {
   "cell_type": "code",
   "execution_count": 75,
   "metadata": {},
   "outputs": [],
   "source": [
    "score_relief_df = pd.Series(score_relief,index=features.columns.values).sort_values(ascending=False)\n"
   ]
  },
  {
   "cell_type": "code",
   "execution_count": 76,
   "metadata": {},
   "outputs": [
    {
     "data": {
      "text/plain": [
       "x.V6185     11.179951\n",
       "x.V5890     10.419048\n",
       "x.V8729      8.871119\n",
       "x.V9937      8.529167\n",
       "x.V9850      8.358208\n",
       "x.V10553     8.170963\n",
       "x.V6866      7.873408\n",
       "x.V9172      7.675283\n",
       "x.V8850      7.600000\n",
       "x.V9184      7.592568\n",
       "x.V9034      7.527273\n",
       "x.V8103      7.521994\n",
       "x.V8965      7.466276\n",
       "x.V10234     7.458667\n",
       "x.V3794      7.392615\n",
       "x.V205       7.375436\n",
       "x.V9093      7.348426\n",
       "x.V8443      7.213270\n",
       "x.V9063      7.129577\n",
       "x.V288       7.076846\n",
       "dtype: float64"
      ]
     },
     "execution_count": 76,
     "metadata": {},
     "output_type": "execute_result"
    }
   ],
   "source": [
    "score_relief_df.head(20)"
   ]
  },
  {
   "cell_type": "code",
   "execution_count": 77,
   "metadata": {},
   "outputs": [
    {
     "data": {
      "image/png": "[encoded data removed]",
      "text/plain": [
       "<Figure size 432x288 with 1 Axes>"
      ]
     },
     "metadata": {
      "needs_background": "light"
     },
     "output_type": "display_data"
    }
   ],
   "source": [
    "# Representar graficamente\n",
    "\n",
    "sns.barplot(x=score_relief_df[0:10,], y=score_relief_df.index[0:10,])\n",
    "\n",
    "plt.xlabel('Importancia Variables')\n",
    "plt.ylabel('Variables')\n",
    "plt.title(\"Variables Importantes reliefF Prostata\")\n",
    "plt.savefig(\"Variables importantes reliefF Prostata.pdf\", dpi=300)\n",
    "\n",
    "plt.show()"
   ]
  },
  {
   "cell_type": "code",
   "execution_count": 78,
   "metadata": {},
   "outputs": [
    {
     "data": {
      "text/plain": [
       "array([ 6184,  5889,  8728, ...,  5481, 10942,  4246])"
      ]
     },
     "execution_count": 78,
     "metadata": {},
     "output_type": "execute_result"
    }
   ],
   "source": [
    "# Ordenar variables\n",
    "\n",
    "idx_relief = reliefF.feature_ranking(score_relief)\n",
    "idx_relief"
   ]
  },
  {
   "cell_type": "code",
   "execution_count": 79,
   "metadata": {},
   "outputs": [
    {
     "data": {
      "text/plain": [
       "(12600,)"
      ]
     },
     "execution_count": 79,
     "metadata": {},
     "output_type": "execute_result"
    }
   ],
   "source": [
    "idx_relief.shape"
   ]
  },
  {
   "cell_type": "markdown",
   "metadata": {},
   "source": [
    "### Entrenar modelo con variables seleccionadas en conjunto de entrenamiento"
   ]
  },
  {
   "cell_type": "code",
   "execution_count": 80,
   "metadata": {},
   "outputs": [],
   "source": [
    "# Seleccionar 10:\n",
    "\n",
    "num_fea = 10\n",
    "    \n",
    "sel_relief_train = X_train[:, idx_relief[0:num_fea]]\n",
    "\n",
    "sel_relief_test = X_test[:, idx_relief[0:num_fea]]\n"
   ]
  },
  {
   "cell_type": "code",
   "execution_count": 81,
   "metadata": {},
   "outputs": [
    {
     "data": {
      "text/plain": [
       "(68, 10)"
      ]
     },
     "execution_count": 81,
     "metadata": {},
     "output_type": "execute_result"
    }
   ],
   "source": [
    "sel_relief_train.shape"
   ]
  },
  {
   "cell_type": "code",
   "execution_count": 82,
   "metadata": {},
   "outputs": [
    {
     "name": "stdout",
     "output_type": "stream",
     "text": [
      "CPU times: user 1.32 ms, sys: 84 µs, total: 1.4 ms\n",
      "Wall time: 1.13 ms\n"
     ]
    }
   ],
   "source": [
    "%%time\n",
    "clf_svc_rl = clf_svc.fit(sel_relief_train, y_train)"
   ]
  },
  {
   "cell_type": "code",
   "execution_count": 83,
   "metadata": {},
   "outputs": [
    {
     "name": "stdout",
     "output_type": "stream",
     "text": [
      "CPU times: user 929 µs, sys: 0 ns, total: 929 µs\n",
      "Wall time: 816 µs\n"
     ]
    }
   ],
   "source": [
    "%%time\n",
    "clf_nb_rl = clf_nb.fit(sel_relief_train, y_train)"
   ]
  },
  {
   "cell_type": "code",
   "execution_count": 84,
   "metadata": {},
   "outputs": [
    {
     "name": "stdout",
     "output_type": "stream",
     "text": [
      "CPU times: user 85.1 ms, sys: 20.7 ms, total: 106 ms\n",
      "Wall time: 131 ms\n"
     ]
    }
   ],
   "source": [
    "%%time\n",
    "clf_rf_rl = clf_rf.fit(sel_relief_train, y_train)"
   ]
  },
  {
   "cell_type": "code",
   "execution_count": 85,
   "metadata": {},
   "outputs": [],
   "source": [
    "y_rl_predict_svc = clf_svc_rl.predict(sel_relief_test)\n",
    "y_rl_predict_nb = clf_nb_rl.predict(sel_relief_test)\n",
    "y_rl_predict_rf = clf_rf_rl.predict(sel_relief_test)"
   ]
  },
  {
   "cell_type": "code",
   "execution_count": 86,
   "metadata": {},
   "outputs": [
    {
     "name": "stdout",
     "output_type": "stream",
     "text": [
      "Accuracy reliefF SVC: 0.8529411764705882\n",
      "Accuracy reliefF NB: 0.9117647058823529\n",
      "Accuracy reliefF RF: 0.8823529411764706\n"
     ]
    }
   ],
   "source": [
    "# Exactitud\n",
    "\n",
    "print(\"Accuracy reliefF SVC:\",metrics.accuracy_score(y_test, y_rl_predict_svc))\n",
    "print(\"Accuracy reliefF NB:\",metrics.accuracy_score(y_test, y_rl_predict_nb))\n",
    "print(\"Accuracy reliefF RF:\",metrics.accuracy_score(y_test, y_rl_predict_rf))"
   ]
  },
  {
   "cell_type": "code",
   "execution_count": 87,
   "metadata": {},
   "outputs": [
    {
     "name": "stdout",
     "output_type": "stream",
     "text": [
      "ROC-AUC reliefF SVC: 0.944636678200692\n",
      "ROC-AUC reliefF NB: 0.9480968858131488\n",
      "ROC-AUC reliefF RF: 0.9550173010380623\n"
     ]
    }
   ],
   "source": [
    "# Puntuacion ROC-AUC \n",
    "print(\"ROC-AUC reliefF SVC:\",metrics.roc_auc_score(y_test,clf_svc_rl.predict_proba(sel_relief_test)[:,1]))\n",
    "print(\"ROC-AUC reliefF NB:\",metrics.roc_auc_score(y_test,clf_nb_rl.predict_proba(sel_relief_test)[:,1]))\n",
    "print(\"ROC-AUC reliefF RF:\",metrics.roc_auc_score(y_test,clf_rf_rl.predict_proba(sel_relief_test)[:,1]))"
   ]
  },
  {
   "cell_type": "code",
   "execution_count": 88,
   "metadata": {},
   "outputs": [
    {
     "name": "stdout",
     "output_type": "stream",
     "text": [
      "              precision    recall  f1-score   support\n",
      "\n",
      "           0       0.80      0.94      0.86        17\n",
      "           1       0.93      0.76      0.84        17\n",
      "\n",
      "    accuracy                           0.85        34\n",
      "   macro avg       0.86      0.85      0.85        34\n",
      "weighted avg       0.86      0.85      0.85        34\n",
      "\n",
      "              precision    recall  f1-score   support\n",
      "\n",
      "           0       0.94      0.88      0.91        17\n",
      "           1       0.89      0.94      0.91        17\n",
      "\n",
      "    accuracy                           0.91        34\n",
      "   macro avg       0.91      0.91      0.91        34\n",
      "weighted avg       0.91      0.91      0.91        34\n",
      "\n",
      "              precision    recall  f1-score   support\n",
      "\n",
      "           0       0.84      0.94      0.89        17\n",
      "           1       0.93      0.82      0.87        17\n",
      "\n",
      "    accuracy                           0.88        34\n",
      "   macro avg       0.89      0.88      0.88        34\n",
      "weighted avg       0.89      0.88      0.88        34\n",
      "\n"
     ]
    }
   ],
   "source": [
    "# Metricas\n",
    "\n",
    "print(metrics.classification_report(y_test,y_rl_predict_svc))\n",
    "print(metrics.classification_report(y_test,y_rl_predict_nb))\n",
    "print(metrics.classification_report(y_test,y_rl_predict_rf))"
   ]
  },
  {
   "cell_type": "markdown",
   "metadata": {},
   "source": [
    "## SELECCIONAR VARIABLES CON BORUTA"
   ]
  },
  {
   "cell_type": "code",
   "execution_count": 89,
   "metadata": {},
   "outputs": [],
   "source": [
    "boruta_selector = BorutaPy(clf_rf, n_estimators='auto', verbose=0, random_state=SEED, max_iter = 100, perc = 100, alpha=1e-27)\n"
   ]
  },
  {
   "cell_type": "code",
   "execution_count": 90,
   "metadata": {},
   "outputs": [
    {
     "name": "stdout",
     "output_type": "stream",
     "text": [
      "CPU times: user 16min 34s, sys: 2min 19s, total: 18min 54s\n",
      "Wall time: 6min 46s\n"
     ]
    },
    {
     "data": {
      "text/plain": [
       "BorutaPy(alpha=1e-27,\n",
       "         estimator=RandomForestClassifier(bootstrap=True,\n",
       "                                          class_weight='balanced',\n",
       "                                          criterion='gini', max_depth=5,\n",
       "                                          max_features='auto',\n",
       "                                          max_leaf_nodes=None,\n",
       "                                          min_impurity_decrease=0.0,\n",
       "                                          min_impurity_split=None,\n",
       "                                          min_samples_leaf=1,\n",
       "                                          min_samples_split=2,\n",
       "                                          min_weight_fraction_leaf=0.0,\n",
       "                                          n_estimators=578, n_jobs=-1,\n",
       "                                          oob_score=False,\n",
       "                                          random_state=<mtrand.RandomState object at 0x7f956a587b88>,\n",
       "                                          verbose=0, warm_start=False),\n",
       "         max_iter=100, n_estimators='auto', perc=100,\n",
       "         random_state=<mtrand.RandomState object at 0x7f956a587b88>,\n",
       "         two_step=True, verbose=0)"
      ]
     },
     "execution_count": 90,
     "metadata": {},
     "output_type": "execute_result"
    }
   ],
   "source": [
    "%%time\n",
    "boruta_selector.fit(X_train, y_train)"
   ]
  },
  {
   "cell_type": "code",
   "execution_count": 91,
   "metadata": {},
   "outputs": [
    {
     "data": {
      "text/plain": [
       "22"
      ]
     },
     "execution_count": 91,
     "metadata": {},
     "output_type": "execute_result"
    }
   ],
   "source": [
    "boruta_selector.n_features_"
   ]
  },
  {
   "cell_type": "code",
   "execution_count": 92,
   "metadata": {},
   "outputs": [
    {
     "data": {
      "text/plain": [
       "array([False, False, False, ..., False, False, False])"
      ]
     },
     "execution_count": 92,
     "metadata": {},
     "output_type": "execute_result"
    }
   ],
   "source": [
    "boruta_selector.support_"
   ]
  },
  {
   "cell_type": "code",
   "execution_count": 93,
   "metadata": {},
   "outputs": [
    {
     "data": {
      "text/plain": [
       "array([ 5887,  9889,  1051, ..., 10662, 11714,  1077])"
      ]
     },
     "execution_count": 93,
     "metadata": {},
     "output_type": "execute_result"
    }
   ],
   "source": [
    "boruta_selector.ranking_\n"
   ]
  },
  {
   "cell_type": "code",
   "execution_count": 94,
   "metadata": {},
   "outputs": [
    {
     "data": {
      "text/plain": [
       "x.V4365     1\n",
       "x.V306      1\n",
       "x.V8850     1\n",
       "x.V299      1\n",
       "x.V10956    1\n",
       "x.V5890     1\n",
       "x.V6185     1\n",
       "x.V8965     1\n",
       "x.V10138    1\n",
       "x.V12148    1\n",
       "x.V6865     1\n",
       "dtype: int64"
      ]
     },
     "execution_count": 94,
     "metadata": {},
     "output_type": "execute_result"
    }
   ],
   "source": [
    "score_boruta_df = pd.Series(boruta_selector.ranking_,index=features.columns.values).sort_values(ascending=True)\n",
    "score_boruta_df.head(11)"
   ]
  },
  {
   "cell_type": "code",
   "execution_count": 95,
   "metadata": {},
   "outputs": [],
   "source": [
    "sel_boruta_train = boruta_selector.transform(X_train)\n",
    "\n",
    "sel_boruta_test = boruta_selector.transform(X_test)"
   ]
  },
  {
   "cell_type": "code",
   "execution_count": 96,
   "metadata": {},
   "outputs": [
    {
     "name": "stdout",
     "output_type": "stream",
     "text": [
      "(68, 22)\n",
      "(34, 22)\n"
     ]
    }
   ],
   "source": [
    "print(sel_boruta_train.shape)\n",
    "print(sel_boruta_test.shape)"
   ]
  },
  {
   "cell_type": "markdown",
   "metadata": {},
   "source": [
    "### Entrenar modelo con variables seleccionadas en conjunto de entrenamiento"
   ]
  },
  {
   "cell_type": "code",
   "execution_count": 97,
   "metadata": {},
   "outputs": [
    {
     "name": "stdout",
     "output_type": "stream",
     "text": [
      "CPU times: user 2.51 ms, sys: 2.75 ms, total: 5.26 ms\n",
      "Wall time: 1.27 ms\n"
     ]
    }
   ],
   "source": [
    "%%time\n",
    "clf_svc_b = clf_svc.fit(sel_boruta_train, y_train)"
   ]
  },
  {
   "cell_type": "code",
   "execution_count": 98,
   "metadata": {},
   "outputs": [
    {
     "name": "stdout",
     "output_type": "stream",
     "text": [
      "CPU times: user 3.54 ms, sys: 496 µs, total: 4.04 ms\n",
      "Wall time: 935 µs\n"
     ]
    }
   ],
   "source": [
    "%%time\n",
    "clf_nb_b = clf_nb.fit(sel_boruta_train, y_train)"
   ]
  },
  {
   "cell_type": "code",
   "execution_count": 99,
   "metadata": {},
   "outputs": [
    {
     "name": "stdout",
     "output_type": "stream",
     "text": [
      "CPU times: user 724 ms, sys: 70.9 ms, total: 795 ms\n",
      "Wall time: 469 ms\n"
     ]
    }
   ],
   "source": [
    "%%time\n",
    "clf_rf_b = clf_rf.fit(sel_boruta_train, y_train)"
   ]
  },
  {
   "cell_type": "code",
   "execution_count": 100,
   "metadata": {},
   "outputs": [],
   "source": [
    "y_boruta_predict_svc = clf_svc_b.predict(sel_boruta_test)\n",
    "y_boruta_predict_nb = clf_nb_b.predict(sel_boruta_test)\n",
    "y_boruta_predict_rf = clf_rf_b.predict(sel_boruta_test)"
   ]
  },
  {
   "cell_type": "code",
   "execution_count": 101,
   "metadata": {},
   "outputs": [
    {
     "name": "stdout",
     "output_type": "stream",
     "text": [
      "Accuracy Boruta SVC: 0.9117647058823529\n",
      "Accuracy Boruta NB: 0.9117647058823529\n",
      "Accuracy Boruta RF: 0.9117647058823529\n"
     ]
    }
   ],
   "source": [
    "print(\"Accuracy Boruta SVC:\",metrics.accuracy_score(y_test, y_boruta_predict_svc))\n",
    "print(\"Accuracy Boruta NB:\",metrics.accuracy_score(y_test, y_boruta_predict_nb))\n",
    "print(\"Accuracy Boruta RF:\",metrics.accuracy_score(y_test, y_boruta_predict_rf))"
   ]
  },
  {
   "cell_type": "code",
   "execution_count": 102,
   "metadata": {},
   "outputs": [
    {
     "name": "stdout",
     "output_type": "stream",
     "text": [
      "              precision    recall  f1-score   support\n",
      "\n",
      "           0       0.89      0.94      0.91        17\n",
      "           1       0.94      0.88      0.91        17\n",
      "\n",
      "    accuracy                           0.91        34\n",
      "   macro avg       0.91      0.91      0.91        34\n",
      "weighted avg       0.91      0.91      0.91        34\n",
      "\n",
      "              precision    recall  f1-score   support\n",
      "\n",
      "           0       0.89      0.94      0.91        17\n",
      "           1       0.94      0.88      0.91        17\n",
      "\n",
      "    accuracy                           0.91        34\n",
      "   macro avg       0.91      0.91      0.91        34\n",
      "weighted avg       0.91      0.91      0.91        34\n",
      "\n",
      "              precision    recall  f1-score   support\n",
      "\n",
      "           0       0.89      0.94      0.91        17\n",
      "           1       0.94      0.88      0.91        17\n",
      "\n",
      "    accuracy                           0.91        34\n",
      "   macro avg       0.91      0.91      0.91        34\n",
      "weighted avg       0.91      0.91      0.91        34\n",
      "\n"
     ]
    }
   ],
   "source": [
    "print(metrics.classification_report(y_test,y_boruta_predict_svc))\n",
    "print(metrics.classification_report(y_test,y_boruta_predict_nb))\n",
    "print(metrics.classification_report(y_test,y_boruta_predict_rf))"
   ]
  },
  {
   "cell_type": "code",
   "execution_count": 103,
   "metadata": {},
   "outputs": [
    {
     "name": "stdout",
     "output_type": "stream",
     "text": [
      "ROC-AUC Boruta SVC: 0.9619377162629758\n",
      "ROC-AUC Boruta NB: 0.9619377162629758\n",
      "ROC-AUC Boruta RF: 0.9653979238754326\n"
     ]
    }
   ],
   "source": [
    "# Puntuacion ROC-AUC \n",
    "print(\"ROC-AUC Boruta SVC:\",metrics.roc_auc_score(y_test,clf_svc_b.predict_proba(sel_boruta_test)[:,1]))\n",
    "print(\"ROC-AUC Boruta NB:\",metrics.roc_auc_score(y_test,clf_nb_b.predict_proba(sel_boruta_test)[:,1]))\n",
    "print(\"ROC-AUC Boruta RF:\",metrics.roc_auc_score(y_test,clf_rf_b.predict_proba(sel_boruta_test)[:,1]))"
   ]
  },
  {
   "cell_type": "markdown",
   "metadata": {},
   "source": [
    "## SELECCIONAR VARIABLES USANDO RFE (Eliminar recursivamente)"
   ]
  },
  {
   "cell_type": "code",
   "execution_count": 104,
   "metadata": {},
   "outputs": [],
   "source": [
    "# RFE\n",
    "rfe = RFE(estimator=clf_svc, n_features_to_select=10)\n",
    "\n"
   ]
  },
  {
   "cell_type": "code",
   "execution_count": 105,
   "metadata": {},
   "outputs": [
    {
     "name": "stdout",
     "output_type": "stream",
     "text": [
      "CPU times: user 2h 9min 53s, sys: 1min 36s, total: 2h 11min 29s\n",
      "Wall time: 37min 47s\n"
     ]
    }
   ],
   "source": [
    "%%time\n",
    "rfe = rfe.fit(X_train, y_train)\n",
    " \n"
   ]
  },
  {
   "cell_type": "code",
   "execution_count": 106,
   "metadata": {},
   "outputs": [
    {
     "name": "stdout",
     "output_type": "stream",
     "text": [
      "CPU times: user 2.66 ms, sys: 0 ns, total: 2.66 ms\n",
      "Wall time: 1.43 ms\n"
     ]
    }
   ],
   "source": [
    "%%time\n",
    "\n",
    "sel_rfe_train = rfe.transform(X_train)\n",
    "\n",
    "sel_rfe_test = rfe.transform(X_test)"
   ]
  },
  {
   "cell_type": "code",
   "execution_count": 107,
   "metadata": {},
   "outputs": [
    {
     "name": "stdout",
     "output_type": "stream",
     "text": [
      "[False False False ... False False False]\n",
      "[ 6368 11392   456 ... 12010  7728   384]\n"
     ]
    }
   ],
   "source": [
    "print(rfe.support_)\n",
    "print(rfe.ranking_)"
   ]
  },
  {
   "cell_type": "code",
   "execution_count": 108,
   "metadata": {},
   "outputs": [
    {
     "data": {
      "text/plain": [
       "(68, 10)"
      ]
     },
     "execution_count": 108,
     "metadata": {},
     "output_type": "execute_result"
    }
   ],
   "source": [
    "sel_rfe_train.shape"
   ]
  },
  {
   "cell_type": "markdown",
   "metadata": {},
   "source": [
    "### Entrenar modelo con variables seleccionadas en conjunto de entrenamiento"
   ]
  },
  {
   "cell_type": "code",
   "execution_count": 109,
   "metadata": {},
   "outputs": [
    {
     "name": "stdout",
     "output_type": "stream",
     "text": [
      "CPU times: user 1.34 ms, sys: 0 ns, total: 1.34 ms\n",
      "Wall time: 1.1 ms\n"
     ]
    }
   ],
   "source": [
    "%%time\n",
    "clf_svc_r = clf_svc.fit(sel_rfe_train, y_train)"
   ]
  },
  {
   "cell_type": "code",
   "execution_count": 110,
   "metadata": {},
   "outputs": [
    {
     "name": "stdout",
     "output_type": "stream",
     "text": [
      "CPU times: user 834 µs, sys: 0 ns, total: 834 µs\n",
      "Wall time: 742 µs\n"
     ]
    }
   ],
   "source": [
    "%%time\n",
    "clf_nb_r = clf_nb.fit(sel_rfe_train, y_train)"
   ]
  },
  {
   "cell_type": "code",
   "execution_count": 111,
   "metadata": {},
   "outputs": [
    {
     "name": "stdout",
     "output_type": "stream",
     "text": [
      "CPU times: user 427 ms, sys: 113 ms, total: 540 ms\n",
      "Wall time: 473 ms\n"
     ]
    }
   ],
   "source": [
    "%%time\n",
    "clf_rf_r = clf_rf.fit(sel_rfe_train, y_train)"
   ]
  },
  {
   "cell_type": "code",
   "execution_count": 112,
   "metadata": {},
   "outputs": [],
   "source": [
    "y_rfe_predict_svc = clf_svc_r.predict(sel_rfe_test)\n",
    "y_rfe_predict_nb = clf_nb_r.predict(sel_rfe_test)\n",
    "y_rfe_predict_rf = clf_rf_r.predict(sel_rfe_test)\n"
   ]
  },
  {
   "cell_type": "code",
   "execution_count": 113,
   "metadata": {},
   "outputs": [
    {
     "name": "stdout",
     "output_type": "stream",
     "text": [
      "Accuracy SVC: 0.8529411764705882\n",
      "Accuracy NB: 0.9411764705882353\n",
      "Accuracy RF: 0.8529411764705882\n"
     ]
    }
   ],
   "source": [
    "# Exactitud\n",
    "\n",
    "print(\"Accuracy SVC:\",metrics.accuracy_score(y_test, y_rfe_predict_svc))\n",
    "print(\"Accuracy NB:\",metrics.accuracy_score(y_test, y_rfe_predict_nb))\n",
    "print(\"Accuracy RF:\",metrics.accuracy_score(y_test, y_rfe_predict_rf))"
   ]
  },
  {
   "cell_type": "code",
   "execution_count": 114,
   "metadata": {},
   "outputs": [
    {
     "name": "stdout",
     "output_type": "stream",
     "text": [
      "ROC-AUC RFE SVC: 0.958477508650519\n",
      "ROC-AUC RFE NB: 0.9411764705882353\n",
      "ROC-AUC RFE RF: 0.9584775086505191\n"
     ]
    }
   ],
   "source": [
    "# Puntuacion ROC-AUC \n",
    "print(\"ROC-AUC RFE SVC:\",metrics.roc_auc_score(y_test,clf_svc_r.predict_proba(sel_rfe_test)[:,1]))\n",
    "print(\"ROC-AUC RFE NB:\",metrics.roc_auc_score(y_test,clf_nb_r.predict_proba(sel_rfe_test)[:,1]))\n",
    "print(\"ROC-AUC RFE RF:\",metrics.roc_auc_score(y_test,clf_rf_r.predict_proba(sel_rfe_test)[:,1]))"
   ]
  },
  {
   "cell_type": "code",
   "execution_count": 115,
   "metadata": {},
   "outputs": [
    {
     "name": "stdout",
     "output_type": "stream",
     "text": [
      "              precision    recall  f1-score   support\n",
      "\n",
      "           0       0.83      0.88      0.86        17\n",
      "           1       0.88      0.82      0.85        17\n",
      "\n",
      "    accuracy                           0.85        34\n",
      "   macro avg       0.85      0.85      0.85        34\n",
      "weighted avg       0.85      0.85      0.85        34\n",
      "\n",
      "              precision    recall  f1-score   support\n",
      "\n",
      "           0       0.89      1.00      0.94        17\n",
      "           1       1.00      0.88      0.94        17\n",
      "\n",
      "    accuracy                           0.94        34\n",
      "   macro avg       0.95      0.94      0.94        34\n",
      "weighted avg       0.95      0.94      0.94        34\n",
      "\n",
      "              precision    recall  f1-score   support\n",
      "\n",
      "           0       0.83      0.88      0.86        17\n",
      "           1       0.88      0.82      0.85        17\n",
      "\n",
      "    accuracy                           0.85        34\n",
      "   macro avg       0.85      0.85      0.85        34\n",
      "weighted avg       0.85      0.85      0.85        34\n",
      "\n"
     ]
    }
   ],
   "source": [
    "print(metrics.classification_report(y_test,y_rfe_predict_svc))\n",
    "print(metrics.classification_report(y_test,y_rfe_predict_nb))\n",
    "print(metrics.classification_report(y_test,y_rfe_predict_rf))\n",
    "\n"
   ]
  },
  {
   "cell_type": "code",
   "execution_count": 116,
   "metadata": {},
   "outputs": [
    {
     "data": {
      "text/plain": [
       "x.V10215    1\n",
       "x.V6185     1\n",
       "x.V3333     1\n",
       "x.V5890     1\n",
       "x.V10553    1\n",
       "x.V10234    1\n",
       "x.V9034     1\n",
       "x.V11858    1\n",
       "x.V5661     1\n",
       "x.V11137    1\n",
       "x.V9157     2\n",
       "dtype: int64"
      ]
     },
     "execution_count": 116,
     "metadata": {},
     "output_type": "execute_result"
    }
   ],
   "source": [
    "pd.Series(rfe.ranking_,index=features.columns.values).sort_values(ascending=True).head(11)"
   ]
  },
  {
   "cell_type": "markdown",
   "metadata": {},
   "source": [
    "## SELECCIONAR VARIABLES USANDO SELECCION DE VARIABLES HACIA DELANTE"
   ]
  },
  {
   "cell_type": "code",
   "execution_count": 117,
   "metadata": {},
   "outputs": [],
   "source": [
    "# Tarda mucho tiempo, incluso seleccionando solo 5 variables. Tiempos similares en Google collab.\n",
    "sfs1 = sfs(clf_rf,\n",
    "           k_features=10,\n",
    "           forward=True,\n",
    "           floating=False,\n",
    "           verbose=2,\n",
    "           scoring='accuracy',\n",
    "           n_jobs= -1,\n",
    "           cv=0)\n",
    "\n"
   ]
  },
  {
   "cell_type": "code",
   "execution_count": 118,
   "metadata": {},
   "outputs": [
    {
     "name": "stderr",
     "output_type": "stream",
     "text": [
      "[Parallel(n_jobs=-1)]: Using backend LokyBackend with 8 concurrent workers.\n",
      "[Parallel(n_jobs=-1)]: Done  25 tasks      | elapsed:    6.3s\n",
      "[Parallel(n_jobs=-1)]: Done 146 tasks      | elapsed:   31.4s\n",
      "[Parallel(n_jobs=-1)]: Done 349 tasks      | elapsed:  1.2min\n",
      "[Parallel(n_jobs=-1)]: Done 632 tasks      | elapsed:  2.2min\n",
      "[Parallel(n_jobs=-1)]: Done 997 tasks      | elapsed:  3.5min\n",
      "[Parallel(n_jobs=-1)]: Done 1442 tasks      | elapsed:  5.1min\n",
      "[Parallel(n_jobs=-1)]: Done 1969 tasks      | elapsed:  6.9min\n",
      "[Parallel(n_jobs=-1)]: Done 2576 tasks      | elapsed:  9.1min\n",
      "[Parallel(n_jobs=-1)]: Done 3265 tasks      | elapsed: 11.5min\n",
      "[Parallel(n_jobs=-1)]: Done 4034 tasks      | elapsed: 14.2min\n",
      "[Parallel(n_jobs=-1)]: Done 4885 tasks      | elapsed: 17.2min\n",
      "[Parallel(n_jobs=-1)]: Done 5816 tasks      | elapsed: 20.5min\n",
      "[Parallel(n_jobs=-1)]: Done 6829 tasks      | elapsed: 24.1min\n",
      "[Parallel(n_jobs=-1)]: Done 7922 tasks      | elapsed: 28.0min\n",
      "[Parallel(n_jobs=-1)]: Done 9097 tasks      | elapsed: 32.2min\n",
      "[Parallel(n_jobs=-1)]: Done 10352 tasks      | elapsed: 36.6min\n",
      "[Parallel(n_jobs=-1)]: Done 11689 tasks      | elapsed: 41.4min\n",
      "[Parallel(n_jobs=-1)]: Done 12600 out of 12600 | elapsed: 44.6min finished\n",
      "\n",
      "[2019-11-09 14:41:44] Features: 1/10 -- score: 0.9852941176470589[Parallel(n_jobs=-1)]: Using backend LokyBackend with 8 concurrent workers.\n",
      "[Parallel(n_jobs=-1)]: Done  25 tasks      | elapsed:    5.9s\n",
      "[Parallel(n_jobs=-1)]: Done 146 tasks      | elapsed:   31.4s\n",
      "[Parallel(n_jobs=-1)]: Done 349 tasks      | elapsed:  1.2min\n",
      "[Parallel(n_jobs=-1)]: Done 632 tasks      | elapsed:  2.2min\n",
      "[Parallel(n_jobs=-1)]: Done 997 tasks      | elapsed:  3.5min\n",
      "[Parallel(n_jobs=-1)]: Done 1442 tasks      | elapsed:  5.1min\n",
      "[Parallel(n_jobs=-1)]: Done 1969 tasks      | elapsed:  7.0min\n",
      "[Parallel(n_jobs=-1)]: Done 2576 tasks      | elapsed:  9.1min\n",
      "[Parallel(n_jobs=-1)]: Done 3265 tasks      | elapsed: 11.6min\n",
      "[Parallel(n_jobs=-1)]: Done 4034 tasks      | elapsed: 14.3min\n",
      "[Parallel(n_jobs=-1)]: Done 4885 tasks      | elapsed: 17.3min\n",
      "[Parallel(n_jobs=-1)]: Done 5816 tasks      | elapsed: 20.6min\n",
      "[Parallel(n_jobs=-1)]: Done 6829 tasks      | elapsed: 24.2min\n",
      "[Parallel(n_jobs=-1)]: Done 7922 tasks      | elapsed: 28.1min\n",
      "[Parallel(n_jobs=-1)]: Done 9097 tasks      | elapsed: 32.2min\n",
      "[Parallel(n_jobs=-1)]: Done 10352 tasks      | elapsed: 36.7min\n",
      "[Parallel(n_jobs=-1)]: Done 11689 tasks      | elapsed: 41.4min\n",
      "[Parallel(n_jobs=-1)]: Done 12599 out of 12599 | elapsed: 44.7min finished\n",
      "\n",
      "[2019-11-09 15:26:24] Features: 2/10 -- score: 1.0[Parallel(n_jobs=-1)]: Using backend LokyBackend with 8 concurrent workers.\n",
      "[Parallel(n_jobs=-1)]: Done  25 tasks      | elapsed:    5.9s\n",
      "[Parallel(n_jobs=-1)]: Done 146 tasks      | elapsed:   31.5s\n",
      "[Parallel(n_jobs=-1)]: Done 349 tasks      | elapsed:  1.2min\n",
      "[Parallel(n_jobs=-1)]: Done 632 tasks      | elapsed:  2.2min\n",
      "[Parallel(n_jobs=-1)]: Done 997 tasks      | elapsed:  3.5min\n",
      "[Parallel(n_jobs=-1)]: Done 1442 tasks      | elapsed:  5.1min\n",
      "[Parallel(n_jobs=-1)]: Done 1969 tasks      | elapsed:  7.0min\n",
      "[Parallel(n_jobs=-1)]: Done 2576 tasks      | elapsed:  9.1min\n",
      "[Parallel(n_jobs=-1)]: Done 3265 tasks      | elapsed: 11.6min\n",
      "[Parallel(n_jobs=-1)]: Done 4034 tasks      | elapsed: 14.3min\n",
      "[Parallel(n_jobs=-1)]: Done 4885 tasks      | elapsed: 17.3min\n",
      "[Parallel(n_jobs=-1)]: Done 5816 tasks      | elapsed: 20.6min\n",
      "[Parallel(n_jobs=-1)]: Done 6829 tasks      | elapsed: 24.2min\n",
      "[Parallel(n_jobs=-1)]: Done 7922 tasks      | elapsed: 28.1min\n",
      "[Parallel(n_jobs=-1)]: Done 9097 tasks      | elapsed: 32.3min\n",
      "[Parallel(n_jobs=-1)]: Done 10352 tasks      | elapsed: 36.7min\n",
      "[Parallel(n_jobs=-1)]: Done 11689 tasks      | elapsed: 41.5min\n",
      "[Parallel(n_jobs=-1)]: Done 12598 out of 12598 | elapsed: 44.7min finished\n",
      "\n",
      "[2019-11-09 16:11:07] Features: 3/10 -- score: 1.0[Parallel(n_jobs=-1)]: Using backend LokyBackend with 8 concurrent workers.\n",
      "[Parallel(n_jobs=-1)]: Done  25 tasks      | elapsed:    5.9s\n",
      "[Parallel(n_jobs=-1)]: Done 146 tasks      | elapsed:   31.8s\n",
      "[Parallel(n_jobs=-1)]: Done 349 tasks      | elapsed:  1.2min\n",
      "[Parallel(n_jobs=-1)]: Done 632 tasks      | elapsed:  2.2min\n",
      "[Parallel(n_jobs=-1)]: Done 997 tasks      | elapsed:  3.5min\n",
      "[Parallel(n_jobs=-1)]: Done 1442 tasks      | elapsed:  5.1min\n",
      "[Parallel(n_jobs=-1)]: Done 1969 tasks      | elapsed:  7.0min\n",
      "[Parallel(n_jobs=-1)]: Done 2576 tasks      | elapsed:  9.1min\n",
      "[Parallel(n_jobs=-1)]: Done 3265 tasks      | elapsed: 11.6min\n",
      "[Parallel(n_jobs=-1)]: Done 4034 tasks      | elapsed: 14.3min\n",
      "[Parallel(n_jobs=-1)]: Done 4885 tasks      | elapsed: 17.3min\n",
      "[Parallel(n_jobs=-1)]: Done 5816 tasks      | elapsed: 20.6min\n",
      "[Parallel(n_jobs=-1)]: Done 6829 tasks      | elapsed: 24.2min\n",
      "[Parallel(n_jobs=-1)]: Done 7922 tasks      | elapsed: 28.1min\n",
      "[Parallel(n_jobs=-1)]: Done 9097 tasks      | elapsed: 32.2min\n",
      "[Parallel(n_jobs=-1)]: Done 10352 tasks      | elapsed: 36.7min\n",
      "[Parallel(n_jobs=-1)]: Done 11689 tasks      | elapsed: 41.4min\n",
      "[Parallel(n_jobs=-1)]: Done 12597 out of 12597 | elapsed: 44.7min finished\n",
      "\n",
      "[2019-11-09 16:55:47] Features: 4/10 -- score: 1.0[Parallel(n_jobs=-1)]: Using backend LokyBackend with 8 concurrent workers.\n",
      "[Parallel(n_jobs=-1)]: Done  25 tasks      | elapsed:    6.1s\n",
      "[Parallel(n_jobs=-1)]: Done 146 tasks      | elapsed:   31.7s\n",
      "[Parallel(n_jobs=-1)]: Done 349 tasks      | elapsed:  1.2min\n",
      "[Parallel(n_jobs=-1)]: Done 632 tasks      | elapsed:  2.2min\n",
      "[Parallel(n_jobs=-1)]: Done 997 tasks      | elapsed:  3.5min\n",
      "[Parallel(n_jobs=-1)]: Done 1442 tasks      | elapsed:  5.1min\n",
      "[Parallel(n_jobs=-1)]: Done 1969 tasks      | elapsed:  7.0min\n",
      "[Parallel(n_jobs=-1)]: Done 2576 tasks      | elapsed:  9.2min\n",
      "[Parallel(n_jobs=-1)]: Done 3265 tasks      | elapsed: 11.6min\n",
      "[Parallel(n_jobs=-1)]: Done 4034 tasks      | elapsed: 14.3min\n",
      "[Parallel(n_jobs=-1)]: Done 4885 tasks      | elapsed: 17.3min\n",
      "[Parallel(n_jobs=-1)]: Done 5816 tasks      | elapsed: 20.6min\n",
      "[Parallel(n_jobs=-1)]: Done 6829 tasks      | elapsed: 24.2min\n",
      "[Parallel(n_jobs=-1)]: Done 7922 tasks      | elapsed: 28.1min\n",
      "[Parallel(n_jobs=-1)]: Done 9097 tasks      | elapsed: 32.3min\n",
      "[Parallel(n_jobs=-1)]: Done 10352 tasks      | elapsed: 36.7min\n",
      "[Parallel(n_jobs=-1)]: Done 11689 tasks      | elapsed: 41.5min\n",
      "[Parallel(n_jobs=-1)]: Done 12596 out of 12596 | elapsed: 44.7min finished\n",
      "\n",
      "[2019-11-09 17:40:31] Features: 5/10 -- score: 1.0[Parallel(n_jobs=-1)]: Using backend LokyBackend with 8 concurrent workers.\n",
      "[Parallel(n_jobs=-1)]: Done  25 tasks      | elapsed:    5.9s\n",
      "[Parallel(n_jobs=-1)]: Done 146 tasks      | elapsed:   31.9s\n",
      "[Parallel(n_jobs=-1)]: Done 349 tasks      | elapsed:  1.3min\n",
      "[Parallel(n_jobs=-1)]: Done 632 tasks      | elapsed:  2.2min\n",
      "[Parallel(n_jobs=-1)]: Done 997 tasks      | elapsed:  3.5min\n",
      "[Parallel(n_jobs=-1)]: Done 1442 tasks      | elapsed:  5.1min\n",
      "[Parallel(n_jobs=-1)]: Done 1969 tasks      | elapsed:  7.0min\n",
      "[Parallel(n_jobs=-1)]: Done 2576 tasks      | elapsed:  9.1min\n",
      "[Parallel(n_jobs=-1)]: Done 3265 tasks      | elapsed: 11.6min\n",
      "[Parallel(n_jobs=-1)]: Done 4034 tasks      | elapsed: 14.3min\n",
      "[Parallel(n_jobs=-1)]: Done 4885 tasks      | elapsed: 17.3min\n",
      "[Parallel(n_jobs=-1)]: Done 5816 tasks      | elapsed: 20.6min\n",
      "[Parallel(n_jobs=-1)]: Done 6829 tasks      | elapsed: 24.3min\n",
      "[Parallel(n_jobs=-1)]: Done 7922 tasks      | elapsed: 28.1min\n",
      "[Parallel(n_jobs=-1)]: Done 9097 tasks      | elapsed: 32.3min\n",
      "[Parallel(n_jobs=-1)]: Done 10352 tasks      | elapsed: 36.8min\n",
      "[Parallel(n_jobs=-1)]: Done 11689 tasks      | elapsed: 41.5min\n",
      "[Parallel(n_jobs=-1)]: Done 12595 out of 12595 | elapsed: 44.8min finished\n",
      "\n",
      "[2019-11-09 18:25:18] Features: 6/10 -- score: 1.0[Parallel(n_jobs=-1)]: Using backend LokyBackend with 8 concurrent workers.\n",
      "[Parallel(n_jobs=-1)]: Done  25 tasks      | elapsed:    5.8s\n",
      "[Parallel(n_jobs=-1)]: Done 146 tasks      | elapsed:   32.1s\n",
      "[Parallel(n_jobs=-1)]: Done 349 tasks      | elapsed:  1.3min\n",
      "[Parallel(n_jobs=-1)]: Done 632 tasks      | elapsed:  2.3min\n",
      "[Parallel(n_jobs=-1)]: Done 997 tasks      | elapsed:  3.6min\n",
      "[Parallel(n_jobs=-1)]: Done 1442 tasks      | elapsed:  5.1min\n",
      "[Parallel(n_jobs=-1)]: Done 1969 tasks      | elapsed:  7.0min\n",
      "[Parallel(n_jobs=-1)]: Done 2576 tasks      | elapsed:  9.2min\n"
     ]
    },
    {
     "name": "stderr",
     "output_type": "stream",
     "text": [
      "[Parallel(n_jobs=-1)]: Done 3265 tasks      | elapsed: 11.6min\n",
      "[Parallel(n_jobs=-1)]: Done 4034 tasks      | elapsed: 14.4min\n",
      "[Parallel(n_jobs=-1)]: Done 4885 tasks      | elapsed: 17.4min\n",
      "[Parallel(n_jobs=-1)]: Done 5816 tasks      | elapsed: 20.7min\n",
      "[Parallel(n_jobs=-1)]: Done 6829 tasks      | elapsed: 24.3min\n",
      "[Parallel(n_jobs=-1)]: Done 7922 tasks      | elapsed: 28.2min\n",
      "[Parallel(n_jobs=-1)]: Done 9097 tasks      | elapsed: 32.4min\n",
      "[Parallel(n_jobs=-1)]: Done 10352 tasks      | elapsed: 36.8min\n",
      "[Parallel(n_jobs=-1)]: Done 11689 tasks      | elapsed: 41.6min\n",
      "[Parallel(n_jobs=-1)]: Done 12594 out of 12594 | elapsed: 44.8min finished\n",
      "\n",
      "[2019-11-09 19:10:07] Features: 7/10 -- score: 1.0[Parallel(n_jobs=-1)]: Using backend LokyBackend with 8 concurrent workers.\n",
      "[Parallel(n_jobs=-1)]: Done  25 tasks      | elapsed:    6.0s\n",
      "[Parallel(n_jobs=-1)]: Done 146 tasks      | elapsed:   31.9s\n",
      "[Parallel(n_jobs=-1)]: Done 349 tasks      | elapsed:  1.2min\n",
      "[Parallel(n_jobs=-1)]: Done 632 tasks      | elapsed:  2.3min\n",
      "[Parallel(n_jobs=-1)]: Done 997 tasks      | elapsed:  3.5min\n",
      "[Parallel(n_jobs=-1)]: Done 1442 tasks      | elapsed:  5.1min\n",
      "[Parallel(n_jobs=-1)]: Done 1969 tasks      | elapsed:  7.0min\n",
      "[Parallel(n_jobs=-1)]: Done 2576 tasks      | elapsed:  9.2min\n",
      "[Parallel(n_jobs=-1)]: Done 3265 tasks      | elapsed: 11.6min\n",
      "[Parallel(n_jobs=-1)]: Done 4034 tasks      | elapsed: 14.3min\n",
      "[Parallel(n_jobs=-1)]: Done 4885 tasks      | elapsed: 17.4min\n",
      "[Parallel(n_jobs=-1)]: Done 5816 tasks      | elapsed: 20.7min\n",
      "[Parallel(n_jobs=-1)]: Done 6829 tasks      | elapsed: 24.3min\n",
      "[Parallel(n_jobs=-1)]: Done 7922 tasks      | elapsed: 28.2min\n",
      "[Parallel(n_jobs=-1)]: Done 9097 tasks      | elapsed: 32.4min\n",
      "[Parallel(n_jobs=-1)]: Done 10352 tasks      | elapsed: 36.9min\n",
      "[Parallel(n_jobs=-1)]: Done 11689 tasks      | elapsed: 41.6min\n",
      "[Parallel(n_jobs=-1)]: Done 12593 out of 12593 | elapsed: 44.8min finished\n",
      "\n",
      "[2019-11-09 19:54:58] Features: 8/10 -- score: 1.0[Parallel(n_jobs=-1)]: Using backend LokyBackend with 8 concurrent workers.\n",
      "[Parallel(n_jobs=-1)]: Done  25 tasks      | elapsed:    5.9s\n",
      "[Parallel(n_jobs=-1)]: Done 146 tasks      | elapsed:   31.7s\n",
      "[Parallel(n_jobs=-1)]: Done 349 tasks      | elapsed:  1.2min\n",
      "[Parallel(n_jobs=-1)]: Done 632 tasks      | elapsed:  2.3min\n",
      "[Parallel(n_jobs=-1)]: Done 997 tasks      | elapsed:  3.6min\n",
      "[Parallel(n_jobs=-1)]: Done 1442 tasks      | elapsed:  5.1min\n",
      "[Parallel(n_jobs=-1)]: Done 1969 tasks      | elapsed:  7.0min\n",
      "[Parallel(n_jobs=-1)]: Done 2576 tasks      | elapsed:  9.2min\n",
      "[Parallel(n_jobs=-1)]: Done 3265 tasks      | elapsed: 11.6min\n",
      "[Parallel(n_jobs=-1)]: Done 4034 tasks      | elapsed: 14.3min\n",
      "[Parallel(n_jobs=-1)]: Done 4885 tasks      | elapsed: 17.4min\n",
      "[Parallel(n_jobs=-1)]: Done 5816 tasks      | elapsed: 20.7min\n",
      "[Parallel(n_jobs=-1)]: Done 6829 tasks      | elapsed: 24.3min\n",
      "[Parallel(n_jobs=-1)]: Done 7922 tasks      | elapsed: 28.2min\n",
      "[Parallel(n_jobs=-1)]: Done 9097 tasks      | elapsed: 32.3min\n",
      "[Parallel(n_jobs=-1)]: Done 10352 tasks      | elapsed: 36.8min\n",
      "[Parallel(n_jobs=-1)]: Done 11689 tasks      | elapsed: 41.5min\n",
      "[Parallel(n_jobs=-1)]: Done 12592 out of 12592 | elapsed: 44.7min finished\n",
      "\n",
      "[2019-11-09 20:39:43] Features: 9/10 -- score: 1.0[Parallel(n_jobs=-1)]: Using backend LokyBackend with 8 concurrent workers.\n",
      "[Parallel(n_jobs=-1)]: Done  25 tasks      | elapsed:    6.0s\n",
      "[Parallel(n_jobs=-1)]: Done 146 tasks      | elapsed:   31.9s\n",
      "[Parallel(n_jobs=-1)]: Done 349 tasks      | elapsed:  1.2min\n",
      "[Parallel(n_jobs=-1)]: Done 632 tasks      | elapsed:  2.2min\n",
      "[Parallel(n_jobs=-1)]: Done 997 tasks      | elapsed:  3.5min\n",
      "[Parallel(n_jobs=-1)]: Done 1442 tasks      | elapsed:  5.1min\n",
      "[Parallel(n_jobs=-1)]: Done 1969 tasks      | elapsed:  7.0min\n",
      "[Parallel(n_jobs=-1)]: Done 2576 tasks      | elapsed:  9.2min\n",
      "[Parallel(n_jobs=-1)]: Done 3265 tasks      | elapsed: 11.6min\n",
      "[Parallel(n_jobs=-1)]: Done 4034 tasks      | elapsed: 14.4min\n",
      "[Parallel(n_jobs=-1)]: Done 4885 tasks      | elapsed: 17.4min\n",
      "[Parallel(n_jobs=-1)]: Done 5816 tasks      | elapsed: 20.7min\n",
      "[Parallel(n_jobs=-1)]: Done 6829 tasks      | elapsed: 24.3min\n",
      "[Parallel(n_jobs=-1)]: Done 7922 tasks      | elapsed: 28.2min\n",
      "[Parallel(n_jobs=-1)]: Done 9097 tasks      | elapsed: 32.4min\n",
      "[Parallel(n_jobs=-1)]: Done 10352 tasks      | elapsed: 36.8min\n",
      "[Parallel(n_jobs=-1)]: Done 11689 tasks      | elapsed: 41.6min\n",
      "[Parallel(n_jobs=-1)]: Done 12591 out of 12591 | elapsed: 44.8min finished\n"
     ]
    },
    {
     "name": "stdout",
     "output_type": "stream",
     "text": [
      "CPU times: user 7h 24min 40s, sys: 2min 28s, total: 7h 27min 9s\n",
      "Wall time: 7h 27min 25s\n"
     ]
    },
    {
     "name": "stderr",
     "output_type": "stream",
     "text": [
      "\n",
      "[2019-11-09 21:24:32] Features: 10/10 -- score: 1.0"
     ]
    }
   ],
   "source": [
    "%%time\n",
    "sfs1 = sfs1.fit(X_train, y_train)"
   ]
  },
  {
   "cell_type": "code",
   "execution_count": 119,
   "metadata": {},
   "outputs": [
    {
     "name": "stdout",
     "output_type": "stream",
     "text": [
      "[0, 1, 2, 3, 4, 5, 6, 9, 22, 204]\n"
     ]
    }
   ],
   "source": [
    "# Mostrar variables seleccionadas\n",
    "\n",
    "feat_cols = list(sfs1.k_feature_idx_)\n",
    "print(feat_cols)"
   ]
  },
  {
   "cell_type": "code",
   "execution_count": 120,
   "metadata": {},
   "outputs": [
    {
     "data": {
      "text/plain": [
       "1.0"
      ]
     },
     "execution_count": 120,
     "metadata": {},
     "output_type": "execute_result"
    }
   ],
   "source": [
    "sfs1.k_score_"
   ]
  },
  {
   "cell_type": "markdown",
   "metadata": {},
   "source": [
    "### Entrenar modelo con variables seleccionadas en conjunto de entrenamiento"
   ]
  },
  {
   "cell_type": "code",
   "execution_count": 121,
   "metadata": {},
   "outputs": [
    {
     "name": "stdout",
     "output_type": "stream",
     "text": [
      "CPU times: user 1.52 ms, sys: 0 ns, total: 1.52 ms\n",
      "Wall time: 1.3 ms\n"
     ]
    }
   ],
   "source": [
    "%%time\n",
    "clf_svc_sfs = clf_svc.fit(X_train[:, feat_cols], y_train)"
   ]
  },
  {
   "cell_type": "code",
   "execution_count": 122,
   "metadata": {},
   "outputs": [
    {
     "name": "stdout",
     "output_type": "stream",
     "text": [
      "CPU times: user 473 ms, sys: 88.7 ms, total: 562 ms\n",
      "Wall time: 463 ms\n"
     ]
    }
   ],
   "source": [
    "%%time\n",
    "clf_rf_sfs = clf_rf.fit(X_train[:, feat_cols], y_train)"
   ]
  },
  {
   "cell_type": "code",
   "execution_count": 123,
   "metadata": {},
   "outputs": [
    {
     "name": "stdout",
     "output_type": "stream",
     "text": [
      "CPU times: user 4.11 ms, sys: 45 µs, total: 4.16 ms\n",
      "Wall time: 2.86 ms\n"
     ]
    }
   ],
   "source": [
    "%%time\n",
    "clf_nb_sfs = clf_nb.fit(X_train[:, feat_cols], y_train)"
   ]
  },
  {
   "cell_type": "code",
   "execution_count": 124,
   "metadata": {},
   "outputs": [],
   "source": [
    "y_sfs_predict_svc = clf_svc_sfs.predict(X_test[:, feat_cols])\n",
    "y_sfs_predict_nb = clf_nb_sfs.predict(X_test[:, feat_cols])\n",
    "y_sfs_predict_rf = clf_rf_sfs.predict(X_test[:, feat_cols])"
   ]
  },
  {
   "cell_type": "code",
   "execution_count": 125,
   "metadata": {},
   "outputs": [
    {
     "name": "stdout",
     "output_type": "stream",
     "text": [
      "Accuracy SVC: 0.6764705882352942\n",
      "Accuracy NB: 0.5882352941176471\n",
      "Accuracy RF: 0.7941176470588235\n"
     ]
    }
   ],
   "source": [
    "# Exactitud\n",
    "\n",
    "print(\"Accuracy SVC:\",metrics.accuracy_score(y_test, y_sfs_predict_svc))\n",
    "print(\"Accuracy NB:\",metrics.accuracy_score(y_test, y_sfs_predict_nb))\n",
    "print(\"Accuracy RF:\",metrics.accuracy_score(y_test, y_sfs_predict_rf))"
   ]
  },
  {
   "cell_type": "code",
   "execution_count": 126,
   "metadata": {},
   "outputs": [
    {
     "name": "stdout",
     "output_type": "stream",
     "text": [
      "ROC-AUC SFS SVC: 0.8477508650519031\n",
      "ROC-AUC SFS NB: 0.7370242214532873\n",
      "ROC-AUC SFS RF: 0.8373702422145328\n"
     ]
    }
   ],
   "source": [
    "# Puntuacion ROC-AUC \n",
    "print(\"ROC-AUC SFS SVC:\",metrics.roc_auc_score(y_test,clf_svc_sfs.predict_proba(X_test[:, feat_cols])[:,1]))\n",
    "print(\"ROC-AUC SFS NB:\",metrics.roc_auc_score(y_test,clf_nb_sfs.predict_proba(X_test[:, feat_cols])[:,1]))\n",
    "print(\"ROC-AUC SFS RF:\",metrics.roc_auc_score(y_test,clf_rf_sfs.predict_proba(X_test[:, feat_cols])[:,1]))"
   ]
  },
  {
   "cell_type": "code",
   "execution_count": 127,
   "metadata": {},
   "outputs": [
    {
     "name": "stdout",
     "output_type": "stream",
     "text": [
      "              precision    recall  f1-score   support\n",
      "\n",
      "           0       0.88      0.41      0.56        17\n",
      "           1       0.62      0.94      0.74        17\n",
      "\n",
      "    accuracy                           0.68        34\n",
      "   macro avg       0.75      0.68      0.65        34\n",
      "weighted avg       0.75      0.68      0.65        34\n",
      "\n",
      "              precision    recall  f1-score   support\n",
      "\n",
      "           0       0.67      0.35      0.46        17\n",
      "           1       0.56      0.82      0.67        17\n",
      "\n",
      "    accuracy                           0.59        34\n",
      "   macro avg       0.61      0.59      0.56        34\n",
      "weighted avg       0.61      0.59      0.56        34\n",
      "\n",
      "              precision    recall  f1-score   support\n",
      "\n",
      "           0       0.92      0.65      0.76        17\n",
      "           1       0.73      0.94      0.82        17\n",
      "\n",
      "    accuracy                           0.79        34\n",
      "   macro avg       0.82      0.79      0.79        34\n",
      "weighted avg       0.82      0.79      0.79        34\n",
      "\n"
     ]
    }
   ],
   "source": [
    "# Metricas\n",
    "\n",
    "print(metrics.classification_report(y_test,y_sfs_predict_svc))\n",
    "print(metrics.classification_report(y_test,y_sfs_predict_nb))\n",
    "print(metrics.classification_report(y_test,y_sfs_predict_rf))"
   ]
  },
  {
   "cell_type": "markdown",
   "metadata": {},
   "source": [
    "## SELECCIONAR VARIABLES USANDO ARBOLES DE DECISION"
   ]
  },
  {
   "cell_type": "code",
   "execution_count": 128,
   "metadata": {},
   "outputs": [
    {
     "name": "stdout",
     "output_type": "stream",
     "text": [
      "CPU times: user 999 ms, sys: 117 ms, total: 1.12 s\n",
      "Wall time: 457 ms\n"
     ]
    },
    {
     "data": {
      "text/plain": [
       "SelectFromModel(estimator=RandomForestClassifier(bootstrap=True,\n",
       "                                                 class_weight='balanced',\n",
       "                                                 criterion='gini', max_depth=5,\n",
       "                                                 max_features='auto',\n",
       "                                                 max_leaf_nodes=None,\n",
       "                                                 min_impurity_decrease=0.0,\n",
       "                                                 min_impurity_split=None,\n",
       "                                                 min_samples_leaf=1,\n",
       "                                                 min_samples_split=2,\n",
       "                                                 min_weight_fraction_leaf=0.0,\n",
       "                                                 n_estimators=578, n_jobs=-1,\n",
       "                                                 oob_score=False,\n",
       "                                                 random_state=<mtrand.RandomState object at 0x7f956a587b88>,\n",
       "                                                 verbose=0, warm_start=False),\n",
       "                max_features=10, norm_order=1, prefit=False, threshold=-inf)"
      ]
     },
     "execution_count": 128,
     "metadata": {},
     "output_type": "execute_result"
    }
   ],
   "source": [
    "%%time\n",
    "\n",
    "sfm = SelectFromModel(clf_rf, max_features=10, threshold=-np.inf)\n",
    "sfm.fit(X_train, y_train)"
   ]
  },
  {
   "cell_type": "code",
   "execution_count": 129,
   "metadata": {},
   "outputs": [],
   "source": [
    "# Imprimir variables importantes\n",
    "\n",
    "l=[]\n",
    "for feature_list_index in sfm.get_support(indices=True):\n",
    "    feat = (feature_labels[feature_list_index])\n",
    "    l.append(feat)"
   ]
  },
  {
   "cell_type": "code",
   "execution_count": 130,
   "metadata": {},
   "outputs": [
    {
     "data": {
      "text/plain": [
       "['x.V306',\n",
       " 'x.V329',\n",
       " 'x.V5890',\n",
       " 'x.V6185',\n",
       " 'x.V7520',\n",
       " 'x.V8850',\n",
       " 'x.V9034',\n",
       " 'x.V9172',\n",
       " 'x.V10494',\n",
       " 'x.V12148']"
      ]
     },
     "execution_count": 130,
     "metadata": {},
     "output_type": "execute_result"
    }
   ],
   "source": [
    "l"
   ]
  },
  {
   "cell_type": "code",
   "execution_count": 131,
   "metadata": {},
   "outputs": [],
   "source": [
    "\n",
    "sel_rf_train = sfm.transform(X_train)\n",
    "sel_rf_test = sfm.transform(X_test)"
   ]
  },
  {
   "cell_type": "code",
   "execution_count": 132,
   "metadata": {},
   "outputs": [
    {
     "name": "stdout",
     "output_type": "stream",
     "text": [
      "(68, 10)\n"
     ]
    },
    {
     "data": {
      "text/plain": [
       "(34, 10)"
      ]
     },
     "execution_count": 132,
     "metadata": {},
     "output_type": "execute_result"
    }
   ],
   "source": [
    "print(sel_rf_train.shape)\n",
    "sel_rf_test.shape"
   ]
  },
  {
   "cell_type": "markdown",
   "metadata": {},
   "source": [
    "### Entrenar modelo con variables seleccionadas en conjunto de entrenamiento"
   ]
  },
  {
   "cell_type": "code",
   "execution_count": 133,
   "metadata": {},
   "outputs": [
    {
     "name": "stdout",
     "output_type": "stream",
     "text": [
      "CPU times: user 1.26 ms, sys: 14 µs, total: 1.27 ms\n",
      "Wall time: 1.01 ms\n"
     ]
    }
   ],
   "source": [
    "%%time\n",
    "clf_svc_rf = clf_svc.fit(sel_rf_train, y_train)"
   ]
  },
  {
   "cell_type": "code",
   "execution_count": 134,
   "metadata": {},
   "outputs": [
    {
     "name": "stdout",
     "output_type": "stream",
     "text": [
      "CPU times: user 1.07 ms, sys: 12 µs, total: 1.08 ms\n",
      "Wall time: 823 µs\n"
     ]
    }
   ],
   "source": [
    "%%time\n",
    "clf_nb_rf = clf_nb.fit(sel_rf_train, y_train)"
   ]
  },
  {
   "cell_type": "code",
   "execution_count": 135,
   "metadata": {},
   "outputs": [
    {
     "name": "stdout",
     "output_type": "stream",
     "text": [
      "CPU times: user 518 ms, sys: 68.9 ms, total: 587 ms\n",
      "Wall time: 456 ms\n"
     ]
    }
   ],
   "source": [
    "%%time\n",
    "clf_rf_rf = clf_rf.fit(sel_rf_train, y_train)"
   ]
  },
  {
   "cell_type": "code",
   "execution_count": 136,
   "metadata": {},
   "outputs": [],
   "source": [
    "y_rf_predict_svc = clf_svc_rf.predict(sel_rf_test)\n",
    "y_rf_predict_nb = clf_nb_rf.predict(sel_rf_test)\n",
    "y_rf_predict_rf = clf_rf_rf.predict(sel_rf_test)"
   ]
  },
  {
   "cell_type": "code",
   "execution_count": 137,
   "metadata": {
    "scrolled": true
   },
   "outputs": [
    {
     "name": "stdout",
     "output_type": "stream",
     "text": [
      "Accuracy DT SVC: 0.8823529411764706\n",
      "Accuracy DT NB: 0.9117647058823529\n",
      "Accuracy DT RF: 0.9117647058823529\n"
     ]
    }
   ],
   "source": [
    "# Exactitud\n",
    "\n",
    "print(\"Accuracy DT SVC:\",metrics.accuracy_score(y_test, y_rf_predict_svc))\n",
    "print(\"Accuracy DT NB:\",metrics.accuracy_score(y_test, y_rf_predict_nb))\n",
    "print(\"Accuracy DT RF:\",metrics.accuracy_score(y_test, y_rf_predict_rf))"
   ]
  },
  {
   "cell_type": "code",
   "execution_count": 138,
   "metadata": {},
   "outputs": [
    {
     "name": "stdout",
     "output_type": "stream",
     "text": [
      "ROC-AUC RF SVC: 0.9204152249134948\n",
      "ROC-AUC RF NB: 0.9515570934256055\n",
      "ROC-AUC RF RF: 0.9584775086505191\n"
     ]
    }
   ],
   "source": [
    "# Puntuacion ROC-AUC \n",
    "print(\"ROC-AUC RF SVC:\",metrics.roc_auc_score(y_test,clf_svc_rf.predict_proba(sel_rf_test)[:,1]))\n",
    "print(\"ROC-AUC RF NB:\",metrics.roc_auc_score(y_test,clf_nb_rf.predict_proba(sel_rf_test)[:,1]))\n",
    "print(\"ROC-AUC RF RF:\",metrics.roc_auc_score(y_test,clf_rf_rf.predict_proba(sel_rf_test)[:,1]))"
   ]
  },
  {
   "cell_type": "code",
   "execution_count": 139,
   "metadata": {},
   "outputs": [
    {
     "name": "stdout",
     "output_type": "stream",
     "text": [
      "              precision    recall  f1-score   support\n",
      "\n",
      "           0       0.84      0.94      0.89        17\n",
      "           1       0.93      0.82      0.87        17\n",
      "\n",
      "    accuracy                           0.88        34\n",
      "   macro avg       0.89      0.88      0.88        34\n",
      "weighted avg       0.89      0.88      0.88        34\n",
      "\n",
      "              precision    recall  f1-score   support\n",
      "\n",
      "           0       0.89      0.94      0.91        17\n",
      "           1       0.94      0.88      0.91        17\n",
      "\n",
      "    accuracy                           0.91        34\n",
      "   macro avg       0.91      0.91      0.91        34\n",
      "weighted avg       0.91      0.91      0.91        34\n",
      "\n",
      "              precision    recall  f1-score   support\n",
      "\n",
      "           0       0.89      0.94      0.91        17\n",
      "           1       0.94      0.88      0.91        17\n",
      "\n",
      "    accuracy                           0.91        34\n",
      "   macro avg       0.91      0.91      0.91        34\n",
      "weighted avg       0.91      0.91      0.91        34\n",
      "\n"
     ]
    }
   ],
   "source": [
    "# Metricas\n",
    "\n",
    "print(metrics.classification_report(y_test,y_rf_predict_svc))\n",
    "print(metrics.classification_report(y_test,y_rf_predict_nb))\n",
    "print(metrics.classification_report(y_test,y_rf_predict_rf))\n"
   ]
  },
  {
   "cell_type": "markdown",
   "metadata": {},
   "source": [
    "## SELECCIONAR VARIABLES USANDO LOGISTIC REGRESSION Y L1"
   ]
  },
  {
   "cell_type": "code",
   "execution_count": 140,
   "metadata": {},
   "outputs": [
    {
     "name": "stdout",
     "output_type": "stream",
     "text": [
      "CPU times: user 26 µs, sys: 1e+03 ns, total: 27 µs\n",
      "Wall time: 29.8 µs\n"
     ]
    }
   ],
   "source": [
    "%%time\n",
    "\n",
    "sfm = SelectFromModel(LogisticRegression(penalty='l1', solver='liblinear', random_state=SEED), max_features=10, threshold=-np.inf)\n"
   ]
  },
  {
   "cell_type": "code",
   "execution_count": 141,
   "metadata": {},
   "outputs": [
    {
     "data": {
      "text/plain": [
       "SelectFromModel(estimator=LogisticRegression(C=1.0, class_weight=None,\n",
       "                                             dual=False, fit_intercept=True,\n",
       "                                             intercept_scaling=1, l1_ratio=None,\n",
       "                                             max_iter=100, multi_class='warn',\n",
       "                                             n_jobs=None, penalty='l1',\n",
       "                                             random_state=50,\n",
       "                                             solver='liblinear', tol=0.0001,\n",
       "                                             verbose=0, warm_start=False),\n",
       "                max_features=10, norm_order=1, prefit=False, threshold=-inf)"
      ]
     },
     "execution_count": 141,
     "metadata": {},
     "output_type": "execute_result"
    }
   ],
   "source": [
    "sfm.fit(X_train, y_train)"
   ]
  },
  {
   "cell_type": "code",
   "execution_count": 142,
   "metadata": {},
   "outputs": [],
   "source": [
    "# Imprimir variables importantes\n",
    "\n",
    "l=[]\n",
    "for feature_list_index in sfm.get_support(indices=True):\n",
    "    feat = (feature_labels[feature_list_index])\n",
    "    l.append(feat)"
   ]
  },
  {
   "cell_type": "code",
   "execution_count": 143,
   "metadata": {},
   "outputs": [
    {
     "data": {
      "text/plain": [
       "['x.V288',\n",
       " 'x.V5890',\n",
       " 'x.V6185',\n",
       " 'x.V6866',\n",
       " 'x.V7623',\n",
       " 'x.V10215',\n",
       " 'x.V10553',\n",
       " 'x.V10875',\n",
       " 'x.V10956',\n",
       " 'x.V11858']"
      ]
     },
     "execution_count": 143,
     "metadata": {},
     "output_type": "execute_result"
    }
   ],
   "source": [
    "l"
   ]
  },
  {
   "cell_type": "code",
   "execution_count": 144,
   "metadata": {},
   "outputs": [],
   "source": [
    "\n",
    "sel_l1_train = sfm.transform(X_train)\n",
    "sel_l1_test = sfm.transform(X_test)"
   ]
  },
  {
   "cell_type": "code",
   "execution_count": 145,
   "metadata": {},
   "outputs": [
    {
     "name": "stdout",
     "output_type": "stream",
     "text": [
      "(68, 10)\n"
     ]
    },
    {
     "data": {
      "text/plain": [
       "(34, 10)"
      ]
     },
     "execution_count": 145,
     "metadata": {},
     "output_type": "execute_result"
    }
   ],
   "source": [
    "print(sel_l1_train.shape)\n",
    "sel_l1_test.shape"
   ]
  },
  {
   "cell_type": "markdown",
   "metadata": {},
   "source": [
    "### Entrenar modelo con variables seleccionadas en conjunto de entrenamiento"
   ]
  },
  {
   "cell_type": "code",
   "execution_count": 146,
   "metadata": {},
   "outputs": [
    {
     "name": "stdout",
     "output_type": "stream",
     "text": [
      "CPU times: user 1.33 ms, sys: 15 µs, total: 1.34 ms\n",
      "Wall time: 1.06 ms\n"
     ]
    }
   ],
   "source": [
    "%%time\n",
    "clf_svc_l1 = clf_svc.fit(sel_l1_train, y_train)"
   ]
  },
  {
   "cell_type": "code",
   "execution_count": 147,
   "metadata": {},
   "outputs": [
    {
     "name": "stdout",
     "output_type": "stream",
     "text": [
      "CPU times: user 892 µs, sys: 0 ns, total: 892 µs\n",
      "Wall time: 746 µs\n"
     ]
    }
   ],
   "source": [
    "%%time\n",
    "clf_nb_l1 = clf_nb.fit(sel_l1_train, y_train)"
   ]
  },
  {
   "cell_type": "code",
   "execution_count": 148,
   "metadata": {},
   "outputs": [
    {
     "name": "stdout",
     "output_type": "stream",
     "text": [
      "CPU times: user 526 ms, sys: 80.6 ms, total: 606 ms\n",
      "Wall time: 475 ms\n"
     ]
    }
   ],
   "source": [
    "%%time\n",
    "clf_rf_l1 = clf_rf.fit(sel_l1_train, y_train)"
   ]
  },
  {
   "cell_type": "code",
   "execution_count": 149,
   "metadata": {},
   "outputs": [],
   "source": [
    "y_l1_predict_svc = clf_svc_l1.predict(sel_l1_test)\n",
    "y_l1_predict_nb = clf_nb_l1.predict(sel_l1_test)\n",
    "y_l1_predict_rf = clf_rf_l1.predict(sel_l1_test)"
   ]
  },
  {
   "cell_type": "code",
   "execution_count": 150,
   "metadata": {
    "scrolled": true
   },
   "outputs": [
    {
     "name": "stdout",
     "output_type": "stream",
     "text": [
      "Accuracy L1 SVC: 0.8529411764705882\n",
      "Accuracy L1 NB: 0.8823529411764706\n",
      "Accuracy L1 RF: 0.9117647058823529\n"
     ]
    }
   ],
   "source": [
    "# Exactitud\n",
    "\n",
    "print(\"Accuracy L1 SVC:\",metrics.accuracy_score(y_test, y_l1_predict_svc))\n",
    "print(\"Accuracy L1 NB:\",metrics.accuracy_score(y_test, y_l1_predict_nb))\n",
    "print(\"Accuracy L1 RF:\",metrics.accuracy_score(y_test, y_l1_predict_rf))"
   ]
  },
  {
   "cell_type": "code",
   "execution_count": 151,
   "metadata": {},
   "outputs": [
    {
     "name": "stdout",
     "output_type": "stream",
     "text": [
      "ROC-AUC LR SVC: 0.9446366782006921\n",
      "ROC-AUC LR NB: 0.9550173010380623\n",
      "ROC-AUC LR RF: 0.9359861591695502\n"
     ]
    }
   ],
   "source": [
    "# Puntuacion ROC-AUC \n",
    "print(\"ROC-AUC LR SVC:\",metrics.roc_auc_score(y_test,clf_svc_l1.predict_proba(sel_l1_test)[:,1]))\n",
    "print(\"ROC-AUC LR NB:\",metrics.roc_auc_score(y_test,clf_nb_l1.predict_proba(sel_l1_test)[:,1]))\n",
    "print(\"ROC-AUC LR RF:\",metrics.roc_auc_score(y_test,clf_rf_l1.predict_proba(sel_l1_test)[:,1]))"
   ]
  },
  {
   "cell_type": "code",
   "execution_count": 152,
   "metadata": {},
   "outputs": [
    {
     "name": "stdout",
     "output_type": "stream",
     "text": [
      "              precision    recall  f1-score   support\n",
      "\n",
      "           0       0.88      0.82      0.85        17\n",
      "           1       0.83      0.88      0.86        17\n",
      "\n",
      "    accuracy                           0.85        34\n",
      "   macro avg       0.85      0.85      0.85        34\n",
      "weighted avg       0.85      0.85      0.85        34\n",
      "\n",
      "              precision    recall  f1-score   support\n",
      "\n",
      "           0       0.84      0.94      0.89        17\n",
      "           1       0.93      0.82      0.87        17\n",
      "\n",
      "    accuracy                           0.88        34\n",
      "   macro avg       0.89      0.88      0.88        34\n",
      "weighted avg       0.89      0.88      0.88        34\n",
      "\n",
      "              precision    recall  f1-score   support\n",
      "\n",
      "           0       0.89      0.94      0.91        17\n",
      "           1       0.94      0.88      0.91        17\n",
      "\n",
      "    accuracy                           0.91        34\n",
      "   macro avg       0.91      0.91      0.91        34\n",
      "weighted avg       0.91      0.91      0.91        34\n",
      "\n"
     ]
    }
   ],
   "source": [
    "# Metricas\n",
    "\n",
    "print(metrics.classification_report(y_test,y_l1_predict_svc))\n",
    "print(metrics.classification_report(y_test,y_l1_predict_nb))\n",
    "print(metrics.classification_report(y_test,y_l1_predict_rf))\n"
   ]
  },
  {
   "cell_type": "code",
   "execution_count": 153,
   "metadata": {},
   "outputs": [],
   "source": [
    "dill.dump_session('PROSTATE.db')\n"
   ]
  },
  {
   "cell_type": "code",
   "execution_count": 154,
   "metadata": {},
   "outputs": [],
   "source": [
    "dill.load_session('PROSTATE.db')\n"
   ]
  },
  {
   "cell_type": "code",
   "execution_count": null,
   "metadata": {},
   "outputs": [],
   "source": []
  }
 ],
 "metadata": {
  "kernelspec": {
   "display_name": "Python 3",
   "language": "python",
   "name": "python3"
  },
  "language_info": {
   "codemirror_mode": {
    "name": "ipython",
    "version": 3
   },
   "file_extension": ".py",
   "mimetype": "text/x-python",
   "name": "python",
   "nbconvert_exporter": "python",
   "pygments_lexer": "ipython3",
   "version": "3.7.3"
  }
 },
 "nbformat": 4,
 "nbformat_minor": 2
}

{
 "cells": [
  {
   "cell_type": "code",
   "execution_count": 1,
   "metadata": {},
   "outputs": [],
   "source": [
    "import numpy as np\n",
    "import pandas as pd\n",
    "import matplotlib.pyplot as plt\n",
    "import seaborn as sns\n",
    "import dill\n",
    "\n",
    "from sklearn.svm import SVC\n",
    "from sklearn import preprocessing\n",
    "from sklearn import metrics\n",
    "from sklearn.naive_bayes import GaussianNB\n",
    "from sklearn.ensemble import RandomForestClassifier\n",
    "\n",
    "from sklearn.feature_selection import SelectKBest, f_classif, chi2, SelectFromModel\n",
    "from sklearn import model_selection\n",
    "from sklearn.metrics import classification_report\n",
    "from sklearn.naive_bayes import MultinomialNB\n",
    "from sklearn.pipeline import Pipeline        \n",
    "from sklearn.model_selection import cross_val_score,cross_validate\n",
    "from sklearn.linear_model import LogisticRegression\n",
    "\n",
    "%matplotlib inline\n",
    "SEED=50"
   ]
  },
  {
   "cell_type": "code",
   "execution_count": 2,
   "metadata": {},
   "outputs": [
    {
     "data": {
      "text/html": [
       "<div>\n",
       "<style scoped>\n",
       "    .dataframe tbody tr th:only-of-type {\n",
       "        vertical-align: middle;\n",
       "    }\n",
       "\n",
       "    .dataframe tbody tr th {\n",
       "        vertical-align: top;\n",
       "    }\n",
       "\n",
       "    .dataframe thead th {\n",
       "        text-align: right;\n",
       "    }\n",
       "</style>\n",
       "<table border=\"1\" class=\"dataframe\">\n",
       "  <thead>\n",
       "    <tr style=\"text-align: right;\">\n",
       "      <th></th>\n",
       "      <th>x.V1</th>\n",
       "      <th>x.V2</th>\n",
       "      <th>x.V3</th>\n",
       "      <th>x.V4</th>\n",
       "      <th>x.V5</th>\n",
       "      <th>x.V6</th>\n",
       "      <th>x.V7</th>\n",
       "      <th>x.V8</th>\n",
       "      <th>x.V9</th>\n",
       "      <th>x.V10</th>\n",
       "      <th>...</th>\n",
       "      <th>x.V12592</th>\n",
       "      <th>x.V12593</th>\n",
       "      <th>x.V12594</th>\n",
       "      <th>x.V12595</th>\n",
       "      <th>x.V12596</th>\n",
       "      <th>x.V12597</th>\n",
       "      <th>x.V12598</th>\n",
       "      <th>x.V12599</th>\n",
       "      <th>x.V12600</th>\n",
       "      <th>y</th>\n",
       "    </tr>\n",
       "  </thead>\n",
       "  <tbody>\n",
       "    <tr>\n",
       "      <th>1</th>\n",
       "      <td>-9.0</td>\n",
       "      <td>1.0</td>\n",
       "      <td>1.0</td>\n",
       "      <td>15.0</td>\n",
       "      <td>-2.0</td>\n",
       "      <td>-3.0</td>\n",
       "      <td>4.0</td>\n",
       "      <td>8.0</td>\n",
       "      <td>-12.0</td>\n",
       "      <td>-12.0</td>\n",
       "      <td>...</td>\n",
       "      <td>5.0</td>\n",
       "      <td>3.0</td>\n",
       "      <td>21</td>\n",
       "      <td>15.0</td>\n",
       "      <td>1.0</td>\n",
       "      <td>0</td>\n",
       "      <td>14.0</td>\n",
       "      <td>-23.0</td>\n",
       "      <td>14.0</td>\n",
       "      <td>2</td>\n",
       "    </tr>\n",
       "    <tr>\n",
       "      <th>2</th>\n",
       "      <td>-2.0</td>\n",
       "      <td>1.0</td>\n",
       "      <td>1.0</td>\n",
       "      <td>4.0</td>\n",
       "      <td>-2.0</td>\n",
       "      <td>-5.0</td>\n",
       "      <td>0.0</td>\n",
       "      <td>8.0</td>\n",
       "      <td>-5.0</td>\n",
       "      <td>-9.0</td>\n",
       "      <td>...</td>\n",
       "      <td>3.0</td>\n",
       "      <td>2.0</td>\n",
       "      <td>12</td>\n",
       "      <td>7.0</td>\n",
       "      <td>4.0</td>\n",
       "      <td>5</td>\n",
       "      <td>4.0</td>\n",
       "      <td>-10.0</td>\n",
       "      <td>25.0</td>\n",
       "      <td>2</td>\n",
       "    </tr>\n",
       "    <tr>\n",
       "      <th>3</th>\n",
       "      <td>-6.0</td>\n",
       "      <td>17.0</td>\n",
       "      <td>6.0</td>\n",
       "      <td>29.0</td>\n",
       "      <td>4.0</td>\n",
       "      <td>-11.0</td>\n",
       "      <td>-8.0</td>\n",
       "      <td>10.0</td>\n",
       "      <td>-24.0</td>\n",
       "      <td>-32.0</td>\n",
       "      <td>...</td>\n",
       "      <td>-5.0</td>\n",
       "      <td>11.0</td>\n",
       "      <td>11</td>\n",
       "      <td>36.0</td>\n",
       "      <td>8.0</td>\n",
       "      <td>7</td>\n",
       "      <td>21.0</td>\n",
       "      <td>-82.0</td>\n",
       "      <td>10.0</td>\n",
       "      <td>2</td>\n",
       "    </tr>\n",
       "    <tr>\n",
       "      <th>4</th>\n",
       "      <td>0.0</td>\n",
       "      <td>9.0</td>\n",
       "      <td>4.0</td>\n",
       "      <td>19.0</td>\n",
       "      <td>-10.0</td>\n",
       "      <td>-18.0</td>\n",
       "      <td>-18.0</td>\n",
       "      <td>5.0</td>\n",
       "      <td>-33.0</td>\n",
       "      <td>-31.0</td>\n",
       "      <td>...</td>\n",
       "      <td>-7.0</td>\n",
       "      <td>6.0</td>\n",
       "      <td>9</td>\n",
       "      <td>22.0</td>\n",
       "      <td>3.0</td>\n",
       "      <td>20</td>\n",
       "      <td>-7.0</td>\n",
       "      <td>-62.0</td>\n",
       "      <td>24.0</td>\n",
       "      <td>2</td>\n",
       "    </tr>\n",
       "    <tr>\n",
       "      <th>5</th>\n",
       "      <td>-1.0</td>\n",
       "      <td>0.0</td>\n",
       "      <td>1.0</td>\n",
       "      <td>5.0</td>\n",
       "      <td>0.0</td>\n",
       "      <td>-4.0</td>\n",
       "      <td>1.0</td>\n",
       "      <td>6.0</td>\n",
       "      <td>-4.0</td>\n",
       "      <td>-9.0</td>\n",
       "      <td>...</td>\n",
       "      <td>6.0</td>\n",
       "      <td>1.0</td>\n",
       "      <td>140</td>\n",
       "      <td>10.0</td>\n",
       "      <td>3.0</td>\n",
       "      <td>8</td>\n",
       "      <td>8.0</td>\n",
       "      <td>-27.0</td>\n",
       "      <td>20.0</td>\n",
       "      <td>2</td>\n",
       "    </tr>\n",
       "  </tbody>\n",
       "</table>\n",
       "<p>5 rows × 12601 columns</p>\n",
       "</div>"
      ],
      "text/plain": [
       "   x.V1  x.V2  x.V3  x.V4  x.V5  x.V6  x.V7  x.V8  x.V9  x.V10  ...  x.V12592  \\\n",
       "1  -9.0   1.0   1.0  15.0  -2.0  -3.0   4.0   8.0 -12.0  -12.0  ...       5.0   \n",
       "2  -2.0   1.0   1.0   4.0  -2.0  -5.0   0.0   8.0  -5.0   -9.0  ...       3.0   \n",
       "3  -6.0  17.0   6.0  29.0   4.0 -11.0  -8.0  10.0 -24.0  -32.0  ...      -5.0   \n",
       "4   0.0   9.0   4.0  19.0 -10.0 -18.0 -18.0   5.0 -33.0  -31.0  ...      -7.0   \n",
       "5  -1.0   0.0   1.0   5.0   0.0  -4.0   1.0   6.0  -4.0   -9.0  ...       6.0   \n",
       "\n",
       "   x.V12593  x.V12594  x.V12595  x.V12596  x.V12597  x.V12598  x.V12599  \\\n",
       "1       3.0        21      15.0       1.0         0      14.0     -23.0   \n",
       "2       2.0        12       7.0       4.0         5       4.0     -10.0   \n",
       "3      11.0        11      36.0       8.0         7      21.0     -82.0   \n",
       "4       6.0         9      22.0       3.0        20      -7.0     -62.0   \n",
       "5       1.0       140      10.0       3.0         8       8.0     -27.0   \n",
       "\n",
       "   x.V12600  y  \n",
       "1      14.0  2  \n",
       "2      25.0  2  \n",
       "3      10.0  2  \n",
       "4      24.0  2  \n",
       "5      20.0  2  \n",
       "\n",
       "[5 rows x 12601 columns]"
      ]
     },
     "execution_count": 2,
     "metadata": {},
     "output_type": "execute_result"
    }
   ],
   "source": [
    "prostate = pd.read_csv('prostate.csv')\n",
    "prostate.head()"
   ]
  },
  {
   "cell_type": "code",
   "execution_count": 3,
   "metadata": {},
   "outputs": [
    {
     "name": "stdout",
     "output_type": "stream",
     "text": [
      "False\n"
     ]
    }
   ],
   "source": [
    "print(prostate.isnull().values.any())\n"
   ]
  },
  {
   "cell_type": "code",
   "execution_count": 4,
   "metadata": {},
   "outputs": [],
   "source": [
    "features=prostate.iloc[:,0:-1]\n",
    "labels=prostate.iloc[:,-1]"
   ]
  },
  {
   "cell_type": "code",
   "execution_count": 5,
   "metadata": {},
   "outputs": [],
   "source": [
    "# Estandarizar\n",
    "\n",
    "min_max_scaler = preprocessing.MinMaxScaler()\n",
    "X = min_max_scaler.fit_transform(features)"
   ]
  },
  {
   "cell_type": "code",
   "execution_count": 6,
   "metadata": {},
   "outputs": [
    {
     "data": {
      "text/plain": [
       "array([[0.75949367, 0.29577465, 0.43333333, ..., 0.34836066, 0.87700535,\n",
       "        0.62698413],\n",
       "       [0.84810127, 0.29577465, 0.43333333, ..., 0.30737705, 0.94652406,\n",
       "        0.71428571],\n",
       "       [0.79746835, 0.52112676, 0.6       , ..., 0.37704918, 0.56149733,\n",
       "        0.5952381 ],\n",
       "       ...,\n",
       "       [0.82278481, 0.28169014, 0.4       , ..., 0.30327869, 0.96256684,\n",
       "        0.70634921],\n",
       "       [0.87341772, 0.30985915, 0.46666667, ..., 0.29918033, 1.        ,\n",
       "        0.6984127 ],\n",
       "       [0.84810127, 0.28169014, 0.4       , ..., 0.28278689, 0.95721925,\n",
       "        0.66666667]])"
      ]
     },
     "execution_count": 6,
     "metadata": {},
     "output_type": "execute_result"
    }
   ],
   "source": [
    "X"
   ]
  },
  {
   "cell_type": "code",
   "execution_count": 7,
   "metadata": {},
   "outputs": [],
   "source": [
    "y = np.transpose(np.asarray(labels.values - 1, dtype=int))\n"
   ]
  },
  {
   "cell_type": "code",
   "execution_count": 8,
   "metadata": {},
   "outputs": [
    {
     "data": {
      "text/plain": [
       "array([1, 1, 1, 1, 1, 1, 1, 1, 1, 1, 1, 1, 1, 1, 1, 1, 1, 1, 1, 1, 1, 1,\n",
       "       1, 1, 1, 1, 1, 1, 1, 1, 1, 1, 1, 1, 1, 1, 1, 1, 1, 1, 1, 1, 1, 1,\n",
       "       1, 1, 1, 1, 1, 1, 1, 1, 0, 0, 0, 0, 0, 0, 0, 0, 0, 0, 0, 0, 0, 0,\n",
       "       0, 0, 0, 0, 0, 0, 0, 0, 0, 0, 0, 0, 0, 0, 0, 0, 0, 0, 0, 0, 0, 0,\n",
       "       0, 0, 0, 0, 0, 0, 0, 0, 0, 0, 0, 0, 0, 0])"
      ]
     },
     "execution_count": 8,
     "metadata": {},
     "output_type": "execute_result"
    }
   ],
   "source": [
    "y"
   ]
  },
  {
   "cell_type": "markdown",
   "metadata": {},
   "source": [
    "# 1. SVC"
   ]
  },
  {
   "cell_type": "code",
   "execution_count": 9,
   "metadata": {},
   "outputs": [
    {
     "name": "stdout",
     "output_type": "stream",
     "text": [
      "CPU times: user 16.8 s, sys: 199 ms, total: 17 s\n",
      "Wall time: 11 s\n"
     ]
    }
   ],
   "source": [
    "%%time\n",
    "clf_svc = SVC(kernel='linear', C=1, probability=True, random_state=SEED) \n",
    "scores_clf_svc = cross_validate(clf_svc, X, y, cv=10, scoring=('accuracy','precision','recall','f1'),return_train_score=True)"
   ]
  },
  {
   "cell_type": "code",
   "execution_count": 10,
   "metadata": {},
   "outputs": [
    {
     "name": "stdout",
     "output_type": "stream",
     "text": [
      "Accuracy: 0.9109090909090909\n",
      "Precision: 0.9457142857142857\n",
      "Recall: 0.8800000000000001\n",
      "F1: 0.9078632478632478\n"
     ]
    }
   ],
   "source": [
    "print('Accuracy:', np.mean(scores_clf_svc['test_accuracy']))\n",
    "print('Precision:', np.mean(scores_clf_svc['test_precision']))\n",
    "print('Recall:', np.mean(scores_clf_svc['test_recall']))\n",
    "print('F1:', np.mean(scores_clf_svc['test_f1']))"
   ]
  },
  {
   "cell_type": "markdown",
   "metadata": {},
   "source": [
    "# 2. NAIVE BAYES"
   ]
  },
  {
   "cell_type": "code",
   "execution_count": 11,
   "metadata": {},
   "outputs": [
    {
     "name": "stdout",
     "output_type": "stream",
     "text": [
      "CPU times: user 2.59 s, sys: 104 ms, total: 2.69 s\n",
      "Wall time: 693 ms\n"
     ]
    }
   ],
   "source": [
    "%%time\n",
    "clf_nb = GaussianNB()\n",
    "scores_clf_nb = cross_validate(clf_nb, X, y, cv=10, scoring=('accuracy','precision','recall','f1'),return_train_score=True)\n"
   ]
  },
  {
   "cell_type": "code",
   "execution_count": 12,
   "metadata": {},
   "outputs": [
    {
     "name": "stdout",
     "output_type": "stream",
     "text": [
      "Accuracy: 0.6245454545454545\n",
      "Precision: 0.6132539682539683\n",
      "Recall: 0.8666666666666666\n",
      "F1: 0.7028371628371629\n"
     ]
    }
   ],
   "source": [
    "print('Accuracy:', np.mean(scores_clf_nb['test_accuracy']))\n",
    "print('Precision:', np.mean(scores_clf_nb['test_precision']))\n",
    "print('Recall:', np.mean(scores_clf_nb['test_recall']))\n",
    "print('F1:', np.mean(scores_clf_nb['test_f1']))"
   ]
  },
  {
   "cell_type": "markdown",
   "metadata": {},
   "source": [
    "# 3. RANDOM FORESTS"
   ]
  },
  {
   "cell_type": "code",
   "execution_count": 13,
   "metadata": {},
   "outputs": [
    {
     "name": "stdout",
     "output_type": "stream",
     "text": [
      "CPU times: user 4.93 s, sys: 836 ms, total: 5.76 s\n",
      "Wall time: 11.5 s\n"
     ]
    }
   ],
   "source": [
    "%%time\n",
    "clf_rf = RandomForestClassifier(n_estimators=100, n_jobs=-1, class_weight='balanced', max_depth=5, random_state=SEED)\n",
    "scores_clf_rf = cross_validate(clf_rf, X, y, cv=10, scoring=('accuracy','precision','recall','f1'),return_train_score=True)\n",
    "\n"
   ]
  },
  {
   "cell_type": "code",
   "execution_count": 14,
   "metadata": {},
   "outputs": [
    {
     "name": "stdout",
     "output_type": "stream",
     "text": [
      "Accuracy: 0.89\n",
      "Precision: 0.9085714285714284\n",
      "Recall: 0.9\n",
      "F1: 0.8966666666666667\n"
     ]
    }
   ],
   "source": [
    "print('Accuracy:', np.mean(scores_clf_rf['test_accuracy']))\n",
    "print('Precision:', np.mean(scores_clf_rf['test_precision']))\n",
    "print('Recall:', np.mean(scores_clf_rf['test_recall']))\n",
    "print('F1:', np.mean(scores_clf_rf['test_f1']))\n",
    "\n"
   ]
  },
  {
   "cell_type": "markdown",
   "metadata": {},
   "source": [
    "## SELECCIONAR VARIABLES USANDO PUNTUACION F"
   ]
  },
  {
   "cell_type": "code",
   "execution_count": 15,
   "metadata": {},
   "outputs": [],
   "source": [
    "feat_sel_f = SelectKBest(f_classif, k=10) \n",
    "\n"
   ]
  },
  {
   "cell_type": "code",
   "execution_count": 16,
   "metadata": {},
   "outputs": [],
   "source": [
    "pipe_f_svc = Pipeline([('F Score',feat_sel_f), ('SVM',clf_svc)])\n"
   ]
  },
  {
   "cell_type": "code",
   "execution_count": 17,
   "metadata": {},
   "outputs": [
    {
     "name": "stdout",
     "output_type": "stream",
     "text": [
      "CPU times: user 2.12 s, sys: 145 ms, total: 2.27 s\n",
      "Wall time: 588 ms\n"
     ]
    }
   ],
   "source": [
    "%%time\n",
    "\n",
    "scores_f_svc = cross_validate(pipe_f_svc, X, y, cv=10, scoring=('accuracy','precision','recall','f1'),return_train_score=True)"
   ]
  },
  {
   "cell_type": "code",
   "execution_count": 18,
   "metadata": {},
   "outputs": [
    {
     "name": "stdout",
     "output_type": "stream",
     "text": [
      "Accuracy SVC: 0.9200000000000002\n",
      "Precision SVC: 0.9633333333333335\n",
      "Recall SVC: 0.8800000000000001\n",
      "F1 SVC: 0.9153535353535354\n"
     ]
    }
   ],
   "source": [
    "print('Accuracy SVC:', np.mean(scores_f_svc['test_accuracy']))\n",
    "print('Precision SVC:', np.mean(scores_f_svc['test_precision']))\n",
    "print('Recall SVC:', np.mean(scores_f_svc['test_recall']))\n",
    "print('F1 SVC:', np.mean(scores_f_svc['test_f1']))\n"
   ]
  },
  {
   "cell_type": "code",
   "execution_count": 19,
   "metadata": {},
   "outputs": [],
   "source": [
    "pipe_f_nb = Pipeline([('F Score',feat_sel_f), ('NB',clf_nb)])\n"
   ]
  },
  {
   "cell_type": "code",
   "execution_count": 20,
   "metadata": {},
   "outputs": [
    {
     "name": "stdout",
     "output_type": "stream",
     "text": [
      "CPU times: user 2.19 s, sys: 125 ms, total: 2.31 s\n",
      "Wall time: 578 ms\n"
     ]
    }
   ],
   "source": [
    "%%time\n",
    "\n",
    "scores_f_nb = cross_validate(pipe_f_nb, X, y, cv=10, scoring=('accuracy','precision','recall','f1'),return_train_score=True)\n"
   ]
  },
  {
   "cell_type": "code",
   "execution_count": 21,
   "metadata": {},
   "outputs": [
    {
     "name": "stdout",
     "output_type": "stream",
     "text": [
      "Accuracy NB: 0.93\n",
      "Precision NB: 0.9633333333333335\n",
      "Recall NB: 0.9\n",
      "F1 NB: 0.9264646464646464\n"
     ]
    }
   ],
   "source": [
    "print('Accuracy NB:', np.mean(scores_f_nb['test_accuracy']))\n",
    "print('Precision NB:', np.mean(scores_f_nb['test_precision']))\n",
    "print('Recall NB:', np.mean(scores_f_nb['test_recall']))\n",
    "print('F1 NB:', np.mean(scores_f_nb['test_f1']))\n"
   ]
  },
  {
   "cell_type": "code",
   "execution_count": 22,
   "metadata": {},
   "outputs": [],
   "source": [
    "pipe_f_rf = Pipeline([('F Score',feat_sel_f), ('RF',clf_rf)])\n"
   ]
  },
  {
   "cell_type": "code",
   "execution_count": 23,
   "metadata": {},
   "outputs": [
    {
     "name": "stdout",
     "output_type": "stream",
     "text": [
      "CPU times: user 10.2 s, sys: 830 ms, total: 11 s\n",
      "Wall time: 10.7 s\n"
     ]
    }
   ],
   "source": [
    "%%time\n",
    "\n",
    "\n",
    "scores_f_rf = cross_validate(pipe_f_rf, X, y, cv=10, scoring=('accuracy','precision','recall','f1'),return_train_score=True)"
   ]
  },
  {
   "cell_type": "code",
   "execution_count": 24,
   "metadata": {},
   "outputs": [
    {
     "name": "stdout",
     "output_type": "stream",
     "text": [
      "Accuracy RF: 0.93\n",
      "Precision RF: 0.9633333333333335\n",
      "Recall RF: 0.9\n",
      "F1 RF: 0.9236868686868686\n"
     ]
    }
   ],
   "source": [
    "print('Accuracy RF:', np.mean(scores_f_rf['test_accuracy']))\n",
    "print('Precision RF:', np.mean(scores_f_rf['test_precision']))\n",
    "print('Recall RF:', np.mean(scores_f_rf['test_recall']))\n",
    "print('F1 RF:', np.mean(scores_f_rf['test_f1']))"
   ]
  },
  {
   "cell_type": "markdown",
   "metadata": {},
   "source": [
    "## SELECCIONAR VARIABLES USANDO Chi-Cuadrado"
   ]
  },
  {
   "cell_type": "code",
   "execution_count": 25,
   "metadata": {},
   "outputs": [],
   "source": [
    "feat_sel_chi = SelectKBest(chi2, k=10) \n",
    "\n"
   ]
  },
  {
   "cell_type": "code",
   "execution_count": 26,
   "metadata": {},
   "outputs": [],
   "source": [
    "pipe_chi_svc = Pipeline([('Chi-cuadrado',feat_sel_chi), ('SVM',clf_svc)])\n"
   ]
  },
  {
   "cell_type": "code",
   "execution_count": 27,
   "metadata": {},
   "outputs": [
    {
     "name": "stdout",
     "output_type": "stream",
     "text": [
      "CPU times: user 2.17 s, sys: 104 ms, total: 2.27 s\n",
      "Wall time: 588 ms\n"
     ]
    }
   ],
   "source": [
    "%%time\n",
    "\n",
    "scores_chi_svc = cross_validate(pipe_f_svc, X, y, cv=10, scoring=('accuracy','precision','recall','f1'),return_train_score=True)"
   ]
  },
  {
   "cell_type": "code",
   "execution_count": 28,
   "metadata": {},
   "outputs": [
    {
     "name": "stdout",
     "output_type": "stream",
     "text": [
      "Accuracy SVC: 0.9200000000000002\n",
      "Precision SVC: 0.9633333333333335\n",
      "Recall SVC: 0.8800000000000001\n",
      "F1 SVC: 0.9153535353535354\n"
     ]
    }
   ],
   "source": [
    "print('Accuracy SVC:', np.mean(scores_chi_svc['test_accuracy']))\n",
    "print('Precision SVC:', np.mean(scores_chi_svc['test_precision']))\n",
    "print('Recall SVC:', np.mean(scores_chi_svc['test_recall']))\n",
    "print('F1 SVC:', np.mean(scores_chi_svc['test_f1']))\n"
   ]
  },
  {
   "cell_type": "code",
   "execution_count": 29,
   "metadata": {},
   "outputs": [],
   "source": [
    "pipe_chi_nb = Pipeline([('Chi-cuadrado',feat_sel_chi), ('NB',clf_nb)])\n"
   ]
  },
  {
   "cell_type": "code",
   "execution_count": 30,
   "metadata": {},
   "outputs": [
    {
     "name": "stdout",
     "output_type": "stream",
     "text": [
      "CPU times: user 2.84 s, sys: 98.4 ms, total: 2.94 s\n",
      "Wall time: 735 ms\n"
     ]
    }
   ],
   "source": [
    "%%time\n",
    "\n",
    "\n",
    "scores_chi_nb = cross_validate(pipe_chi_nb, X, y, cv=10, scoring=('accuracy','precision','recall','f1'),return_train_score=True)\n"
   ]
  },
  {
   "cell_type": "code",
   "execution_count": 31,
   "metadata": {},
   "outputs": [
    {
     "name": "stdout",
     "output_type": "stream",
     "text": [
      "Accuracy NB: 0.9200000000000002\n",
      "Precision NB: 0.93\n",
      "Recall NB: 0.9199999999999999\n",
      "F1 NB: 0.9214141414141415\n"
     ]
    }
   ],
   "source": [
    "print('Accuracy NB:', np.mean(scores_chi_nb['test_accuracy']))\n",
    "print('Precision NB:', np.mean(scores_chi_nb['test_precision']))\n",
    "print('Recall NB:', np.mean(scores_chi_nb['test_recall']))\n",
    "print('F1 NB:', np.mean(scores_chi_nb['test_f1']))\n"
   ]
  },
  {
   "cell_type": "code",
   "execution_count": 32,
   "metadata": {},
   "outputs": [],
   "source": [
    "pipe_chi_rf = Pipeline([('Chi-cuadrado',feat_sel_chi), ('RF',clf_rf)])\n"
   ]
  },
  {
   "cell_type": "code",
   "execution_count": 33,
   "metadata": {},
   "outputs": [
    {
     "name": "stdout",
     "output_type": "stream",
     "text": [
      "CPU times: user 10.4 s, sys: 871 ms, total: 11.2 s\n",
      "Wall time: 10.9 s\n"
     ]
    }
   ],
   "source": [
    "%%time\n",
    "\n",
    "scores_chi_rf = cross_validate(pipe_chi_rf, X, y, cv=10, scoring=('accuracy','precision','recall','f1'),return_train_score=True)"
   ]
  },
  {
   "cell_type": "code",
   "execution_count": 34,
   "metadata": {},
   "outputs": [
    {
     "name": "stdout",
     "output_type": "stream",
     "text": [
      "Accuracy RF: 0.9200000000000002\n",
      "Precision RF: 0.9333333333333333\n",
      "Recall RF: 0.9199999999999999\n",
      "F1 RF: 0.9212121212121211\n"
     ]
    }
   ],
   "source": [
    "print('Accuracy RF:', np.mean(scores_chi_rf['test_accuracy']))\n",
    "print('Precision RF:', np.mean(scores_chi_rf['test_precision']))\n",
    "print('Recall RF:', np.mean(scores_chi_rf['test_recall']))\n",
    "print('F1 RF:', np.mean(scores_chi_rf['test_f1']))"
   ]
  },
  {
   "cell_type": "markdown",
   "metadata": {},
   "source": [
    "## SELECCIONAR VARIABLES USANDO ARBOLES DE DECISION"
   ]
  },
  {
   "cell_type": "code",
   "execution_count": 35,
   "metadata": {},
   "outputs": [],
   "source": [
    "pipe_dt_svc = Pipeline([('DT', SelectFromModel(clf_rf, max_features=10, threshold=-np.inf)), ('SVC',clf_svc)])\n"
   ]
  },
  {
   "cell_type": "code",
   "execution_count": 36,
   "metadata": {},
   "outputs": [
    {
     "name": "stdout",
     "output_type": "stream",
     "text": [
      "CPU times: user 5.32 s, sys: 544 ms, total: 5.86 s\n",
      "Wall time: 7.55 s\n"
     ]
    }
   ],
   "source": [
    "%%time\n",
    "\n",
    "scores_dt_svc = cross_validate(pipe_dt_svc, X, y, cv=10, scoring=('accuracy','precision','recall','f1'),return_train_score=True)"
   ]
  },
  {
   "cell_type": "code",
   "execution_count": 37,
   "metadata": {},
   "outputs": [
    {
     "name": "stdout",
     "output_type": "stream",
     "text": [
      "Accuracy DT: 0.9\n",
      "Precision DT: 0.9550000000000001\n",
      "Recall DT: 0.8400000000000001\n",
      "F1 DT: 0.8815873015873017\n"
     ]
    }
   ],
   "source": [
    "print('Accuracy DT:', np.mean(scores_dt_svc['test_accuracy']))\n",
    "print('Precision DT:', np.mean(scores_dt_svc['test_precision']))\n",
    "print('Recall DT:', np.mean(scores_dt_svc['test_recall']))\n",
    "print('F1 DT:', np.mean(scores_dt_svc['test_f1']))"
   ]
  },
  {
   "cell_type": "code",
   "execution_count": 38,
   "metadata": {},
   "outputs": [],
   "source": [
    "pipe_dt_nb = Pipeline([('DT', SelectFromModel(clf_rf, max_features=10, threshold=-np.inf)), ('SVC',clf_nb)])\n"
   ]
  },
  {
   "cell_type": "code",
   "execution_count": 39,
   "metadata": {},
   "outputs": [
    {
     "name": "stdout",
     "output_type": "stream",
     "text": [
      "CPU times: user 5.34 s, sys: 408 ms, total: 5.75 s\n",
      "Wall time: 7.46 s\n"
     ]
    }
   ],
   "source": [
    "%%time\n",
    "\n",
    "scores_dt_nb = cross_validate(pipe_dt_nb, X, y, cv=10, scoring=('accuracy','precision','recall','f1'),return_train_score=True)"
   ]
  },
  {
   "cell_type": "code",
   "execution_count": 40,
   "metadata": {},
   "outputs": [
    {
     "name": "stdout",
     "output_type": "stream",
     "text": [
      "Accuracy DT: 0.93\n",
      "Precision DT: 0.9666666666666666\n",
      "Recall DT: 0.9\n",
      "F1 DT: 0.9255050505050505\n"
     ]
    }
   ],
   "source": [
    "print('Accuracy DT:', np.mean(scores_dt_nb['test_accuracy']))\n",
    "print('Precision DT:', np.mean(scores_dt_nb['test_precision']))\n",
    "print('Recall DT:', np.mean(scores_dt_nb['test_recall']))\n",
    "print('F1 DT:', np.mean(scores_dt_nb['test_f1']))"
   ]
  },
  {
   "cell_type": "code",
   "execution_count": 41,
   "metadata": {},
   "outputs": [],
   "source": [
    "pipe_dt_rf = Pipeline([('DT', SelectFromModel(clf_rf, max_features=10, threshold=-np.inf)), ('SVC',clf_rf)])\n"
   ]
  },
  {
   "cell_type": "code",
   "execution_count": 42,
   "metadata": {},
   "outputs": [
    {
     "name": "stdout",
     "output_type": "stream",
     "text": [
      "CPU times: user 10.2 s, sys: 880 ms, total: 11.1 s\n",
      "Wall time: 18.9 s\n"
     ]
    }
   ],
   "source": [
    "%%time\n",
    "\n",
    "scores_dt_rf = cross_validate(pipe_dt_rf, X, y, cv=10, scoring=('accuracy','precision','recall','f1'),return_train_score=True)"
   ]
  },
  {
   "cell_type": "code",
   "execution_count": 43,
   "metadata": {},
   "outputs": [
    {
     "name": "stdout",
     "output_type": "stream",
     "text": [
      "Accuracy DT: 0.9200000000000002\n",
      "Precision DT: 0.9433333333333334\n",
      "Recall DT: 0.9\n",
      "F1 DT: 0.9147979797979797\n"
     ]
    }
   ],
   "source": [
    "print('Accuracy DT:', np.mean(scores_dt_rf['test_accuracy']))\n",
    "print('Precision DT:', np.mean(scores_dt_rf['test_precision']))\n",
    "print('Recall DT:', np.mean(scores_dt_rf['test_recall']))\n",
    "print('F1 DT:', np.mean(scores_dt_rf['test_f1']))"
   ]
  },
  {
   "cell_type": "markdown",
   "metadata": {},
   "source": [
    "## SELECCIONAR VARIABLES USANDO LOGISTIC REGRESSION Y L1"
   ]
  },
  {
   "cell_type": "code",
   "execution_count": 44,
   "metadata": {},
   "outputs": [],
   "source": [
    "pipe_l1_svc = Pipeline([('LR', SelectFromModel(LogisticRegression(penalty='l1', solver='liblinear'), max_features=10, threshold=-np.inf)), ('SVC',clf_svc)])\n"
   ]
  },
  {
   "cell_type": "code",
   "execution_count": 45,
   "metadata": {},
   "outputs": [
    {
     "name": "stdout",
     "output_type": "stream",
     "text": [
      "CPU times: user 888 ms, sys: 96.8 ms, total: 984 ms\n",
      "Wall time: 983 ms\n"
     ]
    }
   ],
   "source": [
    "%%time\n",
    "\n",
    "scores_l1_svc = cross_validate(pipe_l1_svc, X, y, cv=10, scoring=('accuracy','precision','recall','f1'),return_train_score=True)"
   ]
  },
  {
   "cell_type": "code",
   "execution_count": 46,
   "metadata": {},
   "outputs": [
    {
     "name": "stdout",
     "output_type": "stream",
     "text": [
      "Accuracy LR: 0.9209090909090909\n",
      "Precision LR: 0.949047619047619\n",
      "Recall LR: 0.9\n",
      "F1 LR: 0.9159945609945609\n"
     ]
    }
   ],
   "source": [
    "print('Accuracy LR:', np.mean(scores_l1_svc['test_accuracy']))\n",
    "print('Precision LR:', np.mean(scores_l1_svc['test_precision']))\n",
    "print('Recall LR:', np.mean(scores_l1_svc['test_recall']))\n",
    "print('F1 LR:', np.mean(scores_l1_svc['test_f1']))"
   ]
  },
  {
   "cell_type": "code",
   "execution_count": 47,
   "metadata": {},
   "outputs": [],
   "source": [
    "pipe_l1_nb = Pipeline([('LR', SelectFromModel(LogisticRegression(penalty='l1', solver='liblinear'), max_features=10, threshold=-np.inf)), ('NB',clf_nb)])\n"
   ]
  },
  {
   "cell_type": "code",
   "execution_count": 48,
   "metadata": {},
   "outputs": [
    {
     "name": "stdout",
     "output_type": "stream",
     "text": [
      "CPU times: user 934 ms, sys: 96.9 ms, total: 1.03 s\n",
      "Wall time: 1.03 s\n"
     ]
    }
   ],
   "source": [
    "%%time\n",
    "\n",
    "scores_l1_nb = cross_validate(pipe_l1_nb, X, y, cv=10, scoring=('accuracy','precision','recall','f1'),return_train_score=True)"
   ]
  },
  {
   "cell_type": "code",
   "execution_count": 49,
   "metadata": {},
   "outputs": [
    {
     "name": "stdout",
     "output_type": "stream",
     "text": [
      "Accuracy LR: 0.940909090909091\n",
      "Precision LR: 0.9657142857142856\n",
      "Recall LR: 0.9199999999999999\n",
      "F1 LR: 0.938974358974359\n"
     ]
    }
   ],
   "source": [
    "print('Accuracy LR:', np.mean(scores_l1_nb['test_accuracy']))\n",
    "print('Precision LR:', np.mean(scores_l1_nb['test_precision']))\n",
    "print('Recall LR:', np.mean(scores_l1_nb['test_recall']))\n",
    "print('F1 LR:', np.mean(scores_l1_nb['test_f1']))"
   ]
  },
  {
   "cell_type": "code",
   "execution_count": 50,
   "metadata": {},
   "outputs": [],
   "source": [
    "pipe_l1_rf = Pipeline([('LR', SelectFromModel(LogisticRegression(penalty='l1', solver='liblinear'), max_features=10, threshold=-np.inf)), ('RF',clf_rf)])\n"
   ]
  },
  {
   "cell_type": "code",
   "execution_count": 51,
   "metadata": {},
   "outputs": [
    {
     "name": "stdout",
     "output_type": "stream",
     "text": [
      "CPU times: user 4.79 s, sys: 820 ms, total: 5.61 s\n",
      "Wall time: 11 s\n"
     ]
    }
   ],
   "source": [
    "%%time\n",
    "\n",
    "scores_l1_rf = cross_validate(pipe_l1_rf, X, y, cv=10, scoring=('accuracy','precision','recall','f1'),return_train_score=True)"
   ]
  },
  {
   "cell_type": "code",
   "execution_count": 52,
   "metadata": {},
   "outputs": [
    {
     "name": "stdout",
     "output_type": "stream",
     "text": [
      "Accuracy LR: 0.9209090909090909\n",
      "Precision LR: 0.949047619047619\n",
      "Recall LR: 0.9\n",
      "F1 LR: 0.9159945609945609\n"
     ]
    }
   ],
   "source": [
    "print('Accuracy LR:', np.mean(scores_l1_rf['test_accuracy']))\n",
    "print('Precision LR:', np.mean(scores_l1_rf['test_precision']))\n",
    "print('Recall LR:', np.mean(scores_l1_rf['test_recall']))\n",
    "print('F1 LR:', np.mean(scores_l1_rf['test_f1']))"
   ]
  },
  {
   "cell_type": "code",
   "execution_count": 53,
   "metadata": {},
   "outputs": [],
   "source": [
    "dill.dump_session('PROSTATE-CV.db')\n"
   ]
  },
  {
   "cell_type": "code",
   "execution_count": 54,
   "metadata": {},
   "outputs": [],
   "source": [
    "dill.load_session('PROSTATE-CV.db')\n"
   ]
  },
  {
   "cell_type": "code",
   "execution_count": null,
   "metadata": {},
   "outputs": [],
   "source": []
  }
 ],
 "metadata": {
  "kernelspec": {
   "display_name": "Python 3",
   "language": "python",
   "name": "python3"
  },
  "language_info": {
   "codemirror_mode": {
    "name": "ipython",
    "version": 3
   },
   "file_extension": ".py",
   "mimetype": "text/x-python",
   "name": "python",
   "nbconvert_exporter": "python",
   "pygments_lexer": "ipython3",
   "version": "3.7.3"
  }
 },
 "nbformat": 4,
 "nbformat_minor": 2
}

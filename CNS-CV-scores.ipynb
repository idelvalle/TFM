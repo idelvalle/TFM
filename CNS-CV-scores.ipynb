{
 "cells": [
  {
   "cell_type": "code",
   "execution_count": 1,
   "metadata": {},
   "outputs": [],
   "source": [
    "import numpy as np\n",
    "import pandas as pd\n",
    "import matplotlib.pyplot as plt\n",
    "import seaborn as sns\n",
    "import dill\n",
    "\n",
    "from sklearn.svm import SVC\n",
    "from sklearn import preprocessing\n",
    "from sklearn import metrics\n",
    "from sklearn.naive_bayes import GaussianNB\n",
    "from sklearn.ensemble import RandomForestClassifier\n",
    "\n",
    "from sklearn.feature_selection import SelectKBest, f_classif, chi2, SelectFromModel\n",
    "from sklearn import model_selection\n",
    "from sklearn.metrics import classification_report\n",
    "from sklearn.naive_bayes import MultinomialNB\n",
    "from sklearn.pipeline import Pipeline        \n",
    "from sklearn.model_selection import cross_val_score,cross_validate\n",
    "from sklearn.linear_model import LogisticRegression\n",
    "\n",
    "%matplotlib inline\n",
    "SEED=50"
   ]
  },
  {
   "cell_type": "code",
   "execution_count": 2,
   "metadata": {},
   "outputs": [
    {
     "data": {
      "text/html": [
       "<div>\n",
       "<style scoped>\n",
       "    .dataframe tbody tr th:only-of-type {\n",
       "        vertical-align: middle;\n",
       "    }\n",
       "\n",
       "    .dataframe tbody tr th {\n",
       "        vertical-align: top;\n",
       "    }\n",
       "\n",
       "    .dataframe thead th {\n",
       "        text-align: right;\n",
       "    }\n",
       "</style>\n",
       "<table border=\"1\" class=\"dataframe\">\n",
       "  <thead>\n",
       "    <tr style=\"text-align: right;\">\n",
       "      <th></th>\n",
       "      <th>x.AFFX.BioB.5.at</th>\n",
       "      <th>x.AFFX.BioB.M.at</th>\n",
       "      <th>x.AFFX.BioB.3.at</th>\n",
       "      <th>x.AFFX.BioC.5.at</th>\n",
       "      <th>x.AFFX.BioC.3.at</th>\n",
       "      <th>x.AFFX.BioDn.5.at</th>\n",
       "      <th>x.AFFX.BioDn.3.at</th>\n",
       "      <th>x.AFFX.CreX.5.at</th>\n",
       "      <th>x.AFFX.CreX.3.at</th>\n",
       "      <th>x.AFFX.BioB.5.st</th>\n",
       "      <th>...</th>\n",
       "      <th>x.U58516.at</th>\n",
       "      <th>x.U73738.at</th>\n",
       "      <th>x.X06956.at</th>\n",
       "      <th>x.X16699.at</th>\n",
       "      <th>x.X83863.at</th>\n",
       "      <th>x.Z17240.at</th>\n",
       "      <th>x.L49218.f.at</th>\n",
       "      <th>x.M71243.f.at</th>\n",
       "      <th>x.Z78285.f.at</th>\n",
       "      <th>y</th>\n",
       "    </tr>\n",
       "  </thead>\n",
       "  <tbody>\n",
       "    <tr>\n",
       "      <th>1</th>\n",
       "      <td>-0.231140</td>\n",
       "      <td>-0.242715</td>\n",
       "      <td>-0.183060</td>\n",
       "      <td>-0.041937</td>\n",
       "      <td>-0.479553</td>\n",
       "      <td>-0.394078</td>\n",
       "      <td>0.039086</td>\n",
       "      <td>-0.291240</td>\n",
       "      <td>-0.228024</td>\n",
       "      <td>-0.100701</td>\n",
       "      <td>...</td>\n",
       "      <td>-0.050841</td>\n",
       "      <td>-0.309048</td>\n",
       "      <td>-0.261858</td>\n",
       "      <td>-0.197752</td>\n",
       "      <td>0.110761</td>\n",
       "      <td>0.069804</td>\n",
       "      <td>-0.193300</td>\n",
       "      <td>0.013711</td>\n",
       "      <td>-0.199087</td>\n",
       "      <td>2</td>\n",
       "    </tr>\n",
       "    <tr>\n",
       "      <th>2</th>\n",
       "      <td>-0.217881</td>\n",
       "      <td>-0.327010</td>\n",
       "      <td>-0.219228</td>\n",
       "      <td>-0.087645</td>\n",
       "      <td>-0.463983</td>\n",
       "      <td>-0.511138</td>\n",
       "      <td>0.144985</td>\n",
       "      <td>-0.428505</td>\n",
       "      <td>-0.194977</td>\n",
       "      <td>-0.262790</td>\n",
       "      <td>...</td>\n",
       "      <td>0.464738</td>\n",
       "      <td>-0.199019</td>\n",
       "      <td>0.025077</td>\n",
       "      <td>-0.254707</td>\n",
       "      <td>0.207858</td>\n",
       "      <td>-0.117734</td>\n",
       "      <td>-0.102015</td>\n",
       "      <td>0.096483</td>\n",
       "      <td>-0.191834</td>\n",
       "      <td>2</td>\n",
       "    </tr>\n",
       "    <tr>\n",
       "      <th>3</th>\n",
       "      <td>-0.308496</td>\n",
       "      <td>-0.256856</td>\n",
       "      <td>-0.299157</td>\n",
       "      <td>-0.197525</td>\n",
       "      <td>-0.239276</td>\n",
       "      <td>-0.283775</td>\n",
       "      <td>-0.120614</td>\n",
       "      <td>-0.360136</td>\n",
       "      <td>-0.140941</td>\n",
       "      <td>-0.166761</td>\n",
       "      <td>...</td>\n",
       "      <td>-0.004149</td>\n",
       "      <td>-0.084356</td>\n",
       "      <td>-0.233233</td>\n",
       "      <td>-0.227740</td>\n",
       "      <td>0.065071</td>\n",
       "      <td>-0.173902</td>\n",
       "      <td>-0.274436</td>\n",
       "      <td>-0.159619</td>\n",
       "      <td>-0.239276</td>\n",
       "      <td>2</td>\n",
       "    </tr>\n",
       "    <tr>\n",
       "      <th>4</th>\n",
       "      <td>-0.262352</td>\n",
       "      <td>-0.259978</td>\n",
       "      <td>-0.154330</td>\n",
       "      <td>-0.249294</td>\n",
       "      <td>-0.364042</td>\n",
       "      <td>-0.706703</td>\n",
       "      <td>-0.229510</td>\n",
       "      <td>-0.338323</td>\n",
       "      <td>-0.193107</td>\n",
       "      <td>-0.089043</td>\n",
       "      <td>...</td>\n",
       "      <td>0.463725</td>\n",
       "      <td>0.010669</td>\n",
       "      <td>-0.253647</td>\n",
       "      <td>-0.255625</td>\n",
       "      <td>0.405164</td>\n",
       "      <td>-0.132568</td>\n",
       "      <td>-0.175697</td>\n",
       "      <td>0.021353</td>\n",
       "      <td>-0.223575</td>\n",
       "      <td>2</td>\n",
       "    </tr>\n",
       "    <tr>\n",
       "      <th>5</th>\n",
       "      <td>-0.274458</td>\n",
       "      <td>-0.154017</td>\n",
       "      <td>-0.061023</td>\n",
       "      <td>-0.098712</td>\n",
       "      <td>-0.452661</td>\n",
       "      <td>-0.454710</td>\n",
       "      <td>-0.274458</td>\n",
       "      <td>-0.367451</td>\n",
       "      <td>-0.183922</td>\n",
       "      <td>-0.108544</td>\n",
       "      <td>...</td>\n",
       "      <td>0.068021</td>\n",
       "      <td>0.089733</td>\n",
       "      <td>-0.383428</td>\n",
       "      <td>-0.210960</td>\n",
       "      <td>0.016403</td>\n",
       "      <td>-0.112231</td>\n",
       "      <td>-0.308050</td>\n",
       "      <td>0.056141</td>\n",
       "      <td>-0.375645</td>\n",
       "      <td>2</td>\n",
       "    </tr>\n",
       "  </tbody>\n",
       "</table>\n",
       "<p>5 rows × 7129 columns</p>\n",
       "</div>"
      ],
      "text/plain": [
       "   x.AFFX.BioB.5.at  x.AFFX.BioB.M.at  x.AFFX.BioB.3.at  x.AFFX.BioC.5.at  \\\n",
       "1         -0.231140         -0.242715         -0.183060         -0.041937   \n",
       "2         -0.217881         -0.327010         -0.219228         -0.087645   \n",
       "3         -0.308496         -0.256856         -0.299157         -0.197525   \n",
       "4         -0.262352         -0.259978         -0.154330         -0.249294   \n",
       "5         -0.274458         -0.154017         -0.061023         -0.098712   \n",
       "\n",
       "   x.AFFX.BioC.3.at  x.AFFX.BioDn.5.at  x.AFFX.BioDn.3.at  x.AFFX.CreX.5.at  \\\n",
       "1         -0.479553          -0.394078           0.039086         -0.291240   \n",
       "2         -0.463983          -0.511138           0.144985         -0.428505   \n",
       "3         -0.239276          -0.283775          -0.120614         -0.360136   \n",
       "4         -0.364042          -0.706703          -0.229510         -0.338323   \n",
       "5         -0.452661          -0.454710          -0.274458         -0.367451   \n",
       "\n",
       "   x.AFFX.CreX.3.at  x.AFFX.BioB.5.st  ...  x.U58516.at  x.U73738.at  \\\n",
       "1         -0.228024         -0.100701  ...    -0.050841    -0.309048   \n",
       "2         -0.194977         -0.262790  ...     0.464738    -0.199019   \n",
       "3         -0.140941         -0.166761  ...    -0.004149    -0.084356   \n",
       "4         -0.193107         -0.089043  ...     0.463725     0.010669   \n",
       "5         -0.183922         -0.108544  ...     0.068021     0.089733   \n",
       "\n",
       "   x.X06956.at  x.X16699.at  x.X83863.at  x.Z17240.at  x.L49218.f.at  \\\n",
       "1    -0.261858    -0.197752     0.110761     0.069804      -0.193300   \n",
       "2     0.025077    -0.254707     0.207858    -0.117734      -0.102015   \n",
       "3    -0.233233    -0.227740     0.065071    -0.173902      -0.274436   \n",
       "4    -0.253647    -0.255625     0.405164    -0.132568      -0.175697   \n",
       "5    -0.383428    -0.210960     0.016403    -0.112231      -0.308050   \n",
       "\n",
       "   x.M71243.f.at  x.Z78285.f.at  y  \n",
       "1       0.013711      -0.199087  2  \n",
       "2       0.096483      -0.191834  2  \n",
       "3      -0.159619      -0.239276  2  \n",
       "4       0.021353      -0.223575  2  \n",
       "5       0.056141      -0.375645  2  \n",
       "\n",
       "[5 rows x 7129 columns]"
      ]
     },
     "execution_count": 2,
     "metadata": {},
     "output_type": "execute_result"
    }
   ],
   "source": [
    "cns = pd.read_csv('cns.csv')\n",
    "cns.head()"
   ]
  },
  {
   "cell_type": "code",
   "execution_count": 3,
   "metadata": {},
   "outputs": [
    {
     "name": "stdout",
     "output_type": "stream",
     "text": [
      "False\n"
     ]
    }
   ],
   "source": [
    "print(cns.isnull().values.any())\n"
   ]
  },
  {
   "cell_type": "code",
   "execution_count": 4,
   "metadata": {},
   "outputs": [],
   "source": [
    "features=cns.iloc[:,0:-1]\n",
    "labels=cns.iloc[:,-1]"
   ]
  },
  {
   "cell_type": "code",
   "execution_count": 5,
   "metadata": {},
   "outputs": [],
   "source": [
    "# Estandarizar\n",
    "\n",
    "min_max_scaler = preprocessing.MinMaxScaler()\n",
    "X = min_max_scaler.fit_transform(features)"
   ]
  },
  {
   "cell_type": "code",
   "execution_count": 6,
   "metadata": {},
   "outputs": [
    {
     "data": {
      "text/plain": [
       "array([[0.76977144, 0.72460051, 0.73475917, ..., 0.82484924, 0.86478722,\n",
       "        0.83183692],\n",
       "       [0.79632123, 0.51901313, 0.65615052, ..., 1.        , 1.        ,\n",
       "        0.8467659 ],\n",
       "       [0.61487744, 0.69011213, 0.48243042, ..., 0.66917029, 0.58164346,\n",
       "        0.74911813],\n",
       "       ...,\n",
       "       [0.43085597, 0.3112476 , 0.16300848, ..., 0.2510696 , 0.03330701,\n",
       "        0.22218608],\n",
       "       [0.58932403, 0.44619507, 0.72462594, ..., 0.9068894 , 0.85566845,\n",
       "        0.85846072],\n",
       "       [0.50712403, 0.40712679, 0.52396387, ..., 0.85344729, 0.83220874,\n",
       "        0.80065326]])"
      ]
     },
     "execution_count": 6,
     "metadata": {},
     "output_type": "execute_result"
    }
   ],
   "source": [
    "X"
   ]
  },
  {
   "cell_type": "code",
   "execution_count": 7,
   "metadata": {},
   "outputs": [],
   "source": [
    "y = np.transpose(np.asarray(labels.values - 1, dtype=int))\n"
   ]
  },
  {
   "cell_type": "code",
   "execution_count": 8,
   "metadata": {},
   "outputs": [
    {
     "data": {
      "text/plain": [
       "array([1, 1, 1, 1, 1, 1, 1, 0, 0, 1, 1, 1, 0, 0, 0, 1, 1, 1, 1, 1, 0, 1,\n",
       "       1, 1, 1, 0, 1, 1, 1, 0, 0, 1, 0, 0, 1, 0, 0, 0, 0, 1, 1, 0, 1, 1,\n",
       "       0, 0, 1, 1, 0, 0, 1, 1, 1, 1, 1, 0, 1, 1, 1, 1])"
      ]
     },
     "execution_count": 8,
     "metadata": {},
     "output_type": "execute_result"
    }
   ],
   "source": [
    "y"
   ]
  },
  {
   "cell_type": "markdown",
   "metadata": {},
   "source": [
    "# 1. SVC"
   ]
  },
  {
   "cell_type": "code",
   "execution_count": 9,
   "metadata": {},
   "outputs": [
    {
     "name": "stdout",
     "output_type": "stream",
     "text": [
      "CPU times: user 7.27 s, sys: 107 ms, total: 7.38 s\n",
      "Wall time: 1.85 s\n"
     ]
    }
   ],
   "source": [
    "%%time\n",
    "clf_svc = SVC(kernel='linear', C=1, probability=False, random_state=SEED) \n",
    "scores_clf_svc = cross_validate(clf_svc, X, y, cv=10, scoring=('accuracy','precision','recall','f1', 'roc_auc'),return_train_score=True)"
   ]
  },
  {
   "cell_type": "code",
   "execution_count": 10,
   "metadata": {},
   "outputs": [
    {
     "name": "stdout",
     "output_type": "stream",
     "text": [
      "Accuracy: 0.679047619047619\n",
      "Precision: 0.78\n",
      "Recall: 0.7916666666666667\n",
      "F1: 0.7568253968253968\n",
      "ROC-AUC: 0.6208333333333333\n"
     ]
    }
   ],
   "source": [
    "print('Accuracy:', np.mean(scores_clf_svc['test_accuracy']))\n",
    "print('Precision:', np.mean(scores_clf_svc['test_precision']))\n",
    "print('Recall:', np.mean(scores_clf_svc['test_recall']))\n",
    "print('F1:', np.mean(scores_clf_svc['test_f1']))\n",
    "print('ROC-AUC:', np.mean(scores_clf_svc['test_roc_auc']))"
   ]
  },
  {
   "cell_type": "markdown",
   "metadata": {},
   "source": [
    "# 2. NAIVE BAYES"
   ]
  },
  {
   "cell_type": "code",
   "execution_count": 11,
   "metadata": {},
   "outputs": [
    {
     "name": "stdout",
     "output_type": "stream",
     "text": [
      "CPU times: user 659 ms, sys: 28 ms, total: 687 ms\n",
      "Wall time: 346 ms\n"
     ]
    },
    {
     "name": "stderr",
     "output_type": "stream",
     "text": [
      "/home/nacho/anaconda3/envs/tfm/lib/python3.7/site-packages/sklearn/metrics/classification.py:1437: UndefinedMetricWarning: Precision is ill-defined and being set to 0.0 due to no predicted samples.\n",
      "  'precision', 'predicted', average, warn_for)\n",
      "/home/nacho/anaconda3/envs/tfm/lib/python3.7/site-packages/sklearn/metrics/classification.py:1437: UndefinedMetricWarning: F-score is ill-defined and being set to 0.0 due to no predicted samples.\n",
      "  'precision', 'predicted', average, warn_for)\n"
     ]
    }
   ],
   "source": [
    "%%time\n",
    "clf_nb = GaussianNB()\n",
    "scores_clf_nb = cross_validate(clf_nb, X, y, cv=10, scoring=('accuracy','precision','recall','f1','roc_auc'),return_train_score=True)\n"
   ]
  },
  {
   "cell_type": "code",
   "execution_count": 12,
   "metadata": {},
   "outputs": [
    {
     "name": "stdout",
     "output_type": "stream",
     "text": [
      "Accuracy: 0.6647619047619047\n",
      "Precision: 0.6633333333333333\n",
      "Recall: 0.8\n",
      "F1: 0.7151587301587301\n",
      "ROC-AUC: 0.6479166666666667\n"
     ]
    }
   ],
   "source": [
    "print('Accuracy:', np.mean(scores_clf_nb['test_accuracy']))\n",
    "print('Precision:', np.mean(scores_clf_nb['test_precision']))\n",
    "print('Recall:', np.mean(scores_clf_nb['test_recall']))\n",
    "print('F1:', np.mean(scores_clf_nb['test_f1']))\n",
    "print('ROC-AUC:', np.mean(scores_clf_nb['test_roc_auc']))"
   ]
  },
  {
   "cell_type": "markdown",
   "metadata": {},
   "source": [
    "# 3. RANDOM FORESTS"
   ]
  },
  {
   "cell_type": "code",
   "execution_count": 13,
   "metadata": {},
   "outputs": [
    {
     "name": "stdout",
     "output_type": "stream",
     "text": [
      "CPU times: user 5.14 s, sys: 831 ms, total: 5.98 s\n",
      "Wall time: 13.1 s\n"
     ]
    }
   ],
   "source": [
    "%%time\n",
    "clf_rf = RandomForestClassifier(n_estimators=100, n_jobs=-1, class_weight='balanced', random_state=SEED)\n",
    "scores_clf_rf = cross_validate(clf_rf, X, y, cv=10, scoring=('accuracy','precision','recall','f1', 'roc_auc'),return_train_score=True)\n",
    "\n"
   ]
  },
  {
   "cell_type": "code",
   "execution_count": 14,
   "metadata": {},
   "outputs": [
    {
     "name": "stdout",
     "output_type": "stream",
     "text": [
      "Accuracy: 0.667142857142857\n",
      "Precision: 0.6904761904761905\n",
      "Recall: 0.95\n",
      "F1: 0.788997113997114\n",
      "ROC-AUC: 0.6\n"
     ]
    }
   ],
   "source": [
    "print('Accuracy:', np.mean(scores_clf_rf['test_accuracy']))\n",
    "print('Precision:', np.mean(scores_clf_rf['test_precision']))\n",
    "print('Recall:', np.mean(scores_clf_rf['test_recall']))\n",
    "print('F1:', np.mean(scores_clf_rf['test_f1']))\n",
    "print('ROC-AUC:', np.mean(scores_clf_rf['test_roc_auc']))"
   ]
  },
  {
   "cell_type": "markdown",
   "metadata": {},
   "source": [
    "## SELECCIONAR VARIABLES USANDO PUNTUACION F"
   ]
  },
  {
   "cell_type": "code",
   "execution_count": 15,
   "metadata": {},
   "outputs": [],
   "source": [
    "feat_sel_f = SelectKBest(f_classif, k=10) \n",
    "\n"
   ]
  },
  {
   "cell_type": "code",
   "execution_count": 16,
   "metadata": {},
   "outputs": [],
   "source": [
    "pipe_f_svc = Pipeline([('F Score',feat_sel_f), ('SVM',clf_svc)])\n"
   ]
  },
  {
   "cell_type": "code",
   "execution_count": 17,
   "metadata": {},
   "outputs": [
    {
     "name": "stdout",
     "output_type": "stream",
     "text": [
      "CPU times: user 245 ms, sys: 36.2 ms, total: 281 ms\n",
      "Wall time: 280 ms\n"
     ]
    }
   ],
   "source": [
    "%%time\n",
    "\n",
    "scores_f_svc = cross_validate(pipe_f_svc, X, y, cv=10, scoring=('accuracy','precision','recall','f1', 'roc_auc'),return_train_score=True)"
   ]
  },
  {
   "cell_type": "code",
   "execution_count": 18,
   "metadata": {},
   "outputs": [
    {
     "name": "stdout",
     "output_type": "stream",
     "text": [
      "Accuracy SVC: 0.6614285714285715\n",
      "Precision SVC: 0.72\n",
      "Recall SVC: 0.8166666666666667\n",
      "F1 SVC: 0.7415873015873016\n",
      "ROC-AUC SVC: 0.6125\n"
     ]
    }
   ],
   "source": [
    "print('Accuracy SVC:', np.mean(scores_f_svc['test_accuracy']))\n",
    "print('Precision SVC:', np.mean(scores_f_svc['test_precision']))\n",
    "print('Recall SVC:', np.mean(scores_f_svc['test_recall']))\n",
    "print('F1 SVC:', np.mean(scores_f_svc['test_f1']))\n",
    "print('ROC-AUC SVC:', np.mean(scores_f_svc['test_roc_auc']))"
   ]
  },
  {
   "cell_type": "code",
   "execution_count": 19,
   "metadata": {},
   "outputs": [],
   "source": [
    "pipe_f_nb = Pipeline([('F Score',feat_sel_f), ('NB',clf_nb)])\n"
   ]
  },
  {
   "cell_type": "code",
   "execution_count": 20,
   "metadata": {},
   "outputs": [
    {
     "name": "stdout",
     "output_type": "stream",
     "text": [
      "CPU times: user 238 ms, sys: 28.2 ms, total: 266 ms\n",
      "Wall time: 265 ms\n"
     ]
    }
   ],
   "source": [
    "%%time\n",
    "\n",
    "scores_f_nb = cross_validate(pipe_f_nb, X, y, cv=10, scoring=('accuracy','precision','recall','f1', 'roc_auc'),return_train_score=True)\n"
   ]
  },
  {
   "cell_type": "code",
   "execution_count": 21,
   "metadata": {},
   "outputs": [
    {
     "name": "stdout",
     "output_type": "stream",
     "text": [
      "Accuracy NB: 0.6671428571428571\n",
      "Precision NB: 0.7416666666666667\n",
      "Recall NB: 0.7416666666666667\n",
      "F1 NB: 0.7250000000000001\n",
      "ROC-AUC NB: 0.5791666666666667\n"
     ]
    }
   ],
   "source": [
    "print('Accuracy NB:', np.mean(scores_f_nb['test_accuracy']))\n",
    "print('Precision NB:', np.mean(scores_f_nb['test_precision']))\n",
    "print('Recall NB:', np.mean(scores_f_nb['test_recall']))\n",
    "print('F1 NB:', np.mean(scores_f_nb['test_f1']))\n",
    "print('ROC-AUC NB:', np.mean(scores_f_nb['test_roc_auc']))"
   ]
  },
  {
   "cell_type": "code",
   "execution_count": 22,
   "metadata": {},
   "outputs": [],
   "source": [
    "pipe_f_rf = Pipeline([('F Score',feat_sel_f), ('RF',clf_rf)])\n"
   ]
  },
  {
   "cell_type": "code",
   "execution_count": 23,
   "metadata": {},
   "outputs": [
    {
     "name": "stdout",
     "output_type": "stream",
     "text": [
      "CPU times: user 4.67 s, sys: 917 ms, total: 5.58 s\n",
      "Wall time: 12.4 s\n"
     ]
    }
   ],
   "source": [
    "%%time\n",
    "\n",
    "\n",
    "scores_f_rf = cross_validate(pipe_f_rf, X, y, cv=10, scoring=('accuracy','precision','recall','f1', 'roc_auc'),return_train_score=True)"
   ]
  },
  {
   "cell_type": "code",
   "execution_count": 24,
   "metadata": {},
   "outputs": [
    {
     "name": "stdout",
     "output_type": "stream",
     "text": [
      "Accuracy RF: 0.6304761904761904\n",
      "Precision RF: 0.6804761904761906\n",
      "Recall RF: 0.7916666666666667\n",
      "F1 RF: 0.7170129870129871\n",
      "ROC-AUC RF: 0.6000000000000001\n"
     ]
    }
   ],
   "source": [
    "print('Accuracy RF:', np.mean(scores_f_rf['test_accuracy']))\n",
    "print('Precision RF:', np.mean(scores_f_rf['test_precision']))\n",
    "print('Recall RF:', np.mean(scores_f_rf['test_recall']))\n",
    "print('F1 RF:', np.mean(scores_f_rf['test_f1']))\n",
    "print('ROC-AUC RF:', np.mean(scores_f_rf['test_roc_auc']))"
   ]
  },
  {
   "cell_type": "markdown",
   "metadata": {},
   "source": [
    "## SELECCIONAR VARIABLES USANDO Chi-Cuadrado"
   ]
  },
  {
   "cell_type": "code",
   "execution_count": 25,
   "metadata": {},
   "outputs": [],
   "source": [
    "feat_sel_chi = SelectKBest(chi2, k=10) \n",
    "\n"
   ]
  },
  {
   "cell_type": "code",
   "execution_count": 26,
   "metadata": {},
   "outputs": [],
   "source": [
    "pipe_chi_svc = Pipeline([('Chi-cuadrado',feat_sel_chi), ('SVM',clf_svc)])\n"
   ]
  },
  {
   "cell_type": "code",
   "execution_count": 27,
   "metadata": {},
   "outputs": [
    {
     "name": "stdout",
     "output_type": "stream",
     "text": [
      "CPU times: user 246 ms, sys: 40.1 ms, total: 286 ms\n",
      "Wall time: 285 ms\n"
     ]
    }
   ],
   "source": [
    "%%time\n",
    "\n",
    "scores_chi_svc = cross_validate(pipe_f_svc, X, y, cv=10, scoring=('accuracy','precision','recall','f1', 'roc_auc'),return_train_score=True)"
   ]
  },
  {
   "cell_type": "code",
   "execution_count": 28,
   "metadata": {},
   "outputs": [
    {
     "name": "stdout",
     "output_type": "stream",
     "text": [
      "Accuracy SVC: 0.6614285714285715\n",
      "Precision SVC: 0.72\n",
      "Recall SVC: 0.8166666666666667\n",
      "F1 SVC: 0.7415873015873016\n",
      "ROC-AUC SVC: 0.6125\n"
     ]
    }
   ],
   "source": [
    "print('Accuracy SVC:', np.mean(scores_chi_svc['test_accuracy']))\n",
    "print('Precision SVC:', np.mean(scores_chi_svc['test_precision']))\n",
    "print('Recall SVC:', np.mean(scores_chi_svc['test_recall']))\n",
    "print('F1 SVC:', np.mean(scores_chi_svc['test_f1']))\n",
    "print('ROC-AUC SVC:', np.mean(scores_chi_svc['test_roc_auc']))"
   ]
  },
  {
   "cell_type": "code",
   "execution_count": 29,
   "metadata": {},
   "outputs": [],
   "source": [
    "pipe_chi_nb = Pipeline([('Chi-cuadrado',feat_sel_chi), ('NB',clf_nb)])\n"
   ]
  },
  {
   "cell_type": "code",
   "execution_count": 30,
   "metadata": {},
   "outputs": [
    {
     "name": "stdout",
     "output_type": "stream",
     "text": [
      "CPU times: user 870 ms, sys: 4.23 ms, total: 875 ms\n",
      "Wall time: 226 ms\n"
     ]
    }
   ],
   "source": [
    "%%time\n",
    "\n",
    "\n",
    "scores_chi_nb = cross_validate(pipe_chi_nb, X, y, cv=10, scoring=('accuracy','precision','recall','f1', 'roc_auc'),return_train_score=True)\n"
   ]
  },
  {
   "cell_type": "code",
   "execution_count": 31,
   "metadata": {},
   "outputs": [
    {
     "name": "stdout",
     "output_type": "stream",
     "text": [
      "Accuracy NB: 0.6480952380952381\n",
      "Precision NB: 0.795\n",
      "Recall NB: 0.6916666666666667\n",
      "F1 NB: 0.6965873015873016\n",
      "ROC-AUC NB: 0.6375\n"
     ]
    }
   ],
   "source": [
    "print('Accuracy NB:', np.mean(scores_chi_nb['test_accuracy']))\n",
    "print('Precision NB:', np.mean(scores_chi_nb['test_precision']))\n",
    "print('Recall NB:', np.mean(scores_chi_nb['test_recall']))\n",
    "print('F1 NB:', np.mean(scores_chi_nb['test_f1']))\n",
    "print('ROC-AUC NB:', np.mean(scores_chi_nb['test_roc_auc']))"
   ]
  },
  {
   "cell_type": "code",
   "execution_count": 32,
   "metadata": {},
   "outputs": [],
   "source": [
    "pipe_chi_rf = Pipeline([('Chi-cuadrado',feat_sel_chi), ('RF',clf_rf)])\n"
   ]
  },
  {
   "cell_type": "code",
   "execution_count": 33,
   "metadata": {},
   "outputs": [
    {
     "name": "stdout",
     "output_type": "stream",
     "text": [
      "CPU times: user 10.5 s, sys: 708 ms, total: 11.2 s\n",
      "Wall time: 12.4 s\n"
     ]
    }
   ],
   "source": [
    "%%time\n",
    "\n",
    "scores_chi_rf = cross_validate(pipe_chi_rf, X, y, cv=10, scoring=('accuracy','precision','recall','f1', 'roc_auc'),return_train_score=True)"
   ]
  },
  {
   "cell_type": "code",
   "execution_count": 34,
   "metadata": {},
   "outputs": [
    {
     "name": "stdout",
     "output_type": "stream",
     "text": [
      "Accuracy RF: 0.7066666666666668\n",
      "Precision RF: 0.76\n",
      "Recall RF: 0.8666666666666666\n",
      "F1 RF: 0.7915873015873015\n",
      "ROC-AUC RF: 0.6791666666666667\n"
     ]
    }
   ],
   "source": [
    "print('Accuracy RF:', np.mean(scores_chi_rf['test_accuracy']))\n",
    "print('Precision RF:', np.mean(scores_chi_rf['test_precision']))\n",
    "print('Recall RF:', np.mean(scores_chi_rf['test_recall']))\n",
    "print('F1 RF:', np.mean(scores_chi_rf['test_f1']))\n",
    "print('ROC-AUC RF:', np.mean(scores_chi_rf['test_roc_auc']))"
   ]
  },
  {
   "cell_type": "markdown",
   "metadata": {},
   "source": [
    "## SELECCIONAR VARIABLES USANDO ARBOLES DE DECISION"
   ]
  },
  {
   "cell_type": "code",
   "execution_count": 35,
   "metadata": {},
   "outputs": [],
   "source": [
    "pipe_dt_svc = Pipeline([('DT', SelectFromModel(clf_rf, max_features=10, threshold=-np.inf)), ('SVC',clf_svc)])\n"
   ]
  },
  {
   "cell_type": "code",
   "execution_count": 36,
   "metadata": {},
   "outputs": [
    {
     "name": "stdout",
     "output_type": "stream",
     "text": [
      "CPU times: user 5.8 s, sys: 413 ms, total: 6.21 s\n",
      "Wall time: 7.47 s\n"
     ]
    }
   ],
   "source": [
    "%%time\n",
    "\n",
    "scores_dt_svc = cross_validate(pipe_dt_svc, X, y, cv=10, scoring=('accuracy','precision','recall','f1', 'roc_auc'),return_train_score=True)"
   ]
  },
  {
   "cell_type": "code",
   "execution_count": 37,
   "metadata": {},
   "outputs": [
    {
     "name": "stdout",
     "output_type": "stream",
     "text": [
      "Accuracy DT: 0.6004761904761904\n",
      "Precision DT: 0.6504761904761904\n",
      "Recall DT: 0.8416666666666666\n",
      "F1 DT: 0.7254256854256854\n",
      "ROC-AUC DT: 0.6083333333333333\n"
     ]
    }
   ],
   "source": [
    "print('Accuracy DT:', np.mean(scores_dt_svc['test_accuracy']))\n",
    "print('Precision DT:', np.mean(scores_dt_svc['test_precision']))\n",
    "print('Recall DT:', np.mean(scores_dt_svc['test_recall']))\n",
    "print('F1 DT:', np.mean(scores_dt_svc['test_f1']))\n",
    "print('ROC-AUC DT:', np.mean(scores_dt_svc['test_roc_auc']))"
   ]
  },
  {
   "cell_type": "code",
   "execution_count": 38,
   "metadata": {},
   "outputs": [],
   "source": [
    "pipe_dt_nb = Pipeline([('DT', SelectFromModel(clf_rf, max_features=10, threshold=-np.inf)), ('SVC',clf_nb)])\n"
   ]
  },
  {
   "cell_type": "code",
   "execution_count": 39,
   "metadata": {},
   "outputs": [
    {
     "name": "stdout",
     "output_type": "stream",
     "text": [
      "CPU times: user 5.8 s, sys: 354 ms, total: 6.16 s\n",
      "Wall time: 7.54 s\n"
     ]
    }
   ],
   "source": [
    "%%time\n",
    "\n",
    "scores_dt_nb = cross_validate(pipe_dt_nb, X, y, cv=10, scoring=('accuracy','precision','recall','f1', 'roc_auc'),return_train_score=True)"
   ]
  },
  {
   "cell_type": "code",
   "execution_count": 40,
   "metadata": {},
   "outputs": [
    {
     "name": "stdout",
     "output_type": "stream",
     "text": [
      "Accuracy DT: 0.5671428571428571\n",
      "Precision DT: 0.6854761904761906\n",
      "Recall DT: 0.6916666666666667\n",
      "F1 DT: 0.6658225108225108\n",
      "ROC-AUC DT: 0.6416666666666667\n"
     ]
    }
   ],
   "source": [
    "print('Accuracy DT:', np.mean(scores_dt_nb['test_accuracy']))\n",
    "print('Precision DT:', np.mean(scores_dt_nb['test_precision']))\n",
    "print('Recall DT:', np.mean(scores_dt_nb['test_recall']))\n",
    "print('F1 DT:', np.mean(scores_dt_nb['test_f1']))\n",
    "print('ROC-AUC DT:', np.mean(scores_dt_nb['test_roc_auc']))"
   ]
  },
  {
   "cell_type": "code",
   "execution_count": 41,
   "metadata": {},
   "outputs": [],
   "source": [
    "pipe_dt_rf = Pipeline([('DT', SelectFromModel(clf_rf, max_features=10, threshold=-np.inf)), ('SVC',clf_rf)])\n"
   ]
  },
  {
   "cell_type": "code",
   "execution_count": 42,
   "metadata": {},
   "outputs": [
    {
     "name": "stdout",
     "output_type": "stream",
     "text": [
      "CPU times: user 11.9 s, sys: 715 ms, total: 12.6 s\n",
      "Wall time: 21.6 s\n"
     ]
    }
   ],
   "source": [
    "%%time\n",
    "\n",
    "scores_dt_rf = cross_validate(pipe_dt_rf, X, y, cv=10, scoring=('accuracy','precision','recall','f1', 'roc_auc'),return_train_score=True)"
   ]
  },
  {
   "cell_type": "code",
   "execution_count": 43,
   "metadata": {},
   "outputs": [
    {
     "name": "stdout",
     "output_type": "stream",
     "text": [
      "Accuracy DT: 0.6004761904761904\n",
      "Precision DT: 0.6599999999999999\n",
      "Recall DT: 0.7666666666666667\n",
      "F1 DT: 0.7012698412698414\n",
      "ROC-AUC DT: 0.60625\n"
     ]
    }
   ],
   "source": [
    "print('Accuracy DT:', np.mean(scores_dt_rf['test_accuracy']))\n",
    "print('Precision DT:', np.mean(scores_dt_rf['test_precision']))\n",
    "print('Recall DT:', np.mean(scores_dt_rf['test_recall']))\n",
    "print('F1 DT:', np.mean(scores_dt_rf['test_f1']))\n",
    "print('ROC-AUC DT:', np.mean(scores_dt_rf['test_roc_auc']))"
   ]
  },
  {
   "cell_type": "markdown",
   "metadata": {},
   "source": [
    "## SELECCIONAR VARIABLES USANDO LOGISTIC REGRESSION Y L1"
   ]
  },
  {
   "cell_type": "code",
   "execution_count": 44,
   "metadata": {},
   "outputs": [],
   "source": [
    "pipe_l1_svc = Pipeline([('LR', SelectFromModel(LogisticRegression(penalty='l1', solver='liblinear'), max_features=10, threshold=-np.inf)), ('SVC',clf_svc)])\n"
   ]
  },
  {
   "cell_type": "code",
   "execution_count": 45,
   "metadata": {},
   "outputs": [
    {
     "name": "stdout",
     "output_type": "stream",
     "text": [
      "CPU times: user 325 ms, sys: 24 ms, total: 349 ms\n",
      "Wall time: 348 ms\n"
     ]
    }
   ],
   "source": [
    "%%time\n",
    "\n",
    "scores_l1_svc = cross_validate(pipe_l1_svc, X, y, cv=10, scoring=('accuracy','precision','recall','f1', 'roc_auc'),return_train_score=True)"
   ]
  },
  {
   "cell_type": "code",
   "execution_count": 46,
   "metadata": {},
   "outputs": [
    {
     "name": "stdout",
     "output_type": "stream",
     "text": [
      "Accuracy LR: 0.667142857142857\n",
      "Precision LR: 0.7849999999999999\n",
      "Recall LR: 0.7166666666666667\n",
      "F1 LR: 0.7132539682539684\n",
      "ROC-AUC LR: 0.6541666666666667\n"
     ]
    }
   ],
   "source": [
    "print('Accuracy LR:', np.mean(scores_l1_svc['test_accuracy']))\n",
    "print('Precision LR:', np.mean(scores_l1_svc['test_precision']))\n",
    "print('Recall LR:', np.mean(scores_l1_svc['test_recall']))\n",
    "print('F1 LR:', np.mean(scores_l1_svc['test_f1']))\n",
    "print('ROC-AUC LR:', np.mean(scores_l1_svc['test_roc_auc']))"
   ]
  },
  {
   "cell_type": "code",
   "execution_count": 47,
   "metadata": {},
   "outputs": [],
   "source": [
    "pipe_l1_nb = Pipeline([('LR', SelectFromModel(LogisticRegression(penalty='l1', solver='liblinear'), max_features=10, threshold=-np.inf)), ('NB',clf_nb)])\n"
   ]
  },
  {
   "cell_type": "code",
   "execution_count": 48,
   "metadata": {},
   "outputs": [
    {
     "name": "stdout",
     "output_type": "stream",
     "text": [
      "CPU times: user 348 ms, sys: 0 ns, total: 348 ms\n",
      "Wall time: 347 ms\n"
     ]
    }
   ],
   "source": [
    "%%time\n",
    "\n",
    "scores_l1_nb = cross_validate(pipe_l1_nb, X, y, cv=10, scoring=('accuracy','precision','recall','f1', 'roc_auc'),return_train_score=True)"
   ]
  },
  {
   "cell_type": "code",
   "execution_count": 49,
   "metadata": {},
   "outputs": [
    {
     "name": "stdout",
     "output_type": "stream",
     "text": [
      "Accuracy LR: 0.628095238095238\n",
      "Precision LR: 0.7566666666666666\n",
      "Recall LR: 0.7166666666666667\n",
      "F1 LR: 0.6993650793650794\n",
      "ROC-AUC LR: 0.7250000000000001\n"
     ]
    }
   ],
   "source": [
    "print('Accuracy LR:', np.mean(scores_l1_nb['test_accuracy']))\n",
    "print('Precision LR:', np.mean(scores_l1_nb['test_precision']))\n",
    "print('Recall LR:', np.mean(scores_l1_nb['test_recall']))\n",
    "print('F1 LR:', np.mean(scores_l1_nb['test_f1']))\n",
    "print('ROC-AUC LR:', np.mean(scores_l1_nb['test_roc_auc']))"
   ]
  },
  {
   "cell_type": "code",
   "execution_count": 50,
   "metadata": {},
   "outputs": [],
   "source": [
    "pipe_l1_rf = Pipeline([('LR', SelectFromModel(LogisticRegression(penalty='l1', solver='liblinear'), max_features=10, threshold=-np.inf)), ('RF',clf_rf)])\n"
   ]
  },
  {
   "cell_type": "code",
   "execution_count": 51,
   "metadata": {},
   "outputs": [
    {
     "name": "stdout",
     "output_type": "stream",
     "text": [
      "CPU times: user 5.05 s, sys: 694 ms, total: 5.75 s\n",
      "Wall time: 12.4 s\n"
     ]
    }
   ],
   "source": [
    "%%time\n",
    "\n",
    "scores_l1_rf = cross_validate(pipe_l1_rf, X, y, cv=10, scoring=('accuracy','precision','recall','f1', 'roc_auc'),return_train_score=True)"
   ]
  },
  {
   "cell_type": "code",
   "execution_count": 52,
   "metadata": {},
   "outputs": [
    {
     "name": "stdout",
     "output_type": "stream",
     "text": [
      "Accuracy LR: 0.6780952380952382\n",
      "Precision LR: 0.7316666666666667\n",
      "Recall LR: 0.8666666666666666\n",
      "F1 LR: 0.7588095238095238\n",
      "ROC-AUC LR: 0.6145833333333334\n"
     ]
    }
   ],
   "source": [
    "print('Accuracy LR:', np.mean(scores_l1_rf['test_accuracy']))\n",
    "print('Precision LR:', np.mean(scores_l1_rf['test_precision']))\n",
    "print('Recall LR:', np.mean(scores_l1_rf['test_recall']))\n",
    "print('F1 LR:', np.mean(scores_l1_rf['test_f1']))\n",
    "print('ROC-AUC LR:', np.mean(scores_l1_rf['test_roc_auc']))"
   ]
  },
  {
   "cell_type": "code",
   "execution_count": 53,
   "metadata": {},
   "outputs": [],
   "source": [
    "dill.dump_session('CNS-CV.db')\n"
   ]
  },
  {
   "cell_type": "code",
   "execution_count": 54,
   "metadata": {},
   "outputs": [],
   "source": [
    "dill.load_session('CNS-CV.db')\n"
   ]
  },
  {
   "cell_type": "code",
   "execution_count": null,
   "metadata": {},
   "outputs": [],
   "source": []
  }
 ],
 "metadata": {
  "kernelspec": {
   "display_name": "Python 3",
   "language": "python",
   "name": "python3"
  },
  "language_info": {
   "codemirror_mode": {
    "name": "ipython",
    "version": 3
   },
   "file_extension": ".py",
   "mimetype": "text/x-python",
   "name": "python",
   "nbconvert_exporter": "python",
   "pygments_lexer": "ipython3",
   "version": "3.7.3"
  }
 },
 "nbformat": 4,
 "nbformat_minor": 2
}

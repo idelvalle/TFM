{
 "cells": [
  {
   "cell_type": "code",
   "execution_count": 1,
   "metadata": {},
   "outputs": [],
   "source": [
    "import numpy as np\n",
    "import pandas as pd\n",
    "import matplotlib.pyplot as plt\n",
    "import seaborn as sns\n",
    "import dill\n",
    "import warnings\n",
    "\n",
    "from sklearn.svm import LinearSVC, SVC\n",
    "from sklearn import preprocessing\n",
    "from sklearn.model_selection import train_test_split\n",
    "from sklearn import metrics\n",
    "from sklearn.naive_bayes import GaussianNB\n",
    "from sklearn.ensemble import RandomForestClassifier\n",
    "from skfeature.function.similarity_based import fisher_score, reliefF\n",
    "from skfeature.function.statistical_based import chi_square, f_score\n",
    "from boruta import BorutaPy\n",
    "from sklearn.feature_selection import RFE, SelectFromModel\n",
    "from mlxtend.feature_selection import SequentialFeatureSelector as sfs\n",
    "from sklearn.linear_model import LogisticRegression\n",
    "\n",
    "warnings.filterwarnings('ignore')\n",
    "%matplotlib inline\n",
    "SEED=50"
   ]
  },
  {
   "cell_type": "code",
   "execution_count": 2,
   "metadata": {},
   "outputs": [
    {
     "data": {
      "text/html": [
       "<div>\n",
       "<style scoped>\n",
       "    .dataframe tbody tr th:only-of-type {\n",
       "        vertical-align: middle;\n",
       "    }\n",
       "\n",
       "    .dataframe tbody tr th {\n",
       "        vertical-align: top;\n",
       "    }\n",
       "\n",
       "    .dataframe thead th {\n",
       "        text-align: right;\n",
       "    }\n",
       "</style>\n",
       "<table border=\"1\" class=\"dataframe\">\n",
       "  <thead>\n",
       "    <tr style=\"text-align: right;\">\n",
       "      <th></th>\n",
       "      <th>x.AFFX.BioB.5.at</th>\n",
       "      <th>x.AFFX.BioB.M.at</th>\n",
       "      <th>x.AFFX.BioB.3.at</th>\n",
       "      <th>x.AFFX.BioC.5.at</th>\n",
       "      <th>x.AFFX.BioC.3.at</th>\n",
       "      <th>x.AFFX.BioDn.5.at</th>\n",
       "      <th>x.AFFX.BioDn.3.at</th>\n",
       "      <th>x.AFFX.CreX.5.at</th>\n",
       "      <th>x.AFFX.CreX.3.at</th>\n",
       "      <th>x.AFFX.BioB.5.st</th>\n",
       "      <th>...</th>\n",
       "      <th>x.U58516.at</th>\n",
       "      <th>x.U73738.at</th>\n",
       "      <th>x.X06956.at</th>\n",
       "      <th>x.X16699.at</th>\n",
       "      <th>x.X83863.at</th>\n",
       "      <th>x.Z17240.at</th>\n",
       "      <th>x.L49218.f.at</th>\n",
       "      <th>x.M71243.f.at</th>\n",
       "      <th>x.Z78285.f.at</th>\n",
       "      <th>y</th>\n",
       "    </tr>\n",
       "  </thead>\n",
       "  <tbody>\n",
       "    <tr>\n",
       "      <th>1</th>\n",
       "      <td>-0.231140</td>\n",
       "      <td>-0.242715</td>\n",
       "      <td>-0.183060</td>\n",
       "      <td>-0.041937</td>\n",
       "      <td>-0.479553</td>\n",
       "      <td>-0.394078</td>\n",
       "      <td>0.039086</td>\n",
       "      <td>-0.291240</td>\n",
       "      <td>-0.228024</td>\n",
       "      <td>-0.100701</td>\n",
       "      <td>...</td>\n",
       "      <td>-0.050841</td>\n",
       "      <td>-0.309048</td>\n",
       "      <td>-0.261858</td>\n",
       "      <td>-0.197752</td>\n",
       "      <td>0.110761</td>\n",
       "      <td>0.069804</td>\n",
       "      <td>-0.193300</td>\n",
       "      <td>0.013711</td>\n",
       "      <td>-0.199087</td>\n",
       "      <td>2</td>\n",
       "    </tr>\n",
       "    <tr>\n",
       "      <th>2</th>\n",
       "      <td>-0.217881</td>\n",
       "      <td>-0.327010</td>\n",
       "      <td>-0.219228</td>\n",
       "      <td>-0.087645</td>\n",
       "      <td>-0.463983</td>\n",
       "      <td>-0.511138</td>\n",
       "      <td>0.144985</td>\n",
       "      <td>-0.428505</td>\n",
       "      <td>-0.194977</td>\n",
       "      <td>-0.262790</td>\n",
       "      <td>...</td>\n",
       "      <td>0.464738</td>\n",
       "      <td>-0.199019</td>\n",
       "      <td>0.025077</td>\n",
       "      <td>-0.254707</td>\n",
       "      <td>0.207858</td>\n",
       "      <td>-0.117734</td>\n",
       "      <td>-0.102015</td>\n",
       "      <td>0.096483</td>\n",
       "      <td>-0.191834</td>\n",
       "      <td>2</td>\n",
       "    </tr>\n",
       "    <tr>\n",
       "      <th>3</th>\n",
       "      <td>-0.308496</td>\n",
       "      <td>-0.256856</td>\n",
       "      <td>-0.299157</td>\n",
       "      <td>-0.197525</td>\n",
       "      <td>-0.239276</td>\n",
       "      <td>-0.283775</td>\n",
       "      <td>-0.120614</td>\n",
       "      <td>-0.360136</td>\n",
       "      <td>-0.140941</td>\n",
       "      <td>-0.166761</td>\n",
       "      <td>...</td>\n",
       "      <td>-0.004149</td>\n",
       "      <td>-0.084356</td>\n",
       "      <td>-0.233233</td>\n",
       "      <td>-0.227740</td>\n",
       "      <td>0.065071</td>\n",
       "      <td>-0.173902</td>\n",
       "      <td>-0.274436</td>\n",
       "      <td>-0.159619</td>\n",
       "      <td>-0.239276</td>\n",
       "      <td>2</td>\n",
       "    </tr>\n",
       "    <tr>\n",
       "      <th>4</th>\n",
       "      <td>-0.262352</td>\n",
       "      <td>-0.259978</td>\n",
       "      <td>-0.154330</td>\n",
       "      <td>-0.249294</td>\n",
       "      <td>-0.364042</td>\n",
       "      <td>-0.706703</td>\n",
       "      <td>-0.229510</td>\n",
       "      <td>-0.338323</td>\n",
       "      <td>-0.193107</td>\n",
       "      <td>-0.089043</td>\n",
       "      <td>...</td>\n",
       "      <td>0.463725</td>\n",
       "      <td>0.010669</td>\n",
       "      <td>-0.253647</td>\n",
       "      <td>-0.255625</td>\n",
       "      <td>0.405164</td>\n",
       "      <td>-0.132568</td>\n",
       "      <td>-0.175697</td>\n",
       "      <td>0.021353</td>\n",
       "      <td>-0.223575</td>\n",
       "      <td>2</td>\n",
       "    </tr>\n",
       "    <tr>\n",
       "      <th>5</th>\n",
       "      <td>-0.274458</td>\n",
       "      <td>-0.154017</td>\n",
       "      <td>-0.061023</td>\n",
       "      <td>-0.098712</td>\n",
       "      <td>-0.452661</td>\n",
       "      <td>-0.454710</td>\n",
       "      <td>-0.274458</td>\n",
       "      <td>-0.367451</td>\n",
       "      <td>-0.183922</td>\n",
       "      <td>-0.108544</td>\n",
       "      <td>...</td>\n",
       "      <td>0.068021</td>\n",
       "      <td>0.089733</td>\n",
       "      <td>-0.383428</td>\n",
       "      <td>-0.210960</td>\n",
       "      <td>0.016403</td>\n",
       "      <td>-0.112231</td>\n",
       "      <td>-0.308050</td>\n",
       "      <td>0.056141</td>\n",
       "      <td>-0.375645</td>\n",
       "      <td>2</td>\n",
       "    </tr>\n",
       "  </tbody>\n",
       "</table>\n",
       "<p>5 rows × 7129 columns</p>\n",
       "</div>"
      ],
      "text/plain": [
       "   x.AFFX.BioB.5.at  x.AFFX.BioB.M.at  x.AFFX.BioB.3.at  x.AFFX.BioC.5.at  \\\n",
       "1         -0.231140         -0.242715         -0.183060         -0.041937   \n",
       "2         -0.217881         -0.327010         -0.219228         -0.087645   \n",
       "3         -0.308496         -0.256856         -0.299157         -0.197525   \n",
       "4         -0.262352         -0.259978         -0.154330         -0.249294   \n",
       "5         -0.274458         -0.154017         -0.061023         -0.098712   \n",
       "\n",
       "   x.AFFX.BioC.3.at  x.AFFX.BioDn.5.at  x.AFFX.BioDn.3.at  x.AFFX.CreX.5.at  \\\n",
       "1         -0.479553          -0.394078           0.039086         -0.291240   \n",
       "2         -0.463983          -0.511138           0.144985         -0.428505   \n",
       "3         -0.239276          -0.283775          -0.120614         -0.360136   \n",
       "4         -0.364042          -0.706703          -0.229510         -0.338323   \n",
       "5         -0.452661          -0.454710          -0.274458         -0.367451   \n",
       "\n",
       "   x.AFFX.CreX.3.at  x.AFFX.BioB.5.st  ...  x.U58516.at  x.U73738.at  \\\n",
       "1         -0.228024         -0.100701  ...    -0.050841    -0.309048   \n",
       "2         -0.194977         -0.262790  ...     0.464738    -0.199019   \n",
       "3         -0.140941         -0.166761  ...    -0.004149    -0.084356   \n",
       "4         -0.193107         -0.089043  ...     0.463725     0.010669   \n",
       "5         -0.183922         -0.108544  ...     0.068021     0.089733   \n",
       "\n",
       "   x.X06956.at  x.X16699.at  x.X83863.at  x.Z17240.at  x.L49218.f.at  \\\n",
       "1    -0.261858    -0.197752     0.110761     0.069804      -0.193300   \n",
       "2     0.025077    -0.254707     0.207858    -0.117734      -0.102015   \n",
       "3    -0.233233    -0.227740     0.065071    -0.173902      -0.274436   \n",
       "4    -0.253647    -0.255625     0.405164    -0.132568      -0.175697   \n",
       "5    -0.383428    -0.210960     0.016403    -0.112231      -0.308050   \n",
       "\n",
       "   x.M71243.f.at  x.Z78285.f.at  y  \n",
       "1       0.013711      -0.199087  2  \n",
       "2       0.096483      -0.191834  2  \n",
       "3      -0.159619      -0.239276  2  \n",
       "4       0.021353      -0.223575  2  \n",
       "5       0.056141      -0.375645  2  \n",
       "\n",
       "[5 rows x 7129 columns]"
      ]
     },
     "execution_count": 2,
     "metadata": {},
     "output_type": "execute_result"
    }
   ],
   "source": [
    "cns = pd.read_csv('cns.csv')\n",
    "cns.head()"
   ]
  },
  {
   "cell_type": "code",
   "execution_count": 3,
   "metadata": {},
   "outputs": [
    {
     "name": "stdout",
     "output_type": "stream",
     "text": [
      "False\n"
     ]
    }
   ],
   "source": [
    "print(cns.isnull().values.any())\n"
   ]
  },
  {
   "cell_type": "code",
   "execution_count": 4,
   "metadata": {},
   "outputs": [],
   "source": [
    "features=cns.iloc[:,0:-1]\n",
    "labels=cns.iloc[:,-1]"
   ]
  },
  {
   "cell_type": "code",
   "execution_count": 5,
   "metadata": {},
   "outputs": [
    {
     "data": {
      "text/plain": [
       "Index(['x.AFFX.BioB.5.at', 'x.AFFX.BioB.M.at', 'x.AFFX.BioB.3.at',\n",
       "       'x.AFFX.BioC.5.at', 'x.AFFX.BioC.3.at', 'x.AFFX.BioDn.5.at',\n",
       "       'x.AFFX.BioDn.3.at', 'x.AFFX.CreX.5.at', 'x.AFFX.CreX.3.at',\n",
       "       'x.AFFX.BioB.5.st',\n",
       "       ...\n",
       "       'x.U48730.at', 'x.U58516.at', 'x.U73738.at', 'x.X06956.at',\n",
       "       'x.X16699.at', 'x.X83863.at', 'x.Z17240.at', 'x.L49218.f.at',\n",
       "       'x.M71243.f.at', 'x.Z78285.f.at'],\n",
       "      dtype='object', length=7128)"
      ]
     },
     "execution_count": 5,
     "metadata": {},
     "output_type": "execute_result"
    }
   ],
   "source": [
    "features.columns"
   ]
  },
  {
   "cell_type": "code",
   "execution_count": 6,
   "metadata": {},
   "outputs": [],
   "source": [
    "# Crear lista con nombres variables\n",
    "feature_labels = list(features.columns)"
   ]
  },
  {
   "cell_type": "code",
   "execution_count": 7,
   "metadata": {},
   "outputs": [
    {
     "data": {
      "text/plain": [
       "pandas.core.frame.DataFrame"
      ]
     },
     "execution_count": 7,
     "metadata": {},
     "output_type": "execute_result"
    }
   ],
   "source": [
    "type(features)"
   ]
  },
  {
   "cell_type": "code",
   "execution_count": 8,
   "metadata": {},
   "outputs": [
    {
     "data": {
      "text/plain": [
       "['x.AFFX.BioB.5.at',\n",
       " 'x.AFFX.BioB.M.at',\n",
       " 'x.AFFX.BioB.3.at',\n",
       " 'x.AFFX.BioC.5.at',\n",
       " 'x.AFFX.BioC.3.at',\n",
       " 'x.AFFX.BioDn.5.at',\n",
       " 'x.AFFX.BioDn.3.at',\n",
       " 'x.AFFX.CreX.5.at',\n",
       " 'x.AFFX.CreX.3.at',\n",
       " 'x.AFFX.BioB.5.st']"
      ]
     },
     "execution_count": 8,
     "metadata": {},
     "output_type": "execute_result"
    }
   ],
   "source": [
    "feature_labels[0:10]"
   ]
  },
  {
   "cell_type": "code",
   "execution_count": 9,
   "metadata": {},
   "outputs": [],
   "source": [
    "# Estandarizar\n",
    "\n",
    "min_max_scaler = preprocessing.MinMaxScaler()\n",
    "X = min_max_scaler.fit_transform(features)"
   ]
  },
  {
   "cell_type": "code",
   "execution_count": 10,
   "metadata": {},
   "outputs": [
    {
     "data": {
      "text/plain": [
       "array([[0.76977144, 0.72460051, 0.73475917, ..., 0.82484924, 0.86478722,\n",
       "        0.83183692],\n",
       "       [0.79632123, 0.51901313, 0.65615052, ..., 1.        , 1.        ,\n",
       "        0.8467659 ],\n",
       "       [0.61487744, 0.69011213, 0.48243042, ..., 0.66917029, 0.58164346,\n",
       "        0.74911813],\n",
       "       ...,\n",
       "       [0.43085597, 0.3112476 , 0.16300848, ..., 0.2510696 , 0.03330701,\n",
       "        0.22218608],\n",
       "       [0.58932403, 0.44619507, 0.72462594, ..., 0.9068894 , 0.85566845,\n",
       "        0.85846072],\n",
       "       [0.50712403, 0.40712679, 0.52396387, ..., 0.85344729, 0.83220874,\n",
       "        0.80065326]])"
      ]
     },
     "execution_count": 10,
     "metadata": {},
     "output_type": "execute_result"
    }
   ],
   "source": [
    "X"
   ]
  },
  {
   "cell_type": "code",
   "execution_count": 11,
   "metadata": {},
   "outputs": [],
   "source": [
    "Y = np.transpose(np.asarray(labels.values - 1, dtype=int))\n"
   ]
  },
  {
   "cell_type": "code",
   "execution_count": 12,
   "metadata": {},
   "outputs": [
    {
     "data": {
      "text/plain": [
       "array([1, 1, 1, 1, 1, 1, 1, 0, 0, 1, 1, 1, 0, 0, 0, 1, 1, 1, 1, 1, 0, 1,\n",
       "       1, 1, 1, 0, 1, 1, 1, 0, 0, 1, 0, 0, 1, 0, 0, 0, 0, 1, 1, 0, 1, 1,\n",
       "       0, 0, 1, 1, 0, 0, 1, 1, 1, 1, 1, 0, 1, 1, 1, 1])"
      ]
     },
     "execution_count": 12,
     "metadata": {},
     "output_type": "execute_result"
    }
   ],
   "source": [
    "Y"
   ]
  },
  {
   "cell_type": "code",
   "execution_count": 13,
   "metadata": {},
   "outputs": [],
   "source": [
    "X_train, X_test, y_train, y_test = train_test_split(X,Y,stratify=labels,test_size=0.33, random_state=SEED)\n"
   ]
  },
  {
   "cell_type": "code",
   "execution_count": 14,
   "metadata": {},
   "outputs": [
    {
     "data": {
      "text/plain": [
       "((40, 7128), (20, 7128), (40,), (20,))"
      ]
     },
     "execution_count": 14,
     "metadata": {},
     "output_type": "execute_result"
    }
   ],
   "source": [
    "X_train.shape, X_test.shape, y_train.shape, y_test.shape"
   ]
  },
  {
   "cell_type": "markdown",
   "metadata": {},
   "source": [
    "# 1. SVC"
   ]
  },
  {
   "cell_type": "code",
   "execution_count": 15,
   "metadata": {},
   "outputs": [],
   "source": [
    "# Elegir SVC Lineal\n",
    "\n",
    "clf_svc = SVC(kernel='linear', C=1, probability=True, random_state=SEED) "
   ]
  },
  {
   "cell_type": "code",
   "execution_count": 16,
   "metadata": {
    "scrolled": true
   },
   "outputs": [
    {
     "name": "stdout",
     "output_type": "stream",
     "text": [
      "CPU times: user 312 ms, sys: 7.94 ms, total: 320 ms\n",
      "Wall time: 79.9 ms\n"
     ]
    },
    {
     "data": {
      "text/plain": [
       "SVC(C=1, cache_size=200, class_weight=None, coef0=0.0,\n",
       "    decision_function_shape='ovr', degree=3, gamma='auto_deprecated',\n",
       "    kernel='linear', max_iter=-1, probability=True, random_state=50,\n",
       "    shrinking=True, tol=0.001, verbose=False)"
      ]
     },
     "execution_count": 16,
     "metadata": {},
     "output_type": "execute_result"
    }
   ],
   "source": [
    "%%time\n",
    "clf_svc.fit(X_train, y_train)"
   ]
  },
  {
   "cell_type": "code",
   "execution_count": 17,
   "metadata": {},
   "outputs": [
    {
     "name": "stdout",
     "output_type": "stream",
     "text": [
      "Predicted Value: [1 1 0 1 1 1 1 0 1 1 1 1 1 1 0 0 1 0 1 1]\n"
     ]
    }
   ],
   "source": [
    "y_predict_svc = clf_svc.predict(X_test)\n",
    "print (\"Predicted Value:\", y_predict_svc)"
   ]
  },
  {
   "cell_type": "code",
   "execution_count": 18,
   "metadata": {},
   "outputs": [
    {
     "name": "stdout",
     "output_type": "stream",
     "text": [
      "Accuracy: 0.7\n"
     ]
    }
   ],
   "source": [
    "# Precision del modelo\n",
    "print(\"Accuracy:\",metrics.accuracy_score(y_test, y_predict_svc))"
   ]
  },
  {
   "cell_type": "code",
   "execution_count": 19,
   "metadata": {},
   "outputs": [
    {
     "name": "stdout",
     "output_type": "stream",
     "text": [
      "              precision    recall  f1-score   support\n",
      "\n",
      "           0       0.60      0.43      0.50         7\n",
      "           1       0.73      0.85      0.79        13\n",
      "\n",
      "    accuracy                           0.70        20\n",
      "   macro avg       0.67      0.64      0.64        20\n",
      "weighted avg       0.69      0.70      0.69        20\n",
      "\n"
     ]
    }
   ],
   "source": [
    "print(metrics.classification_report(y_test,y_predict_svc))"
   ]
  },
  {
   "cell_type": "code",
   "execution_count": 20,
   "metadata": {},
   "outputs": [
    {
     "name": "stdout",
     "output_type": "stream",
     "text": [
      "ROC-AUC: 0.5824175824175825\n"
     ]
    }
   ],
   "source": [
    "# Puntuacion ROC-AUC \n",
    "print(\"ROC-AUC:\",metrics.roc_auc_score(y_test,clf_svc.predict_proba(X_test)[:,1]))"
   ]
  },
  {
   "cell_type": "markdown",
   "metadata": {},
   "source": [
    "# 2. NAIVE BAYES"
   ]
  },
  {
   "cell_type": "code",
   "execution_count": 21,
   "metadata": {},
   "outputs": [],
   "source": [
    "# Crear clasificador Gaussiano\n",
    "\n",
    "clf_nb = GaussianNB()"
   ]
  },
  {
   "cell_type": "code",
   "execution_count": 22,
   "metadata": {},
   "outputs": [
    {
     "name": "stdout",
     "output_type": "stream",
     "text": [
      "CPU times: user 17.1 ms, sys: 0 ns, total: 17.1 ms\n",
      "Wall time: 4.21 ms\n"
     ]
    },
    {
     "data": {
      "text/plain": [
       "GaussianNB(priors=None, var_smoothing=1e-09)"
      ]
     },
     "execution_count": 22,
     "metadata": {},
     "output_type": "execute_result"
    }
   ],
   "source": [
    "%%time\n",
    "clf_nb.fit(X_train, y_train)"
   ]
  },
  {
   "cell_type": "code",
   "execution_count": 23,
   "metadata": {},
   "outputs": [
    {
     "name": "stdout",
     "output_type": "stream",
     "text": [
      "Predicted Value: [1 1 0 1 1 1 1 1 1 1 1 1 1 1 0 1 1 1 1 1]\n"
     ]
    }
   ],
   "source": [
    "#Predicciones\n",
    "\n",
    "y_predict_nb = clf_nb.predict(X_test)\n",
    "print (\"Predicted Value:\", y_predict_nb)"
   ]
  },
  {
   "cell_type": "code",
   "execution_count": 24,
   "metadata": {},
   "outputs": [
    {
     "name": "stdout",
     "output_type": "stream",
     "text": [
      "Accuracy: 0.75\n"
     ]
    }
   ],
   "source": [
    "# Precision\n",
    "\n",
    "print(\"Accuracy:\",metrics.accuracy_score(y_test, y_predict_nb))"
   ]
  },
  {
   "cell_type": "code",
   "execution_count": 25,
   "metadata": {},
   "outputs": [
    {
     "name": "stdout",
     "output_type": "stream",
     "text": [
      "              precision    recall  f1-score   support\n",
      "\n",
      "           0       1.00      0.29      0.44         7\n",
      "           1       0.72      1.00      0.84        13\n",
      "\n",
      "    accuracy                           0.75        20\n",
      "   macro avg       0.86      0.64      0.64        20\n",
      "weighted avg       0.82      0.75      0.70        20\n",
      "\n"
     ]
    }
   ],
   "source": [
    "print(metrics.classification_report(y_test,y_predict_nb))\n",
    "\n"
   ]
  },
  {
   "cell_type": "code",
   "execution_count": 26,
   "metadata": {},
   "outputs": [
    {
     "name": "stdout",
     "output_type": "stream",
     "text": [
      "ROC-AUC: 0.6153846153846154\n"
     ]
    }
   ],
   "source": [
    "# Puntuacion ROC-AUC \n",
    "print(\"ROC-AUC:\",metrics.roc_auc_score(y_test,clf_nb.predict_proba(X_test)[:,1]))"
   ]
  },
  {
   "cell_type": "markdown",
   "metadata": {},
   "source": [
    "# 3. RANDOM FORESTS"
   ]
  },
  {
   "cell_type": "code",
   "execution_count": 27,
   "metadata": {},
   "outputs": [],
   "source": [
    "# Crear clasificador\n",
    "\n",
    "clf_rf = RandomForestClassifier(n_estimators=100, n_jobs=-1, class_weight='balanced', max_depth=5, random_state=SEED)\n",
    "\n"
   ]
  },
  {
   "cell_type": "code",
   "execution_count": 28,
   "metadata": {},
   "outputs": [
    {
     "name": "stdout",
     "output_type": "stream",
     "text": [
      "CPU times: user 272 ms, sys: 25.9 ms, total: 298 ms\n",
      "Wall time: 151 ms\n"
     ]
    },
    {
     "data": {
      "text/plain": [
       "RandomForestClassifier(bootstrap=True, class_weight='balanced',\n",
       "                       criterion='gini', max_depth=5, max_features='auto',\n",
       "                       max_leaf_nodes=None, min_impurity_decrease=0.0,\n",
       "                       min_impurity_split=None, min_samples_leaf=1,\n",
       "                       min_samples_split=2, min_weight_fraction_leaf=0.0,\n",
       "                       n_estimators=100, n_jobs=-1, oob_score=False,\n",
       "                       random_state=50, verbose=0, warm_start=False)"
      ]
     },
     "execution_count": 28,
     "metadata": {},
     "output_type": "execute_result"
    }
   ],
   "source": [
    "%%time\n",
    "clf_rf.fit(X_train,y_train)\n",
    "\n"
   ]
  },
  {
   "cell_type": "code",
   "execution_count": 29,
   "metadata": {},
   "outputs": [
    {
     "name": "stdout",
     "output_type": "stream",
     "text": [
      "Predicted Value: [1 1 0 1 1 1 1 1 1 1 1 1 1 1 1 1 1 0 1 1]\n"
     ]
    }
   ],
   "source": [
    "#Predicciones\n",
    "\n",
    "y_predict_rf = clf_rf.predict(X_test)\n",
    "print (\"Predicted Value:\", y_predict_rf)"
   ]
  },
  {
   "cell_type": "code",
   "execution_count": 30,
   "metadata": {},
   "outputs": [
    {
     "name": "stdout",
     "output_type": "stream",
     "text": [
      "Accuracy: 0.65\n"
     ]
    }
   ],
   "source": [
    "# Precision\n",
    "\n",
    "print(\"Accuracy:\",metrics.accuracy_score(y_test, y_predict_rf))"
   ]
  },
  {
   "cell_type": "code",
   "execution_count": 31,
   "metadata": {},
   "outputs": [
    {
     "name": "stdout",
     "output_type": "stream",
     "text": [
      "              precision    recall  f1-score   support\n",
      "\n",
      "           0       0.50      0.14      0.22         7\n",
      "           1       0.67      0.92      0.77        13\n",
      "\n",
      "    accuracy                           0.65        20\n",
      "   macro avg       0.58      0.53      0.50        20\n",
      "weighted avg       0.61      0.65      0.58        20\n",
      "\n"
     ]
    }
   ],
   "source": [
    "print(metrics.classification_report(y_test,y_predict_rf))\n"
   ]
  },
  {
   "cell_type": "code",
   "execution_count": 32,
   "metadata": {},
   "outputs": [
    {
     "name": "stdout",
     "output_type": "stream",
     "text": [
      "ROC-AUC: 0.5054945054945056\n"
     ]
    }
   ],
   "source": [
    "# Puntuacion ROC-AUC \n",
    "print(\"ROC-AUC:\",metrics.roc_auc_score(y_test,clf_rf.predict_proba(X_test)[:,1]))"
   ]
  },
  {
   "cell_type": "markdown",
   "metadata": {},
   "source": [
    "## SELECCIONAR VARIABLES USANDO PUNTUACION F"
   ]
  },
  {
   "cell_type": "code",
   "execution_count": 33,
   "metadata": {},
   "outputs": [
    {
     "name": "stdout",
     "output_type": "stream",
     "text": [
      "CPU times: user 8.9 ms, sys: 66 µs, total: 8.97 ms\n",
      "Wall time: 7.9 ms\n"
     ]
    }
   ],
   "source": [
    "%%time\n",
    "score_f = f_score.f_score(X_train, y_train)\n"
   ]
  },
  {
   "cell_type": "code",
   "execution_count": 34,
   "metadata": {},
   "outputs": [],
   "source": [
    "score_f_df = pd.Series(score_f,index=features.columns.values).sort_values(ascending=False)\n"
   ]
  },
  {
   "cell_type": "code",
   "execution_count": 35,
   "metadata": {},
   "outputs": [
    {
     "data": {
      "text/plain": [
       "x.U07563.cds1.at    15.634207\n",
       "x.U34038.at         12.851574\n",
       "x.Z11899.s.at       12.647165\n",
       "x.U35048.at         11.276424\n",
       "x.J02611.at         10.769984\n",
       "x.U35139.at         10.646060\n",
       "x.U82306.at         10.244439\n",
       "x.U78876.at         10.067017\n",
       "x.L05628.s.at        9.505626\n",
       "x.X57129.at          9.422457\n",
       "dtype: float64"
      ]
     },
     "execution_count": 35,
     "metadata": {},
     "output_type": "execute_result"
    }
   ],
   "source": [
    "score_f_df.head(10)"
   ]
  },
  {
   "cell_type": "code",
   "execution_count": 36,
   "metadata": {},
   "outputs": [
    {
     "data": {
      "image/png": "[encoded data removed]",
      "text/plain": [
       "<Figure size 432x288 with 1 Axes>"
      ]
     },
     "metadata": {
      "needs_background": "light"
     },
     "output_type": "display_data"
    }
   ],
   "source": [
    "# Representacion grafica\n",
    "\n",
    "sns.barplot(x=score_f_df[0:10,], y=score_f_df.index[0:10,])\n",
    "\n",
    "plt.xlabel('Importancia Variables')\n",
    "plt.ylabel('Variables')\n",
    "plt.title(\"Variables importantes Puntuacion F CNS\")\n",
    "plt.savefig(\"Variables Puntuacion F CNS.pdf\", dpi=300)\n",
    "plt.show()"
   ]
  },
  {
   "cell_type": "code",
   "execution_count": 37,
   "metadata": {},
   "outputs": [
    {
     "data": {
      "text/plain": [
       "array([2670, 3075, 6719, 3088, 1053, 3091, 3833, 3745, 6031, 4301])"
      ]
     },
     "execution_count": 37,
     "metadata": {},
     "output_type": "execute_result"
    }
   ],
   "source": [
    "# Ordenar variables\n",
    "\n",
    "idx_f = f_score.feature_ranking(score_f)\n",
    "idx_f[0:10]"
   ]
  },
  {
   "cell_type": "code",
   "execution_count": 38,
   "metadata": {},
   "outputs": [
    {
     "data": {
      "text/plain": [
       "array(['x.U07563.cds1.at', 'x.U34038.at', 'x.Z11899.s.at', 'x.U35048.at',\n",
       "       'x.J02611.at', 'x.U35139.at', 'x.U82306.at', 'x.U78876.at',\n",
       "       'x.L05628.s.at', 'x.X57129.at'], dtype=object)"
      ]
     },
     "execution_count": 38,
     "metadata": {},
     "output_type": "execute_result"
    }
   ],
   "source": [
    "features.columns.values[[2670, 3075, 6719, 3088, 1053, 3091, 3833, 3745, 6031, 4301]]"
   ]
  },
  {
   "cell_type": "code",
   "execution_count": 39,
   "metadata": {},
   "outputs": [],
   "source": [
    "# Especificar 10 variables\n",
    "\n",
    "num_fea = 10\n",
    "    \n",
    "sel_f_train = X_train[:, idx_f[0:num_fea]]\n",
    "\n",
    "sel_f_test = X_test[:, idx_f[0:num_fea]]"
   ]
  },
  {
   "cell_type": "markdown",
   "metadata": {},
   "source": [
    "### Entrenar modelo con variables seleccionadas en conjunto de entrenamiento"
   ]
  },
  {
   "cell_type": "code",
   "execution_count": 40,
   "metadata": {},
   "outputs": [
    {
     "name": "stdout",
     "output_type": "stream",
     "text": [
      "CPU times: user 1.77 ms, sys: 123 µs, total: 1.89 ms\n",
      "Wall time: 1.19 ms\n"
     ]
    }
   ],
   "source": [
    "%%time\n",
    "clf_svc_fsc = clf_svc.fit(sel_f_train, y_train)"
   ]
  },
  {
   "cell_type": "code",
   "execution_count": 41,
   "metadata": {},
   "outputs": [
    {
     "name": "stdout",
     "output_type": "stream",
     "text": [
      "CPU times: user 1.42 ms, sys: 0 ns, total: 1.42 ms\n",
      "Wall time: 1.29 ms\n"
     ]
    }
   ],
   "source": [
    "%%time\n",
    "clf_nb_fsc = clf_nb.fit(sel_f_train, y_train)"
   ]
  },
  {
   "cell_type": "code",
   "execution_count": 42,
   "metadata": {},
   "outputs": [
    {
     "name": "stdout",
     "output_type": "stream",
     "text": [
      "CPU times: user 91.1 ms, sys: 20.9 ms, total: 112 ms\n",
      "Wall time: 137 ms\n"
     ]
    }
   ],
   "source": [
    "%%time\n",
    "clf_rf_fsc = clf_rf.fit(sel_f_train, y_train)"
   ]
  },
  {
   "cell_type": "code",
   "execution_count": 43,
   "metadata": {},
   "outputs": [
    {
     "data": {
      "text/plain": [
       "array([[7.34303520e-07, 9.99999266e-01],\n",
       "       [5.54058578e-02, 9.44594142e-01],\n",
       "       [7.10021256e-01, 2.89978744e-01],\n",
       "       [5.19195249e-01, 4.80804751e-01],\n",
       "       [7.87447496e-03, 9.92125525e-01],\n",
       "       [6.50821612e-03, 9.93491784e-01],\n",
       "       [6.60028708e-01, 3.39971292e-01],\n",
       "       [6.34771132e-01, 3.65228868e-01],\n",
       "       [3.21422065e-01, 6.78577935e-01],\n",
       "       [4.21289013e-01, 5.78710987e-01],\n",
       "       [9.89533329e-06, 9.99990105e-01],\n",
       "       [3.76926314e-01, 6.23073686e-01],\n",
       "       [5.11539440e-01, 4.88460560e-01],\n",
       "       [2.84509028e-01, 7.15490972e-01],\n",
       "       [8.05018136e-01, 1.94981864e-01],\n",
       "       [5.64731242e-01, 4.35268758e-01],\n",
       "       [2.91198702e-01, 7.08801298e-01],\n",
       "       [7.16320389e-01, 2.83679611e-01],\n",
       "       [3.33899665e-02, 9.66610034e-01],\n",
       "       [4.72193009e-02, 9.52780699e-01]])"
      ]
     },
     "execution_count": 43,
     "metadata": {},
     "output_type": "execute_result"
    }
   ],
   "source": [
    "clf_svc_fsc.predict_proba(sel_f_test)"
   ]
  },
  {
   "cell_type": "code",
   "execution_count": 44,
   "metadata": {},
   "outputs": [],
   "source": [
    "y_fsc_predict_rf = clf_rf_fsc.predict(sel_f_test)\n",
    "y_fsc_predict_nb = clf_nb_fsc.predict(sel_f_test)\n",
    "y_fsc_predict_svc = clf_svc_fsc.predict(sel_f_test)"
   ]
  },
  {
   "cell_type": "code",
   "execution_count": 45,
   "metadata": {},
   "outputs": [
    {
     "name": "stdout",
     "output_type": "stream",
     "text": [
      "Accuracy F1 Score SVC: 0.65\n",
      "Accuracy F1 Score NB: 0.7\n",
      "Accuracy F1 Score RF: 0.65\n"
     ]
    }
   ],
   "source": [
    "# Exactitud\n",
    "\n",
    "print(\"Accuracy F1 Score SVC:\",metrics.accuracy_score(y_test, y_fsc_predict_svc))\n",
    "print(\"Accuracy F1 Score NB:\",metrics.accuracy_score(y_test, y_fsc_predict_nb))\n",
    "print(\"Accuracy F1 Score RF:\",metrics.accuracy_score(y_test, y_fsc_predict_rf))"
   ]
  },
  {
   "cell_type": "code",
   "execution_count": 46,
   "metadata": {},
   "outputs": [
    {
     "name": "stdout",
     "output_type": "stream",
     "text": [
      "ROC-AUC SVC: 0.5714285714285714\n",
      "ROC-AUC NB: 0.5714285714285714\n",
      "ROC-AUC RF: 0.5384615384615385\n"
     ]
    }
   ],
   "source": [
    "# Puntuacion ROC-AUC \n",
    "print(\"ROC-AUC SVC:\",metrics.roc_auc_score(y_test,clf_svc_fsc.predict_proba(sel_f_test)[:,1]))\n",
    "print(\"ROC-AUC NB:\",metrics.roc_auc_score(y_test,clf_nb_fsc.predict_proba(sel_f_test)[:,1]))\n",
    "print(\"ROC-AUC RF:\",metrics.roc_auc_score(y_test,clf_rf_fsc.predict_proba(sel_f_test)[:,1]))"
   ]
  },
  {
   "cell_type": "code",
   "execution_count": 47,
   "metadata": {},
   "outputs": [
    {
     "name": "stdout",
     "output_type": "stream",
     "text": [
      "              precision    recall  f1-score   support\n",
      "\n",
      "           0       0.50      0.57      0.53         7\n",
      "           1       0.75      0.69      0.72        13\n",
      "\n",
      "    accuracy                           0.65        20\n",
      "   macro avg       0.62      0.63      0.63        20\n",
      "weighted avg       0.66      0.65      0.65        20\n",
      "\n",
      "              precision    recall  f1-score   support\n",
      "\n",
      "           0       0.57      0.57      0.57         7\n",
      "           1       0.77      0.77      0.77        13\n",
      "\n",
      "    accuracy                           0.70        20\n",
      "   macro avg       0.67      0.67      0.67        20\n",
      "weighted avg       0.70      0.70      0.70        20\n",
      "\n",
      "              precision    recall  f1-score   support\n",
      "\n",
      "           0       0.50      0.43      0.46         7\n",
      "           1       0.71      0.77      0.74        13\n",
      "\n",
      "    accuracy                           0.65        20\n",
      "   macro avg       0.61      0.60      0.60        20\n",
      "weighted avg       0.64      0.65      0.64        20\n",
      "\n"
     ]
    }
   ],
   "source": [
    "print(metrics.classification_report(y_test,y_fsc_predict_svc))\n",
    "print(metrics.classification_report(y_test,y_fsc_predict_nb))\n",
    "print(metrics.classification_report(y_test,y_fsc_predict_rf))"
   ]
  },
  {
   "cell_type": "markdown",
   "metadata": {},
   "source": [
    "## SELECCIONAR VARIABLES USANDO CHI-CUADRADO"
   ]
  },
  {
   "cell_type": "code",
   "execution_count": 48,
   "metadata": {},
   "outputs": [
    {
     "name": "stdout",
     "output_type": "stream",
     "text": [
      "CPU times: user 10.6 ms, sys: 0 ns, total: 10.6 ms\n",
      "Wall time: 3.35 ms\n"
     ]
    }
   ],
   "source": [
    "%%time\n",
    "score_chi = chi_square.chi_square(X_train, y_train)"
   ]
  },
  {
   "cell_type": "code",
   "execution_count": 49,
   "metadata": {},
   "outputs": [],
   "source": [
    "score_chi_df = pd.Series(score_chi,index=features.columns.values).sort_values(ascending=False)\n"
   ]
  },
  {
   "cell_type": "code",
   "execution_count": 50,
   "metadata": {},
   "outputs": [
    {
     "data": {
      "text/plain": [
       "x.J02611.at             2.279684\n",
       "x.HG3431.HT3616.s.at    1.984059\n",
       "x.U07563.cds1.at        1.649041\n",
       "x.L27560.at             1.513892\n",
       "x.HG4318.HT4588.s.at    1.499029\n",
       "x.HG3543.HT3739.at      1.441188\n",
       "x.J04080.at             1.396253\n",
       "x.X76302.at             1.265272\n",
       "x.U35048.at             1.216827\n",
       "x.M25667.at             1.193368\n",
       "dtype: float64"
      ]
     },
     "execution_count": 50,
     "metadata": {},
     "output_type": "execute_result"
    }
   ],
   "source": [
    "score_chi_df.head(10)"
   ]
  },
  {
   "cell_type": "code",
   "execution_count": 51,
   "metadata": {},
   "outputs": [
    {
     "data": {
      "image/png": "[encoded data removed]",
      "text/plain": [
       "<Figure size 432x288 with 1 Axes>"
      ]
     },
     "metadata": {
      "needs_background": "light"
     },
     "output_type": "display_data"
    }
   ],
   "source": [
    "# Representacion grafica\n",
    "\n",
    "sns.barplot(x=score_chi_df[0:10,], y=score_chi_df.index[0:10,])\n",
    "\n",
    "plt.xlabel('Importancia Variables')\n",
    "plt.ylabel('Variables')\n",
    "plt.title(\"Variables importantes Chi-cuadrado CNS\")\n",
    "plt.savefig(\"Variables importantes Chi-cuadrado CNS.pdf\", dpi=300)\n",
    "plt.show()"
   ]
  },
  {
   "cell_type": "code",
   "execution_count": 52,
   "metadata": {},
   "outputs": [
    {
     "data": {
      "text/plain": [
       "array([1053, 5842, 2670, 1442, 5886, 5274, 1100, 4575, 3088, 6971])"
      ]
     },
     "execution_count": 52,
     "metadata": {},
     "output_type": "execute_result"
    }
   ],
   "source": [
    "# Ordenar variables\n",
    "\n",
    "idx_chi = chi_square.feature_ranking(score_chi)\n",
    "idx_chi[0:10]"
   ]
  },
  {
   "cell_type": "code",
   "execution_count": 53,
   "metadata": {},
   "outputs": [
    {
     "data": {
      "text/plain": [
       "array(['x.J02611.at', 'x.HG3431.HT3616.s.at', 'x.U07563.cds1.at',\n",
       "       'x.L27560.at', 'x.HG4318.HT4588.s.at', 'x.HG3543.HT3739.at',\n",
       "       'x.J04080.at', 'x.X76302.at', 'x.U35048.at', 'x.M25667.at'],\n",
       "      dtype=object)"
      ]
     },
     "execution_count": 53,
     "metadata": {},
     "output_type": "execute_result"
    }
   ],
   "source": [
    "features.columns.values[[1053, 5842, 2670, 1442, 5886, 5274, 1100, 4575, 3088, 6971]]"
   ]
  },
  {
   "cell_type": "code",
   "execution_count": 54,
   "metadata": {},
   "outputs": [],
   "source": [
    "# Especificar 10 variables\n",
    "\n",
    "num_fea = 10\n",
    "    \n",
    "sel_chi_train = X_train[:, idx_chi[0:num_fea]]\n",
    "\n",
    "sel_chi_test = X_test[:, idx_chi[0:num_fea]]\n"
   ]
  },
  {
   "cell_type": "markdown",
   "metadata": {},
   "source": [
    "### Entrenar modelo con variables seleccionadas en conjunto de entrenamiento"
   ]
  },
  {
   "cell_type": "code",
   "execution_count": 55,
   "metadata": {},
   "outputs": [
    {
     "name": "stdout",
     "output_type": "stream",
     "text": [
      "CPU times: user 1.43 ms, sys: 0 ns, total: 1.43 ms\n",
      "Wall time: 1.16 ms\n"
     ]
    }
   ],
   "source": [
    "%%time\n",
    "clf_svc_chi = clf_svc.fit(sel_chi_train, y_train)"
   ]
  },
  {
   "cell_type": "code",
   "execution_count": 56,
   "metadata": {},
   "outputs": [
    {
     "name": "stdout",
     "output_type": "stream",
     "text": [
      "CPU times: user 856 µs, sys: 15 µs, total: 871 µs\n",
      "Wall time: 769 µs\n"
     ]
    }
   ],
   "source": [
    "%%time\n",
    "clf_nb_chi = clf_nb.fit(sel_chi_train, y_train)"
   ]
  },
  {
   "cell_type": "code",
   "execution_count": 57,
   "metadata": {},
   "outputs": [
    {
     "name": "stdout",
     "output_type": "stream",
     "text": [
      "CPU times: user 118 ms, sys: 27.2 ms, total: 146 ms\n",
      "Wall time: 135 ms\n"
     ]
    }
   ],
   "source": [
    "%%time\n",
    "clf_rf_chi = clf_rf.fit(sel_chi_train, y_train)"
   ]
  },
  {
   "cell_type": "code",
   "execution_count": 58,
   "metadata": {},
   "outputs": [],
   "source": [
    "y_chi_predict_rf = clf_rf_chi.predict(sel_chi_test)\n",
    "y_chi_predict_nb = clf_nb_chi.predict(sel_chi_test)\n",
    "y_chi_predict_svc = clf_svc_chi.predict(sel_chi_test)"
   ]
  },
  {
   "cell_type": "code",
   "execution_count": 59,
   "metadata": {},
   "outputs": [
    {
     "name": "stdout",
     "output_type": "stream",
     "text": [
      "Accuracy Chi-cuadrado SVC: 0.65\n",
      "Accuracy Chi-cuadrado NB: 0.65\n",
      "Accuracy Chi-cuadrado RF: 0.6\n"
     ]
    }
   ],
   "source": [
    "# Exactitud\n",
    "\n",
    "\n",
    "print(\"Accuracy Chi-cuadrado SVC:\",metrics.accuracy_score(y_test, y_chi_predict_svc))\n",
    "print(\"Accuracy Chi-cuadrado NB:\",metrics.accuracy_score(y_test, y_chi_predict_nb))\n",
    "print(\"Accuracy Chi-cuadrado RF:\",metrics.accuracy_score(y_test, y_chi_predict_rf))\n"
   ]
  },
  {
   "cell_type": "code",
   "execution_count": 60,
   "metadata": {},
   "outputs": [
    {
     "name": "stdout",
     "output_type": "stream",
     "text": [
      "ROC-AUC Chi-cuadrado SVC: 0.5714285714285715\n",
      "ROC-AUC Chi-cuadrado NB: 0.6373626373626374\n",
      "ROC-AUC Chi-cuadrado RF: 0.5714285714285714\n"
     ]
    }
   ],
   "source": [
    "# Puntuacion ROC-AUC \n",
    "print(\"ROC-AUC Chi-cuadrado SVC:\",metrics.roc_auc_score(y_test,clf_svc_chi.predict_proba(sel_chi_test)[:,1]))\n",
    "print(\"ROC-AUC Chi-cuadrado NB:\",metrics.roc_auc_score(y_test,clf_nb_chi.predict_proba(sel_chi_test)[:,1]))\n",
    "print(\"ROC-AUC Chi-cuadrado RF:\",metrics.roc_auc_score(y_test,clf_rf_chi.predict_proba(sel_chi_test)[:,1]))"
   ]
  },
  {
   "cell_type": "code",
   "execution_count": 61,
   "metadata": {},
   "outputs": [
    {
     "name": "stdout",
     "output_type": "stream",
     "text": [
      "              precision    recall  f1-score   support\n",
      "\n",
      "           0       0.50      0.43      0.46         7\n",
      "           1       0.71      0.77      0.74        13\n",
      "\n",
      "    accuracy                           0.65        20\n",
      "   macro avg       0.61      0.60      0.60        20\n",
      "weighted avg       0.64      0.65      0.64        20\n",
      "\n",
      "              precision    recall  f1-score   support\n",
      "\n",
      "           0       0.50      0.57      0.53         7\n",
      "           1       0.75      0.69      0.72        13\n",
      "\n",
      "    accuracy                           0.65        20\n",
      "   macro avg       0.62      0.63      0.63        20\n",
      "weighted avg       0.66      0.65      0.65        20\n",
      "\n",
      "              precision    recall  f1-score   support\n",
      "\n",
      "           0       0.43      0.43      0.43         7\n",
      "           1       0.69      0.69      0.69        13\n",
      "\n",
      "    accuracy                           0.60        20\n",
      "   macro avg       0.56      0.56      0.56        20\n",
      "weighted avg       0.60      0.60      0.60        20\n",
      "\n"
     ]
    }
   ],
   "source": [
    "print(metrics.classification_report(y_test,y_chi_predict_svc))\n",
    "print(metrics.classification_report(y_test,y_chi_predict_nb))\n",
    "print(metrics.classification_report(y_test,y_chi_predict_rf))"
   ]
  },
  {
   "cell_type": "markdown",
   "metadata": {},
   "source": [
    "## SELECCIONAR VARIABLES USANDO Fisher "
   ]
  },
  {
   "cell_type": "code",
   "execution_count": 62,
   "metadata": {},
   "outputs": [
    {
     "name": "stdout",
     "output_type": "stream",
     "text": [
      "CPU times: user 30.8 ms, sys: 3.94 ms, total: 34.8 ms\n",
      "Wall time: 9.83 ms\n"
     ]
    }
   ],
   "source": [
    "%%time\n",
    "score_fisher = fisher_score.fisher_score(X_train, y_train)"
   ]
  },
  {
   "cell_type": "code",
   "execution_count": 63,
   "metadata": {},
   "outputs": [],
   "source": [
    "score_fisher_df = pd.Series(score_fisher,index=features.columns.values).sort_values(ascending=False)\n"
   ]
  },
  {
   "cell_type": "code",
   "execution_count": 64,
   "metadata": {},
   "outputs": [
    {
     "data": {
      "text/plain": [
       "x.U07563.cds1.at    0.411427\n",
       "x.U34038.at         0.338199\n",
       "x.Z11899.s.at       0.332820\n",
       "x.U35048.at         0.296748\n",
       "x.J02611.at         0.283421\n",
       "x.U35139.at         0.280159\n",
       "x.U82306.at         0.269590\n",
       "x.U78876.at         0.264922\n",
       "x.L05628.s.at       0.250148\n",
       "x.X57129.at         0.247959\n",
       "dtype: float64"
      ]
     },
     "execution_count": 64,
     "metadata": {},
     "output_type": "execute_result"
    }
   ],
   "source": [
    "score_fisher_df.head(10)"
   ]
  },
  {
   "cell_type": "code",
   "execution_count": 65,
   "metadata": {
    "scrolled": true
   },
   "outputs": [
    {
     "data": {
      "image/png": "[encoded data removed]",
      "text/plain": [
       "<Figure size 432x288 with 1 Axes>"
      ]
     },
     "metadata": {
      "needs_background": "light"
     },
     "output_type": "display_data"
    }
   ],
   "source": [
    "# Representacion grafica\n",
    "\n",
    "sns.barplot(x=score_fisher_df[0:10,], y=score_fisher_df.index[0:10,])\n",
    "\n",
    "plt.xlabel('Importancia Variables')\n",
    "plt.ylabel('Variables')\n",
    "plt.title(\"Variables importantes Fisher CNS\")\n",
    "plt.savefig(\"Variables importantes Fisher CNS.pdf\", dpi=300)\n",
    "plt.show()"
   ]
  },
  {
   "cell_type": "code",
   "execution_count": 66,
   "metadata": {},
   "outputs": [
    {
     "data": {
      "text/plain": [
       "array(['x.U07563.cds1.at', 'x.U34038.at', 'x.Z11899.s.at', 'x.U35048.at',\n",
       "       'x.J02611.at', 'x.U35139.at', 'x.U82306.at', 'x.U78876.at',\n",
       "       'x.L05628.s.at', 'x.X57129.at'], dtype=object)"
      ]
     },
     "execution_count": 66,
     "metadata": {},
     "output_type": "execute_result"
    }
   ],
   "source": [
    "features.columns.values[[2670, 3075, 6719, 3088, 1053, 3091, 3833, 3745, 6031, 4301]]"
   ]
  },
  {
   "cell_type": "code",
   "execution_count": 67,
   "metadata": {},
   "outputs": [
    {
     "data": {
      "text/plain": [
       "array([2670, 3075, 6719, 3088, 1053, 3091, 3833, 3745, 6031, 4301])"
      ]
     },
     "execution_count": 67,
     "metadata": {},
     "output_type": "execute_result"
    }
   ],
   "source": [
    "# Ordenar variables\n",
    "\n",
    "idx_fisher = fisher_score.feature_ranking(score_fisher)\n",
    "idx_fisher[0:10]"
   ]
  },
  {
   "cell_type": "code",
   "execution_count": 68,
   "metadata": {},
   "outputs": [],
   "source": [
    "# Especificar 10 variables\n",
    "\n",
    "num_fea = 10\n",
    "    \n",
    "sel_fisher_train = X_train[:, idx_fisher[0:num_fea]]\n",
    "\n",
    "sel_fisher_test = X_test[:, idx_fisher[0:num_fea]]\n"
   ]
  },
  {
   "cell_type": "markdown",
   "metadata": {},
   "source": [
    "### Entrenar modelo con variables seleccionadas en conjunto de entrenamiento"
   ]
  },
  {
   "cell_type": "code",
   "execution_count": 69,
   "metadata": {},
   "outputs": [
    {
     "name": "stdout",
     "output_type": "stream",
     "text": [
      "CPU times: user 1.11 ms, sys: 71 µs, total: 1.19 ms\n",
      "Wall time: 799 µs\n"
     ]
    }
   ],
   "source": [
    "%%time\n",
    "clf_svc_f = clf_svc.fit(sel_fisher_train, y_train)"
   ]
  },
  {
   "cell_type": "code",
   "execution_count": 70,
   "metadata": {},
   "outputs": [
    {
     "name": "stdout",
     "output_type": "stream",
     "text": [
      "CPU times: user 1.04 ms, sys: 0 ns, total: 1.04 ms\n",
      "Wall time: 834 µs\n"
     ]
    }
   ],
   "source": [
    "%%time\n",
    "clf_nb_f = clf_nb.fit(sel_fisher_train, y_train)"
   ]
  },
  {
   "cell_type": "code",
   "execution_count": 71,
   "metadata": {},
   "outputs": [
    {
     "name": "stdout",
     "output_type": "stream",
     "text": [
      "CPU times: user 88.5 ms, sys: 24.5 ms, total: 113 ms\n",
      "Wall time: 140 ms\n"
     ]
    }
   ],
   "source": [
    "%%time\n",
    "clf_rf_f = clf_rf.fit(sel_fisher_train, y_train)"
   ]
  },
  {
   "cell_type": "code",
   "execution_count": 72,
   "metadata": {},
   "outputs": [],
   "source": [
    "y_fisher_predict_rf = clf_rf_f.predict(sel_fisher_test)\n",
    "y_fisher_predict_nb = clf_nb_f.predict(sel_fisher_test)\n",
    "y_fisher_predict_svc = clf_svc_f.predict(sel_fisher_test)"
   ]
  },
  {
   "cell_type": "code",
   "execution_count": 73,
   "metadata": {},
   "outputs": [
    {
     "name": "stdout",
     "output_type": "stream",
     "text": [
      "Accuracy Fisher SVC: 0.65\n",
      "Accuracy Fisher NB: 0.7\n",
      "Accuracy Fisher RF: 0.65\n"
     ]
    }
   ],
   "source": [
    "# Exactitud\n",
    "\n",
    "\n",
    "print(\"Accuracy Fisher SVC:\",metrics.accuracy_score(y_test, y_fisher_predict_svc))\n",
    "print(\"Accuracy Fisher NB:\",metrics.accuracy_score(y_test, y_fisher_predict_nb))\n",
    "print(\"Accuracy Fisher RF:\",metrics.accuracy_score(y_test, y_fisher_predict_rf))\n"
   ]
  },
  {
   "cell_type": "code",
   "execution_count": 74,
   "metadata": {},
   "outputs": [
    {
     "name": "stdout",
     "output_type": "stream",
     "text": [
      "ROC-AUC Fisher SVC: 0.5714285714285714\n",
      "ROC-AUC Fisher NB: 0.5714285714285714\n",
      "ROC-AUC Fisher RF: 0.5384615384615385\n"
     ]
    }
   ],
   "source": [
    "# Puntuacion ROC-AUC \n",
    "print(\"ROC-AUC Fisher SVC:\",metrics.roc_auc_score(y_test,clf_svc_f.predict_proba(sel_fisher_test)[:,1]))\n",
    "print(\"ROC-AUC Fisher NB:\",metrics.roc_auc_score(y_test,clf_nb_f.predict_proba(sel_fisher_test)[:,1]))\n",
    "print(\"ROC-AUC Fisher RF:\",metrics.roc_auc_score(y_test,clf_rf_f.predict_proba(sel_fisher_test)[:,1]))"
   ]
  },
  {
   "cell_type": "code",
   "execution_count": 75,
   "metadata": {},
   "outputs": [
    {
     "name": "stdout",
     "output_type": "stream",
     "text": [
      "              precision    recall  f1-score   support\n",
      "\n",
      "           0       0.50      0.57      0.53         7\n",
      "           1       0.75      0.69      0.72        13\n",
      "\n",
      "    accuracy                           0.65        20\n",
      "   macro avg       0.62      0.63      0.63        20\n",
      "weighted avg       0.66      0.65      0.65        20\n",
      "\n",
      "              precision    recall  f1-score   support\n",
      "\n",
      "           0       0.57      0.57      0.57         7\n",
      "           1       0.77      0.77      0.77        13\n",
      "\n",
      "    accuracy                           0.70        20\n",
      "   macro avg       0.67      0.67      0.67        20\n",
      "weighted avg       0.70      0.70      0.70        20\n",
      "\n",
      "              precision    recall  f1-score   support\n",
      "\n",
      "           0       0.50      0.43      0.46         7\n",
      "           1       0.71      0.77      0.74        13\n",
      "\n",
      "    accuracy                           0.65        20\n",
      "   macro avg       0.61      0.60      0.60        20\n",
      "weighted avg       0.64      0.65      0.64        20\n",
      "\n"
     ]
    }
   ],
   "source": [
    "print(metrics.classification_report(y_test,y_fisher_predict_svc))\n",
    "print(metrics.classification_report(y_test,y_fisher_predict_nb))\n",
    "print(metrics.classification_report(y_test,y_fisher_predict_rf))"
   ]
  },
  {
   "cell_type": "markdown",
   "metadata": {},
   "source": [
    "## SELECCIONAR VARIABLES USANDO reliefF"
   ]
  },
  {
   "cell_type": "code",
   "execution_count": 76,
   "metadata": {},
   "outputs": [
    {
     "name": "stdout",
     "output_type": "stream",
     "text": [
      "CPU times: user 42 ms, sys: 113 µs, total: 42.2 ms\n",
      "Wall time: 41.6 ms\n"
     ]
    }
   ],
   "source": [
    "%%time\n",
    "\n",
    "score_relief = reliefF.reliefF(X_train, y_train, k=5)\n"
   ]
  },
  {
   "cell_type": "code",
   "execution_count": 77,
   "metadata": {},
   "outputs": [
    {
     "data": {
      "text/plain": [
       "array([ 0.97748275,  1.18517819,  0.20225874, ..., -0.11452912,\n",
       "       -0.33643507,  0.1844747 ])"
      ]
     },
     "execution_count": 77,
     "metadata": {},
     "output_type": "execute_result"
    }
   ],
   "source": [
    "score_relief"
   ]
  },
  {
   "cell_type": "code",
   "execution_count": 78,
   "metadata": {},
   "outputs": [],
   "source": [
    "score_relief_df = pd.Series(score_relief,index=features.columns.values).sort_values(ascending=False)\n"
   ]
  },
  {
   "cell_type": "code",
   "execution_count": 79,
   "metadata": {},
   "outputs": [
    {
     "data": {
      "text/plain": [
       "x.U07563.cds1.at             3.608279\n",
       "x.U21858.at                  3.312530\n",
       "x.M14328.s.at                3.169493\n",
       "x.Z11899.s.at                3.098933\n",
       "x.M32886.at                  3.008990\n",
       "x.U25165.at                  2.762253\n",
       "x.Z50022.at                  2.532475\n",
       "x.U26403.at                  2.526985\n",
       "x.X13293.at                  2.480808\n",
       "x.X94703.at                  2.475575\n",
       "x.U21936.at                  2.457847\n",
       "x.U79751.at                  2.449975\n",
       "x.HG3432.HT3620.s.at         2.433598\n",
       "x.M20530.at                  2.411702\n",
       "x.U00802.s.at                2.402206\n",
       "x.AFFX.HSAC07.X00351.3.st    2.375704\n",
       "x.L05425.at                  2.374156\n",
       "x.K03008.cds1.at             2.363461\n",
       "x.AF001787.s.at              2.338366\n",
       "x.D43682.s.at                2.320372\n",
       "dtype: float64"
      ]
     },
     "execution_count": 79,
     "metadata": {},
     "output_type": "execute_result"
    }
   ],
   "source": [
    "score_relief_df.head(20)"
   ]
  },
  {
   "cell_type": "code",
   "execution_count": 80,
   "metadata": {},
   "outputs": [
    {
     "data": {
      "image/png": "[encoded data removed]",
      "text/plain": [
       "<Figure size 432x288 with 1 Axes>"
      ]
     },
     "metadata": {
      "needs_background": "light"
     },
     "output_type": "display_data"
    }
   ],
   "source": [
    "# Representar graficamente\n",
    "\n",
    "sns.barplot(x=score_relief_df[0:10,], y=score_relief_df.index[0:10,])\n",
    "\n",
    "plt.xlabel('Importancia Variables')\n",
    "plt.ylabel('Variables')\n",
    "plt.title(\"Variables Importantes reliefF CNS\")\n",
    "plt.savefig(\"Variables importantes reliefF CNS.pdf\", dpi=300)\n",
    "\n",
    "plt.show()"
   ]
  },
  {
   "cell_type": "code",
   "execution_count": 81,
   "metadata": {},
   "outputs": [
    {
     "data": {
      "text/plain": [
       "array([2670, 2914, 6178, ..., 4340, 6612,  602])"
      ]
     },
     "execution_count": 81,
     "metadata": {},
     "output_type": "execute_result"
    }
   ],
   "source": [
    "# Ordenar variables\n",
    "\n",
    "idx_relief = reliefF.feature_ranking(score_relief)\n",
    "idx_relief"
   ]
  },
  {
   "cell_type": "code",
   "execution_count": 82,
   "metadata": {},
   "outputs": [
    {
     "data": {
      "text/plain": [
       "(7128,)"
      ]
     },
     "execution_count": 82,
     "metadata": {},
     "output_type": "execute_result"
    }
   ],
   "source": [
    "idx_relief.shape"
   ]
  },
  {
   "cell_type": "markdown",
   "metadata": {},
   "source": [
    "### Entrenar modelo con variables seleccionadas en conjunto de entrenamiento"
   ]
  },
  {
   "cell_type": "code",
   "execution_count": 83,
   "metadata": {},
   "outputs": [],
   "source": [
    "# Seleccionar 10:\n",
    "\n",
    "num_fea = 10\n",
    "    \n",
    "sel_relief_train = X_train[:, idx_relief[0:num_fea]]\n",
    "\n",
    "sel_relief_test = X_test[:, idx_relief[0:num_fea]]\n"
   ]
  },
  {
   "cell_type": "code",
   "execution_count": 84,
   "metadata": {},
   "outputs": [
    {
     "data": {
      "text/plain": [
       "(40, 10)"
      ]
     },
     "execution_count": 84,
     "metadata": {},
     "output_type": "execute_result"
    }
   ],
   "source": [
    "sel_relief_train.shape"
   ]
  },
  {
   "cell_type": "code",
   "execution_count": 85,
   "metadata": {},
   "outputs": [
    {
     "name": "stdout",
     "output_type": "stream",
     "text": [
      "CPU times: user 1.05 ms, sys: 0 ns, total: 1.05 ms\n",
      "Wall time: 895 µs\n"
     ]
    }
   ],
   "source": [
    "%%time\n",
    "clf_svc_rl = clf_svc.fit(sel_relief_train, y_train)"
   ]
  },
  {
   "cell_type": "code",
   "execution_count": 86,
   "metadata": {},
   "outputs": [
    {
     "name": "stdout",
     "output_type": "stream",
     "text": [
      "CPU times: user 1.29 ms, sys: 0 ns, total: 1.29 ms\n",
      "Wall time: 1.07 ms\n"
     ]
    }
   ],
   "source": [
    "%%time\n",
    "clf_nb_rl = clf_nb.fit(sel_relief_train, y_train)"
   ]
  },
  {
   "cell_type": "code",
   "execution_count": 87,
   "metadata": {},
   "outputs": [
    {
     "name": "stdout",
     "output_type": "stream",
     "text": [
      "CPU times: user 90.4 ms, sys: 16.5 ms, total: 107 ms\n",
      "Wall time: 135 ms\n"
     ]
    }
   ],
   "source": [
    "%%time\n",
    "clf_rf_rl = clf_rf.fit(sel_relief_train, y_train)"
   ]
  },
  {
   "cell_type": "code",
   "execution_count": 88,
   "metadata": {},
   "outputs": [],
   "source": [
    "y_rl_predict_svc = clf_svc_rl.predict(sel_relief_test)\n",
    "y_rl_predict_nb = clf_nb_rl.predict(sel_relief_test)\n",
    "y_rl_predict_rf = clf_rf_rl.predict(sel_relief_test)"
   ]
  },
  {
   "cell_type": "code",
   "execution_count": 89,
   "metadata": {},
   "outputs": [
    {
     "name": "stdout",
     "output_type": "stream",
     "text": [
      "Accuracy reliefF SVC: 0.65\n",
      "Accuracy reliefF NB: 0.6\n",
      "Accuracy reliefF RF: 0.6\n"
     ]
    }
   ],
   "source": [
    "# Exactitud\n",
    "\n",
    "print(\"Accuracy reliefF SVC:\",metrics.accuracy_score(y_test, y_rl_predict_svc))\n",
    "print(\"Accuracy reliefF NB:\",metrics.accuracy_score(y_test, y_rl_predict_nb))\n",
    "print(\"Accuracy reliefF RF:\",metrics.accuracy_score(y_test, y_rl_predict_rf))"
   ]
  },
  {
   "cell_type": "code",
   "execution_count": 90,
   "metadata": {},
   "outputs": [
    {
     "name": "stdout",
     "output_type": "stream",
     "text": [
      "ROC-AUC reliefF SVC: 0.6483516483516484\n",
      "ROC-AUC reliefF NB: 0.6263736263736264\n",
      "ROC-AUC reliefF RF: 0.5769230769230769\n"
     ]
    }
   ],
   "source": [
    "# Puntuacion ROC-AUC \n",
    "print(\"ROC-AUC reliefF SVC:\",metrics.roc_auc_score(y_test,clf_svc_rl.predict_proba(sel_relief_test)[:,1]))\n",
    "print(\"ROC-AUC reliefF NB:\",metrics.roc_auc_score(y_test,clf_nb_rl.predict_proba(sel_relief_test)[:,1]))\n",
    "print(\"ROC-AUC reliefF RF:\",metrics.roc_auc_score(y_test,clf_rf_rl.predict_proba(sel_relief_test)[:,1]))"
   ]
  },
  {
   "cell_type": "code",
   "execution_count": 91,
   "metadata": {},
   "outputs": [
    {
     "name": "stdout",
     "output_type": "stream",
     "text": [
      "              precision    recall  f1-score   support\n",
      "\n",
      "           0       0.50      0.29      0.36         7\n",
      "           1       0.69      0.85      0.76        13\n",
      "\n",
      "    accuracy                           0.65        20\n",
      "   macro avg       0.59      0.57      0.56        20\n",
      "weighted avg       0.62      0.65      0.62        20\n",
      "\n",
      "              precision    recall  f1-score   support\n",
      "\n",
      "           0       0.43      0.43      0.43         7\n",
      "           1       0.69      0.69      0.69        13\n",
      "\n",
      "    accuracy                           0.60        20\n",
      "   macro avg       0.56      0.56      0.56        20\n",
      "weighted avg       0.60      0.60      0.60        20\n",
      "\n",
      "              precision    recall  f1-score   support\n",
      "\n",
      "           0       0.40      0.29      0.33         7\n",
      "           1       0.67      0.77      0.71        13\n",
      "\n",
      "    accuracy                           0.60        20\n",
      "   macro avg       0.53      0.53      0.52        20\n",
      "weighted avg       0.57      0.60      0.58        20\n",
      "\n"
     ]
    }
   ],
   "source": [
    "# Metricas\n",
    "\n",
    "print(metrics.classification_report(y_test,y_rl_predict_svc))\n",
    "print(metrics.classification_report(y_test,y_rl_predict_nb))\n",
    "print(metrics.classification_report(y_test,y_rl_predict_rf))"
   ]
  },
  {
   "cell_type": "markdown",
   "metadata": {},
   "source": [
    "## SELECCIONAR VARIABLES CON BORUTA"
   ]
  },
  {
   "cell_type": "code",
   "execution_count": 92,
   "metadata": {},
   "outputs": [],
   "source": [
    "boruta_selector = BorutaPy(clf_rf, n_estimators='auto', verbose=0, random_state=SEED, max_iter = 100, perc = 99.5, alpha=0.01)\n"
   ]
  },
  {
   "cell_type": "code",
   "execution_count": 93,
   "metadata": {},
   "outputs": [
    {
     "name": "stdout",
     "output_type": "stream",
     "text": [
      "CPU times: user 1min 55s, sys: 12.3 s, total: 2min 7s\n",
      "Wall time: 59 s\n"
     ]
    },
    {
     "data": {
      "text/plain": [
       "BorutaPy(alpha=0.01,\n",
       "         estimator=RandomForestClassifier(bootstrap=True,\n",
       "                                          class_weight='balanced',\n",
       "                                          criterion='gini', max_depth=5,\n",
       "                                          max_features='auto',\n",
       "                                          max_leaf_nodes=None,\n",
       "                                          min_impurity_decrease=0.0,\n",
       "                                          min_impurity_split=None,\n",
       "                                          min_samples_leaf=1,\n",
       "                                          min_samples_split=2,\n",
       "                                          min_weight_fraction_leaf=0.0,\n",
       "                                          n_estimators=205, n_jobs=-1,\n",
       "                                          oob_score=False,\n",
       "                                          random_state=<mtrand.RandomState object at 0x7f436f87f288>,\n",
       "                                          verbose=0, warm_start=False),\n",
       "         max_iter=100, n_estimators='auto', perc=99.5,\n",
       "         random_state=<mtrand.RandomState object at 0x7f436f87f288>,\n",
       "         two_step=True, verbose=0)"
      ]
     },
     "execution_count": 93,
     "metadata": {},
     "output_type": "execute_result"
    }
   ],
   "source": [
    "%%time\n",
    "boruta_selector.fit(X_train, y_train)"
   ]
  },
  {
   "cell_type": "code",
   "execution_count": 94,
   "metadata": {},
   "outputs": [
    {
     "data": {
      "text/plain": [
       "10"
      ]
     },
     "execution_count": 94,
     "metadata": {},
     "output_type": "execute_result"
    }
   ],
   "source": [
    "boruta_selector.n_features_"
   ]
  },
  {
   "cell_type": "code",
   "execution_count": 95,
   "metadata": {},
   "outputs": [
    {
     "data": {
      "text/plain": [
       "array([False, False, False, ..., False, False, False])"
      ]
     },
     "execution_count": 95,
     "metadata": {},
     "output_type": "execute_result"
    }
   ],
   "source": [
    "boruta_selector.support_"
   ]
  },
  {
   "cell_type": "code",
   "execution_count": 96,
   "metadata": {},
   "outputs": [
    {
     "data": {
      "text/plain": [
       "array([ 756, 1082, 5202, ..., 6543, 6543, 5202])"
      ]
     },
     "execution_count": 96,
     "metadata": {},
     "output_type": "execute_result"
    }
   ],
   "source": [
    "boruta_selector.ranking_\n"
   ]
  },
  {
   "cell_type": "code",
   "execution_count": 97,
   "metadata": {},
   "outputs": [
    {
     "data": {
      "text/plain": [
       "x.U66711.rna1.s.at    1\n",
       "x.J02611.at           1\n",
       "x.U35139.at           1\n",
       "x.Z11899.s.at         1\n",
       "x.K03008.cds1.at      1\n",
       "x.U78876.at           1\n",
       "x.M26692.s.at         1\n",
       "x.M27281.at           1\n",
       "x.U07563.cds1.at      1\n",
       "x.M18728.at           1\n",
       "x.U36759.s.at         2\n",
       "dtype: int64"
      ]
     },
     "execution_count": 97,
     "metadata": {},
     "output_type": "execute_result"
    }
   ],
   "source": [
    "score_boruta_df = pd.Series(boruta_selector.ranking_,index=features.columns.values).sort_values(ascending=True)\n",
    "score_boruta_df.head(11)"
   ]
  },
  {
   "cell_type": "code",
   "execution_count": 98,
   "metadata": {},
   "outputs": [
    {
     "data": {
      "text/plain": [
       "1"
      ]
     },
     "execution_count": 98,
     "metadata": {},
     "output_type": "execute_result"
    }
   ],
   "source": [
    "score_boruta_df.loc['x.J02611.at',]"
   ]
  },
  {
   "cell_type": "code",
   "execution_count": 99,
   "metadata": {},
   "outputs": [],
   "source": [
    "sel_boruta_train = boruta_selector.transform(X_train)\n",
    "\n",
    "sel_boruta_test = boruta_selector.transform(X_test)"
   ]
  },
  {
   "cell_type": "code",
   "execution_count": 100,
   "metadata": {},
   "outputs": [
    {
     "name": "stdout",
     "output_type": "stream",
     "text": [
      "(40, 10)\n",
      "(20, 10)\n"
     ]
    }
   ],
   "source": [
    "print(sel_boruta_train.shape)\n",
    "print(sel_boruta_test.shape)"
   ]
  },
  {
   "cell_type": "markdown",
   "metadata": {},
   "source": [
    "### Entrenar modelo con variables seleccionadas en conjunto de entrenamiento"
   ]
  },
  {
   "cell_type": "code",
   "execution_count": 101,
   "metadata": {},
   "outputs": [
    {
     "name": "stdout",
     "output_type": "stream",
     "text": [
      "CPU times: user 3.69 ms, sys: 389 µs, total: 4.07 ms\n",
      "Wall time: 966 µs\n"
     ]
    }
   ],
   "source": [
    "%%time\n",
    "clf_svc_b = clf_svc.fit(sel_boruta_train, y_train)"
   ]
  },
  {
   "cell_type": "code",
   "execution_count": 102,
   "metadata": {},
   "outputs": [
    {
     "name": "stdout",
     "output_type": "stream",
     "text": [
      "CPU times: user 3.54 ms, sys: 0 ns, total: 3.54 ms\n",
      "Wall time: 832 µs\n"
     ]
    }
   ],
   "source": [
    "%%time\n",
    "clf_nb_b = clf_nb.fit(sel_boruta_train, y_train)"
   ]
  },
  {
   "cell_type": "code",
   "execution_count": 103,
   "metadata": {},
   "outputs": [
    {
     "name": "stdout",
     "output_type": "stream",
     "text": [
      "CPU times: user 488 ms, sys: 33.8 ms, total: 521 ms\n",
      "Wall time: 183 ms\n"
     ]
    }
   ],
   "source": [
    "%%time\n",
    "clf_rf_b = clf_rf.fit(sel_boruta_train, y_train)"
   ]
  },
  {
   "cell_type": "code",
   "execution_count": 104,
   "metadata": {},
   "outputs": [],
   "source": [
    "y_boruta_predict_svc = clf_svc_b.predict(sel_boruta_test)\n",
    "y_boruta_predict_nb = clf_nb_b.predict(sel_boruta_test)\n",
    "y_boruta_predict_rf = clf_rf_b.predict(sel_boruta_test)"
   ]
  },
  {
   "cell_type": "code",
   "execution_count": 105,
   "metadata": {},
   "outputs": [
    {
     "name": "stdout",
     "output_type": "stream",
     "text": [
      "Accuracy Boruta SVC: 0.4\n",
      "Accuracy Boruta NB: 0.55\n",
      "Accuracy Boruta RF: 0.5\n"
     ]
    }
   ],
   "source": [
    "print(\"Accuracy Boruta SVC:\",metrics.accuracy_score(y_test, y_boruta_predict_svc))\n",
    "print(\"Accuracy Boruta NB:\",metrics.accuracy_score(y_test, y_boruta_predict_nb))\n",
    "print(\"Accuracy Boruta RF:\",metrics.accuracy_score(y_test, y_boruta_predict_rf))"
   ]
  },
  {
   "cell_type": "code",
   "execution_count": 106,
   "metadata": {},
   "outputs": [
    {
     "name": "stdout",
     "output_type": "stream",
     "text": [
      "              precision    recall  f1-score   support\n",
      "\n",
      "           0       0.22      0.29      0.25         7\n",
      "           1       0.55      0.46      0.50        13\n",
      "\n",
      "    accuracy                           0.40        20\n",
      "   macro avg       0.38      0.37      0.37        20\n",
      "weighted avg       0.43      0.40      0.41        20\n",
      "\n",
      "              precision    recall  f1-score   support\n",
      "\n",
      "           0       0.33      0.29      0.31         7\n",
      "           1       0.64      0.69      0.67        13\n",
      "\n",
      "    accuracy                           0.55        20\n",
      "   macro avg       0.49      0.49      0.49        20\n",
      "weighted avg       0.53      0.55      0.54        20\n",
      "\n",
      "              precision    recall  f1-score   support\n",
      "\n",
      "           0       0.20      0.14      0.17         7\n",
      "           1       0.60      0.69      0.64        13\n",
      "\n",
      "    accuracy                           0.50        20\n",
      "   macro avg       0.40      0.42      0.40        20\n",
      "weighted avg       0.46      0.50      0.48        20\n",
      "\n"
     ]
    }
   ],
   "source": [
    "print(metrics.classification_report(y_test,y_boruta_predict_svc))\n",
    "print(metrics.classification_report(y_test,y_boruta_predict_nb))\n",
    "print(metrics.classification_report(y_test,y_boruta_predict_rf))"
   ]
  },
  {
   "cell_type": "code",
   "execution_count": 107,
   "metadata": {},
   "outputs": [
    {
     "name": "stdout",
     "output_type": "stream",
     "text": [
      "ROC-AUC Boruta SVC: 0.4505494505494506\n",
      "ROC-AUC Boruta NB: 0.43956043956043955\n",
      "ROC-AUC Boruta RF: 0.24175824175824176\n"
     ]
    }
   ],
   "source": [
    "# Puntuacion ROC-AUC \n",
    "print(\"ROC-AUC Boruta SVC:\",metrics.roc_auc_score(y_test,clf_svc_b.predict_proba(sel_boruta_test)[:,1]))\n",
    "print(\"ROC-AUC Boruta NB:\",metrics.roc_auc_score(y_test,clf_nb_b.predict_proba(sel_boruta_test)[:,1]))\n",
    "print(\"ROC-AUC Boruta RF:\",metrics.roc_auc_score(y_test,clf_rf_b.predict_proba(sel_boruta_test)[:,1]))"
   ]
  },
  {
   "cell_type": "markdown",
   "metadata": {},
   "source": [
    "## SELECCIONAR VARIABLES USANDO RFE (Eliminar recursivamente)"
   ]
  },
  {
   "cell_type": "code",
   "execution_count": 108,
   "metadata": {},
   "outputs": [],
   "source": [
    "# RFE\n",
    "rfe = RFE(estimator=clf_svc, n_features_to_select=10)\n",
    "\n"
   ]
  },
  {
   "cell_type": "code",
   "execution_count": 109,
   "metadata": {},
   "outputs": [
    {
     "name": "stdout",
     "output_type": "stream",
     "text": [
      "CPU times: user 18min 21s, sys: 14.5 s, total: 18min 36s\n",
      "Wall time: 4min 39s\n"
     ]
    }
   ],
   "source": [
    "%%time\n",
    "rfe = rfe.fit(X_train, y_train)\n",
    " \n"
   ]
  },
  {
   "cell_type": "code",
   "execution_count": 110,
   "metadata": {},
   "outputs": [
    {
     "name": "stdout",
     "output_type": "stream",
     "text": [
      "CPU times: user 2.21 ms, sys: 0 ns, total: 2.21 ms\n",
      "Wall time: 1.06 ms\n"
     ]
    }
   ],
   "source": [
    "%%time\n",
    "\n",
    "sel_rfe_train = rfe.transform(X_train)\n",
    "\n",
    "sel_rfe_test = rfe.transform(X_test)"
   ]
  },
  {
   "cell_type": "code",
   "execution_count": 111,
   "metadata": {},
   "outputs": [
    {
     "name": "stdout",
     "output_type": "stream",
     "text": [
      "[False False False ... False False False]\n",
      "[ 524  716 3262 ... 5009 5919 4850]\n"
     ]
    }
   ],
   "source": [
    "print(rfe.support_)\n",
    "print(rfe.ranking_)"
   ]
  },
  {
   "cell_type": "code",
   "execution_count": 112,
   "metadata": {},
   "outputs": [
    {
     "data": {
      "text/plain": [
       "(40, 10)"
      ]
     },
     "execution_count": 112,
     "metadata": {},
     "output_type": "execute_result"
    }
   ],
   "source": [
    "sel_rfe_train.shape"
   ]
  },
  {
   "cell_type": "markdown",
   "metadata": {},
   "source": [
    "### Entrenar modelo con variables seleccionadas en conjunto de entrenamiento"
   ]
  },
  {
   "cell_type": "code",
   "execution_count": 113,
   "metadata": {},
   "outputs": [
    {
     "name": "stdout",
     "output_type": "stream",
     "text": [
      "CPU times: user 0 ns, sys: 2.35 ms, total: 2.35 ms\n",
      "Wall time: 1.8 ms\n"
     ]
    }
   ],
   "source": [
    "%%time\n",
    "clf_svc_r = clf_svc.fit(sel_rfe_train, y_train)"
   ]
  },
  {
   "cell_type": "code",
   "execution_count": 114,
   "metadata": {},
   "outputs": [
    {
     "name": "stdout",
     "output_type": "stream",
     "text": [
      "CPU times: user 807 µs, sys: 18 µs, total: 825 µs\n",
      "Wall time: 731 µs\n"
     ]
    }
   ],
   "source": [
    "%%time\n",
    "clf_nb_r = clf_nb.fit(sel_rfe_train, y_train)"
   ]
  },
  {
   "cell_type": "code",
   "execution_count": 115,
   "metadata": {},
   "outputs": [
    {
     "name": "stdout",
     "output_type": "stream",
     "text": [
      "CPU times: user 154 ms, sys: 40.4 ms, total: 194 ms\n",
      "Wall time: 164 ms\n"
     ]
    }
   ],
   "source": [
    "%%time\n",
    "clf_rf_r = clf_rf.fit(sel_rfe_train, y_train)"
   ]
  },
  {
   "cell_type": "code",
   "execution_count": 116,
   "metadata": {},
   "outputs": [],
   "source": [
    "y_rfe_predict_svc = clf_svc_r.predict(sel_rfe_test)\n",
    "y_rfe_predict_nb = clf_nb_r.predict(sel_rfe_test)\n",
    "y_rfe_predict_rf = clf_rf_r.predict(sel_rfe_test)\n"
   ]
  },
  {
   "cell_type": "code",
   "execution_count": 117,
   "metadata": {},
   "outputs": [
    {
     "name": "stdout",
     "output_type": "stream",
     "text": [
      "Accuracy SVC: 0.7\n",
      "Accuracy NB: 0.6\n",
      "Accuracy RF: 0.6\n"
     ]
    }
   ],
   "source": [
    "# Exactitud\n",
    "\n",
    "print(\"Accuracy SVC:\",metrics.accuracy_score(y_test, y_rfe_predict_svc))\n",
    "print(\"Accuracy NB:\",metrics.accuracy_score(y_test, y_rfe_predict_nb))\n",
    "print(\"Accuracy RF:\",metrics.accuracy_score(y_test, y_rfe_predict_rf))"
   ]
  },
  {
   "cell_type": "code",
   "execution_count": 118,
   "metadata": {},
   "outputs": [
    {
     "name": "stdout",
     "output_type": "stream",
     "text": [
      "ROC-AUC RFE SVC: 0.39560439560439564\n",
      "ROC-AUC RFE NB: 0.41758241758241765\n",
      "ROC-AUC RFE RF: 0.3406593406593407\n"
     ]
    }
   ],
   "source": [
    "# Puntuacion ROC-AUC \n",
    "print(\"ROC-AUC RFE SVC:\",metrics.roc_auc_score(y_test,clf_svc_r.predict_proba(sel_rfe_test)[:,1]))\n",
    "print(\"ROC-AUC RFE NB:\",metrics.roc_auc_score(y_test,clf_nb_r.predict_proba(sel_rfe_test)[:,1]))\n",
    "print(\"ROC-AUC RFE RF:\",metrics.roc_auc_score(y_test,clf_rf_r.predict_proba(sel_rfe_test)[:,1]))"
   ]
  },
  {
   "cell_type": "code",
   "execution_count": 119,
   "metadata": {},
   "outputs": [
    {
     "name": "stdout",
     "output_type": "stream",
     "text": [
      "              precision    recall  f1-score   support\n",
      "\n",
      "           0       0.67      0.29      0.40         7\n",
      "           1       0.71      0.92      0.80        13\n",
      "\n",
      "    accuracy                           0.70        20\n",
      "   macro avg       0.69      0.60      0.60        20\n",
      "weighted avg       0.69      0.70      0.66        20\n",
      "\n",
      "              precision    recall  f1-score   support\n",
      "\n",
      "           0       0.33      0.14      0.20         7\n",
      "           1       0.65      0.85      0.73        13\n",
      "\n",
      "    accuracy                           0.60        20\n",
      "   macro avg       0.49      0.49      0.47        20\n",
      "weighted avg       0.54      0.60      0.55        20\n",
      "\n",
      "              precision    recall  f1-score   support\n",
      "\n",
      "           0       0.00      0.00      0.00         7\n",
      "           1       0.63      0.92      0.75        13\n",
      "\n",
      "    accuracy                           0.60        20\n",
      "   macro avg       0.32      0.46      0.37        20\n",
      "weighted avg       0.41      0.60      0.49        20\n",
      "\n"
     ]
    }
   ],
   "source": [
    "print(metrics.classification_report(y_test,y_rfe_predict_svc))\n",
    "print(metrics.classification_report(y_test,y_rfe_predict_nb))\n",
    "print(metrics.classification_report(y_test,y_rfe_predict_rf))\n",
    "\n"
   ]
  },
  {
   "cell_type": "code",
   "execution_count": 120,
   "metadata": {},
   "outputs": [
    {
     "data": {
      "text/plain": [
       "x.U35139.at                    1\n",
       "x.X97544.at                    1\n",
       "x.U07563.cds1.at               1\n",
       "x.U66406.at                    1\n",
       "x.AFFX.HUMGAPDH.M33197.5.at    1\n",
       "x.J02611.at                    1\n",
       "x.U66711.rna1.s.at             1\n",
       "x.U18383.s.at                  1\n",
       "x.U39318.at                    1\n",
       "x.U39226.at                    1\n",
       "x.L10333.s.at                  2\n",
       "dtype: int64"
      ]
     },
     "execution_count": 120,
     "metadata": {},
     "output_type": "execute_result"
    }
   ],
   "source": [
    "pd.Series(rfe.ranking_,index=features.columns.values).sort_values(ascending=True).head(11)"
   ]
  },
  {
   "cell_type": "markdown",
   "metadata": {},
   "source": [
    "## SELECCIONAR VARIABLES USANDO SELECCION DE VARIABLES HACIA DELANTE"
   ]
  },
  {
   "cell_type": "code",
   "execution_count": 121,
   "metadata": {},
   "outputs": [],
   "source": [
    "# Tarda mucho tiempo, incluso seleccionando solo 5 variables. Tiempos similares en Google collab.\n",
    "sfs1 = sfs(clf_rf,\n",
    "           k_features=10,\n",
    "           forward=True,\n",
    "           floating=False,\n",
    "           verbose=2,\n",
    "           scoring='f1',\n",
    "           n_jobs= -1,\n",
    "           cv=0)\n",
    "\n"
   ]
  },
  {
   "cell_type": "code",
   "execution_count": 122,
   "metadata": {},
   "outputs": [
    {
     "name": "stderr",
     "output_type": "stream",
     "text": [
      "[Parallel(n_jobs=-1)]: Using backend LokyBackend with 8 concurrent workers.\n",
      "[Parallel(n_jobs=-1)]: Done  25 tasks      | elapsed:    2.8s\n",
      "[Parallel(n_jobs=-1)]: Done 146 tasks      | elapsed:   12.2s\n",
      "[Parallel(n_jobs=-1)]: Done 349 tasks      | elapsed:   28.0s\n",
      "[Parallel(n_jobs=-1)]: Done 632 tasks      | elapsed:   50.0s\n",
      "[Parallel(n_jobs=-1)]: Done 997 tasks      | elapsed:  1.3min\n",
      "[Parallel(n_jobs=-1)]: Done 1442 tasks      | elapsed:  1.9min\n",
      "[Parallel(n_jobs=-1)]: Done 1969 tasks      | elapsed:  2.6min\n",
      "[Parallel(n_jobs=-1)]: Done 2576 tasks      | elapsed:  3.4min\n",
      "[Parallel(n_jobs=-1)]: Done 3265 tasks      | elapsed:  4.2min\n",
      "[Parallel(n_jobs=-1)]: Done 4034 tasks      | elapsed:  5.2min\n",
      "[Parallel(n_jobs=-1)]: Done 4885 tasks      | elapsed:  6.3min\n",
      "[Parallel(n_jobs=-1)]: Done 5816 tasks      | elapsed:  7.6min\n",
      "[Parallel(n_jobs=-1)]: Done 6829 tasks      | elapsed:  8.9min\n",
      "[Parallel(n_jobs=-1)]: Done 7128 out of 7128 | elapsed:  9.3min finished\n",
      "\n",
      "[2019-11-09 21:51:56] Features: 1/10 -- score: 1.0[Parallel(n_jobs=-1)]: Using backend LokyBackend with 8 concurrent workers.\n",
      "[Parallel(n_jobs=-1)]: Done  25 tasks      | elapsed:    2.4s\n",
      "[Parallel(n_jobs=-1)]: Done 146 tasks      | elapsed:   12.0s\n",
      "[Parallel(n_jobs=-1)]: Done 349 tasks      | elapsed:   27.6s\n",
      "[Parallel(n_jobs=-1)]: Done 632 tasks      | elapsed:   49.6s\n",
      "[Parallel(n_jobs=-1)]: Done 997 tasks      | elapsed:  1.3min\n",
      "[Parallel(n_jobs=-1)]: Done 1442 tasks      | elapsed:  1.9min\n",
      "[Parallel(n_jobs=-1)]: Done 1969 tasks      | elapsed:  2.6min\n",
      "[Parallel(n_jobs=-1)]: Done 2576 tasks      | elapsed:  3.3min\n",
      "[Parallel(n_jobs=-1)]: Done 3265 tasks      | elapsed:  4.2min\n",
      "[Parallel(n_jobs=-1)]: Done 4034 tasks      | elapsed:  5.2min\n",
      "[Parallel(n_jobs=-1)]: Done 4885 tasks      | elapsed:  6.3min\n",
      "[Parallel(n_jobs=-1)]: Done 5816 tasks      | elapsed:  7.5min\n",
      "[Parallel(n_jobs=-1)]: Done 6829 tasks      | elapsed:  8.9min\n",
      "[Parallel(n_jobs=-1)]: Done 7127 out of 7127 | elapsed:  9.3min finished\n",
      "\n",
      "[2019-11-09 22:01:12] Features: 2/10 -- score: 1.0[Parallel(n_jobs=-1)]: Using backend LokyBackend with 8 concurrent workers.\n",
      "[Parallel(n_jobs=-1)]: Done  25 tasks      | elapsed:    2.3s\n",
      "[Parallel(n_jobs=-1)]: Done 146 tasks      | elapsed:   11.6s\n",
      "[Parallel(n_jobs=-1)]: Done 349 tasks      | elapsed:   27.5s\n",
      "[Parallel(n_jobs=-1)]: Done 632 tasks      | elapsed:   49.5s\n",
      "[Parallel(n_jobs=-1)]: Done 997 tasks      | elapsed:  1.3min\n",
      "[Parallel(n_jobs=-1)]: Done 1442 tasks      | elapsed:  1.9min\n",
      "[Parallel(n_jobs=-1)]: Done 1969 tasks      | elapsed:  2.5min\n",
      "[Parallel(n_jobs=-1)]: Done 2576 tasks      | elapsed:  3.3min\n",
      "[Parallel(n_jobs=-1)]: Done 3265 tasks      | elapsed:  4.2min\n",
      "[Parallel(n_jobs=-1)]: Done 4034 tasks      | elapsed:  5.2min\n",
      "[Parallel(n_jobs=-1)]: Done 4885 tasks      | elapsed:  6.3min\n",
      "[Parallel(n_jobs=-1)]: Done 5816 tasks      | elapsed:  7.5min\n",
      "[Parallel(n_jobs=-1)]: Done 6829 tasks      | elapsed:  8.9min\n",
      "[Parallel(n_jobs=-1)]: Done 7126 out of 7126 | elapsed:  9.2min finished\n",
      "\n",
      "[2019-11-09 22:10:26] Features: 3/10 -- score: 1.0[Parallel(n_jobs=-1)]: Using backend LokyBackend with 8 concurrent workers.\n",
      "[Parallel(n_jobs=-1)]: Done  25 tasks      | elapsed:    2.3s\n",
      "[Parallel(n_jobs=-1)]: Done 146 tasks      | elapsed:   11.9s\n",
      "[Parallel(n_jobs=-1)]: Done 349 tasks      | elapsed:   27.6s\n",
      "[Parallel(n_jobs=-1)]: Done 632 tasks      | elapsed:   49.5s\n",
      "[Parallel(n_jobs=-1)]: Done 997 tasks      | elapsed:  1.3min\n",
      "[Parallel(n_jobs=-1)]: Done 1442 tasks      | elapsed:  1.9min\n",
      "[Parallel(n_jobs=-1)]: Done 1969 tasks      | elapsed:  2.6min\n",
      "[Parallel(n_jobs=-1)]: Done 2576 tasks      | elapsed:  3.3min\n",
      "[Parallel(n_jobs=-1)]: Done 3265 tasks      | elapsed:  4.3min\n",
      "[Parallel(n_jobs=-1)]: Done 4034 tasks      | elapsed:  5.2min\n",
      "[Parallel(n_jobs=-1)]: Done 4885 tasks      | elapsed:  6.3min\n",
      "[Parallel(n_jobs=-1)]: Done 5816 tasks      | elapsed:  7.6min\n",
      "[Parallel(n_jobs=-1)]: Done 6829 tasks      | elapsed:  8.9min\n",
      "[Parallel(n_jobs=-1)]: Done 7125 out of 7125 | elapsed:  9.2min finished\n",
      "\n",
      "[2019-11-09 22:19:42] Features: 4/10 -- score: 1.0[Parallel(n_jobs=-1)]: Using backend LokyBackend with 8 concurrent workers.\n",
      "[Parallel(n_jobs=-1)]: Done  25 tasks      | elapsed:    2.4s\n",
      "[Parallel(n_jobs=-1)]: Done 146 tasks      | elapsed:   11.8s\n",
      "[Parallel(n_jobs=-1)]: Done 349 tasks      | elapsed:   27.5s\n",
      "[Parallel(n_jobs=-1)]: Done 632 tasks      | elapsed:   49.6s\n",
      "[Parallel(n_jobs=-1)]: Done 997 tasks      | elapsed:  1.3min\n",
      "[Parallel(n_jobs=-1)]: Done 1442 tasks      | elapsed:  1.9min\n",
      "[Parallel(n_jobs=-1)]: Done 1969 tasks      | elapsed:  2.6min\n",
      "[Parallel(n_jobs=-1)]: Done 2576 tasks      | elapsed:  3.4min\n",
      "[Parallel(n_jobs=-1)]: Done 3265 tasks      | elapsed:  4.2min\n",
      "[Parallel(n_jobs=-1)]: Done 4034 tasks      | elapsed:  5.2min\n",
      "[Parallel(n_jobs=-1)]: Done 4885 tasks      | elapsed:  6.3min\n",
      "[Parallel(n_jobs=-1)]: Done 5816 tasks      | elapsed:  7.5min\n",
      "[Parallel(n_jobs=-1)]: Done 6829 tasks      | elapsed:  8.9min\n",
      "[Parallel(n_jobs=-1)]: Done 7124 out of 7124 | elapsed:  9.2min finished\n",
      "\n",
      "[2019-11-09 22:28:56] Features: 5/10 -- score: 1.0[Parallel(n_jobs=-1)]: Using backend LokyBackend with 8 concurrent workers.\n",
      "[Parallel(n_jobs=-1)]: Done  25 tasks      | elapsed:    2.3s\n",
      "[Parallel(n_jobs=-1)]: Done 146 tasks      | elapsed:   11.7s\n",
      "[Parallel(n_jobs=-1)]: Done 349 tasks      | elapsed:   27.5s\n",
      "[Parallel(n_jobs=-1)]: Done 632 tasks      | elapsed:   49.6s\n",
      "[Parallel(n_jobs=-1)]: Done 997 tasks      | elapsed:  1.3min\n",
      "[Parallel(n_jobs=-1)]: Done 1442 tasks      | elapsed:  1.9min\n",
      "[Parallel(n_jobs=-1)]: Done 1969 tasks      | elapsed:  2.6min\n",
      "[Parallel(n_jobs=-1)]: Done 2576 tasks      | elapsed:  3.4min\n",
      "[Parallel(n_jobs=-1)]: Done 3265 tasks      | elapsed:  4.2min\n",
      "[Parallel(n_jobs=-1)]: Done 4034 tasks      | elapsed:  5.3min\n",
      "[Parallel(n_jobs=-1)]: Done 4885 tasks      | elapsed:  6.3min\n",
      "[Parallel(n_jobs=-1)]: Done 5816 tasks      | elapsed:  7.6min\n",
      "[Parallel(n_jobs=-1)]: Done 6829 tasks      | elapsed:  8.9min\n",
      "[Parallel(n_jobs=-1)]: Done 7123 out of 7123 | elapsed:  9.3min finished\n",
      "\n",
      "[2019-11-09 22:38:13] Features: 6/10 -- score: 1.0[Parallel(n_jobs=-1)]: Using backend LokyBackend with 8 concurrent workers.\n",
      "[Parallel(n_jobs=-1)]: Done  25 tasks      | elapsed:    2.3s\n",
      "[Parallel(n_jobs=-1)]: Done 146 tasks      | elapsed:   11.6s\n",
      "[Parallel(n_jobs=-1)]: Done 349 tasks      | elapsed:   27.6s\n",
      "[Parallel(n_jobs=-1)]: Done 632 tasks      | elapsed:   49.3s\n",
      "[Parallel(n_jobs=-1)]: Done 997 tasks      | elapsed:  1.3min\n",
      "[Parallel(n_jobs=-1)]: Done 1442 tasks      | elapsed:  1.9min\n",
      "[Parallel(n_jobs=-1)]: Done 1969 tasks      | elapsed:  2.6min\n",
      "[Parallel(n_jobs=-1)]: Done 2576 tasks      | elapsed:  3.3min\n",
      "[Parallel(n_jobs=-1)]: Done 3265 tasks      | elapsed:  4.2min\n",
      "[Parallel(n_jobs=-1)]: Done 4034 tasks      | elapsed:  5.2min\n",
      "[Parallel(n_jobs=-1)]: Done 4885 tasks      | elapsed:  6.3min\n",
      "[Parallel(n_jobs=-1)]: Done 5816 tasks      | elapsed:  7.6min\n",
      "[Parallel(n_jobs=-1)]: Done 6829 tasks      | elapsed:  8.9min\n",
      "[Parallel(n_jobs=-1)]: Done 7122 out of 7122 | elapsed:  9.3min finished\n",
      "\n",
      "[2019-11-09 22:47:29] Features: 7/10 -- score: 1.0[Parallel(n_jobs=-1)]: Using backend LokyBackend with 8 concurrent workers.\n",
      "[Parallel(n_jobs=-1)]: Done  25 tasks      | elapsed:    2.4s\n",
      "[Parallel(n_jobs=-1)]: Done 146 tasks      | elapsed:   11.9s\n",
      "[Parallel(n_jobs=-1)]: Done 349 tasks      | elapsed:   27.4s\n",
      "[Parallel(n_jobs=-1)]: Done 632 tasks      | elapsed:   49.4s\n",
      "[Parallel(n_jobs=-1)]: Done 997 tasks      | elapsed:  1.3min\n",
      "[Parallel(n_jobs=-1)]: Done 1442 tasks      | elapsed:  1.9min\n",
      "[Parallel(n_jobs=-1)]: Done 1969 tasks      | elapsed:  2.6min\n",
      "[Parallel(n_jobs=-1)]: Done 2576 tasks      | elapsed:  3.3min\n",
      "[Parallel(n_jobs=-1)]: Done 3265 tasks      | elapsed:  4.2min\n",
      "[Parallel(n_jobs=-1)]: Done 4034 tasks      | elapsed:  5.2min\n",
      "[Parallel(n_jobs=-1)]: Done 4885 tasks      | elapsed:  6.4min\n",
      "[Parallel(n_jobs=-1)]: Done 5816 tasks      | elapsed:  7.6min\n",
      "[Parallel(n_jobs=-1)]: Done 6829 tasks      | elapsed:  8.9min\n",
      "[Parallel(n_jobs=-1)]: Done 7121 out of 7121 | elapsed:  9.3min finished\n",
      "\n",
      "[2019-11-09 22:56:45] Features: 8/10 -- score: 1.0[Parallel(n_jobs=-1)]: Using backend LokyBackend with 8 concurrent workers.\n",
      "[Parallel(n_jobs=-1)]: Done  25 tasks      | elapsed:    2.4s\n"
     ]
    },
    {
     "name": "stderr",
     "output_type": "stream",
     "text": [
      "[Parallel(n_jobs=-1)]: Done 146 tasks      | elapsed:   11.7s\n",
      "[Parallel(n_jobs=-1)]: Done 349 tasks      | elapsed:   27.5s\n",
      "[Parallel(n_jobs=-1)]: Done 632 tasks      | elapsed:   49.3s\n",
      "[Parallel(n_jobs=-1)]: Done 997 tasks      | elapsed:  1.3min\n",
      "[Parallel(n_jobs=-1)]: Done 1442 tasks      | elapsed:  1.9min\n",
      "[Parallel(n_jobs=-1)]: Done 1969 tasks      | elapsed:  2.6min\n",
      "[Parallel(n_jobs=-1)]: Done 2576 tasks      | elapsed:  3.3min\n",
      "[Parallel(n_jobs=-1)]: Done 3265 tasks      | elapsed:  4.2min\n",
      "[Parallel(n_jobs=-1)]: Done 4034 tasks      | elapsed:  5.2min\n",
      "[Parallel(n_jobs=-1)]: Done 4885 tasks      | elapsed:  6.3min\n",
      "[Parallel(n_jobs=-1)]: Done 5816 tasks      | elapsed:  7.6min\n",
      "[Parallel(n_jobs=-1)]: Done 6829 tasks      | elapsed:  8.9min\n",
      "[Parallel(n_jobs=-1)]: Done 7120 out of 7120 | elapsed:  9.2min finished\n",
      "\n",
      "[2019-11-09 23:06:00] Features: 9/10 -- score: 1.0[Parallel(n_jobs=-1)]: Using backend LokyBackend with 8 concurrent workers.\n",
      "[Parallel(n_jobs=-1)]: Done  25 tasks      | elapsed:    2.4s\n",
      "[Parallel(n_jobs=-1)]: Done 146 tasks      | elapsed:   11.7s\n",
      "[Parallel(n_jobs=-1)]: Done 349 tasks      | elapsed:   27.4s\n",
      "[Parallel(n_jobs=-1)]: Done 632 tasks      | elapsed:   49.4s\n",
      "[Parallel(n_jobs=-1)]: Done 997 tasks      | elapsed:  1.3min\n",
      "[Parallel(n_jobs=-1)]: Done 1442 tasks      | elapsed:  1.9min\n",
      "[Parallel(n_jobs=-1)]: Done 1969 tasks      | elapsed:  2.6min\n",
      "[Parallel(n_jobs=-1)]: Done 2576 tasks      | elapsed:  3.4min\n",
      "[Parallel(n_jobs=-1)]: Done 3265 tasks      | elapsed:  4.3min\n",
      "[Parallel(n_jobs=-1)]: Done 4034 tasks      | elapsed:  5.3min\n",
      "[Parallel(n_jobs=-1)]: Done 4885 tasks      | elapsed:  6.4min\n",
      "[Parallel(n_jobs=-1)]: Done 5816 tasks      | elapsed:  7.6min\n",
      "[Parallel(n_jobs=-1)]: Done 6829 tasks      | elapsed:  8.9min\n"
     ]
    },
    {
     "name": "stdout",
     "output_type": "stream",
     "text": [
      "CPU times: user 1h 31min 27s, sys: 50.2 s, total: 1h 32min 17s\n",
      "Wall time: 1h 32min 35s\n"
     ]
    },
    {
     "name": "stderr",
     "output_type": "stream",
     "text": [
      "[Parallel(n_jobs=-1)]: Done 7119 out of 7119 | elapsed:  9.3min finished\n",
      "\n",
      "[2019-11-09 23:15:16] Features: 10/10 -- score: 1.0"
     ]
    }
   ],
   "source": [
    "%%time\n",
    "sfs1 = sfs1.fit(X_train, y_train)"
   ]
  },
  {
   "cell_type": "code",
   "execution_count": 123,
   "metadata": {},
   "outputs": [
    {
     "name": "stdout",
     "output_type": "stream",
     "text": [
      "[0, 1, 2, 3, 4, 5, 6, 7, 8, 9]\n"
     ]
    }
   ],
   "source": [
    "# Mostrar variables seleccionadas\n",
    "\n",
    "feat_cols = list(sfs1.k_feature_idx_)\n",
    "print(feat_cols)"
   ]
  },
  {
   "cell_type": "code",
   "execution_count": 124,
   "metadata": {},
   "outputs": [
    {
     "data": {
      "text/plain": [
       "1.0"
      ]
     },
     "execution_count": 124,
     "metadata": {},
     "output_type": "execute_result"
    }
   ],
   "source": [
    "sfs1.k_score_"
   ]
  },
  {
   "cell_type": "code",
   "execution_count": 125,
   "metadata": {},
   "outputs": [
    {
     "data": {
      "text/plain": [
       "array(['x.AFFX.BioB.5.at', 'x.AFFX.BioB.M.at', 'x.AFFX.BioB.3.at',\n",
       "       'x.AFFX.BioC.5.at', 'x.AFFX.BioC.3.at', 'x.AFFX.BioDn.5.at',\n",
       "       'x.AFFX.BioDn.3.at', 'x.AFFX.CreX.5.at', 'x.AFFX.CreX.3.at',\n",
       "       'x.AFFX.BioB.5.st'], dtype=object)"
      ]
     },
     "execution_count": 125,
     "metadata": {},
     "output_type": "execute_result"
    }
   ],
   "source": [
    "features.columns.values[[0,1,2,3,4,5,6,7,8,9]]"
   ]
  },
  {
   "cell_type": "markdown",
   "metadata": {},
   "source": [
    "### Entrenar modelo con variables seleccionadas en conjunto de entrenamiento"
   ]
  },
  {
   "cell_type": "code",
   "execution_count": 126,
   "metadata": {},
   "outputs": [
    {
     "name": "stdout",
     "output_type": "stream",
     "text": [
      "CPU times: user 1.22 ms, sys: 14 µs, total: 1.23 ms\n",
      "Wall time: 855 µs\n"
     ]
    }
   ],
   "source": [
    "%%time\n",
    "clf_svc_sfs = clf_svc.fit(X_train[:, feat_cols], y_train)"
   ]
  },
  {
   "cell_type": "code",
   "execution_count": 127,
   "metadata": {},
   "outputs": [
    {
     "name": "stdout",
     "output_type": "stream",
     "text": [
      "CPU times: user 170 ms, sys: 32.2 ms, total: 202 ms\n",
      "Wall time: 163 ms\n"
     ]
    }
   ],
   "source": [
    "%%time\n",
    "clf_rf_sfs = clf_rf.fit(X_train[:, feat_cols], y_train)"
   ]
  },
  {
   "cell_type": "code",
   "execution_count": 128,
   "metadata": {},
   "outputs": [
    {
     "name": "stdout",
     "output_type": "stream",
     "text": [
      "CPU times: user 3.18 ms, sys: 29 µs, total: 3.21 ms\n",
      "Wall time: 2.45 ms\n"
     ]
    }
   ],
   "source": [
    "%%time\n",
    "clf_nb_sfs = clf_nb.fit(X_train[:, feat_cols], y_train)"
   ]
  },
  {
   "cell_type": "code",
   "execution_count": 129,
   "metadata": {},
   "outputs": [],
   "source": [
    "y_sfs_predict_svc = clf_svc_sfs.predict(X_test[:, feat_cols])\n",
    "y_sfs_predict_nb = clf_nb_sfs.predict(X_test[:, feat_cols])\n",
    "y_sfs_predict_rf = clf_rf_sfs.predict(X_test[:, feat_cols])"
   ]
  },
  {
   "cell_type": "code",
   "execution_count": 130,
   "metadata": {},
   "outputs": [
    {
     "name": "stdout",
     "output_type": "stream",
     "text": [
      "Accuracy SVC: 0.65\n",
      "Accuracy NB: 0.55\n",
      "Accuracy RF: 0.5\n"
     ]
    }
   ],
   "source": [
    "# Exactitud\n",
    "\n",
    "print(\"Accuracy SVC:\",metrics.accuracy_score(y_test, y_sfs_predict_svc))\n",
    "print(\"Accuracy NB:\",metrics.accuracy_score(y_test, y_sfs_predict_nb))\n",
    "print(\"Accuracy RF:\",metrics.accuracy_score(y_test, y_sfs_predict_rf))"
   ]
  },
  {
   "cell_type": "code",
   "execution_count": 131,
   "metadata": {},
   "outputs": [
    {
     "name": "stdout",
     "output_type": "stream",
     "text": [
      "ROC-AUC SFS SVC: 0.5274725274725275\n",
      "ROC-AUC SFS NB: 0.6043956043956045\n",
      "ROC-AUC SFS RF: 0.4285714285714286\n"
     ]
    }
   ],
   "source": [
    "# Puntuacion ROC-AUC \n",
    "print(\"ROC-AUC SFS SVC:\",metrics.roc_auc_score(y_test,clf_svc_sfs.predict_proba(X_test[:, feat_cols])[:,1]))\n",
    "print(\"ROC-AUC SFS NB:\",metrics.roc_auc_score(y_test,clf_nb_sfs.predict_proba(X_test[:, feat_cols])[:,1]))\n",
    "print(\"ROC-AUC SFS RF:\",metrics.roc_auc_score(y_test,clf_rf_sfs.predict_proba(X_test[:, feat_cols])[:,1]))"
   ]
  },
  {
   "cell_type": "code",
   "execution_count": 132,
   "metadata": {},
   "outputs": [
    {
     "name": "stdout",
     "output_type": "stream",
     "text": [
      "              precision    recall  f1-score   support\n",
      "\n",
      "           0       0.00      0.00      0.00         7\n",
      "           1       0.65      1.00      0.79        13\n",
      "\n",
      "    accuracy                           0.65        20\n",
      "   macro avg       0.33      0.50      0.39        20\n",
      "weighted avg       0.42      0.65      0.51        20\n",
      "\n",
      "              precision    recall  f1-score   support\n",
      "\n",
      "           0       0.40      0.57      0.47         7\n",
      "           1       0.70      0.54      0.61        13\n",
      "\n",
      "    accuracy                           0.55        20\n",
      "   macro avg       0.55      0.55      0.54        20\n",
      "weighted avg       0.59      0.55      0.56        20\n",
      "\n",
      "              precision    recall  f1-score   support\n",
      "\n",
      "           0       0.29      0.29      0.29         7\n",
      "           1       0.62      0.62      0.62        13\n",
      "\n",
      "    accuracy                           0.50        20\n",
      "   macro avg       0.45      0.45      0.45        20\n",
      "weighted avg       0.50      0.50      0.50        20\n",
      "\n"
     ]
    }
   ],
   "source": [
    "# Metricas\n",
    "\n",
    "print(metrics.classification_report(y_test,y_sfs_predict_svc))\n",
    "print(metrics.classification_report(y_test,y_sfs_predict_nb))\n",
    "print(metrics.classification_report(y_test,y_sfs_predict_rf))"
   ]
  },
  {
   "cell_type": "markdown",
   "metadata": {},
   "source": [
    "## SELECCIONAR VARIABLES USANDO ARBOLES DE DECISION"
   ]
  },
  {
   "cell_type": "code",
   "execution_count": 133,
   "metadata": {},
   "outputs": [
    {
     "name": "stdout",
     "output_type": "stream",
     "text": [
      "CPU times: user 213 ms, sys: 56.2 ms, total: 270 ms\n",
      "Wall time: 165 ms\n"
     ]
    },
    {
     "data": {
      "text/plain": [
       "SelectFromModel(estimator=RandomForestClassifier(bootstrap=True,\n",
       "                                                 class_weight='balanced',\n",
       "                                                 criterion='gini', max_depth=5,\n",
       "                                                 max_features='auto',\n",
       "                                                 max_leaf_nodes=None,\n",
       "                                                 min_impurity_decrease=0.0,\n",
       "                                                 min_impurity_split=None,\n",
       "                                                 min_samples_leaf=1,\n",
       "                                                 min_samples_split=2,\n",
       "                                                 min_weight_fraction_leaf=0.0,\n",
       "                                                 n_estimators=205, n_jobs=-1,\n",
       "                                                 oob_score=False,\n",
       "                                                 random_state=<mtrand.RandomState object at 0x7f436f87f288>,\n",
       "                                                 verbose=0, warm_start=False),\n",
       "                max_features=10, norm_order=1, prefit=False, threshold=-inf)"
      ]
     },
     "execution_count": 133,
     "metadata": {},
     "output_type": "execute_result"
    }
   ],
   "source": [
    "%%time\n",
    "\n",
    "sfm = SelectFromModel(clf_rf, max_features=10, threshold=-np.inf)\n",
    "sfm.fit(X_train, y_train)"
   ]
  },
  {
   "cell_type": "code",
   "execution_count": 134,
   "metadata": {},
   "outputs": [],
   "source": [
    "# Imprimir variables importantes\n",
    "\n",
    "l=[]\n",
    "for feature_list_index in sfm.get_support(indices=True):\n",
    "    feat = (feature_labels[feature_list_index])\n",
    "    l.append(feat)"
   ]
  },
  {
   "cell_type": "code",
   "execution_count": 135,
   "metadata": {},
   "outputs": [
    {
     "data": {
      "text/plain": [
       "['x.D83243.at',\n",
       " 'x.M24248.at',\n",
       " 'x.M27281.at',\n",
       " 'x.U07563.cds1.at',\n",
       " 'x.U68031.at',\n",
       " 'x.X57129.at',\n",
       " 'x.X74295.at',\n",
       " 'x.AB006781.s.at',\n",
       " 'x.D43682.s.at',\n",
       " 'x.X79200.at']"
      ]
     },
     "execution_count": 135,
     "metadata": {},
     "output_type": "execute_result"
    }
   ],
   "source": [
    "l"
   ]
  },
  {
   "cell_type": "code",
   "execution_count": 136,
   "metadata": {},
   "outputs": [],
   "source": [
    "\n",
    "sel_rf_train = sfm.transform(X_train)\n",
    "sel_rf_test = sfm.transform(X_test)"
   ]
  },
  {
   "cell_type": "code",
   "execution_count": 137,
   "metadata": {},
   "outputs": [
    {
     "name": "stdout",
     "output_type": "stream",
     "text": [
      "(40, 10)\n"
     ]
    },
    {
     "data": {
      "text/plain": [
       "(20, 10)"
      ]
     },
     "execution_count": 137,
     "metadata": {},
     "output_type": "execute_result"
    }
   ],
   "source": [
    "print(sel_rf_train.shape)\n",
    "sel_rf_test.shape"
   ]
  },
  {
   "cell_type": "markdown",
   "metadata": {},
   "source": [
    "### Entrenar modelo con variables seleccionadas en conjunto de entrenamiento"
   ]
  },
  {
   "cell_type": "code",
   "execution_count": 138,
   "metadata": {},
   "outputs": [
    {
     "name": "stdout",
     "output_type": "stream",
     "text": [
      "CPU times: user 4.99 ms, sys: 0 ns, total: 4.99 ms\n",
      "Wall time: 3 ms\n"
     ]
    }
   ],
   "source": [
    "%%time\n",
    "clf_svc_rf = clf_svc.fit(sel_rf_train, y_train)"
   ]
  },
  {
   "cell_type": "code",
   "execution_count": 139,
   "metadata": {},
   "outputs": [
    {
     "name": "stdout",
     "output_type": "stream",
     "text": [
      "CPU times: user 2.53 ms, sys: 0 ns, total: 2.53 ms\n",
      "Wall time: 1.96 ms\n"
     ]
    }
   ],
   "source": [
    "%%time\n",
    "clf_nb_rf = clf_nb.fit(sel_rf_train, y_train)"
   ]
  },
  {
   "cell_type": "code",
   "execution_count": 140,
   "metadata": {},
   "outputs": [
    {
     "name": "stdout",
     "output_type": "stream",
     "text": [
      "CPU times: user 192 ms, sys: 28.1 ms, total: 221 ms\n",
      "Wall time: 173 ms\n"
     ]
    }
   ],
   "source": [
    "%%time\n",
    "clf_rf_rf = clf_rf.fit(sel_rf_train, y_train)"
   ]
  },
  {
   "cell_type": "code",
   "execution_count": 141,
   "metadata": {},
   "outputs": [],
   "source": [
    "y_rf_predict_svc = clf_svc_rf.predict(sel_rf_test)\n",
    "y_rf_predict_nb = clf_nb_rf.predict(sel_rf_test)\n",
    "y_rf_predict_rf = clf_rf_rf.predict(sel_rf_test)"
   ]
  },
  {
   "cell_type": "code",
   "execution_count": 142,
   "metadata": {
    "scrolled": true
   },
   "outputs": [
    {
     "name": "stdout",
     "output_type": "stream",
     "text": [
      "Accuracy DT SVC: 0.65\n",
      "Accuracy DT NB: 0.7\n",
      "Accuracy DT RF: 0.55\n"
     ]
    }
   ],
   "source": [
    "# Exactitud\n",
    "\n",
    "print(\"Accuracy DT SVC:\",metrics.accuracy_score(y_test, y_rf_predict_svc))\n",
    "print(\"Accuracy DT NB:\",metrics.accuracy_score(y_test, y_rf_predict_nb))\n",
    "print(\"Accuracy DT RF:\",metrics.accuracy_score(y_test, y_rf_predict_rf))"
   ]
  },
  {
   "cell_type": "code",
   "execution_count": 143,
   "metadata": {},
   "outputs": [
    {
     "name": "stdout",
     "output_type": "stream",
     "text": [
      "ROC-AUC RF SVC: 0.5824175824175825\n",
      "ROC-AUC RF NB: 0.5274725274725275\n",
      "ROC-AUC RF RF: 0.5054945054945055\n"
     ]
    }
   ],
   "source": [
    "# Puntuacion ROC-AUC \n",
    "print(\"ROC-AUC RF SVC:\",metrics.roc_auc_score(y_test,clf_svc_rf.predict_proba(sel_rf_test)[:,1]))\n",
    "print(\"ROC-AUC RF NB:\",metrics.roc_auc_score(y_test,clf_nb_rf.predict_proba(sel_rf_test)[:,1]))\n",
    "print(\"ROC-AUC RF RF:\",metrics.roc_auc_score(y_test,clf_rf_rf.predict_proba(sel_rf_test)[:,1]))"
   ]
  },
  {
   "cell_type": "code",
   "execution_count": 144,
   "metadata": {},
   "outputs": [
    {
     "name": "stdout",
     "output_type": "stream",
     "text": [
      "              precision    recall  f1-score   support\n",
      "\n",
      "           0       0.50      0.43      0.46         7\n",
      "           1       0.71      0.77      0.74        13\n",
      "\n",
      "    accuracy                           0.65        20\n",
      "   macro avg       0.61      0.60      0.60        20\n",
      "weighted avg       0.64      0.65      0.64        20\n",
      "\n",
      "              precision    recall  f1-score   support\n",
      "\n",
      "           0       0.57      0.57      0.57         7\n",
      "           1       0.77      0.77      0.77        13\n",
      "\n",
      "    accuracy                           0.70        20\n",
      "   macro avg       0.67      0.67      0.67        20\n",
      "weighted avg       0.70      0.70      0.70        20\n",
      "\n",
      "              precision    recall  f1-score   support\n",
      "\n",
      "           0       0.25      0.14      0.18         7\n",
      "           1       0.62      0.77      0.69        13\n",
      "\n",
      "    accuracy                           0.55        20\n",
      "   macro avg       0.44      0.46      0.44        20\n",
      "weighted avg       0.49      0.55      0.51        20\n",
      "\n"
     ]
    }
   ],
   "source": [
    "# Metricas\n",
    "\n",
    "print(metrics.classification_report(y_test,y_rf_predict_svc))\n",
    "print(metrics.classification_report(y_test,y_rf_predict_nb))\n",
    "print(metrics.classification_report(y_test,y_rf_predict_rf))\n"
   ]
  },
  {
   "cell_type": "markdown",
   "metadata": {},
   "source": [
    "## SELECCIONAR VARIABLES USANDO LOGISTIC REGRESSION Y L1"
   ]
  },
  {
   "cell_type": "code",
   "execution_count": 145,
   "metadata": {},
   "outputs": [
    {
     "name": "stdout",
     "output_type": "stream",
     "text": [
      "CPU times: user 28 µs, sys: 1e+03 ns, total: 29 µs\n",
      "Wall time: 30.3 µs\n"
     ]
    }
   ],
   "source": [
    "%%time\n",
    "\n",
    "sfm = SelectFromModel(LogisticRegression(penalty='l1', solver='liblinear', random_state=SEED), max_features=10, threshold=-np.inf)\n"
   ]
  },
  {
   "cell_type": "code",
   "execution_count": 146,
   "metadata": {},
   "outputs": [
    {
     "data": {
      "text/plain": [
       "SelectFromModel(estimator=LogisticRegression(C=1.0, class_weight=None,\n",
       "                                             dual=False, fit_intercept=True,\n",
       "                                             intercept_scaling=1, l1_ratio=None,\n",
       "                                             max_iter=100, multi_class='warn',\n",
       "                                             n_jobs=None, penalty='l1',\n",
       "                                             random_state=50,\n",
       "                                             solver='liblinear', tol=0.0001,\n",
       "                                             verbose=0, warm_start=False),\n",
       "                max_features=10, norm_order=1, prefit=False, threshold=-inf)"
      ]
     },
     "execution_count": 146,
     "metadata": {},
     "output_type": "execute_result"
    }
   ],
   "source": [
    "sfm.fit(X_train, y_train)"
   ]
  },
  {
   "cell_type": "code",
   "execution_count": 147,
   "metadata": {},
   "outputs": [],
   "source": [
    "# Imprimir variables importantes\n",
    "\n",
    "l=[]\n",
    "for feature_list_index in sfm.get_support(indices=True):\n",
    "    feat = (feature_labels[feature_list_index])\n",
    "    l.append(feat)"
   ]
  },
  {
   "cell_type": "code",
   "execution_count": 148,
   "metadata": {},
   "outputs": [
    {
     "data": {
      "text/plain": [
       "['x.J02611.at',\n",
       " 'x.U07563.cds1.at',\n",
       " 'x.U35139.at',\n",
       " 'x.U39318.at',\n",
       " 'x.X76302.at',\n",
       " 'x.X77197.at',\n",
       " 'x.L10333.s.at',\n",
       " 'x.U66711.rna1.s.at',\n",
       " 'x.Z11899.s.at',\n",
       " 'x.K03189.f.at']"
      ]
     },
     "execution_count": 148,
     "metadata": {},
     "output_type": "execute_result"
    }
   ],
   "source": [
    "l"
   ]
  },
  {
   "cell_type": "code",
   "execution_count": 149,
   "metadata": {},
   "outputs": [],
   "source": [
    "\n",
    "sel_l1_train = sfm.transform(X_train)\n",
    "sel_l1_test = sfm.transform(X_test)"
   ]
  },
  {
   "cell_type": "code",
   "execution_count": 150,
   "metadata": {},
   "outputs": [
    {
     "name": "stdout",
     "output_type": "stream",
     "text": [
      "(40, 10)\n"
     ]
    },
    {
     "data": {
      "text/plain": [
       "(20, 10)"
      ]
     },
     "execution_count": 150,
     "metadata": {},
     "output_type": "execute_result"
    }
   ],
   "source": [
    "print(sel_l1_train.shape)\n",
    "sel_l1_test.shape"
   ]
  },
  {
   "cell_type": "markdown",
   "metadata": {},
   "source": [
    "### Entrenar modelo con variables seleccionadas en conjunto de entrenamiento"
   ]
  },
  {
   "cell_type": "code",
   "execution_count": 151,
   "metadata": {},
   "outputs": [
    {
     "name": "stdout",
     "output_type": "stream",
     "text": [
      "CPU times: user 1.24 ms, sys: 0 ns, total: 1.24 ms\n",
      "Wall time: 954 µs\n"
     ]
    }
   ],
   "source": [
    "%%time\n",
    "clf_svc_l1 = clf_svc.fit(sel_l1_train, y_train)"
   ]
  },
  {
   "cell_type": "code",
   "execution_count": 152,
   "metadata": {},
   "outputs": [
    {
     "name": "stdout",
     "output_type": "stream",
     "text": [
      "CPU times: user 1.51 ms, sys: 0 ns, total: 1.51 ms\n",
      "Wall time: 1.32 ms\n"
     ]
    }
   ],
   "source": [
    "%%time\n",
    "clf_nb_l1 = clf_nb.fit(sel_l1_train, y_train)"
   ]
  },
  {
   "cell_type": "code",
   "execution_count": 153,
   "metadata": {},
   "outputs": [
    {
     "name": "stdout",
     "output_type": "stream",
     "text": [
      "CPU times: user 168 ms, sys: 32.1 ms, total: 200 ms\n",
      "Wall time: 168 ms\n"
     ]
    }
   ],
   "source": [
    "%%time\n",
    "clf_rf_l1 = clf_rf.fit(sel_l1_train, y_train)"
   ]
  },
  {
   "cell_type": "code",
   "execution_count": 154,
   "metadata": {},
   "outputs": [],
   "source": [
    "y_l1_predict_svc = clf_svc_l1.predict(sel_l1_test)\n",
    "y_l1_predict_nb = clf_nb_l1.predict(sel_l1_test)\n",
    "y_l1_predict_rf = clf_rf_l1.predict(sel_l1_test)"
   ]
  },
  {
   "cell_type": "code",
   "execution_count": 155,
   "metadata": {
    "scrolled": true
   },
   "outputs": [
    {
     "name": "stdout",
     "output_type": "stream",
     "text": [
      "Accuracy L1 SVC: 0.75\n",
      "Accuracy L1 NB: 0.7\n",
      "Accuracy L1 RF: 0.7\n"
     ]
    }
   ],
   "source": [
    "# Exactitud\n",
    "\n",
    "print(\"Accuracy L1 SVC:\",metrics.accuracy_score(y_test, y_l1_predict_svc))\n",
    "print(\"Accuracy L1 NB:\",metrics.accuracy_score(y_test, y_l1_predict_nb))\n",
    "print(\"Accuracy L1 RF:\",metrics.accuracy_score(y_test, y_l1_predict_rf))"
   ]
  },
  {
   "cell_type": "code",
   "execution_count": 156,
   "metadata": {},
   "outputs": [
    {
     "name": "stdout",
     "output_type": "stream",
     "text": [
      "ROC-AUC LR SVC: 0.5494505494505495\n",
      "ROC-AUC LR NB: 0.6043956043956045\n",
      "ROC-AUC LR RF: 0.47252747252747257\n"
     ]
    }
   ],
   "source": [
    "# Puntuacion ROC-AUC \n",
    "print(\"ROC-AUC LR SVC:\",metrics.roc_auc_score(y_test,clf_svc_l1.predict_proba(sel_l1_test)[:,1]))\n",
    "print(\"ROC-AUC LR NB:\",metrics.roc_auc_score(y_test,clf_nb_l1.predict_proba(sel_l1_test)[:,1]))\n",
    "print(\"ROC-AUC LR RF:\",metrics.roc_auc_score(y_test,clf_rf_l1.predict_proba(sel_l1_test)[:,1]))"
   ]
  },
  {
   "cell_type": "code",
   "execution_count": 157,
   "metadata": {},
   "outputs": [
    {
     "name": "stdout",
     "output_type": "stream",
     "text": [
      "              precision    recall  f1-score   support\n",
      "\n",
      "           0       0.75      0.43      0.55         7\n",
      "           1       0.75      0.92      0.83        13\n",
      "\n",
      "    accuracy                           0.75        20\n",
      "   macro avg       0.75      0.68      0.69        20\n",
      "weighted avg       0.75      0.75      0.73        20\n",
      "\n",
      "              precision    recall  f1-score   support\n",
      "\n",
      "           0       0.60      0.43      0.50         7\n",
      "           1       0.73      0.85      0.79        13\n",
      "\n",
      "    accuracy                           0.70        20\n",
      "   macro avg       0.67      0.64      0.64        20\n",
      "weighted avg       0.69      0.70      0.69        20\n",
      "\n",
      "              precision    recall  f1-score   support\n",
      "\n",
      "           0       0.60      0.43      0.50         7\n",
      "           1       0.73      0.85      0.79        13\n",
      "\n",
      "    accuracy                           0.70        20\n",
      "   macro avg       0.67      0.64      0.64        20\n",
      "weighted avg       0.69      0.70      0.69        20\n",
      "\n"
     ]
    }
   ],
   "source": [
    "# Metricas\n",
    "\n",
    "print(metrics.classification_report(y_test,y_l1_predict_svc))\n",
    "print(metrics.classification_report(y_test,y_l1_predict_nb))\n",
    "print(metrics.classification_report(y_test,y_l1_predict_rf))\n"
   ]
  },
  {
   "cell_type": "code",
   "execution_count": 158,
   "metadata": {},
   "outputs": [],
   "source": [
    "dill.dump_session('CNS.db')\n"
   ]
  },
  {
   "cell_type": "code",
   "execution_count": 159,
   "metadata": {},
   "outputs": [],
   "source": [
    "dill.load_session('CNS.db')\n"
   ]
  },
  {
   "cell_type": "code",
   "execution_count": null,
   "metadata": {},
   "outputs": [],
   "source": []
  }
 ],
 "metadata": {
  "kernelspec": {
   "display_name": "Python 3",
   "language": "python",
   "name": "python3"
  },
  "language_info": {
   "codemirror_mode": {
    "name": "ipython",
    "version": 3
   },
   "file_extension": ".py",
   "mimetype": "text/x-python",
   "name": "python",
   "nbconvert_exporter": "python",
   "pygments_lexer": "ipython3",
   "version": "3.7.3"
  }
 },
 "nbformat": 4,
 "nbformat_minor": 2
}

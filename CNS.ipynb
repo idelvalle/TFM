{
 "cells": [
  {
   "cell_type": "code",
   "execution_count": 1,
   "metadata": {},
   "outputs": [],
   "source": [
    "import numpy as np\n",
    "import pandas as pd\n",
    "import matplotlib.pyplot as plt\n",
    "import seaborn as sns\n",
    "import dill\n",
    "\n",
    "from sklearn.svm import LinearSVC, SVC\n",
    "from sklearn import preprocessing\n",
    "from sklearn.model_selection import train_test_split\n",
    "from sklearn import metrics\n",
    "from sklearn.naive_bayes import GaussianNB\n",
    "from sklearn.ensemble import RandomForestClassifier\n",
    "from skfeature.function.similarity_based import fisher_score, reliefF\n",
    "from skfeature.function.statistical_based import chi_square, f_score\n",
    "from boruta import BorutaPy\n",
    "from sklearn.feature_selection import RFE, SelectFromModel\n",
    "from mlxtend.feature_selection import SequentialFeatureSelector as sfs\n",
    "from sklearn.linear_model import LogisticRegression\n",
    "\n",
    "\n",
    "%matplotlib inline\n",
    "SEED=50"
   ]
  },
  {
   "cell_type": "code",
   "execution_count": 2,
   "metadata": {},
   "outputs": [
    {
     "data": {
      "text/html": [
       "<div>\n",
       "<style scoped>\n",
       "    .dataframe tbody tr th:only-of-type {\n",
       "        vertical-align: middle;\n",
       "    }\n",
       "\n",
       "    .dataframe tbody tr th {\n",
       "        vertical-align: top;\n",
       "    }\n",
       "\n",
       "    .dataframe thead th {\n",
       "        text-align: right;\n",
       "    }\n",
       "</style>\n",
       "<table border=\"1\" class=\"dataframe\">\n",
       "  <thead>\n",
       "    <tr style=\"text-align: right;\">\n",
       "      <th></th>\n",
       "      <th>x.AFFX.BioB.5.at</th>\n",
       "      <th>x.AFFX.BioB.M.at</th>\n",
       "      <th>x.AFFX.BioB.3.at</th>\n",
       "      <th>x.AFFX.BioC.5.at</th>\n",
       "      <th>x.AFFX.BioC.3.at</th>\n",
       "      <th>x.AFFX.BioDn.5.at</th>\n",
       "      <th>x.AFFX.BioDn.3.at</th>\n",
       "      <th>x.AFFX.CreX.5.at</th>\n",
       "      <th>x.AFFX.CreX.3.at</th>\n",
       "      <th>x.AFFX.BioB.5.st</th>\n",
       "      <th>...</th>\n",
       "      <th>x.U58516.at</th>\n",
       "      <th>x.U73738.at</th>\n",
       "      <th>x.X06956.at</th>\n",
       "      <th>x.X16699.at</th>\n",
       "      <th>x.X83863.at</th>\n",
       "      <th>x.Z17240.at</th>\n",
       "      <th>x.L49218.f.at</th>\n",
       "      <th>x.M71243.f.at</th>\n",
       "      <th>x.Z78285.f.at</th>\n",
       "      <th>y</th>\n",
       "    </tr>\n",
       "  </thead>\n",
       "  <tbody>\n",
       "    <tr>\n",
       "      <th>1</th>\n",
       "      <td>-0.231140</td>\n",
       "      <td>-0.242715</td>\n",
       "      <td>-0.183060</td>\n",
       "      <td>-0.041937</td>\n",
       "      <td>-0.479553</td>\n",
       "      <td>-0.394078</td>\n",
       "      <td>0.039086</td>\n",
       "      <td>-0.291240</td>\n",
       "      <td>-0.228024</td>\n",
       "      <td>-0.100701</td>\n",
       "      <td>...</td>\n",
       "      <td>-0.050841</td>\n",
       "      <td>-0.309048</td>\n",
       "      <td>-0.261858</td>\n",
       "      <td>-0.197752</td>\n",
       "      <td>0.110761</td>\n",
       "      <td>0.069804</td>\n",
       "      <td>-0.193300</td>\n",
       "      <td>0.013711</td>\n",
       "      <td>-0.199087</td>\n",
       "      <td>2</td>\n",
       "    </tr>\n",
       "    <tr>\n",
       "      <th>2</th>\n",
       "      <td>-0.217881</td>\n",
       "      <td>-0.327010</td>\n",
       "      <td>-0.219228</td>\n",
       "      <td>-0.087645</td>\n",
       "      <td>-0.463983</td>\n",
       "      <td>-0.511138</td>\n",
       "      <td>0.144985</td>\n",
       "      <td>-0.428505</td>\n",
       "      <td>-0.194977</td>\n",
       "      <td>-0.262790</td>\n",
       "      <td>...</td>\n",
       "      <td>0.464738</td>\n",
       "      <td>-0.199019</td>\n",
       "      <td>0.025077</td>\n",
       "      <td>-0.254707</td>\n",
       "      <td>0.207858</td>\n",
       "      <td>-0.117734</td>\n",
       "      <td>-0.102015</td>\n",
       "      <td>0.096483</td>\n",
       "      <td>-0.191834</td>\n",
       "      <td>2</td>\n",
       "    </tr>\n",
       "    <tr>\n",
       "      <th>3</th>\n",
       "      <td>-0.308496</td>\n",
       "      <td>-0.256856</td>\n",
       "      <td>-0.299157</td>\n",
       "      <td>-0.197525</td>\n",
       "      <td>-0.239276</td>\n",
       "      <td>-0.283775</td>\n",
       "      <td>-0.120614</td>\n",
       "      <td>-0.360136</td>\n",
       "      <td>-0.140941</td>\n",
       "      <td>-0.166761</td>\n",
       "      <td>...</td>\n",
       "      <td>-0.004149</td>\n",
       "      <td>-0.084356</td>\n",
       "      <td>-0.233233</td>\n",
       "      <td>-0.227740</td>\n",
       "      <td>0.065071</td>\n",
       "      <td>-0.173902</td>\n",
       "      <td>-0.274436</td>\n",
       "      <td>-0.159619</td>\n",
       "      <td>-0.239276</td>\n",
       "      <td>2</td>\n",
       "    </tr>\n",
       "    <tr>\n",
       "      <th>4</th>\n",
       "      <td>-0.262352</td>\n",
       "      <td>-0.259978</td>\n",
       "      <td>-0.154330</td>\n",
       "      <td>-0.249294</td>\n",
       "      <td>-0.364042</td>\n",
       "      <td>-0.706703</td>\n",
       "      <td>-0.229510</td>\n",
       "      <td>-0.338323</td>\n",
       "      <td>-0.193107</td>\n",
       "      <td>-0.089043</td>\n",
       "      <td>...</td>\n",
       "      <td>0.463725</td>\n",
       "      <td>0.010669</td>\n",
       "      <td>-0.253647</td>\n",
       "      <td>-0.255625</td>\n",
       "      <td>0.405164</td>\n",
       "      <td>-0.132568</td>\n",
       "      <td>-0.175697</td>\n",
       "      <td>0.021353</td>\n",
       "      <td>-0.223575</td>\n",
       "      <td>2</td>\n",
       "    </tr>\n",
       "    <tr>\n",
       "      <th>5</th>\n",
       "      <td>-0.274458</td>\n",
       "      <td>-0.154017</td>\n",
       "      <td>-0.061023</td>\n",
       "      <td>-0.098712</td>\n",
       "      <td>-0.452661</td>\n",
       "      <td>-0.454710</td>\n",
       "      <td>-0.274458</td>\n",
       "      <td>-0.367451</td>\n",
       "      <td>-0.183922</td>\n",
       "      <td>-0.108544</td>\n",
       "      <td>...</td>\n",
       "      <td>0.068021</td>\n",
       "      <td>0.089733</td>\n",
       "      <td>-0.383428</td>\n",
       "      <td>-0.210960</td>\n",
       "      <td>0.016403</td>\n",
       "      <td>-0.112231</td>\n",
       "      <td>-0.308050</td>\n",
       "      <td>0.056141</td>\n",
       "      <td>-0.375645</td>\n",
       "      <td>2</td>\n",
       "    </tr>\n",
       "  </tbody>\n",
       "</table>\n",
       "<p>5 rows × 7129 columns</p>\n",
       "</div>"
      ],
      "text/plain": [
       "   x.AFFX.BioB.5.at  x.AFFX.BioB.M.at  x.AFFX.BioB.3.at  x.AFFX.BioC.5.at  \\\n",
       "1         -0.231140         -0.242715         -0.183060         -0.041937   \n",
       "2         -0.217881         -0.327010         -0.219228         -0.087645   \n",
       "3         -0.308496         -0.256856         -0.299157         -0.197525   \n",
       "4         -0.262352         -0.259978         -0.154330         -0.249294   \n",
       "5         -0.274458         -0.154017         -0.061023         -0.098712   \n",
       "\n",
       "   x.AFFX.BioC.3.at  x.AFFX.BioDn.5.at  x.AFFX.BioDn.3.at  x.AFFX.CreX.5.at  \\\n",
       "1         -0.479553          -0.394078           0.039086         -0.291240   \n",
       "2         -0.463983          -0.511138           0.144985         -0.428505   \n",
       "3         -0.239276          -0.283775          -0.120614         -0.360136   \n",
       "4         -0.364042          -0.706703          -0.229510         -0.338323   \n",
       "5         -0.452661          -0.454710          -0.274458         -0.367451   \n",
       "\n",
       "   x.AFFX.CreX.3.at  x.AFFX.BioB.5.st  ...  x.U58516.at  x.U73738.at  \\\n",
       "1         -0.228024         -0.100701  ...    -0.050841    -0.309048   \n",
       "2         -0.194977         -0.262790  ...     0.464738    -0.199019   \n",
       "3         -0.140941         -0.166761  ...    -0.004149    -0.084356   \n",
       "4         -0.193107         -0.089043  ...     0.463725     0.010669   \n",
       "5         -0.183922         -0.108544  ...     0.068021     0.089733   \n",
       "\n",
       "   x.X06956.at  x.X16699.at  x.X83863.at  x.Z17240.at  x.L49218.f.at  \\\n",
       "1    -0.261858    -0.197752     0.110761     0.069804      -0.193300   \n",
       "2     0.025077    -0.254707     0.207858    -0.117734      -0.102015   \n",
       "3    -0.233233    -0.227740     0.065071    -0.173902      -0.274436   \n",
       "4    -0.253647    -0.255625     0.405164    -0.132568      -0.175697   \n",
       "5    -0.383428    -0.210960     0.016403    -0.112231      -0.308050   \n",
       "\n",
       "   x.M71243.f.at  x.Z78285.f.at  y  \n",
       "1       0.013711      -0.199087  2  \n",
       "2       0.096483      -0.191834  2  \n",
       "3      -0.159619      -0.239276  2  \n",
       "4       0.021353      -0.223575  2  \n",
       "5       0.056141      -0.375645  2  \n",
       "\n",
       "[5 rows x 7129 columns]"
      ]
     },
     "execution_count": 2,
     "metadata": {},
     "output_type": "execute_result"
    }
   ],
   "source": [
    "cns = pd.read_csv('cns.csv')\n",
    "cns.head()"
   ]
  },
  {
   "cell_type": "code",
   "execution_count": 3,
   "metadata": {},
   "outputs": [
    {
     "name": "stdout",
     "output_type": "stream",
     "text": [
      "False\n"
     ]
    }
   ],
   "source": [
    "print(cns.isnull().values.any())\n"
   ]
  },
  {
   "cell_type": "code",
   "execution_count": 4,
   "metadata": {},
   "outputs": [],
   "source": [
    "features=cns.iloc[:,0:-1]\n",
    "labels=cns.iloc[:,-1]"
   ]
  },
  {
   "cell_type": "code",
   "execution_count": 5,
   "metadata": {},
   "outputs": [
    {
     "data": {
      "text/plain": [
       "Index(['x.AFFX.BioB.5.at', 'x.AFFX.BioB.M.at', 'x.AFFX.BioB.3.at',\n",
       "       'x.AFFX.BioC.5.at', 'x.AFFX.BioC.3.at', 'x.AFFX.BioDn.5.at',\n",
       "       'x.AFFX.BioDn.3.at', 'x.AFFX.CreX.5.at', 'x.AFFX.CreX.3.at',\n",
       "       'x.AFFX.BioB.5.st',\n",
       "       ...\n",
       "       'x.U48730.at', 'x.U58516.at', 'x.U73738.at', 'x.X06956.at',\n",
       "       'x.X16699.at', 'x.X83863.at', 'x.Z17240.at', 'x.L49218.f.at',\n",
       "       'x.M71243.f.at', 'x.Z78285.f.at'],\n",
       "      dtype='object', length=7128)"
      ]
     },
     "execution_count": 5,
     "metadata": {},
     "output_type": "execute_result"
    }
   ],
   "source": [
    "features.columns"
   ]
  },
  {
   "cell_type": "code",
   "execution_count": 6,
   "metadata": {},
   "outputs": [],
   "source": [
    "# Crear lista con nombres variables\n",
    "feature_labels = list(features.columns)"
   ]
  },
  {
   "cell_type": "code",
   "execution_count": 7,
   "metadata": {},
   "outputs": [
    {
     "data": {
      "text/plain": [
       "pandas.core.frame.DataFrame"
      ]
     },
     "execution_count": 7,
     "metadata": {},
     "output_type": "execute_result"
    }
   ],
   "source": [
    "type(features)"
   ]
  },
  {
   "cell_type": "code",
   "execution_count": 8,
   "metadata": {},
   "outputs": [
    {
     "data": {
      "text/plain": [
       "['x.AFFX.BioB.5.at',\n",
       " 'x.AFFX.BioB.M.at',\n",
       " 'x.AFFX.BioB.3.at',\n",
       " 'x.AFFX.BioC.5.at',\n",
       " 'x.AFFX.BioC.3.at',\n",
       " 'x.AFFX.BioDn.5.at',\n",
       " 'x.AFFX.BioDn.3.at',\n",
       " 'x.AFFX.CreX.5.at',\n",
       " 'x.AFFX.CreX.3.at',\n",
       " 'x.AFFX.BioB.5.st']"
      ]
     },
     "execution_count": 8,
     "metadata": {},
     "output_type": "execute_result"
    }
   ],
   "source": [
    "feature_labels[0:10]"
   ]
  },
  {
   "cell_type": "code",
   "execution_count": 9,
   "metadata": {},
   "outputs": [],
   "source": [
    "# Estandarizar\n",
    "\n",
    "min_max_scaler = preprocessing.MinMaxScaler()\n",
    "X = min_max_scaler.fit_transform(features)"
   ]
  },
  {
   "cell_type": "code",
   "execution_count": 10,
   "metadata": {},
   "outputs": [
    {
     "data": {
      "text/plain": [
       "array([[0.76977144, 0.72460051, 0.73475917, ..., 0.82484924, 0.86478722,\n",
       "        0.83183692],\n",
       "       [0.79632123, 0.51901313, 0.65615052, ..., 1.        , 1.        ,\n",
       "        0.8467659 ],\n",
       "       [0.61487744, 0.69011213, 0.48243042, ..., 0.66917029, 0.58164346,\n",
       "        0.74911813],\n",
       "       ...,\n",
       "       [0.43085597, 0.3112476 , 0.16300848, ..., 0.2510696 , 0.03330701,\n",
       "        0.22218608],\n",
       "       [0.58932403, 0.44619507, 0.72462594, ..., 0.9068894 , 0.85566845,\n",
       "        0.85846072],\n",
       "       [0.50712403, 0.40712679, 0.52396387, ..., 0.85344729, 0.83220874,\n",
       "        0.80065326]])"
      ]
     },
     "execution_count": 10,
     "metadata": {},
     "output_type": "execute_result"
    }
   ],
   "source": [
    "X"
   ]
  },
  {
   "cell_type": "code",
   "execution_count": 11,
   "metadata": {},
   "outputs": [],
   "source": [
    "Y = np.transpose(np.asarray(labels.values - 1, dtype=int))\n"
   ]
  },
  {
   "cell_type": "code",
   "execution_count": 12,
   "metadata": {},
   "outputs": [
    {
     "data": {
      "text/plain": [
       "array([1, 1, 1, 1, 1, 1, 1, 0, 0, 1, 1, 1, 0, 0, 0, 1, 1, 1, 1, 1, 0, 1,\n",
       "       1, 1, 1, 0, 1, 1, 1, 0, 0, 1, 0, 0, 1, 0, 0, 0, 0, 1, 1, 0, 1, 1,\n",
       "       0, 0, 1, 1, 0, 0, 1, 1, 1, 1, 1, 0, 1, 1, 1, 1])"
      ]
     },
     "execution_count": 12,
     "metadata": {},
     "output_type": "execute_result"
    }
   ],
   "source": [
    "Y"
   ]
  },
  {
   "cell_type": "code",
   "execution_count": 13,
   "metadata": {},
   "outputs": [],
   "source": [
    "X_train, X_test, y_train, y_test = train_test_split(X,Y,stratify=labels,test_size=0.33, random_state=SEED)\n"
   ]
  },
  {
   "cell_type": "code",
   "execution_count": 14,
   "metadata": {},
   "outputs": [
    {
     "data": {
      "text/plain": [
       "((40, 7128), (20, 7128), (40,), (20,))"
      ]
     },
     "execution_count": 14,
     "metadata": {},
     "output_type": "execute_result"
    }
   ],
   "source": [
    "X_train.shape, X_test.shape, y_train.shape, y_test.shape"
   ]
  },
  {
   "cell_type": "markdown",
   "metadata": {},
   "source": [
    "# 1. SVC"
   ]
  },
  {
   "cell_type": "code",
   "execution_count": 15,
   "metadata": {},
   "outputs": [],
   "source": [
    "# Elegir SVC Lineal\n",
    "\n",
    "clf_svc = SVC(kernel='linear', C=1, probability=True, random_state=SEED) "
   ]
  },
  {
   "cell_type": "code",
   "execution_count": 16,
   "metadata": {
    "scrolled": true
   },
   "outputs": [
    {
     "name": "stdout",
     "output_type": "stream",
     "text": [
      "CPU times: user 325 ms, sys: 4.65 ms, total: 330 ms\n",
      "Wall time: 82.3 ms\n"
     ]
    },
    {
     "data": {
      "text/plain": [
       "SVC(C=1, cache_size=200, class_weight=None, coef0=0.0,\n",
       "    decision_function_shape='ovr', degree=3, gamma='auto_deprecated',\n",
       "    kernel='linear', max_iter=-1, probability=True, random_state=50,\n",
       "    shrinking=True, tol=0.001, verbose=False)"
      ]
     },
     "execution_count": 16,
     "metadata": {},
     "output_type": "execute_result"
    }
   ],
   "source": [
    "%%time\n",
    "clf_svc.fit(X_train, y_train)"
   ]
  },
  {
   "cell_type": "code",
   "execution_count": 17,
   "metadata": {},
   "outputs": [
    {
     "name": "stdout",
     "output_type": "stream",
     "text": [
      "Predicted Value: [1 1 0 1 1 1 1 0 1 1 1 1 1 1 0 0 1 0 1 1]\n"
     ]
    }
   ],
   "source": [
    "y_predict_svc = clf_svc.predict(X_test)\n",
    "print (\"Predicted Value:\", y_predict_svc)"
   ]
  },
  {
   "cell_type": "code",
   "execution_count": 18,
   "metadata": {},
   "outputs": [
    {
     "name": "stdout",
     "output_type": "stream",
     "text": [
      "Accuracy: 0.7\n"
     ]
    }
   ],
   "source": [
    "# Precision del modelo\n",
    "print(\"Accuracy:\",metrics.accuracy_score(y_test, y_predict_svc))"
   ]
  },
  {
   "cell_type": "code",
   "execution_count": 19,
   "metadata": {},
   "outputs": [
    {
     "name": "stdout",
     "output_type": "stream",
     "text": [
      "              precision    recall  f1-score   support\n",
      "\n",
      "           0       0.60      0.43      0.50         7\n",
      "           1       0.73      0.85      0.79        13\n",
      "\n",
      "    accuracy                           0.70        20\n",
      "   macro avg       0.67      0.64      0.64        20\n",
      "weighted avg       0.69      0.70      0.69        20\n",
      "\n"
     ]
    }
   ],
   "source": [
    "print(metrics.classification_report(y_test,y_predict_svc))\n",
    "\n",
    "\n"
   ]
  },
  {
   "cell_type": "markdown",
   "metadata": {},
   "source": [
    "# 2. NAIVE BAYES"
   ]
  },
  {
   "cell_type": "code",
   "execution_count": 20,
   "metadata": {},
   "outputs": [],
   "source": [
    "# Crear clasificador Gaussiano\n",
    "\n",
    "clf_nb = GaussianNB()"
   ]
  },
  {
   "cell_type": "code",
   "execution_count": 21,
   "metadata": {},
   "outputs": [
    {
     "name": "stdout",
     "output_type": "stream",
     "text": [
      "CPU times: user 21.7 ms, sys: 381 µs, total: 22.1 ms\n",
      "Wall time: 5.48 ms\n"
     ]
    },
    {
     "data": {
      "text/plain": [
       "GaussianNB(priors=None, var_smoothing=1e-09)"
      ]
     },
     "execution_count": 21,
     "metadata": {},
     "output_type": "execute_result"
    }
   ],
   "source": [
    "%%time\n",
    "clf_nb.fit(X_train, y_train)"
   ]
  },
  {
   "cell_type": "code",
   "execution_count": 22,
   "metadata": {},
   "outputs": [
    {
     "name": "stdout",
     "output_type": "stream",
     "text": [
      "Predicted Value: [1 1 0 1 1 1 1 1 1 1 1 1 1 1 0 1 1 1 1 1]\n"
     ]
    }
   ],
   "source": [
    "#Predicciones\n",
    "\n",
    "y_predict_nb = clf_nb.predict(X_test)\n",
    "print (\"Predicted Value:\", y_predict_nb)"
   ]
  },
  {
   "cell_type": "code",
   "execution_count": 23,
   "metadata": {},
   "outputs": [
    {
     "name": "stdout",
     "output_type": "stream",
     "text": [
      "Accuracy: 0.75\n"
     ]
    }
   ],
   "source": [
    "# Precision\n",
    "\n",
    "print(\"Accuracy:\",metrics.accuracy_score(y_test, y_predict_nb))"
   ]
  },
  {
   "cell_type": "code",
   "execution_count": 24,
   "metadata": {},
   "outputs": [
    {
     "name": "stdout",
     "output_type": "stream",
     "text": [
      "              precision    recall  f1-score   support\n",
      "\n",
      "           0       1.00      0.29      0.44         7\n",
      "           1       0.72      1.00      0.84        13\n",
      "\n",
      "    accuracy                           0.75        20\n",
      "   macro avg       0.86      0.64      0.64        20\n",
      "weighted avg       0.82      0.75      0.70        20\n",
      "\n"
     ]
    }
   ],
   "source": [
    "print(metrics.classification_report(y_test,y_predict_nb))\n",
    "\n"
   ]
  },
  {
   "cell_type": "markdown",
   "metadata": {},
   "source": [
    "# 3. RANDOM FORESTS"
   ]
  },
  {
   "cell_type": "code",
   "execution_count": 25,
   "metadata": {},
   "outputs": [],
   "source": [
    "# Crear clasificador\n",
    "\n",
    "clf_rf = RandomForestClassifier(n_estimators=100, n_jobs=-1, class_weight='balanced', max_depth=5, random_state=SEED)\n",
    "\n"
   ]
  },
  {
   "cell_type": "code",
   "execution_count": 26,
   "metadata": {},
   "outputs": [
    {
     "name": "stdout",
     "output_type": "stream",
     "text": [
      "CPU times: user 330 ms, sys: 20.4 ms, total: 350 ms\n",
      "Wall time: 139 ms\n"
     ]
    },
    {
     "data": {
      "text/plain": [
       "RandomForestClassifier(bootstrap=True, class_weight='balanced',\n",
       "                       criterion='gini', max_depth=5, max_features='auto',\n",
       "                       max_leaf_nodes=None, min_impurity_decrease=0.0,\n",
       "                       min_impurity_split=None, min_samples_leaf=1,\n",
       "                       min_samples_split=2, min_weight_fraction_leaf=0.0,\n",
       "                       n_estimators=100, n_jobs=-1, oob_score=False,\n",
       "                       random_state=50, verbose=0, warm_start=False)"
      ]
     },
     "execution_count": 26,
     "metadata": {},
     "output_type": "execute_result"
    }
   ],
   "source": [
    "%%time\n",
    "clf_rf.fit(X_train,y_train)\n",
    "\n"
   ]
  },
  {
   "cell_type": "code",
   "execution_count": 27,
   "metadata": {},
   "outputs": [
    {
     "name": "stdout",
     "output_type": "stream",
     "text": [
      "Predicted Value: [1 1 0 1 1 1 1 1 1 1 1 1 1 1 1 1 1 0 1 1]\n"
     ]
    }
   ],
   "source": [
    "#Predicciones\n",
    "\n",
    "y_predict_rf = clf_rf.predict(X_test)\n",
    "print (\"Predicted Value:\", y_predict_rf)"
   ]
  },
  {
   "cell_type": "code",
   "execution_count": 28,
   "metadata": {},
   "outputs": [
    {
     "name": "stdout",
     "output_type": "stream",
     "text": [
      "Accuracy: 0.65\n"
     ]
    }
   ],
   "source": [
    "# Precision\n",
    "\n",
    "print(\"Accuracy:\",metrics.accuracy_score(y_test, y_predict_rf))"
   ]
  },
  {
   "cell_type": "code",
   "execution_count": 29,
   "metadata": {},
   "outputs": [
    {
     "name": "stdout",
     "output_type": "stream",
     "text": [
      "              precision    recall  f1-score   support\n",
      "\n",
      "           0       0.50      0.14      0.22         7\n",
      "           1       0.67      0.92      0.77        13\n",
      "\n",
      "    accuracy                           0.65        20\n",
      "   macro avg       0.58      0.53      0.50        20\n",
      "weighted avg       0.61      0.65      0.58        20\n",
      "\n"
     ]
    }
   ],
   "source": [
    "print(metrics.classification_report(y_test,y_predict_rf))\n"
   ]
  },
  {
   "cell_type": "markdown",
   "metadata": {},
   "source": [
    "## SELECCIONAR VARIABLES USANDO PUNTUACION F"
   ]
  },
  {
   "cell_type": "code",
   "execution_count": 30,
   "metadata": {},
   "outputs": [
    {
     "name": "stdout",
     "output_type": "stream",
     "text": [
      "CPU times: user 22.6 ms, sys: 180 µs, total: 22.7 ms\n",
      "Wall time: 19.8 ms\n"
     ]
    }
   ],
   "source": [
    "%%time\n",
    "score_f = f_score.f_score(X_train, y_train)\n"
   ]
  },
  {
   "cell_type": "code",
   "execution_count": 31,
   "metadata": {},
   "outputs": [],
   "source": [
    "score_f_df = pd.Series(score_f,index=features.columns.values).sort_values(ascending=False)\n"
   ]
  },
  {
   "cell_type": "code",
   "execution_count": 32,
   "metadata": {},
   "outputs": [
    {
     "data": {
      "text/plain": [
       "x.U07563.cds1.at    15.634207\n",
       "x.U34038.at         12.851574\n",
       "x.Z11899.s.at       12.647165\n",
       "x.U35048.at         11.276424\n",
       "x.J02611.at         10.769984\n",
       "x.U35139.at         10.646060\n",
       "x.U82306.at         10.244439\n",
       "x.U78876.at         10.067017\n",
       "x.L05628.s.at        9.505626\n",
       "x.X57129.at          9.422457\n",
       "dtype: float64"
      ]
     },
     "execution_count": 32,
     "metadata": {},
     "output_type": "execute_result"
    }
   ],
   "source": [
    "score_f_df.head(10)"
   ]
  },
  {
   "cell_type": "code",
   "execution_count": 33,
   "metadata": {},
   "outputs": [
    {
     "data": {
      "image/png": "[encoded data removed]",
      "text/plain": [
       "<Figure size 432x288 with 1 Axes>"
      ]
     },
     "metadata": {
      "needs_background": "light"
     },
     "output_type": "display_data"
    }
   ],
   "source": [
    "# Representacion grafica\n",
    "\n",
    "sns.barplot(x=score_f_df[0:10,], y=score_f_df.index[0:10,])\n",
    "\n",
    "plt.xlabel('Importancia Variables')\n",
    "plt.ylabel('Variables')\n",
    "plt.title(\"Variables importantes Puntuacion F\")\n",
    "plt.savefig(\"Variables Puntuacion F.pdf\", dpi=300)\n",
    "plt.show()"
   ]
  },
  {
   "cell_type": "code",
   "execution_count": 34,
   "metadata": {},
   "outputs": [
    {
     "data": {
      "text/plain": [
       "array([2670, 3075, 6719, 3088, 1053, 3091, 3833, 3745, 6031, 4301])"
      ]
     },
     "execution_count": 34,
     "metadata": {},
     "output_type": "execute_result"
    }
   ],
   "source": [
    "# Ordenar variables\n",
    "\n",
    "idx_f = f_score.feature_ranking(score_f)\n",
    "idx_f[0:10]"
   ]
  },
  {
   "cell_type": "code",
   "execution_count": 35,
   "metadata": {},
   "outputs": [
    {
     "data": {
      "text/plain": [
       "array(['x.U07563.cds1.at', 'x.U34038.at', 'x.Z11899.s.at', 'x.U35048.at',\n",
       "       'x.J02611.at', 'x.U35139.at', 'x.U82306.at', 'x.U78876.at',\n",
       "       'x.L05628.s.at', 'x.X57129.at'], dtype=object)"
      ]
     },
     "execution_count": 35,
     "metadata": {},
     "output_type": "execute_result"
    }
   ],
   "source": [
    "features.columns.values[[2670, 3075, 6719, 3088, 1053, 3091, 3833, 3745, 6031, 4301]]"
   ]
  },
  {
   "cell_type": "code",
   "execution_count": 36,
   "metadata": {},
   "outputs": [],
   "source": [
    "# Especificar 10 variables\n",
    "\n",
    "num_fea = 10\n",
    "    \n",
    "sel_f_train = X_train[:, idx_f[0:num_fea]]\n",
    "\n",
    "sel_f_test = X_test[:, idx_f[0:num_fea]]"
   ]
  },
  {
   "cell_type": "markdown",
   "metadata": {},
   "source": [
    "### Entrenar modelo con variables seleccionadas en conjunto de entrenamiento"
   ]
  },
  {
   "cell_type": "code",
   "execution_count": 37,
   "metadata": {},
   "outputs": [
    {
     "name": "stdout",
     "output_type": "stream",
     "text": [
      "CPU times: user 1.33 ms, sys: 91 µs, total: 1.42 ms\n",
      "Wall time: 1.05 ms\n"
     ]
    }
   ],
   "source": [
    "%%time\n",
    "clf_svc_fsc = clf_svc.fit(sel_f_train, y_train)"
   ]
  },
  {
   "cell_type": "code",
   "execution_count": 38,
   "metadata": {},
   "outputs": [
    {
     "name": "stdout",
     "output_type": "stream",
     "text": [
      "CPU times: user 1.75 ms, sys: 55 µs, total: 1.8 ms\n",
      "Wall time: 1.3 ms\n"
     ]
    }
   ],
   "source": [
    "%%time\n",
    "clf_nb_fsc = clf_nb.fit(sel_f_train, y_train)"
   ]
  },
  {
   "cell_type": "code",
   "execution_count": 39,
   "metadata": {},
   "outputs": [
    {
     "name": "stdout",
     "output_type": "stream",
     "text": [
      "CPU times: user 105 ms, sys: 17.2 ms, total: 123 ms\n",
      "Wall time: 145 ms\n"
     ]
    }
   ],
   "source": [
    "%%time\n",
    "clf_rf_fsc = clf_rf.fit(sel_f_train, y_train)"
   ]
  },
  {
   "cell_type": "code",
   "execution_count": 40,
   "metadata": {},
   "outputs": [],
   "source": [
    "y_fsc_predict_rf = clf_rf_fsc.predict(sel_f_test)\n",
    "y_fsc_predict_nb = clf_nb_fsc.predict(sel_f_test)\n",
    "y_fsc_predict_svc = clf_svc_fsc.predict(sel_f_test)"
   ]
  },
  {
   "cell_type": "code",
   "execution_count": 41,
   "metadata": {},
   "outputs": [
    {
     "name": "stdout",
     "output_type": "stream",
     "text": [
      "Accuracy F1 Score SVC: 0.65\n",
      "Accuracy F1 Score NB: 0.7\n",
      "Accuracy F1 Score RF: 0.65\n"
     ]
    }
   ],
   "source": [
    "# Precision\n",
    "\n",
    "\n",
    "print(\"Accuracy F1 Score SVC:\",metrics.accuracy_score(y_test, y_fsc_predict_svc))\n",
    "print(\"Accuracy F1 Score NB:\",metrics.accuracy_score(y_test, y_fsc_predict_nb))\n",
    "print(\"Accuracy F1 Score RF:\",metrics.accuracy_score(y_test, y_fsc_predict_rf))"
   ]
  },
  {
   "cell_type": "code",
   "execution_count": 42,
   "metadata": {},
   "outputs": [
    {
     "name": "stdout",
     "output_type": "stream",
     "text": [
      "              precision    recall  f1-score   support\n",
      "\n",
      "           0       0.50      0.57      0.53         7\n",
      "           1       0.75      0.69      0.72        13\n",
      "\n",
      "    accuracy                           0.65        20\n",
      "   macro avg       0.62      0.63      0.63        20\n",
      "weighted avg       0.66      0.65      0.65        20\n",
      "\n",
      "              precision    recall  f1-score   support\n",
      "\n",
      "           0       0.57      0.57      0.57         7\n",
      "           1       0.77      0.77      0.77        13\n",
      "\n",
      "    accuracy                           0.70        20\n",
      "   macro avg       0.67      0.67      0.67        20\n",
      "weighted avg       0.70      0.70      0.70        20\n",
      "\n",
      "              precision    recall  f1-score   support\n",
      "\n",
      "           0       0.50      0.43      0.46         7\n",
      "           1       0.71      0.77      0.74        13\n",
      "\n",
      "    accuracy                           0.65        20\n",
      "   macro avg       0.61      0.60      0.60        20\n",
      "weighted avg       0.64      0.65      0.64        20\n",
      "\n"
     ]
    }
   ],
   "source": [
    "print(metrics.classification_report(y_test,y_fsc_predict_svc))\n",
    "print(metrics.classification_report(y_test,y_fsc_predict_nb))\n",
    "print(metrics.classification_report(y_test,y_fsc_predict_rf))"
   ]
  },
  {
   "cell_type": "markdown",
   "metadata": {},
   "source": [
    "## SELECCIONAR VARIABLES USANDO CHI-CUADRADO"
   ]
  },
  {
   "cell_type": "code",
   "execution_count": 43,
   "metadata": {},
   "outputs": [
    {
     "name": "stdout",
     "output_type": "stream",
     "text": [
      "CPU times: user 16 ms, sys: 0 ns, total: 16 ms\n",
      "Wall time: 5.07 ms\n"
     ]
    }
   ],
   "source": [
    "%%time\n",
    "score_chi = chi_square.chi_square(X_train, y_train)"
   ]
  },
  {
   "cell_type": "code",
   "execution_count": 44,
   "metadata": {},
   "outputs": [],
   "source": [
    "score_chi_df = pd.Series(score_chi,index=features.columns.values).sort_values(ascending=False)\n"
   ]
  },
  {
   "cell_type": "code",
   "execution_count": 45,
   "metadata": {},
   "outputs": [
    {
     "data": {
      "text/plain": [
       "x.J02611.at             2.279684\n",
       "x.HG3431.HT3616.s.at    1.984059\n",
       "x.U07563.cds1.at        1.649041\n",
       "x.L27560.at             1.513892\n",
       "x.HG4318.HT4588.s.at    1.499029\n",
       "x.HG3543.HT3739.at      1.441188\n",
       "x.J04080.at             1.396253\n",
       "x.X76302.at             1.265272\n",
       "x.U35048.at             1.216827\n",
       "x.M25667.at             1.193368\n",
       "dtype: float64"
      ]
     },
     "execution_count": 45,
     "metadata": {},
     "output_type": "execute_result"
    }
   ],
   "source": [
    "score_chi_df.head(10)"
   ]
  },
  {
   "cell_type": "code",
   "execution_count": 46,
   "metadata": {},
   "outputs": [
    {
     "data": {
      "image/png": "[encoded data removed]",
      "text/plain": [
       "<Figure size 432x288 with 1 Axes>"
      ]
     },
     "metadata": {
      "needs_background": "light"
     },
     "output_type": "display_data"
    }
   ],
   "source": [
    "# Representacion grafica\n",
    "\n",
    "sns.barplot(x=score_chi_df[0:10,], y=score_chi_df.index[0:10,])\n",
    "\n",
    "plt.xlabel('Importancia Variables')\n",
    "plt.ylabel('Variables')\n",
    "plt.title(\"Variables importantes Chi-cuadrado\")\n",
    "plt.savefig(\"Variables importantes Chi-cuadrado.pdf\", dpi=300)\n",
    "plt.show()"
   ]
  },
  {
   "cell_type": "code",
   "execution_count": 47,
   "metadata": {},
   "outputs": [
    {
     "data": {
      "text/plain": [
       "array([1053, 5842, 2670, 1442, 5886, 5274, 1100, 4575, 3088, 6971])"
      ]
     },
     "execution_count": 47,
     "metadata": {},
     "output_type": "execute_result"
    }
   ],
   "source": [
    "# Ordenar variables\n",
    "\n",
    "idx_chi = chi_square.feature_ranking(score_chi)\n",
    "idx_chi[0:10]"
   ]
  },
  {
   "cell_type": "code",
   "execution_count": 48,
   "metadata": {},
   "outputs": [
    {
     "data": {
      "text/plain": [
       "array(['x.J02611.at', 'x.HG3431.HT3616.s.at', 'x.U07563.cds1.at',\n",
       "       'x.L27560.at', 'x.HG4318.HT4588.s.at', 'x.HG3543.HT3739.at',\n",
       "       'x.J04080.at', 'x.X76302.at', 'x.U35048.at', 'x.M25667.at'],\n",
       "      dtype=object)"
      ]
     },
     "execution_count": 48,
     "metadata": {},
     "output_type": "execute_result"
    }
   ],
   "source": [
    "features.columns.values[[1053, 5842, 2670, 1442, 5886, 5274, 1100, 4575, 3088, 6971]]"
   ]
  },
  {
   "cell_type": "code",
   "execution_count": 49,
   "metadata": {},
   "outputs": [],
   "source": [
    "# Especificar 10 variables\n",
    "\n",
    "num_fea = 10\n",
    "    \n",
    "sel_chi_train = X_train[:, idx_chi[0:num_fea]]\n",
    "\n",
    "sel_chi_test = X_test[:, idx_chi[0:num_fea]]\n"
   ]
  },
  {
   "cell_type": "markdown",
   "metadata": {},
   "source": [
    "### Entrenar modelo con variables seleccionadas en conjunto de entrenamiento"
   ]
  },
  {
   "cell_type": "code",
   "execution_count": 50,
   "metadata": {},
   "outputs": [
    {
     "name": "stdout",
     "output_type": "stream",
     "text": [
      "CPU times: user 1.02 ms, sys: 68 µs, total: 1.09 ms\n",
      "Wall time: 743 µs\n"
     ]
    }
   ],
   "source": [
    "%%time\n",
    "clf_svc_chi = clf_svc.fit(sel_chi_train, y_train)"
   ]
  },
  {
   "cell_type": "code",
   "execution_count": 51,
   "metadata": {},
   "outputs": [
    {
     "name": "stdout",
     "output_type": "stream",
     "text": [
      "CPU times: user 725 µs, sys: 49 µs, total: 774 µs\n",
      "Wall time: 603 µs\n"
     ]
    }
   ],
   "source": [
    "%%time\n",
    "clf_nb_chi = clf_nb.fit(sel_chi_train, y_train)"
   ]
  },
  {
   "cell_type": "code",
   "execution_count": 52,
   "metadata": {},
   "outputs": [
    {
     "name": "stdout",
     "output_type": "stream",
     "text": [
      "CPU times: user 134 ms, sys: 13 ms, total: 147 ms\n",
      "Wall time: 133 ms\n"
     ]
    }
   ],
   "source": [
    "%%time\n",
    "clf_rf_chi = clf_rf.fit(sel_chi_train, y_train)"
   ]
  },
  {
   "cell_type": "code",
   "execution_count": 53,
   "metadata": {},
   "outputs": [],
   "source": [
    "y_chi_predict_rf = clf_rf_chi.predict(sel_chi_test)\n",
    "y_chi_predict_nb = clf_nb_chi.predict(sel_chi_test)\n",
    "y_chi_predict_svc = clf_svc_chi.predict(sel_chi_test)"
   ]
  },
  {
   "cell_type": "code",
   "execution_count": 54,
   "metadata": {},
   "outputs": [
    {
     "name": "stdout",
     "output_type": "stream",
     "text": [
      "Accuracy Chi-cuadrado SVC: 0.65\n",
      "Accuracy Chi-cuadrado NB: 0.65\n",
      "Accuracy Chi-cuadrado RF: 0.6\n"
     ]
    }
   ],
   "source": [
    "# Precision\n",
    "\n",
    "\n",
    "print(\"Accuracy Chi-cuadrado SVC:\",metrics.accuracy_score(y_test, y_chi_predict_svc))\n",
    "print(\"Accuracy Chi-cuadrado NB:\",metrics.accuracy_score(y_test, y_chi_predict_nb))\n",
    "print(\"Accuracy Chi-cuadrado RF:\",metrics.accuracy_score(y_test, y_chi_predict_rf))\n"
   ]
  },
  {
   "cell_type": "code",
   "execution_count": 55,
   "metadata": {},
   "outputs": [
    {
     "name": "stdout",
     "output_type": "stream",
     "text": [
      "              precision    recall  f1-score   support\n",
      "\n",
      "           0       0.50      0.43      0.46         7\n",
      "           1       0.71      0.77      0.74        13\n",
      "\n",
      "    accuracy                           0.65        20\n",
      "   macro avg       0.61      0.60      0.60        20\n",
      "weighted avg       0.64      0.65      0.64        20\n",
      "\n",
      "              precision    recall  f1-score   support\n",
      "\n",
      "           0       0.50      0.57      0.53         7\n",
      "           1       0.75      0.69      0.72        13\n",
      "\n",
      "    accuracy                           0.65        20\n",
      "   macro avg       0.62      0.63      0.63        20\n",
      "weighted avg       0.66      0.65      0.65        20\n",
      "\n",
      "              precision    recall  f1-score   support\n",
      "\n",
      "           0       0.43      0.43      0.43         7\n",
      "           1       0.69      0.69      0.69        13\n",
      "\n",
      "    accuracy                           0.60        20\n",
      "   macro avg       0.56      0.56      0.56        20\n",
      "weighted avg       0.60      0.60      0.60        20\n",
      "\n"
     ]
    }
   ],
   "source": [
    "print(metrics.classification_report(y_test,y_chi_predict_svc))\n",
    "print(metrics.classification_report(y_test,y_chi_predict_nb))\n",
    "print(metrics.classification_report(y_test,y_chi_predict_rf))"
   ]
  },
  {
   "cell_type": "markdown",
   "metadata": {},
   "source": [
    "## SELECCIONAR VARIABLES USANDO Fisher "
   ]
  },
  {
   "cell_type": "code",
   "execution_count": 56,
   "metadata": {},
   "outputs": [
    {
     "name": "stdout",
     "output_type": "stream",
     "text": [
      "CPU times: user 52.3 ms, sys: 290 µs, total: 52.6 ms\n",
      "Wall time: 16 ms\n"
     ]
    }
   ],
   "source": [
    "%%time\n",
    "score_fisher = fisher_score.fisher_score(X_train, y_train)"
   ]
  },
  {
   "cell_type": "code",
   "execution_count": 57,
   "metadata": {},
   "outputs": [],
   "source": [
    "score_fisher_df = pd.Series(score_fisher,index=features.columns.values).sort_values(ascending=False)\n"
   ]
  },
  {
   "cell_type": "code",
   "execution_count": 58,
   "metadata": {},
   "outputs": [
    {
     "data": {
      "text/plain": [
       "x.U07563.cds1.at    0.411427\n",
       "x.U34038.at         0.338199\n",
       "x.Z11899.s.at       0.332820\n",
       "x.U35048.at         0.296748\n",
       "x.J02611.at         0.283421\n",
       "x.U35139.at         0.280159\n",
       "x.U82306.at         0.269590\n",
       "x.U78876.at         0.264922\n",
       "x.L05628.s.at       0.250148\n",
       "x.X57129.at         0.247959\n",
       "dtype: float64"
      ]
     },
     "execution_count": 58,
     "metadata": {},
     "output_type": "execute_result"
    }
   ],
   "source": [
    "score_fisher_df.head(10)"
   ]
  },
  {
   "cell_type": "code",
   "execution_count": 59,
   "metadata": {
    "scrolled": true
   },
   "outputs": [
    {
     "data": {
      "image/png": "[encoded data removed]",
      "text/plain": [
       "<Figure size 432x288 with 1 Axes>"
      ]
     },
     "metadata": {
      "needs_background": "light"
     },
     "output_type": "display_data"
    }
   ],
   "source": [
    "# Representacion grafica\n",
    "\n",
    "sns.barplot(x=score_fisher_df[0:10,], y=score_fisher_df.index[0:10,])\n",
    "\n",
    "plt.xlabel('Importancia Variables')\n",
    "plt.ylabel('Variables')\n",
    "plt.title(\"Variables importantes Fisher\")\n",
    "plt.savefig(\"Variables importantes Fisher.pdf\", dpi=300)\n",
    "plt.show()"
   ]
  },
  {
   "cell_type": "code",
   "execution_count": 60,
   "metadata": {},
   "outputs": [
    {
     "data": {
      "text/plain": [
       "array(['x.U07563.cds1.at', 'x.U34038.at', 'x.Z11899.s.at', 'x.U35048.at',\n",
       "       'x.J02611.at', 'x.U35139.at', 'x.U82306.at', 'x.U78876.at',\n",
       "       'x.L05628.s.at', 'x.X57129.at'], dtype=object)"
      ]
     },
     "execution_count": 60,
     "metadata": {},
     "output_type": "execute_result"
    }
   ],
   "source": [
    "features.columns.values[[2670, 3075, 6719, 3088, 1053, 3091, 3833, 3745, 6031, 4301]]"
   ]
  },
  {
   "cell_type": "code",
   "execution_count": 61,
   "metadata": {},
   "outputs": [
    {
     "data": {
      "text/plain": [
       "array([2670, 3075, 6719, 3088, 1053, 3091, 3833, 3745, 6031, 4301])"
      ]
     },
     "execution_count": 61,
     "metadata": {},
     "output_type": "execute_result"
    }
   ],
   "source": [
    "# Ordenar variables\n",
    "\n",
    "idx_fisher = fisher_score.feature_ranking(score_fisher)\n",
    "idx_fisher[0:10]"
   ]
  },
  {
   "cell_type": "code",
   "execution_count": 62,
   "metadata": {},
   "outputs": [],
   "source": [
    "# Especificar 10 variables\n",
    "\n",
    "num_fea = 10\n",
    "    \n",
    "sel_fisher_train = X_train[:, idx_fisher[0:num_fea]]\n",
    "\n",
    "sel_fisher_test = X_test[:, idx_fisher[0:num_fea]]\n"
   ]
  },
  {
   "cell_type": "markdown",
   "metadata": {},
   "source": [
    "### Entrenar modelo con variables seleccionadas en conjunto de entrenamiento"
   ]
  },
  {
   "cell_type": "code",
   "execution_count": 63,
   "metadata": {},
   "outputs": [
    {
     "name": "stdout",
     "output_type": "stream",
     "text": [
      "CPU times: user 1.33 ms, sys: 86 µs, total: 1.41 ms\n",
      "Wall time: 1.08 ms\n"
     ]
    }
   ],
   "source": [
    "%%time\n",
    "clf_svc_f = clf_svc.fit(sel_fisher_train, y_train)"
   ]
  },
  {
   "cell_type": "code",
   "execution_count": 64,
   "metadata": {},
   "outputs": [
    {
     "name": "stdout",
     "output_type": "stream",
     "text": [
      "CPU times: user 1.27 ms, sys: 0 ns, total: 1.27 ms\n",
      "Wall time: 1.16 ms\n"
     ]
    }
   ],
   "source": [
    "%%time\n",
    "clf_nb_f = clf_nb.fit(sel_fisher_train, y_train)"
   ]
  },
  {
   "cell_type": "code",
   "execution_count": 65,
   "metadata": {},
   "outputs": [
    {
     "name": "stdout",
     "output_type": "stream",
     "text": [
      "CPU times: user 92.5 ms, sys: 28.3 ms, total: 121 ms\n",
      "Wall time: 143 ms\n"
     ]
    }
   ],
   "source": [
    "%%time\n",
    "clf_rf_f = clf_rf.fit(sel_fisher_train, y_train)"
   ]
  },
  {
   "cell_type": "code",
   "execution_count": 66,
   "metadata": {},
   "outputs": [],
   "source": [
    "y_fisher_predict_rf = clf_rf_f.predict(sel_fisher_test)\n",
    "y_fisher_predict_nb = clf_nb_f.predict(sel_fisher_test)\n",
    "y_fisher_predict_svc = clf_svc_f.predict(sel_fisher_test)"
   ]
  },
  {
   "cell_type": "code",
   "execution_count": 67,
   "metadata": {},
   "outputs": [
    {
     "name": "stdout",
     "output_type": "stream",
     "text": [
      "Accuracy Fisher SVC: 0.65\n",
      "Accuracy Fisher NB: 0.7\n",
      "Accuracy Fisher RF: 0.65\n"
     ]
    }
   ],
   "source": [
    "# Precision\n",
    "\n",
    "\n",
    "print(\"Accuracy Fisher SVC:\",metrics.accuracy_score(y_test, y_fisher_predict_svc))\n",
    "print(\"Accuracy Fisher NB:\",metrics.accuracy_score(y_test, y_fisher_predict_nb))\n",
    "print(\"Accuracy Fisher RF:\",metrics.accuracy_score(y_test, y_fisher_predict_rf))\n"
   ]
  },
  {
   "cell_type": "code",
   "execution_count": 68,
   "metadata": {},
   "outputs": [
    {
     "name": "stdout",
     "output_type": "stream",
     "text": [
      "              precision    recall  f1-score   support\n",
      "\n",
      "           0       0.50      0.57      0.53         7\n",
      "           1       0.75      0.69      0.72        13\n",
      "\n",
      "    accuracy                           0.65        20\n",
      "   macro avg       0.62      0.63      0.63        20\n",
      "weighted avg       0.66      0.65      0.65        20\n",
      "\n",
      "              precision    recall  f1-score   support\n",
      "\n",
      "           0       0.57      0.57      0.57         7\n",
      "           1       0.77      0.77      0.77        13\n",
      "\n",
      "    accuracy                           0.70        20\n",
      "   macro avg       0.67      0.67      0.67        20\n",
      "weighted avg       0.70      0.70      0.70        20\n",
      "\n",
      "              precision    recall  f1-score   support\n",
      "\n",
      "           0       0.50      0.43      0.46         7\n",
      "           1       0.71      0.77      0.74        13\n",
      "\n",
      "    accuracy                           0.65        20\n",
      "   macro avg       0.61      0.60      0.60        20\n",
      "weighted avg       0.64      0.65      0.64        20\n",
      "\n"
     ]
    }
   ],
   "source": [
    "print(metrics.classification_report(y_test,y_fisher_predict_svc))\n",
    "print(metrics.classification_report(y_test,y_fisher_predict_nb))\n",
    "print(metrics.classification_report(y_test,y_fisher_predict_rf))"
   ]
  },
  {
   "cell_type": "markdown",
   "metadata": {},
   "source": [
    "## SELECCIONAR VARIABLES USANDO reliefF"
   ]
  },
  {
   "cell_type": "code",
   "execution_count": 69,
   "metadata": {},
   "outputs": [
    {
     "name": "stdout",
     "output_type": "stream",
     "text": [
      "CPU times: user 42.8 ms, sys: 170 µs, total: 43 ms\n",
      "Wall time: 41.9 ms\n"
     ]
    }
   ],
   "source": [
    "%%time\n",
    "\n",
    "score_relief = reliefF.reliefF(X_train, y_train, k=5)\n"
   ]
  },
  {
   "cell_type": "code",
   "execution_count": 70,
   "metadata": {},
   "outputs": [
    {
     "data": {
      "text/plain": [
       "array([ 0.97748275,  1.18517819,  0.20225874, ..., -0.11452912,\n",
       "       -0.33643507,  0.1844747 ])"
      ]
     },
     "execution_count": 70,
     "metadata": {},
     "output_type": "execute_result"
    }
   ],
   "source": [
    "score_relief"
   ]
  },
  {
   "cell_type": "code",
   "execution_count": 71,
   "metadata": {},
   "outputs": [],
   "source": [
    "score_relief_df = pd.Series(score_relief,index=features.columns.values).sort_values(ascending=False)\n"
   ]
  },
  {
   "cell_type": "code",
   "execution_count": 72,
   "metadata": {},
   "outputs": [
    {
     "data": {
      "text/plain": [
       "x.U07563.cds1.at             3.608279\n",
       "x.U21858.at                  3.312530\n",
       "x.M14328.s.at                3.169493\n",
       "x.Z11899.s.at                3.098933\n",
       "x.M32886.at                  3.008990\n",
       "x.U25165.at                  2.762253\n",
       "x.Z50022.at                  2.532475\n",
       "x.U26403.at                  2.526985\n",
       "x.X13293.at                  2.480808\n",
       "x.X94703.at                  2.475575\n",
       "x.U21936.at                  2.457847\n",
       "x.U79751.at                  2.449975\n",
       "x.HG3432.HT3620.s.at         2.433598\n",
       "x.M20530.at                  2.411702\n",
       "x.U00802.s.at                2.402206\n",
       "x.AFFX.HSAC07.X00351.3.st    2.375704\n",
       "x.L05425.at                  2.374156\n",
       "x.K03008.cds1.at             2.363461\n",
       "x.AF001787.s.at              2.338366\n",
       "x.D43682.s.at                2.320372\n",
       "dtype: float64"
      ]
     },
     "execution_count": 72,
     "metadata": {},
     "output_type": "execute_result"
    }
   ],
   "source": [
    "score_relief_df.head(20)"
   ]
  },
  {
   "cell_type": "code",
   "execution_count": 73,
   "metadata": {},
   "outputs": [
    {
     "data": {
      "image/png": "[encoded data removed]",
      "text/plain": [
       "<Figure size 432x288 with 1 Axes>"
      ]
     },
     "metadata": {
      "needs_background": "light"
     },
     "output_type": "display_data"
    }
   ],
   "source": [
    "# Representar graficamente\n",
    "\n",
    "sns.barplot(x=score_relief_df[0:10,], y=score_relief_df.index[0:10,])\n",
    "\n",
    "plt.xlabel('Importancia Variables')\n",
    "plt.ylabel('Variables')\n",
    "plt.title(\"Variables Importantes reliefF\")\n",
    "plt.savefig(\"Variables importantes reliefF.pdf\", dpi=300)\n",
    "\n",
    "plt.show()"
   ]
  },
  {
   "cell_type": "code",
   "execution_count": 74,
   "metadata": {},
   "outputs": [
    {
     "data": {
      "text/plain": [
       "array([2670, 2914, 6178, ..., 4340, 6612,  602])"
      ]
     },
     "execution_count": 74,
     "metadata": {},
     "output_type": "execute_result"
    }
   ],
   "source": [
    "# Ordenar variables\n",
    "\n",
    "idx_relief = reliefF.feature_ranking(score_relief)\n",
    "idx_relief"
   ]
  },
  {
   "cell_type": "code",
   "execution_count": 75,
   "metadata": {},
   "outputs": [
    {
     "data": {
      "text/plain": [
       "(7128,)"
      ]
     },
     "execution_count": 75,
     "metadata": {},
     "output_type": "execute_result"
    }
   ],
   "source": [
    "idx_relief.shape"
   ]
  },
  {
   "cell_type": "markdown",
   "metadata": {},
   "source": [
    "### Entrenar modelo con variables seleccionadas en conjunto de entrenamiento"
   ]
  },
  {
   "cell_type": "code",
   "execution_count": 76,
   "metadata": {},
   "outputs": [],
   "source": [
    "# Seleccionar 10:\n",
    "\n",
    "num_fea = 10\n",
    "    \n",
    "sel_relief_train = X_train[:, idx_relief[0:num_fea]]\n",
    "\n",
    "sel_relief_test = X_test[:, idx_relief[0:num_fea]]\n"
   ]
  },
  {
   "cell_type": "code",
   "execution_count": 77,
   "metadata": {},
   "outputs": [
    {
     "data": {
      "text/plain": [
       "(40, 10)"
      ]
     },
     "execution_count": 77,
     "metadata": {},
     "output_type": "execute_result"
    }
   ],
   "source": [
    "sel_relief_train.shape"
   ]
  },
  {
   "cell_type": "code",
   "execution_count": 78,
   "metadata": {},
   "outputs": [
    {
     "name": "stdout",
     "output_type": "stream",
     "text": [
      "CPU times: user 1.28 ms, sys: 91 µs, total: 1.37 ms\n",
      "Wall time: 927 µs\n"
     ]
    }
   ],
   "source": [
    "%%time\n",
    "clf_svc_rl = clf_svc.fit(sel_relief_train, y_train)"
   ]
  },
  {
   "cell_type": "code",
   "execution_count": 79,
   "metadata": {},
   "outputs": [
    {
     "name": "stdout",
     "output_type": "stream",
     "text": [
      "CPU times: user 1.05 ms, sys: 0 ns, total: 1.05 ms\n",
      "Wall time: 831 µs\n"
     ]
    }
   ],
   "source": [
    "%%time\n",
    "clf_nb_rl = clf_nb.fit(sel_relief_train, y_train)"
   ]
  },
  {
   "cell_type": "code",
   "execution_count": 80,
   "metadata": {},
   "outputs": [
    {
     "name": "stdout",
     "output_type": "stream",
     "text": [
      "CPU times: user 85.9 ms, sys: 20.5 ms, total: 106 ms\n",
      "Wall time: 133 ms\n"
     ]
    }
   ],
   "source": [
    "%%time\n",
    "clf_rf_rl = clf_rf.fit(sel_relief_train, y_train)"
   ]
  },
  {
   "cell_type": "code",
   "execution_count": 81,
   "metadata": {},
   "outputs": [],
   "source": [
    "y_rl_predict_svc = clf_svc_rl.predict(sel_relief_test)\n",
    "y_rl_predict_nb = clf_nb_rl.predict(sel_relief_test)\n",
    "y_rl_predict_rf = clf_rf_rl.predict(sel_relief_test)"
   ]
  },
  {
   "cell_type": "code",
   "execution_count": 82,
   "metadata": {},
   "outputs": [
    {
     "name": "stdout",
     "output_type": "stream",
     "text": [
      "Accuracy reliefF SVC: 0.65\n",
      "Accuracy reliefF NB: 0.6\n",
      "Accuracy reliefF RF: 0.6\n"
     ]
    }
   ],
   "source": [
    "# Precision\n",
    "\n",
    "print(\"Accuracy reliefF SVC:\",metrics.accuracy_score(y_test, y_rl_predict_svc))\n",
    "print(\"Accuracy reliefF NB:\",metrics.accuracy_score(y_test, y_rl_predict_nb))\n",
    "print(\"Accuracy reliefF RF:\",metrics.accuracy_score(y_test, y_rl_predict_rf))"
   ]
  },
  {
   "cell_type": "code",
   "execution_count": 83,
   "metadata": {},
   "outputs": [
    {
     "name": "stdout",
     "output_type": "stream",
     "text": [
      "              precision    recall  f1-score   support\n",
      "\n",
      "           0       0.50      0.29      0.36         7\n",
      "           1       0.69      0.85      0.76        13\n",
      "\n",
      "    accuracy                           0.65        20\n",
      "   macro avg       0.59      0.57      0.56        20\n",
      "weighted avg       0.62      0.65      0.62        20\n",
      "\n",
      "              precision    recall  f1-score   support\n",
      "\n",
      "           0       0.43      0.43      0.43         7\n",
      "           1       0.69      0.69      0.69        13\n",
      "\n",
      "    accuracy                           0.60        20\n",
      "   macro avg       0.56      0.56      0.56        20\n",
      "weighted avg       0.60      0.60      0.60        20\n",
      "\n",
      "              precision    recall  f1-score   support\n",
      "\n",
      "           0       0.40      0.29      0.33         7\n",
      "           1       0.67      0.77      0.71        13\n",
      "\n",
      "    accuracy                           0.60        20\n",
      "   macro avg       0.53      0.53      0.52        20\n",
      "weighted avg       0.57      0.60      0.58        20\n",
      "\n"
     ]
    }
   ],
   "source": [
    "# Metricas\n",
    "\n",
    "print(metrics.classification_report(y_test,y_rl_predict_svc))\n",
    "print(metrics.classification_report(y_test,y_rl_predict_nb))\n",
    "print(metrics.classification_report(y_test,y_rl_predict_rf))"
   ]
  },
  {
   "cell_type": "markdown",
   "metadata": {},
   "source": [
    "## SELECCIONAR VARIABLES CON BORUTA"
   ]
  },
  {
   "cell_type": "code",
   "execution_count": 84,
   "metadata": {},
   "outputs": [],
   "source": [
    "boruta_selector = BorutaPy(clf_rf, n_estimators='auto', verbose=0, random_state=SEED, max_iter = 100, perc = 99.5, alpha=0.01)\n"
   ]
  },
  {
   "cell_type": "code",
   "execution_count": 85,
   "metadata": {},
   "outputs": [
    {
     "name": "stdout",
     "output_type": "stream",
     "text": [
      "CPU times: user 1min 58s, sys: 13.5 s, total: 2min 11s\n",
      "Wall time: 1min 2s\n"
     ]
    },
    {
     "data": {
      "text/plain": [
       "BorutaPy(alpha=0.01,\n",
       "         estimator=RandomForestClassifier(bootstrap=True,\n",
       "                                          class_weight='balanced',\n",
       "                                          criterion='gini', max_depth=5,\n",
       "                                          max_features='auto',\n",
       "                                          max_leaf_nodes=None,\n",
       "                                          min_impurity_decrease=0.0,\n",
       "                                          min_impurity_split=None,\n",
       "                                          min_samples_leaf=1,\n",
       "                                          min_samples_split=2,\n",
       "                                          min_weight_fraction_leaf=0.0,\n",
       "                                          n_estimators=205, n_jobs=-1,\n",
       "                                          oob_score=False,\n",
       "                                          random_state=<mtrand.RandomState object at 0x7ff3c5092b40>,\n",
       "                                          verbose=0, warm_start=False),\n",
       "         max_iter=100, n_estimators='auto', perc=99.5,\n",
       "         random_state=<mtrand.RandomState object at 0x7ff3c5092b40>,\n",
       "         two_step=True, verbose=0)"
      ]
     },
     "execution_count": 85,
     "metadata": {},
     "output_type": "execute_result"
    }
   ],
   "source": [
    "%%time\n",
    "boruta_selector.fit(X_train, y_train)"
   ]
  },
  {
   "cell_type": "code",
   "execution_count": 86,
   "metadata": {},
   "outputs": [
    {
     "data": {
      "text/plain": [
       "10"
      ]
     },
     "execution_count": 86,
     "metadata": {},
     "output_type": "execute_result"
    }
   ],
   "source": [
    "boruta_selector.n_features_"
   ]
  },
  {
   "cell_type": "code",
   "execution_count": 87,
   "metadata": {},
   "outputs": [
    {
     "data": {
      "text/plain": [
       "array([False, False, False, ..., False, False, False])"
      ]
     },
     "execution_count": 87,
     "metadata": {},
     "output_type": "execute_result"
    }
   ],
   "source": [
    "boruta_selector.support_"
   ]
  },
  {
   "cell_type": "code",
   "execution_count": 88,
   "metadata": {},
   "outputs": [
    {
     "data": {
      "text/plain": [
       "array([ 756, 1082, 5202, ..., 6543, 6543, 5202])"
      ]
     },
     "execution_count": 88,
     "metadata": {},
     "output_type": "execute_result"
    }
   ],
   "source": [
    "boruta_selector.ranking_\n"
   ]
  },
  {
   "cell_type": "code",
   "execution_count": 89,
   "metadata": {},
   "outputs": [
    {
     "data": {
      "text/plain": [
       "x.U66711.rna1.s.at    1\n",
       "x.J02611.at           1\n",
       "x.U35139.at           1\n",
       "x.Z11899.s.at         1\n",
       "x.K03008.cds1.at      1\n",
       "x.U78876.at           1\n",
       "x.M26692.s.at         1\n",
       "x.M27281.at           1\n",
       "x.U07563.cds1.at      1\n",
       "x.M18728.at           1\n",
       "x.U36759.s.at         2\n",
       "dtype: int64"
      ]
     },
     "execution_count": 89,
     "metadata": {},
     "output_type": "execute_result"
    }
   ],
   "source": [
    "score_boruta_df = pd.Series(boruta_selector.ranking_,index=features.columns.values).sort_values(ascending=True)\n",
    "score_boruta_df.head(11)"
   ]
  },
  {
   "cell_type": "code",
   "execution_count": 90,
   "metadata": {},
   "outputs": [
    {
     "data": {
      "text/plain": [
       "1"
      ]
     },
     "execution_count": 90,
     "metadata": {},
     "output_type": "execute_result"
    }
   ],
   "source": [
    "score_boruta_df.loc['x.J02611.at',]"
   ]
  },
  {
   "cell_type": "code",
   "execution_count": 91,
   "metadata": {},
   "outputs": [],
   "source": [
    "sel_boruta_train = boruta_selector.transform(X_train)\n",
    "\n",
    "sel_boruta_test = boruta_selector.transform(X_test)"
   ]
  },
  {
   "cell_type": "code",
   "execution_count": 92,
   "metadata": {},
   "outputs": [
    {
     "name": "stdout",
     "output_type": "stream",
     "text": [
      "(40, 10)\n",
      "(20, 10)\n"
     ]
    }
   ],
   "source": [
    "print(sel_boruta_train.shape)\n",
    "print(sel_boruta_test.shape)"
   ]
  },
  {
   "cell_type": "markdown",
   "metadata": {},
   "source": [
    "### Entrenar modelo con variables seleccionadas en conjunto de entrenamiento"
   ]
  },
  {
   "cell_type": "code",
   "execution_count": 93,
   "metadata": {},
   "outputs": [
    {
     "name": "stdout",
     "output_type": "stream",
     "text": [
      "CPU times: user 3.1 ms, sys: 349 µs, total: 3.45 ms\n",
      "Wall time: 815 µs\n"
     ]
    }
   ],
   "source": [
    "%%time\n",
    "clf_svc_b = clf_svc.fit(sel_boruta_train, y_train)"
   ]
  },
  {
   "cell_type": "code",
   "execution_count": 94,
   "metadata": {},
   "outputs": [
    {
     "name": "stdout",
     "output_type": "stream",
     "text": [
      "CPU times: user 3.86 ms, sys: 0 ns, total: 3.86 ms\n",
      "Wall time: 950 µs\n"
     ]
    }
   ],
   "source": [
    "%%time\n",
    "clf_nb_b = clf_nb.fit(sel_boruta_train, y_train)"
   ]
  },
  {
   "cell_type": "code",
   "execution_count": 95,
   "metadata": {},
   "outputs": [
    {
     "name": "stdout",
     "output_type": "stream",
     "text": [
      "CPU times: user 451 ms, sys: 37.8 ms, total: 489 ms\n",
      "Wall time: 188 ms\n"
     ]
    }
   ],
   "source": [
    "%%time\n",
    "clf_rf_b = clf_rf.fit(sel_boruta_train, y_train)"
   ]
  },
  {
   "cell_type": "code",
   "execution_count": 96,
   "metadata": {},
   "outputs": [],
   "source": [
    "y_boruta_predict_svc = clf_svc_b.predict(sel_boruta_test)\n",
    "y_boruta_predict_nb = clf_nb_b.predict(sel_boruta_test)\n",
    "y_boruta_predict_rf = clf_rf_b.predict(sel_boruta_test)"
   ]
  },
  {
   "cell_type": "code",
   "execution_count": 97,
   "metadata": {},
   "outputs": [
    {
     "name": "stdout",
     "output_type": "stream",
     "text": [
      "Accuracy Boruta SVC: 0.4\n",
      "Accuracy Boruta NB: 0.55\n",
      "Accuracy Boruta RF: 0.5\n"
     ]
    }
   ],
   "source": [
    "print(\"Accuracy Boruta SVC:\",metrics.accuracy_score(y_test, y_boruta_predict_svc))\n",
    "print(\"Accuracy Boruta NB:\",metrics.accuracy_score(y_test, y_boruta_predict_nb))\n",
    "print(\"Accuracy Boruta RF:\",metrics.accuracy_score(y_test, y_boruta_predict_rf))"
   ]
  },
  {
   "cell_type": "code",
   "execution_count": 98,
   "metadata": {},
   "outputs": [
    {
     "name": "stdout",
     "output_type": "stream",
     "text": [
      "              precision    recall  f1-score   support\n",
      "\n",
      "           0       0.22      0.29      0.25         7\n",
      "           1       0.55      0.46      0.50        13\n",
      "\n",
      "    accuracy                           0.40        20\n",
      "   macro avg       0.38      0.37      0.37        20\n",
      "weighted avg       0.43      0.40      0.41        20\n",
      "\n",
      "              precision    recall  f1-score   support\n",
      "\n",
      "           0       0.33      0.29      0.31         7\n",
      "           1       0.64      0.69      0.67        13\n",
      "\n",
      "    accuracy                           0.55        20\n",
      "   macro avg       0.49      0.49      0.49        20\n",
      "weighted avg       0.53      0.55      0.54        20\n",
      "\n",
      "              precision    recall  f1-score   support\n",
      "\n",
      "           0       0.20      0.14      0.17         7\n",
      "           1       0.60      0.69      0.64        13\n",
      "\n",
      "    accuracy                           0.50        20\n",
      "   macro avg       0.40      0.42      0.40        20\n",
      "weighted avg       0.46      0.50      0.48        20\n",
      "\n"
     ]
    }
   ],
   "source": [
    "print(metrics.classification_report(y_test,y_boruta_predict_svc))\n",
    "print(metrics.classification_report(y_test,y_boruta_predict_nb))\n",
    "print(metrics.classification_report(y_test,y_boruta_predict_rf))"
   ]
  },
  {
   "cell_type": "markdown",
   "metadata": {},
   "source": [
    "## SELECCIONAR VARIABLES USANDO RFE (Eliminar recursivamente)"
   ]
  },
  {
   "cell_type": "code",
   "execution_count": 99,
   "metadata": {},
   "outputs": [],
   "source": [
    "# RFE\n",
    "rfe = RFE(estimator=clf_svc, n_features_to_select=10)\n",
    "\n"
   ]
  },
  {
   "cell_type": "code",
   "execution_count": 100,
   "metadata": {},
   "outputs": [
    {
     "name": "stdout",
     "output_type": "stream",
     "text": [
      "CPU times: user 18min 30s, sys: 14.7 s, total: 18min 44s\n",
      "Wall time: 4min 41s\n"
     ]
    }
   ],
   "source": [
    "%%time\n",
    "rfe = rfe.fit(X_train, y_train)\n",
    " \n"
   ]
  },
  {
   "cell_type": "code",
   "execution_count": 101,
   "metadata": {},
   "outputs": [
    {
     "name": "stdout",
     "output_type": "stream",
     "text": [
      "CPU times: user 1.41 ms, sys: 33 µs, total: 1.44 ms\n",
      "Wall time: 767 µs\n"
     ]
    }
   ],
   "source": [
    "%%time\n",
    "\n",
    "sel_rfe_train = rfe.transform(X_train)\n",
    "\n",
    "sel_rfe_test = rfe.transform(X_test)"
   ]
  },
  {
   "cell_type": "code",
   "execution_count": 102,
   "metadata": {},
   "outputs": [
    {
     "name": "stdout",
     "output_type": "stream",
     "text": [
      "[False False False ... False False False]\n",
      "[ 524  716 3262 ... 5009 5919 4850]\n"
     ]
    }
   ],
   "source": [
    "print(rfe.support_)\n",
    "print(rfe.ranking_)"
   ]
  },
  {
   "cell_type": "code",
   "execution_count": 103,
   "metadata": {},
   "outputs": [
    {
     "data": {
      "text/plain": [
       "(40, 10)"
      ]
     },
     "execution_count": 103,
     "metadata": {},
     "output_type": "execute_result"
    }
   ],
   "source": [
    "sel_rfe_train.shape"
   ]
  },
  {
   "cell_type": "markdown",
   "metadata": {},
   "source": [
    "### Entrenar modelo con variables seleccionadas en conjunto de entrenamiento"
   ]
  },
  {
   "cell_type": "code",
   "execution_count": 104,
   "metadata": {},
   "outputs": [
    {
     "name": "stdout",
     "output_type": "stream",
     "text": [
      "CPU times: user 1.25 ms, sys: 29 µs, total: 1.28 ms\n",
      "Wall time: 973 µs\n"
     ]
    }
   ],
   "source": [
    "%%time\n",
    "clf_svc_r = clf_svc.fit(sel_rfe_train, y_train)"
   ]
  },
  {
   "cell_type": "code",
   "execution_count": 105,
   "metadata": {},
   "outputs": [
    {
     "name": "stdout",
     "output_type": "stream",
     "text": [
      "CPU times: user 829 µs, sys: 0 ns, total: 829 µs\n",
      "Wall time: 736 µs\n"
     ]
    }
   ],
   "source": [
    "%%time\n",
    "clf_nb_r = clf_nb.fit(sel_rfe_train, y_train)"
   ]
  },
  {
   "cell_type": "code",
   "execution_count": 106,
   "metadata": {},
   "outputs": [
    {
     "name": "stdout",
     "output_type": "stream",
     "text": [
      "CPU times: user 154 ms, sys: 51.3 ms, total: 206 ms\n",
      "Wall time: 165 ms\n"
     ]
    }
   ],
   "source": [
    "%%time\n",
    "clf_rf_r = clf_rf.fit(sel_rfe_train, y_train)"
   ]
  },
  {
   "cell_type": "code",
   "execution_count": 107,
   "metadata": {},
   "outputs": [],
   "source": [
    "y_rfe_predict_svc = clf_svc_r.predict(sel_rfe_test)\n",
    "y_rfe_predict_nb = clf_nb_r.predict(sel_rfe_test)\n",
    "y_rfe_predict_rf = clf_rf_r.predict(sel_rfe_test)\n"
   ]
  },
  {
   "cell_type": "code",
   "execution_count": 108,
   "metadata": {},
   "outputs": [
    {
     "name": "stdout",
     "output_type": "stream",
     "text": [
      "Accuracy SVC: 0.7\n",
      "Accuracy NB: 0.6\n",
      "Accuracy RF: 0.6\n"
     ]
    }
   ],
   "source": [
    "# Precision\n",
    "\n",
    "print(\"Accuracy SVC:\",metrics.accuracy_score(y_test, y_rfe_predict_svc))\n",
    "print(\"Accuracy NB:\",metrics.accuracy_score(y_test, y_rfe_predict_nb))\n",
    "print(\"Accuracy RF:\",metrics.accuracy_score(y_test, y_rfe_predict_rf))"
   ]
  },
  {
   "cell_type": "code",
   "execution_count": 109,
   "metadata": {},
   "outputs": [
    {
     "name": "stdout",
     "output_type": "stream",
     "text": [
      "              precision    recall  f1-score   support\n",
      "\n",
      "           0       0.67      0.29      0.40         7\n",
      "           1       0.71      0.92      0.80        13\n",
      "\n",
      "    accuracy                           0.70        20\n",
      "   macro avg       0.69      0.60      0.60        20\n",
      "weighted avg       0.69      0.70      0.66        20\n",
      "\n",
      "              precision    recall  f1-score   support\n",
      "\n",
      "           0       0.33      0.14      0.20         7\n",
      "           1       0.65      0.85      0.73        13\n",
      "\n",
      "    accuracy                           0.60        20\n",
      "   macro avg       0.49      0.49      0.47        20\n",
      "weighted avg       0.54      0.60      0.55        20\n",
      "\n",
      "              precision    recall  f1-score   support\n",
      "\n",
      "           0       0.00      0.00      0.00         7\n",
      "           1       0.63      0.92      0.75        13\n",
      "\n",
      "    accuracy                           0.60        20\n",
      "   macro avg       0.32      0.46      0.37        20\n",
      "weighted avg       0.41      0.60      0.49        20\n",
      "\n"
     ]
    }
   ],
   "source": [
    "print(metrics.classification_report(y_test,y_rfe_predict_svc))\n",
    "print(metrics.classification_report(y_test,y_rfe_predict_nb))\n",
    "print(metrics.classification_report(y_test,y_rfe_predict_rf))\n",
    "\n"
   ]
  },
  {
   "cell_type": "code",
   "execution_count": 110,
   "metadata": {},
   "outputs": [
    {
     "data": {
      "text/plain": [
       "x.U35139.at                    1\n",
       "x.X97544.at                    1\n",
       "x.U07563.cds1.at               1\n",
       "x.U66406.at                    1\n",
       "x.AFFX.HUMGAPDH.M33197.5.at    1\n",
       "x.J02611.at                    1\n",
       "x.U66711.rna1.s.at             1\n",
       "x.U18383.s.at                  1\n",
       "x.U39318.at                    1\n",
       "x.U39226.at                    1\n",
       "x.L10333.s.at                  2\n",
       "dtype: int64"
      ]
     },
     "execution_count": 110,
     "metadata": {},
     "output_type": "execute_result"
    }
   ],
   "source": [
    "pd.Series(rfe.ranking_,index=features.columns.values).sort_values(ascending=True).head(11)"
   ]
  },
  {
   "cell_type": "markdown",
   "metadata": {},
   "source": [
    "## SELECCIONAR VARIABLES USANDO SELECCION DE VARIABLES HACIA DELANTE"
   ]
  },
  {
   "cell_type": "code",
   "execution_count": 111,
   "metadata": {},
   "outputs": [],
   "source": [
    "# Tarda mucho tiempo, incluso seleccionando solo 5 variables. Tiempos similares en Google collab.\n",
    "sfs1 = sfs(clf_rf,\n",
    "           k_features=10,\n",
    "           forward=True,\n",
    "           floating=False,\n",
    "           verbose=2,\n",
    "           scoring='f1',\n",
    "           n_jobs= -1,\n",
    "           cv=0)\n",
    "\n"
   ]
  },
  {
   "cell_type": "code",
   "execution_count": 112,
   "metadata": {},
   "outputs": [
    {
     "name": "stderr",
     "output_type": "stream",
     "text": [
      "[Parallel(n_jobs=-1)]: Using backend LokyBackend with 8 concurrent workers.\n",
      "[Parallel(n_jobs=-1)]: Done  25 tasks      | elapsed:    3.0s\n",
      "[Parallel(n_jobs=-1)]: Done 146 tasks      | elapsed:   12.4s\n",
      "[Parallel(n_jobs=-1)]: Done 349 tasks      | elapsed:   28.5s\n",
      "[Parallel(n_jobs=-1)]: Done 632 tasks      | elapsed:   50.5s\n",
      "[Parallel(n_jobs=-1)]: Done 997 tasks      | elapsed:  1.3min\n",
      "[Parallel(n_jobs=-1)]: Done 1442 tasks      | elapsed:  1.9min\n",
      "[Parallel(n_jobs=-1)]: Done 1969 tasks      | elapsed:  2.6min\n",
      "[Parallel(n_jobs=-1)]: Done 2576 tasks      | elapsed:  3.4min\n",
      "[Parallel(n_jobs=-1)]: Done 3265 tasks      | elapsed:  4.3min\n",
      "[Parallel(n_jobs=-1)]: Done 4034 tasks      | elapsed:  5.3min\n",
      "[Parallel(n_jobs=-1)]: Done 4885 tasks      | elapsed:  6.4min\n",
      "[Parallel(n_jobs=-1)]: Done 5816 tasks      | elapsed:  7.6min\n",
      "[Parallel(n_jobs=-1)]: Done 6829 tasks      | elapsed:  9.0min\n",
      "[Parallel(n_jobs=-1)]: Done 7128 out of 7128 | elapsed:  9.3min finished\n",
      "\n",
      "[2019-10-09 21:17:35] Features: 1/10 -- score: 1.0[Parallel(n_jobs=-1)]: Using backend LokyBackend with 8 concurrent workers.\n",
      "[Parallel(n_jobs=-1)]: Done  25 tasks      | elapsed:    2.3s\n",
      "[Parallel(n_jobs=-1)]: Done 146 tasks      | elapsed:   11.7s\n",
      "[Parallel(n_jobs=-1)]: Done 349 tasks      | elapsed:   27.7s\n",
      "[Parallel(n_jobs=-1)]: Done 632 tasks      | elapsed:   49.6s\n",
      "[Parallel(n_jobs=-1)]: Done 997 tasks      | elapsed:  1.3min\n",
      "[Parallel(n_jobs=-1)]: Done 1442 tasks      | elapsed:  1.9min\n",
      "[Parallel(n_jobs=-1)]: Done 1969 tasks      | elapsed:  2.6min\n",
      "[Parallel(n_jobs=-1)]: Done 2576 tasks      | elapsed:  3.4min\n",
      "[Parallel(n_jobs=-1)]: Done 3265 tasks      | elapsed:  4.3min\n",
      "[Parallel(n_jobs=-1)]: Done 4034 tasks      | elapsed:  5.3min\n",
      "[Parallel(n_jobs=-1)]: Done 4885 tasks      | elapsed:  6.4min\n",
      "[Parallel(n_jobs=-1)]: Done 5816 tasks      | elapsed:  7.6min\n",
      "[Parallel(n_jobs=-1)]: Done 6829 tasks      | elapsed:  8.9min\n",
      "[Parallel(n_jobs=-1)]: Done 7127 out of 7127 | elapsed:  9.3min finished\n",
      "\n",
      "[2019-10-09 21:26:53] Features: 2/10 -- score: 1.0[Parallel(n_jobs=-1)]: Using backend LokyBackend with 8 concurrent workers.\n",
      "[Parallel(n_jobs=-1)]: Done  25 tasks      | elapsed:    2.4s\n",
      "[Parallel(n_jobs=-1)]: Done 146 tasks      | elapsed:   11.8s\n",
      "[Parallel(n_jobs=-1)]: Done 349 tasks      | elapsed:   27.8s\n",
      "[Parallel(n_jobs=-1)]: Done 632 tasks      | elapsed:   49.8s\n",
      "[Parallel(n_jobs=-1)]: Done 997 tasks      | elapsed:  1.3min\n",
      "[Parallel(n_jobs=-1)]: Done 1442 tasks      | elapsed:  1.9min\n",
      "[Parallel(n_jobs=-1)]: Done 1969 tasks      | elapsed:  2.6min\n",
      "[Parallel(n_jobs=-1)]: Done 2576 tasks      | elapsed:  3.4min\n",
      "[Parallel(n_jobs=-1)]: Done 3265 tasks      | elapsed:  4.3min\n",
      "[Parallel(n_jobs=-1)]: Done 4034 tasks      | elapsed:  5.3min\n",
      "[Parallel(n_jobs=-1)]: Done 4885 tasks      | elapsed:  6.4min\n",
      "[Parallel(n_jobs=-1)]: Done 5816 tasks      | elapsed:  7.6min\n",
      "[Parallel(n_jobs=-1)]: Done 6829 tasks      | elapsed:  8.9min\n",
      "[Parallel(n_jobs=-1)]: Done 7126 out of 7126 | elapsed:  9.3min finished\n",
      "\n",
      "[2019-10-09 21:36:12] Features: 3/10 -- score: 1.0[Parallel(n_jobs=-1)]: Using backend LokyBackend with 8 concurrent workers.\n",
      "[Parallel(n_jobs=-1)]: Done  25 tasks      | elapsed:    2.3s\n",
      "[Parallel(n_jobs=-1)]: Done 146 tasks      | elapsed:   11.8s\n",
      "[Parallel(n_jobs=-1)]: Done 349 tasks      | elapsed:   27.8s\n",
      "[Parallel(n_jobs=-1)]: Done 632 tasks      | elapsed:   49.6s\n",
      "[Parallel(n_jobs=-1)]: Done 997 tasks      | elapsed:  1.3min\n",
      "[Parallel(n_jobs=-1)]: Done 1442 tasks      | elapsed:  1.9min\n",
      "[Parallel(n_jobs=-1)]: Done 1969 tasks      | elapsed:  2.6min\n",
      "[Parallel(n_jobs=-1)]: Done 2576 tasks      | elapsed:  3.3min\n",
      "[Parallel(n_jobs=-1)]: Done 3265 tasks      | elapsed:  4.2min\n",
      "[Parallel(n_jobs=-1)]: Done 4034 tasks      | elapsed:  5.2min\n",
      "[Parallel(n_jobs=-1)]: Done 4885 tasks      | elapsed:  6.4min\n",
      "[Parallel(n_jobs=-1)]: Done 5816 tasks      | elapsed:  7.6min\n",
      "[Parallel(n_jobs=-1)]: Done 6829 tasks      | elapsed:  8.9min\n",
      "[Parallel(n_jobs=-1)]: Done 7125 out of 7125 | elapsed:  9.3min finished\n",
      "\n",
      "[2019-10-09 21:45:29] Features: 4/10 -- score: 1.0[Parallel(n_jobs=-1)]: Using backend LokyBackend with 8 concurrent workers.\n",
      "[Parallel(n_jobs=-1)]: Done  25 tasks      | elapsed:    2.3s\n",
      "[Parallel(n_jobs=-1)]: Done 146 tasks      | elapsed:   11.7s\n",
      "[Parallel(n_jobs=-1)]: Done 349 tasks      | elapsed:   27.6s\n",
      "[Parallel(n_jobs=-1)]: Done 632 tasks      | elapsed:   49.9s\n",
      "[Parallel(n_jobs=-1)]: Done 997 tasks      | elapsed:  1.3min\n",
      "[Parallel(n_jobs=-1)]: Done 1442 tasks      | elapsed:  1.9min\n",
      "[Parallel(n_jobs=-1)]: Done 1969 tasks      | elapsed:  2.6min\n",
      "[Parallel(n_jobs=-1)]: Done 2576 tasks      | elapsed:  3.4min\n",
      "[Parallel(n_jobs=-1)]: Done 3265 tasks      | elapsed:  4.3min\n",
      "[Parallel(n_jobs=-1)]: Done 4034 tasks      | elapsed:  5.3min\n",
      "[Parallel(n_jobs=-1)]: Done 4885 tasks      | elapsed:  6.4min\n",
      "[Parallel(n_jobs=-1)]: Done 5816 tasks      | elapsed:  7.6min\n",
      "[Parallel(n_jobs=-1)]: Done 6829 tasks      | elapsed:  8.9min\n",
      "[Parallel(n_jobs=-1)]: Done 7124 out of 7124 | elapsed:  9.3min finished\n",
      "\n",
      "[2019-10-09 21:54:47] Features: 5/10 -- score: 1.0[Parallel(n_jobs=-1)]: Using backend LokyBackend with 8 concurrent workers.\n",
      "[Parallel(n_jobs=-1)]: Done  25 tasks      | elapsed:    2.4s\n",
      "[Parallel(n_jobs=-1)]: Done 146 tasks      | elapsed:   11.7s\n",
      "[Parallel(n_jobs=-1)]: Done 349 tasks      | elapsed:   27.3s\n",
      "[Parallel(n_jobs=-1)]: Done 632 tasks      | elapsed:   49.5s\n",
      "[Parallel(n_jobs=-1)]: Done 997 tasks      | elapsed:  1.3min\n",
      "[Parallel(n_jobs=-1)]: Done 1442 tasks      | elapsed:  1.9min\n",
      "[Parallel(n_jobs=-1)]: Done 1969 tasks      | elapsed:  2.6min\n",
      "[Parallel(n_jobs=-1)]: Done 2576 tasks      | elapsed:  3.4min\n",
      "[Parallel(n_jobs=-1)]: Done 3265 tasks      | elapsed:  4.3min\n",
      "[Parallel(n_jobs=-1)]: Done 4034 tasks      | elapsed:  5.3min\n",
      "[Parallel(n_jobs=-1)]: Done 4885 tasks      | elapsed:  6.4min\n",
      "[Parallel(n_jobs=-1)]: Done 5816 tasks      | elapsed:  7.6min\n",
      "[Parallel(n_jobs=-1)]: Done 6829 tasks      | elapsed:  8.9min\n",
      "[Parallel(n_jobs=-1)]: Done 7123 out of 7123 | elapsed:  9.3min finished\n",
      "\n",
      "[2019-10-09 22:04:04] Features: 6/10 -- score: 1.0[Parallel(n_jobs=-1)]: Using backend LokyBackend with 8 concurrent workers.\n",
      "[Parallel(n_jobs=-1)]: Done  25 tasks      | elapsed:    2.3s\n",
      "[Parallel(n_jobs=-1)]: Done 146 tasks      | elapsed:   12.0s\n",
      "[Parallel(n_jobs=-1)]: Done 349 tasks      | elapsed:   27.8s\n",
      "[Parallel(n_jobs=-1)]: Done 632 tasks      | elapsed:   50.2s\n",
      "[Parallel(n_jobs=-1)]: Done 997 tasks      | elapsed:  1.3min\n",
      "[Parallel(n_jobs=-1)]: Done 1442 tasks      | elapsed:  1.9min\n",
      "[Parallel(n_jobs=-1)]: Done 1969 tasks      | elapsed:  2.6min\n",
      "[Parallel(n_jobs=-1)]: Done 2576 tasks      | elapsed:  3.4min\n",
      "[Parallel(n_jobs=-1)]: Done 3265 tasks      | elapsed:  4.3min\n",
      "[Parallel(n_jobs=-1)]: Done 4034 tasks      | elapsed:  5.3min\n",
      "[Parallel(n_jobs=-1)]: Done 4885 tasks      | elapsed:  6.4min\n",
      "[Parallel(n_jobs=-1)]: Done 5816 tasks      | elapsed:  7.6min\n",
      "[Parallel(n_jobs=-1)]: Done 6829 tasks      | elapsed:  8.9min\n",
      "[Parallel(n_jobs=-1)]: Done 7122 out of 7122 | elapsed:  9.3min finished\n",
      "\n",
      "[2019-10-09 22:13:23] Features: 7/10 -- score: 1.0[Parallel(n_jobs=-1)]: Using backend LokyBackend with 8 concurrent workers.\n",
      "[Parallel(n_jobs=-1)]: Done  25 tasks      | elapsed:    2.4s\n",
      "[Parallel(n_jobs=-1)]: Done 146 tasks      | elapsed:   12.1s\n",
      "[Parallel(n_jobs=-1)]: Done 349 tasks      | elapsed:   27.8s\n",
      "[Parallel(n_jobs=-1)]: Done 632 tasks      | elapsed:   49.8s\n",
      "[Parallel(n_jobs=-1)]: Done 997 tasks      | elapsed:  1.3min\n",
      "[Parallel(n_jobs=-1)]: Done 1442 tasks      | elapsed:  1.9min\n",
      "[Parallel(n_jobs=-1)]: Done 1969 tasks      | elapsed:  2.6min\n",
      "[Parallel(n_jobs=-1)]: Done 2576 tasks      | elapsed:  3.4min\n",
      "[Parallel(n_jobs=-1)]: Done 3265 tasks      | elapsed:  4.3min\n",
      "[Parallel(n_jobs=-1)]: Done 4034 tasks      | elapsed:  5.3min\n",
      "[Parallel(n_jobs=-1)]: Done 4885 tasks      | elapsed:  6.4min\n",
      "[Parallel(n_jobs=-1)]: Done 5816 tasks      | elapsed:  7.6min\n",
      "[Parallel(n_jobs=-1)]: Done 6829 tasks      | elapsed:  8.9min\n",
      "[Parallel(n_jobs=-1)]: Done 7121 out of 7121 | elapsed:  9.3min finished\n",
      "\n",
      "[2019-10-09 22:22:41] Features: 8/10 -- score: 1.0[Parallel(n_jobs=-1)]: Using backend LokyBackend with 8 concurrent workers.\n",
      "[Parallel(n_jobs=-1)]: Done  25 tasks      | elapsed:    2.3s\n"
     ]
    },
    {
     "name": "stderr",
     "output_type": "stream",
     "text": [
      "[Parallel(n_jobs=-1)]: Done 146 tasks      | elapsed:   11.9s\n",
      "[Parallel(n_jobs=-1)]: Done 349 tasks      | elapsed:   27.7s\n",
      "[Parallel(n_jobs=-1)]: Done 632 tasks      | elapsed:   49.6s\n",
      "[Parallel(n_jobs=-1)]: Done 997 tasks      | elapsed:  1.3min\n",
      "[Parallel(n_jobs=-1)]: Done 1442 tasks      | elapsed:  1.9min\n",
      "[Parallel(n_jobs=-1)]: Done 1969 tasks      | elapsed:  2.6min\n",
      "[Parallel(n_jobs=-1)]: Done 2576 tasks      | elapsed:  3.4min\n",
      "[Parallel(n_jobs=-1)]: Done 3265 tasks      | elapsed:  4.3min\n",
      "[Parallel(n_jobs=-1)]: Done 4034 tasks      | elapsed:  5.3min\n",
      "[Parallel(n_jobs=-1)]: Done 4885 tasks      | elapsed:  6.4min\n",
      "[Parallel(n_jobs=-1)]: Done 5816 tasks      | elapsed:  7.6min\n",
      "[Parallel(n_jobs=-1)]: Done 6829 tasks      | elapsed:  8.9min\n",
      "[Parallel(n_jobs=-1)]: Done 7120 out of 7120 | elapsed:  9.3min finished\n",
      "\n",
      "[2019-10-09 22:31:59] Features: 9/10 -- score: 1.0[Parallel(n_jobs=-1)]: Using backend LokyBackend with 8 concurrent workers.\n",
      "[Parallel(n_jobs=-1)]: Done  25 tasks      | elapsed:    2.4s\n",
      "[Parallel(n_jobs=-1)]: Done 146 tasks      | elapsed:   11.9s\n",
      "[Parallel(n_jobs=-1)]: Done 349 tasks      | elapsed:   27.7s\n",
      "[Parallel(n_jobs=-1)]: Done 632 tasks      | elapsed:   49.8s\n",
      "[Parallel(n_jobs=-1)]: Done 997 tasks      | elapsed:  1.3min\n",
      "[Parallel(n_jobs=-1)]: Done 1442 tasks      | elapsed:  1.9min\n",
      "[Parallel(n_jobs=-1)]: Done 1969 tasks      | elapsed:  2.6min\n",
      "[Parallel(n_jobs=-1)]: Done 2576 tasks      | elapsed:  3.4min\n",
      "[Parallel(n_jobs=-1)]: Done 3265 tasks      | elapsed:  4.3min\n",
      "[Parallel(n_jobs=-1)]: Done 4034 tasks      | elapsed:  5.3min\n",
      "[Parallel(n_jobs=-1)]: Done 4885 tasks      | elapsed:  6.4min\n",
      "[Parallel(n_jobs=-1)]: Done 5816 tasks      | elapsed:  7.6min\n",
      "[Parallel(n_jobs=-1)]: Done 6829 tasks      | elapsed:  8.9min\n",
      "[Parallel(n_jobs=-1)]: Done 7119 out of 7119 | elapsed:  9.3min finished\n"
     ]
    },
    {
     "name": "stdout",
     "output_type": "stream",
     "text": [
      "CPU times: user 1h 31min 40s, sys: 49 s, total: 1h 32min 29s\n",
      "Wall time: 1h 33min 3s\n"
     ]
    },
    {
     "name": "stderr",
     "output_type": "stream",
     "text": [
      "\n",
      "[2019-10-09 22:41:18] Features: 10/10 -- score: 1.0"
     ]
    }
   ],
   "source": [
    "%%time\n",
    "sfs1 = sfs1.fit(X_train, y_train)"
   ]
  },
  {
   "cell_type": "code",
   "execution_count": 113,
   "metadata": {},
   "outputs": [
    {
     "name": "stdout",
     "output_type": "stream",
     "text": [
      "[0, 1, 2, 3, 4, 5, 6, 7, 8, 9]\n"
     ]
    }
   ],
   "source": [
    "# Mostrar variables seleccionadas\n",
    "\n",
    "feat_cols = list(sfs1.k_feature_idx_)\n",
    "print(feat_cols)"
   ]
  },
  {
   "cell_type": "code",
   "execution_count": 114,
   "metadata": {},
   "outputs": [
    {
     "data": {
      "text/plain": [
       "1.0"
      ]
     },
     "execution_count": 114,
     "metadata": {},
     "output_type": "execute_result"
    }
   ],
   "source": [
    "sfs1.k_score_"
   ]
  },
  {
   "cell_type": "code",
   "execution_count": 115,
   "metadata": {},
   "outputs": [
    {
     "data": {
      "text/plain": [
       "array(['x.AFFX.BioB.5.at', 'x.AFFX.BioB.M.at', 'x.AFFX.BioB.3.at',\n",
       "       'x.AFFX.BioC.5.at', 'x.AFFX.BioC.3.at'], dtype=object)"
      ]
     },
     "execution_count": 115,
     "metadata": {},
     "output_type": "execute_result"
    }
   ],
   "source": [
    "features.columns.values[[0,1,2,3,4]]"
   ]
  },
  {
   "cell_type": "markdown",
   "metadata": {},
   "source": [
    "### Entrenar modelo con variables seleccionadas en conjunto de entrenamiento"
   ]
  },
  {
   "cell_type": "code",
   "execution_count": 116,
   "metadata": {},
   "outputs": [
    {
     "name": "stdout",
     "output_type": "stream",
     "text": [
      "CPU times: user 1.38 ms, sys: 16 µs, total: 1.4 ms\n",
      "Wall time: 989 µs\n"
     ]
    }
   ],
   "source": [
    "%%time\n",
    "clf_svc_sfs = clf_svc.fit(X_train[:, feat_cols], y_train)"
   ]
  },
  {
   "cell_type": "code",
   "execution_count": 117,
   "metadata": {},
   "outputs": [
    {
     "name": "stdout",
     "output_type": "stream",
     "text": [
      "CPU times: user 189 ms, sys: 32.2 ms, total: 222 ms\n",
      "Wall time: 184 ms\n"
     ]
    }
   ],
   "source": [
    "%%time\n",
    "clf_rf_sfs = clf_rf.fit(X_train[:, feat_cols], y_train)"
   ]
  },
  {
   "cell_type": "code",
   "execution_count": 118,
   "metadata": {},
   "outputs": [
    {
     "name": "stdout",
     "output_type": "stream",
     "text": [
      "CPU times: user 1.27 ms, sys: 0 ns, total: 1.27 ms\n",
      "Wall time: 1.03 ms\n"
     ]
    }
   ],
   "source": [
    "%%time\n",
    "clf_nb_sfs = clf_nb.fit(X_train[:, feat_cols], y_train)"
   ]
  },
  {
   "cell_type": "code",
   "execution_count": 119,
   "metadata": {},
   "outputs": [],
   "source": [
    "y_sfs_predict_svc = clf_svc_sfs.predict(X_test[:, feat_cols])\n",
    "y_sfs_predict_nb = clf_nb_sfs.predict(X_test[:, feat_cols])\n",
    "y_sfs_predict_rf = clf_rf_sfs.predict(X_test[:, feat_cols])"
   ]
  },
  {
   "cell_type": "code",
   "execution_count": 120,
   "metadata": {},
   "outputs": [
    {
     "name": "stdout",
     "output_type": "stream",
     "text": [
      "Accuracy SVC: 0.65\n",
      "Accuracy NB: 0.55\n",
      "Accuracy RF: 0.5\n"
     ]
    }
   ],
   "source": [
    "# Precision\n",
    "\n",
    "print(\"Accuracy SVC:\",metrics.accuracy_score(y_test, y_sfs_predict_svc))\n",
    "print(\"Accuracy NB:\",metrics.accuracy_score(y_test, y_sfs_predict_nb))\n",
    "print(\"Accuracy RF:\",metrics.accuracy_score(y_test, y_sfs_predict_rf))"
   ]
  },
  {
   "cell_type": "code",
   "execution_count": 121,
   "metadata": {},
   "outputs": [
    {
     "name": "stdout",
     "output_type": "stream",
     "text": [
      "Training accuracy SVC on selected features: 0.650\n",
      "Training accuracy NB on selected features: 0.725\n",
      "Training accuracy RF on selected features: 1.000\n"
     ]
    }
   ],
   "source": [
    "y_train_sfs_pred_svc = clf_svc_sfs.predict(X_train[:, feat_cols])\n",
    "print('Training accuracy SVC on selected features: %.3f' % metrics.accuracy_score(y_train, y_train_sfs_pred_svc))\n",
    "y_train_sfs_pred_nb = clf_nb_sfs.predict(X_train[:, feat_cols])\n",
    "print('Training accuracy NB on selected features: %.3f' % metrics.accuracy_score(y_train, y_train_sfs_pred_nb))\n",
    "y_train_sfs_pred_rf = clf_rf_sfs.predict(X_train[:, feat_cols])\n",
    "print('Training accuracy RF on selected features: %.3f' % metrics.accuracy_score(y_train, y_train_sfs_pred_rf))"
   ]
  },
  {
   "cell_type": "code",
   "execution_count": 122,
   "metadata": {},
   "outputs": [
    {
     "name": "stdout",
     "output_type": "stream",
     "text": [
      "              precision    recall  f1-score   support\n",
      "\n",
      "           0       0.00      0.00      0.00         7\n",
      "           1       0.65      1.00      0.79        13\n",
      "\n",
      "    accuracy                           0.65        20\n",
      "   macro avg       0.33      0.50      0.39        20\n",
      "weighted avg       0.42      0.65      0.51        20\n",
      "\n",
      "              precision    recall  f1-score   support\n",
      "\n",
      "           0       0.40      0.57      0.47         7\n",
      "           1       0.70      0.54      0.61        13\n",
      "\n",
      "    accuracy                           0.55        20\n",
      "   macro avg       0.55      0.55      0.54        20\n",
      "weighted avg       0.59      0.55      0.56        20\n",
      "\n",
      "              precision    recall  f1-score   support\n",
      "\n",
      "           0       0.29      0.29      0.29         7\n",
      "           1       0.62      0.62      0.62        13\n",
      "\n",
      "    accuracy                           0.50        20\n",
      "   macro avg       0.45      0.45      0.45        20\n",
      "weighted avg       0.50      0.50      0.50        20\n",
      "\n"
     ]
    },
    {
     "name": "stderr",
     "output_type": "stream",
     "text": [
      "/home/nacho/anaconda3/envs/tfm/lib/python3.7/site-packages/sklearn/metrics/classification.py:1437: UndefinedMetricWarning: Precision and F-score are ill-defined and being set to 0.0 in labels with no predicted samples.\n",
      "  'precision', 'predicted', average, warn_for)\n"
     ]
    }
   ],
   "source": [
    "# Metricas\n",
    "\n",
    "print(metrics.classification_report(y_test,y_sfs_predict_svc))\n",
    "print(metrics.classification_report(y_test,y_sfs_predict_nb))\n",
    "print(metrics.classification_report(y_test,y_sfs_predict_rf))"
   ]
  },
  {
   "cell_type": "markdown",
   "metadata": {},
   "source": [
    "## SELECCIONAR VARIABLES USANDO ARBOLES DE DECISION"
   ]
  },
  {
   "cell_type": "code",
   "execution_count": 123,
   "metadata": {},
   "outputs": [],
   "source": [
    "# Nombre e importancia para cada variables\n",
    "\n",
    "#for feature in zip(feature_labels, clf_rf.feature_importances_):\n",
    " #   print(feature)"
   ]
  },
  {
   "cell_type": "code",
   "execution_count": 124,
   "metadata": {},
   "outputs": [
    {
     "name": "stdout",
     "output_type": "stream",
     "text": [
      "CPU times: user 251 ms, sys: 36.3 ms, total: 287 ms\n",
      "Wall time: 186 ms\n"
     ]
    },
    {
     "data": {
      "text/plain": [
       "SelectFromModel(estimator=RandomForestClassifier(bootstrap=True,\n",
       "                                                 class_weight='balanced',\n",
       "                                                 criterion='gini', max_depth=5,\n",
       "                                                 max_features='auto',\n",
       "                                                 max_leaf_nodes=None,\n",
       "                                                 min_impurity_decrease=0.0,\n",
       "                                                 min_impurity_split=None,\n",
       "                                                 min_samples_leaf=1,\n",
       "                                                 min_samples_split=2,\n",
       "                                                 min_weight_fraction_leaf=0.0,\n",
       "                                                 n_estimators=205, n_jobs=-1,\n",
       "                                                 oob_score=False,\n",
       "                                                 random_state=<mtrand.RandomState object at 0x7ff3c5092b40>,\n",
       "                                                 verbose=0, warm_start=False),\n",
       "                max_features=10, norm_order=1, prefit=False, threshold=-inf)"
      ]
     },
     "execution_count": 124,
     "metadata": {},
     "output_type": "execute_result"
    }
   ],
   "source": [
    "%%time\n",
    "\n",
    "sfm = SelectFromModel(clf_rf, max_features=10, threshold=-np.inf)\n",
    "sfm.fit(X_train, y_train)"
   ]
  },
  {
   "cell_type": "code",
   "execution_count": 125,
   "metadata": {},
   "outputs": [],
   "source": [
    "# Imprimir variables importantes\n",
    "\n",
    "l=[]\n",
    "for feature_list_index in sfm.get_support(indices=True):\n",
    "    feat = (feature_labels[feature_list_index])\n",
    "    l.append(feat)"
   ]
  },
  {
   "cell_type": "code",
   "execution_count": 126,
   "metadata": {},
   "outputs": [
    {
     "data": {
      "text/plain": [
       "['x.D83243.at',\n",
       " 'x.M24248.at',\n",
       " 'x.M27281.at',\n",
       " 'x.U07563.cds1.at',\n",
       " 'x.U68031.at',\n",
       " 'x.X57129.at',\n",
       " 'x.X74295.at',\n",
       " 'x.AB006781.s.at',\n",
       " 'x.D43682.s.at',\n",
       " 'x.X79200.at']"
      ]
     },
     "execution_count": 126,
     "metadata": {},
     "output_type": "execute_result"
    }
   ],
   "source": [
    "l"
   ]
  },
  {
   "cell_type": "code",
   "execution_count": 127,
   "metadata": {},
   "outputs": [],
   "source": [
    "\n",
    "sel_rf_train = sfm.transform(X_train)\n",
    "sel_rf_test = sfm.transform(X_test)"
   ]
  },
  {
   "cell_type": "code",
   "execution_count": 128,
   "metadata": {},
   "outputs": [
    {
     "name": "stdout",
     "output_type": "stream",
     "text": [
      "(40, 10)\n"
     ]
    },
    {
     "data": {
      "text/plain": [
       "(20, 10)"
      ]
     },
     "execution_count": 128,
     "metadata": {},
     "output_type": "execute_result"
    }
   ],
   "source": [
    "print(sel_rf_train.shape)\n",
    "sel_rf_test.shape"
   ]
  },
  {
   "cell_type": "markdown",
   "metadata": {},
   "source": [
    "### Entrenar modelo con variables seleccionadas en conjunto de entrenamiento"
   ]
  },
  {
   "cell_type": "code",
   "execution_count": 129,
   "metadata": {},
   "outputs": [
    {
     "name": "stdout",
     "output_type": "stream",
     "text": [
      "CPU times: user 4.94 ms, sys: 57 µs, total: 4.99 ms\n",
      "Wall time: 2.74 ms\n"
     ]
    }
   ],
   "source": [
    "%%time\n",
    "clf_svc_rf = clf_svc.fit(sel_rf_train, y_train)"
   ]
  },
  {
   "cell_type": "code",
   "execution_count": 130,
   "metadata": {},
   "outputs": [
    {
     "name": "stdout",
     "output_type": "stream",
     "text": [
      "CPU times: user 2.39 ms, sys: 20 µs, total: 2.41 ms\n",
      "Wall time: 1.76 ms\n"
     ]
    }
   ],
   "source": [
    "%%time\n",
    "clf_nb_rf = clf_nb.fit(sel_rf_train, y_train)"
   ]
  },
  {
   "cell_type": "code",
   "execution_count": 131,
   "metadata": {},
   "outputs": [
    {
     "name": "stdout",
     "output_type": "stream",
     "text": [
      "CPU times: user 165 ms, sys: 36.3 ms, total: 201 ms\n",
      "Wall time: 163 ms\n"
     ]
    }
   ],
   "source": [
    "%%time\n",
    "clf_rf_rf = clf_rf.fit(sel_rf_train, y_train)"
   ]
  },
  {
   "cell_type": "code",
   "execution_count": 132,
   "metadata": {},
   "outputs": [],
   "source": [
    "y_rf_predict_svc = clf_svc_rf.predict(sel_rf_test)\n",
    "y_rf_predict_nb = clf_nb_rf.predict(sel_rf_test)\n",
    "y_rf_predict_rf = clf_rf_rf.predict(sel_rf_test)"
   ]
  },
  {
   "cell_type": "code",
   "execution_count": 133,
   "metadata": {
    "scrolled": true
   },
   "outputs": [
    {
     "name": "stdout",
     "output_type": "stream",
     "text": [
      "Accuracy DT SVC: 0.65\n",
      "Accuracy DT NB: 0.7\n",
      "Accuracy DT RF: 0.55\n"
     ]
    }
   ],
   "source": [
    "# Precision\n",
    "\n",
    "print(\"Accuracy DT SVC:\",metrics.accuracy_score(y_test, y_rf_predict_svc))\n",
    "print(\"Accuracy DT NB:\",metrics.accuracy_score(y_test, y_rf_predict_nb))\n",
    "print(\"Accuracy DT RF:\",metrics.accuracy_score(y_test, y_rf_predict_rf))"
   ]
  },
  {
   "cell_type": "code",
   "execution_count": 134,
   "metadata": {},
   "outputs": [
    {
     "name": "stdout",
     "output_type": "stream",
     "text": [
      "              precision    recall  f1-score   support\n",
      "\n",
      "           0       0.50      0.43      0.46         7\n",
      "           1       0.71      0.77      0.74        13\n",
      "\n",
      "    accuracy                           0.65        20\n",
      "   macro avg       0.61      0.60      0.60        20\n",
      "weighted avg       0.64      0.65      0.64        20\n",
      "\n",
      "              precision    recall  f1-score   support\n",
      "\n",
      "           0       0.57      0.57      0.57         7\n",
      "           1       0.77      0.77      0.77        13\n",
      "\n",
      "    accuracy                           0.70        20\n",
      "   macro avg       0.67      0.67      0.67        20\n",
      "weighted avg       0.70      0.70      0.70        20\n",
      "\n",
      "              precision    recall  f1-score   support\n",
      "\n",
      "           0       0.25      0.14      0.18         7\n",
      "           1       0.62      0.77      0.69        13\n",
      "\n",
      "    accuracy                           0.55        20\n",
      "   macro avg       0.44      0.46      0.44        20\n",
      "weighted avg       0.49      0.55      0.51        20\n",
      "\n"
     ]
    }
   ],
   "source": [
    "# Metricas\n",
    "\n",
    "print(metrics.classification_report(y_test,y_rf_predict_svc))\n",
    "print(metrics.classification_report(y_test,y_rf_predict_nb))\n",
    "print(metrics.classification_report(y_test,y_rf_predict_rf))\n"
   ]
  },
  {
   "cell_type": "markdown",
   "metadata": {},
   "source": [
    "## SELECCIONAR VARIABLES USANDO LOGISTIC REGRESSION Y L1"
   ]
  },
  {
   "cell_type": "code",
   "execution_count": 135,
   "metadata": {},
   "outputs": [
    {
     "name": "stdout",
     "output_type": "stream",
     "text": [
      "CPU times: user 26 µs, sys: 0 ns, total: 26 µs\n",
      "Wall time: 29.1 µs\n"
     ]
    }
   ],
   "source": [
    "%%time\n",
    "\n",
    "sfm = SelectFromModel(LogisticRegression(penalty='l1', solver='liblinear'), max_features=10, threshold=-np.inf)\n"
   ]
  },
  {
   "cell_type": "code",
   "execution_count": 136,
   "metadata": {},
   "outputs": [
    {
     "data": {
      "text/plain": [
       "SelectFromModel(estimator=LogisticRegression(C=1.0, class_weight=None,\n",
       "                                             dual=False, fit_intercept=True,\n",
       "                                             intercept_scaling=1, l1_ratio=None,\n",
       "                                             max_iter=100, multi_class='warn',\n",
       "                                             n_jobs=None, penalty='l1',\n",
       "                                             random_state=None,\n",
       "                                             solver='liblinear', tol=0.0001,\n",
       "                                             verbose=0, warm_start=False),\n",
       "                max_features=10, norm_order=1, prefit=False, threshold=-inf)"
      ]
     },
     "execution_count": 136,
     "metadata": {},
     "output_type": "execute_result"
    }
   ],
   "source": [
    "sfm.fit(X_train, y_train)"
   ]
  },
  {
   "cell_type": "code",
   "execution_count": 137,
   "metadata": {},
   "outputs": [],
   "source": [
    "# Imprimir variables importantes\n",
    "\n",
    "l=[]\n",
    "for feature_list_index in sfm.get_support(indices=True):\n",
    "    feat = (feature_labels[feature_list_index])\n",
    "    l.append(feat)"
   ]
  },
  {
   "cell_type": "code",
   "execution_count": 138,
   "metadata": {},
   "outputs": [
    {
     "data": {
      "text/plain": [
       "['x.J02611.at',\n",
       " 'x.U07563.cds1.at',\n",
       " 'x.U35139.at',\n",
       " 'x.U39318.at',\n",
       " 'x.X76302.at',\n",
       " 'x.X77197.at',\n",
       " 'x.L10333.s.at',\n",
       " 'x.U66711.rna1.s.at',\n",
       " 'x.Z11899.s.at',\n",
       " 'x.K03189.f.at']"
      ]
     },
     "execution_count": 138,
     "metadata": {},
     "output_type": "execute_result"
    }
   ],
   "source": [
    "l"
   ]
  },
  {
   "cell_type": "code",
   "execution_count": 139,
   "metadata": {},
   "outputs": [],
   "source": [
    "\n",
    "sel_l1_train = sfm.transform(X_train)\n",
    "sel_l1_test = sfm.transform(X_test)"
   ]
  },
  {
   "cell_type": "code",
   "execution_count": 140,
   "metadata": {},
   "outputs": [
    {
     "name": "stdout",
     "output_type": "stream",
     "text": [
      "(40, 10)\n"
     ]
    },
    {
     "data": {
      "text/plain": [
       "(20, 10)"
      ]
     },
     "execution_count": 140,
     "metadata": {},
     "output_type": "execute_result"
    }
   ],
   "source": [
    "print(sel_l1_train.shape)\n",
    "sel_l1_test.shape"
   ]
  },
  {
   "cell_type": "markdown",
   "metadata": {},
   "source": [
    "### Entrenar modelo con variables seleccionadas en conjunto de entrenamiento"
   ]
  },
  {
   "cell_type": "code",
   "execution_count": 141,
   "metadata": {},
   "outputs": [
    {
     "name": "stdout",
     "output_type": "stream",
     "text": [
      "CPU times: user 1.27 ms, sys: 15 µs, total: 1.28 ms\n",
      "Wall time: 990 µs\n"
     ]
    }
   ],
   "source": [
    "%%time\n",
    "clf_svc_l1 = clf_svc.fit(sel_l1_train, y_train)"
   ]
  },
  {
   "cell_type": "code",
   "execution_count": 142,
   "metadata": {},
   "outputs": [
    {
     "name": "stdout",
     "output_type": "stream",
     "text": [
      "CPU times: user 989 µs, sys: 12 µs, total: 1 ms\n",
      "Wall time: 880 µs\n"
     ]
    }
   ],
   "source": [
    "%%time\n",
    "clf_nb_l1 = clf_nb.fit(sel_l1_train, y_train)"
   ]
  },
  {
   "cell_type": "code",
   "execution_count": 143,
   "metadata": {},
   "outputs": [
    {
     "name": "stdout",
     "output_type": "stream",
     "text": [
      "CPU times: user 161 ms, sys: 40.2 ms, total: 201 ms\n",
      "Wall time: 168 ms\n"
     ]
    }
   ],
   "source": [
    "%%time\n",
    "clf_rf_l1 = clf_rf.fit(sel_l1_train, y_train)"
   ]
  },
  {
   "cell_type": "code",
   "execution_count": 144,
   "metadata": {},
   "outputs": [],
   "source": [
    "y_l1_predict_svc = clf_svc_l1.predict(sel_l1_test)\n",
    "y_l1_predict_nb = clf_nb_l1.predict(sel_l1_test)\n",
    "y_l1_predict_rf = clf_rf_l1.predict(sel_l1_test)"
   ]
  },
  {
   "cell_type": "code",
   "execution_count": 145,
   "metadata": {
    "scrolled": true
   },
   "outputs": [
    {
     "name": "stdout",
     "output_type": "stream",
     "text": [
      "Accuracy L1 SVC: 0.75\n",
      "Accuracy L1 NB: 0.7\n",
      "Accuracy L1 RF: 0.7\n"
     ]
    }
   ],
   "source": [
    "# Precision\n",
    "\n",
    "print(\"Accuracy L1 SVC:\",metrics.accuracy_score(y_test, y_l1_predict_svc))\n",
    "print(\"Accuracy L1 NB:\",metrics.accuracy_score(y_test, y_l1_predict_nb))\n",
    "print(\"Accuracy L1 RF:\",metrics.accuracy_score(y_test, y_l1_predict_rf))"
   ]
  },
  {
   "cell_type": "code",
   "execution_count": 146,
   "metadata": {},
   "outputs": [
    {
     "name": "stdout",
     "output_type": "stream",
     "text": [
      "              precision    recall  f1-score   support\n",
      "\n",
      "           0       0.75      0.43      0.55         7\n",
      "           1       0.75      0.92      0.83        13\n",
      "\n",
      "    accuracy                           0.75        20\n",
      "   macro avg       0.75      0.68      0.69        20\n",
      "weighted avg       0.75      0.75      0.73        20\n",
      "\n",
      "              precision    recall  f1-score   support\n",
      "\n",
      "           0       0.60      0.43      0.50         7\n",
      "           1       0.73      0.85      0.79        13\n",
      "\n",
      "    accuracy                           0.70        20\n",
      "   macro avg       0.67      0.64      0.64        20\n",
      "weighted avg       0.69      0.70      0.69        20\n",
      "\n",
      "              precision    recall  f1-score   support\n",
      "\n",
      "           0       0.60      0.43      0.50         7\n",
      "           1       0.73      0.85      0.79        13\n",
      "\n",
      "    accuracy                           0.70        20\n",
      "   macro avg       0.67      0.64      0.64        20\n",
      "weighted avg       0.69      0.70      0.69        20\n",
      "\n"
     ]
    }
   ],
   "source": [
    "# Metricas\n",
    "\n",
    "print(metrics.classification_report(y_test,y_l1_predict_svc))\n",
    "print(metrics.classification_report(y_test,y_l1_predict_nb))\n",
    "print(metrics.classification_report(y_test,y_l1_predict_rf))\n"
   ]
  },
  {
   "cell_type": "code",
   "execution_count": 147,
   "metadata": {},
   "outputs": [],
   "source": [
    "dill.dump_session('CNS.db')\n"
   ]
  },
  {
   "cell_type": "code",
   "execution_count": 148,
   "metadata": {},
   "outputs": [],
   "source": [
    "dill.load_session('CNS.db')\n"
   ]
  },
  {
   "cell_type": "code",
   "execution_count": null,
   "metadata": {},
   "outputs": [],
   "source": []
  }
 ],
 "metadata": {
  "kernelspec": {
   "display_name": "Python 3",
   "language": "python",
   "name": "python3"
  },
  "language_info": {
   "codemirror_mode": {
    "name": "ipython",
    "version": 3
   },
   "file_extension": ".py",
   "mimetype": "text/x-python",
   "name": "python",
   "nbconvert_exporter": "python",
   "pygments_lexer": "ipython3",
   "version": "3.7.3"
  }
 },
 "nbformat": 4,
 "nbformat_minor": 2
}
